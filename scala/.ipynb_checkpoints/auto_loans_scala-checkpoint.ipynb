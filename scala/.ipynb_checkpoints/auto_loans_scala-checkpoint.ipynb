{
 "cells": [
  {
   "cell_type": "code",
   "execution_count": 1,
   "metadata": {},
   "outputs": [
    {
     "data": {
      "text/plain": [
       "Intitializing Scala interpreter ..."
      ]
     },
     "metadata": {},
     "output_type": "display_data"
    },
    {
     "data": {
      "text/plain": [
       "Spark Web UI available at http://gda.fios-router.home:4040\n",
       "SparkContext available as 'sc' (version = 3.2.0, master = local[*], app id = local-1640458433857)\n",
       "SparkSession available as 'spark'\n"
      ]
     },
     "metadata": {},
     "output_type": "display_data"
    },
    {
     "name": "stdout",
     "output_type": "stream",
     "text": [
      "Auto Loans\n"
     ]
    }
   ],
   "source": [
    "println(\"Auto Loans\")"
   ]
  },
  {
   "cell_type": "code",
   "execution_count": 2,
   "metadata": {},
   "outputs": [
    {
     "data": {
      "text/plain": [
       "import Array._\n",
       "import Math._\n",
       "import java.util.Calendar\n",
       "import java.text.SimpleDateFormat\n",
       "import java.io._\n"
      ]
     },
     "execution_count": 2,
     "metadata": {},
     "output_type": "execute_result"
    }
   ],
   "source": [
    "import Array._\n",
    "import Math._\n",
    "import java.util.Calendar\n",
    "import java.text.SimpleDateFormat\n",
    "import java.io._\n"
   ]
  },
  {
   "cell_type": "code",
   "execution_count": 3,
   "metadata": {},
   "outputs": [
    {
     "data": {
      "text/plain": [
       "autoloan: (presentValue: Int, numberPeriods: Int, interestRate: Double)Double\n"
      ]
     },
     "execution_count": 3,
     "metadata": {},
     "output_type": "execute_result"
    }
   ],
   "source": [
    "def autoloan( presentValue:Int, numberPeriods:Int, interestRate:Double) : Double = {\n",
    "    var rate: Double = interestRate/100/12\n",
    "    var payment: Double = (rate * presentValue / (1 - Math.pow(1 + rate, -numberPeriods)))\n",
    "    return (Math.round(payment * 100.0) / 100.0)\n",
    "}"
   ]
  },
  {
   "cell_type": "code",
   "execution_count": 4,
   "metadata": {},
   "outputs": [
    {
     "data": {
      "text/plain": [
       "statusUpdate: (monthlyPayment: Double)String\n"
      ]
     },
     "execution_count": 4,
     "metadata": {},
     "output_type": "execute_result"
    }
   ],
   "source": [
    "def statusUpdate( monthlyPayment: Double) : String = {\n",
    "\n",
    "    if (monthlyPayment < 500.0) {\n",
    "        return \"low\"\n",
    "    } else if (monthlyPayment > 600.0) {\n",
    "        return \"high\"\n",
    "    } else {\n",
    "        return \"ok\"\n",
    "    }\n",
    "}"
   ]
  },
  {
   "cell_type": "code",
   "execution_count": 5,
   "metadata": {},
   "outputs": [
    {
     "name": "stdout",
     "output_type": "stream",
     "text": [
      "25000, 4.7, 24, 1093.43, high, 2021-12-25 13:54:12\n",
      "25000, 4.7, 36, 745.91, high, 2021-12-25 13:54:12\n",
      "25000, 4.7, 48, 572.34, ok, 2021-12-25 13:54:12\n",
      "25000, 4.7, 60, 468.35, low, 2021-12-25 13:54:12\n",
      "25000, 4.7, 72, 399.15, low, 2021-12-25 13:54:12\n",
      "26000, 4.7, 24, 1137.17, high, 2021-12-25 13:54:12\n",
      "26000, 4.7, 36, 775.75, high, 2021-12-25 13:54:12\n",
      "26000, 4.7, 48, 595.23, ok, 2021-12-25 13:54:12\n",
      "26000, 4.7, 60, 487.09, low, 2021-12-25 13:54:12\n",
      "26000, 4.7, 72, 415.12, low, 2021-12-25 13:54:12\n",
      "27000, 4.7, 24, 1180.9, high, 2021-12-25 13:54:12\n",
      "27000, 4.7, 36, 805.58, high, 2021-12-25 13:54:12\n",
      "27000, 4.7, 48, 618.13, high, 2021-12-25 13:54:12\n",
      "27000, 4.7, 60, 505.82, ok, 2021-12-25 13:54:12\n",
      "27000, 4.7, 72, 431.09, low, 2021-12-25 13:54:12\n",
      "28000, 4.7, 24, 1224.64, high, 2021-12-25 13:54:12\n",
      "28000, 4.7, 36, 835.42, high, 2021-12-25 13:54:12\n",
      "28000, 4.7, 48, 641.02, high, 2021-12-25 13:54:12\n",
      "28000, 4.7, 60, 524.55, ok, 2021-12-25 13:54:12\n",
      "28000, 4.7, 72, 447.05, low, 2021-12-25 13:54:12\n",
      "29000, 4.7, 24, 1268.38, high, 2021-12-25 13:54:12\n",
      "29000, 4.7, 36, 865.26, high, 2021-12-25 13:54:12\n",
      "29000, 4.7, 48, 663.92, high, 2021-12-25 13:54:12\n",
      "29000, 4.7, 60, 543.29, ok, 2021-12-25 13:54:12\n",
      "29000, 4.7, 72, 463.02, low, 2021-12-25 13:54:12\n",
      "\n",
      "Total records:25 & total payments:17707.61\n"
     ]
    },
    {
     "data": {
      "text/plain": [
       "numberPeriods: Array[Int] = Array(24, 36, 48, 60, 72)\n",
       "form: java.text.SimpleDateFormat = java.text.SimpleDateFormat@4f76f1a0\n",
       "c: java.util.Calendar = java.util.GregorianCalendar[time=1640458452004,areFieldsSet=true,areAllFieldsSet=true,lenient=true,zone=sun.util.calendar.ZoneInfo[id=\"America/New_York\",offset=-18000000,dstSavings=3600000,useDaylight=true,transitions=235,lastRule=java.util.SimpleTimeZone[id=America/New_York,offset=-18000000,dstSavings=3600000,useDaylight=true,startYear=0,startMode=3,startMonth=2,startDay=8,startDayOfWeek=1,startTime=7200000,startTimeMode=0,endMode=3,endMonth=10,endDay=1,endDayOfWeek=1,endTime=7200000,endTimeMode=0]],firstDayOfWeek=1,minimalDaysInFirstWeek=1,ERA=1,YEAR=2021,MONTH=11,WEEK_OF_YEAR=52,WEEK_OF_MONTH=4,DAY_OF_MONTH=25,DAY_OF_YEAR=359,DAY_OF_WEEK...\n"
      ]
     },
     "execution_count": 5,
     "metadata": {},
     "output_type": "execute_result"
    }
   ],
   "source": [
    "var numberPeriods = Array(24, 36, 48, 60, 72)\n",
    "var form = new SimpleDateFormat(\"yyyy-MM-dd HH:mm:ss\")\n",
    "var c = Calendar.getInstance()\n",
    "var dateTime = form.format(c.getTime())\n",
    "\n",
    "var presentValue = 25000\n",
    "var interestRate = 4.7\n",
    "\n",
    "var countAll = 0\n",
    "var sumAll = 0.0\n",
    "\n",
    "var writer = new PrintWriter(new File(\"loans.csv\"))\n",
    "\n",
    "writer.write(\"LOAN,INTEREST,TERM,MONTHLY,STATUS,DATE\\n\")\n",
    "\n",
    "while (presentValue < 30000) {\n",
    "    \n",
    "    for (period <- numberPeriods ) {\n",
    "        \n",
    "        var monthlyPayment = autoloan(presentValue, period, interestRate)\n",
    "\n",
    "        var paymentStatus = statusUpdate(monthlyPayment)\n",
    "\n",
    "        println(s\"$presentValue, $interestRate, $period, $monthlyPayment, $paymentStatus, $dateTime\")\n",
    "\n",
    "        writer.write(s\"$presentValue,$interestRate,$period,$monthlyPayment,$paymentStatus,$dateTime\\n\")\n",
    "\n",
    "        countAll += 1\n",
    "\n",
    "        sumAll = sumAll + monthlyPayment\n",
    "    }\n",
    "\n",
    "    presentValue += 1000\n",
    "}\n",
    "\n",
    "writer.close()\n",
    "\n",
    "println(s\"\\nTotal records:$countAll & total payments:$sumAll\")"
   ]
  },
  {
   "cell_type": "code",
   "execution_count": 6,
   "metadata": {},
   "outputs": [
    {
     "data": {
      "text/plain": [
       "df: org.apache.spark.sql.DataFrame = [LOAN: int, INTEREST: double ... 4 more fields]\n"
      ]
     },
     "execution_count": 6,
     "metadata": {},
     "output_type": "execute_result"
    }
   ],
   "source": [
    "val df = spark.read.format(\"csv\").option(\"header\",true).option(\"inferSchema\",true).load(\"loans.csv\")"
   ]
  },
  {
   "cell_type": "code",
   "execution_count": 7,
   "metadata": {},
   "outputs": [
    {
     "name": "stdout",
     "output_type": "stream",
     "text": [
      "root\n",
      " |-- LOAN: integer (nullable = true)\n",
      " |-- INTEREST: double (nullable = true)\n",
      " |-- TERM: integer (nullable = true)\n",
      " |-- MONTHLY: double (nullable = true)\n",
      " |-- STATUS: string (nullable = true)\n",
      " |-- DATE: string (nullable = true)\n",
      "\n"
     ]
    }
   ],
   "source": [
    "df.printSchema()"
   ]
  },
  {
   "cell_type": "code",
   "execution_count": 8,
   "metadata": {},
   "outputs": [
    {
     "name": "stdout",
     "output_type": "stream",
     "text": [
      "+-----+--------+----+-------+------+-------------------+\n",
      "| LOAN|INTEREST|TERM|MONTHLY|STATUS|               DATE|\n",
      "+-----+--------+----+-------+------+-------------------+\n",
      "|25000|     4.7|  24|1093.43|  high|2021-12-25 13:54:12|\n",
      "|25000|     4.7|  36| 745.91|  high|2021-12-25 13:54:12|\n",
      "|25000|     4.7|  48| 572.34|    ok|2021-12-25 13:54:12|\n",
      "|25000|     4.7|  60| 468.35|   low|2021-12-25 13:54:12|\n",
      "|25000|     4.7|  72| 399.15|   low|2021-12-25 13:54:12|\n",
      "|26000|     4.7|  24|1137.17|  high|2021-12-25 13:54:12|\n",
      "|26000|     4.7|  36| 775.75|  high|2021-12-25 13:54:12|\n",
      "|26000|     4.7|  48| 595.23|    ok|2021-12-25 13:54:12|\n",
      "|26000|     4.7|  60| 487.09|   low|2021-12-25 13:54:12|\n",
      "|26000|     4.7|  72| 415.12|   low|2021-12-25 13:54:12|\n",
      "|27000|     4.7|  24| 1180.9|  high|2021-12-25 13:54:12|\n",
      "|27000|     4.7|  36| 805.58|  high|2021-12-25 13:54:12|\n",
      "|27000|     4.7|  48| 618.13|  high|2021-12-25 13:54:12|\n",
      "|27000|     4.7|  60| 505.82|    ok|2021-12-25 13:54:12|\n",
      "|27000|     4.7|  72| 431.09|   low|2021-12-25 13:54:12|\n",
      "|28000|     4.7|  24|1224.64|  high|2021-12-25 13:54:12|\n",
      "|28000|     4.7|  36| 835.42|  high|2021-12-25 13:54:12|\n",
      "|28000|     4.7|  48| 641.02|  high|2021-12-25 13:54:12|\n",
      "|28000|     4.7|  60| 524.55|    ok|2021-12-25 13:54:12|\n",
      "|28000|     4.7|  72| 447.05|   low|2021-12-25 13:54:12|\n",
      "+-----+--------+----+-------+------+-------------------+\n",
      "only showing top 20 rows\n",
      "\n"
     ]
    }
   ],
   "source": [
    "df.show()"
   ]
  },
  {
   "cell_type": "code",
   "execution_count": null,
   "metadata": {},
   "outputs": [],
   "source": []
  }
 ],
 "metadata": {
  "kernelspec": {
   "display_name": "spylon-kernel",
   "language": "scala",
   "name": "spylon-kernel"
  },
  "language_info": {
   "codemirror_mode": "text/x-scala",
   "file_extension": ".scala",
   "help_links": [
    {
     "text": "MetaKernel Magics",
     "url": "https://metakernel.readthedocs.io/en/latest/source/README.html"
    }
   ],
   "mimetype": "text/x-scala",
   "name": "scala",
   "pygments_lexer": "scala",
   "version": "0.4.1"
  }
 },
 "nbformat": 4,
 "nbformat_minor": 4
}
