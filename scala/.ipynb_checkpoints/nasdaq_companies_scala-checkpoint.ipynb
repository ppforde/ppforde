{
 "cells": [
  {
   "cell_type": "code",
   "execution_count": 6,
   "metadata": {},
   "outputs": [
    {
     "data": {
      "text/html": [
       "<style>.container { width:100% !important; font-size:100%;}</style>"
      ],
      "text/plain": [
       "<IPython.core.display.HTML object>"
      ]
     },
     "metadata": {},
     "output_type": "display_data"
    }
   ],
   "source": [
    "%%html\n",
    "<style>.container { width:100% !important; font-size:100%;}</style>"
   ]
  },
  {
   "cell_type": "code",
   "execution_count": 7,
   "metadata": {},
   "outputs": [
    {
     "name": "stdout",
     "output_type": "stream",
     "text": [
      "Hello World\n"
     ]
    }
   ],
   "source": [
    "println(\"Hello World\")"
   ]
  },
  {
   "cell_type": "code",
   "execution_count": 8,
   "metadata": {},
   "outputs": [
    {
     "data": {
      "text/plain": [
       "df: org.apache.spark.sql.DataFrame = [Symbol: string, Name: string ... 9 more fields]\n"
      ]
     },
     "execution_count": 8,
     "metadata": {},
     "output_type": "execute_result"
    }
   ],
   "source": [
    "var df = spark.read.format(\"csv\").option(\"header\",true).option(\"inferSchema\",true).load(\"/home/gda/Downloads/nasdaq_screener_1640057029175.csv\")"
   ]
  },
  {
   "cell_type": "code",
   "execution_count": 9,
   "metadata": {},
   "outputs": [
    {
     "name": "stdout",
     "output_type": "stream",
     "text": [
      "root\n",
      " |-- Symbol: string (nullable = true)\n",
      " |-- Name: string (nullable = true)\n",
      " |-- Last Sale: string (nullable = true)\n",
      " |-- Net Change: double (nullable = true)\n",
      " |-- % Change: string (nullable = true)\n",
      " |-- Market Cap: double (nullable = true)\n",
      " |-- Country: string (nullable = true)\n",
      " |-- IPO Year: integer (nullable = true)\n",
      " |-- Volume: integer (nullable = true)\n",
      " |-- Sector: string (nullable = true)\n",
      " |-- Industry: string (nullable = true)\n",
      "\n"
     ]
    }
   ],
   "source": [
    "df.printSchema()"
   ]
  },
  {
   "cell_type": "code",
   "execution_count": 10,
   "metadata": {},
   "outputs": [
    {
     "name": "stdout",
     "output_type": "stream",
     "text": [
      "+-------+------+--------------------+---------+-------------------+--------+--------------------+---------+------------------+------------------+----------------+--------------------+\n",
      "|summary|Symbol|                Name|Last Sale|         Net Change|% Change|          Market Cap|  Country|          IPO Year|            Volume|          Sector|            Industry|\n",
      "+-------+------+--------------------+---------+-------------------+--------+--------------------+---------+------------------+------------------+----------------+--------------------+\n",
      "|  count|  8249|                8249|     8249|               8249|    8239|                7773|     7493|              4867|              8249|            6174|                6191|\n",
      "|   mean|   NaN|                null|     null|-1.1858523093708357|    null| 8.351458216611861E9|     null|2014.6381754674337|1096350.8889562371|            null|                null|\n",
      "| stddev|  null|                null|     null|  64.54622690248816|    null|6.423085881366717E10|     null| 9.017449255781278| 4696388.503575429|            null|                null|\n",
      "|    min|     A|1-800-FLOWERS.COM...|   $0.017|           -5859.01| -0.001%|                 0.0|Argentina|              1972|                 1|Basic Industries|Accident &Health ...|\n",
      "|    max|  ZYXI|voxeljet AG Ameri...|   $99.94|              58.98|  9.998%|      2.943013465E12|  Uruguay|              2021|         169441649|  Transportation|Wholesale Distrib...|\n",
      "+-------+------+--------------------+---------+-------------------+--------+--------------------+---------+------------------+------------------+----------------+--------------------+\n",
      "\n"
     ]
    }
   ],
   "source": [
    "df.describe().show()"
   ]
  },
  {
   "cell_type": "code",
   "execution_count": 11,
   "metadata": {},
   "outputs": [
    {
     "name": "stdout",
     "output_type": "stream",
     "text": [
      "+------+----------------------------------------------------+---------+----------+--------+---------------+-------------+--------+-------+-----------------+------------------------------------------+\n",
      "|Symbol|Name                                                |Last Sale|Net Change|% Change|Market Cap     |Country      |IPO Year|Volume |Sector           |Industry                                  |\n",
      "+------+----------------------------------------------------+---------+----------+--------+---------------+-------------+--------+-------+-----------------+------------------------------------------+\n",
      "|A     |Agilent Technologies Inc. Common Stock              |$150.42  |-1.0      |-0.66%  |4.5535543721E10|United States|1999    |2027207|Capital Goods    |Electrical Products                       |\n",
      "|AA    |Alcoa Corporation Common Stock                      |$53.11   |-0.62     |-1.154% |9.937048137E9  |null         |2016    |8392453|Basic Industries |Metal Fabrications                        |\n",
      "|AAC   |Ares Acquisition Corporation Class A Ordinary Shares|$9.76    |-0.02     |-0.204% |1.22E9         |null         |2021    |215512 |Finance          |Business Services                         |\n",
      "|AACG  |ATA Creativity Global American Depositary Shares    |$1.15    |-0.12     |-9.449% |3.6083458E7    |China        |null    |53174  |Miscellaneous    |Service to the Health Industry            |\n",
      "|AACI  |Armada Acquisition Corp. I Common Stock             |$9.80    |0.02      |0.204%  |2.029531E8     |United States|2021    |267516 |null             |null                                      |\n",
      "|AACIU |Armada Acquisition Corp. I Unit                     |$10.02   |0.01      |0.10%   |0.0            |United States|2021    |17632  |null             |null                                      |\n",
      "|AACIW |Armada Acquisition Corp. I Warrant                  |$0.4503  |-0.0897   |-16.611%|0.0            |United States|2021    |44349  |null             |null                                      |\n",
      "|AADI  |Aadi Bioscience Inc. Common Stock                   |$25.82   |0.09      |0.35%   |5.39483829E8   |United States|null    |295209 |Health Care      |Biotechnology: Pharmaceutical Preparations|\n",
      "|AAIC  |Arlington Asset Investment Corp Class A (new)       |$3.41    |-0.08     |-2.292% |1.07344819E8   |United States|null    |234124 |Consumer Services|Real Estate Investment Trusts             |\n",
      "|AAIC^B|Arlington Asset Investment Corp 7.00%               |$24.90   |-0.15     |-0.599% |null           |United States|null    |250    |null             |null                                      |\n",
      "+------+----------------------------------------------------+---------+----------+--------+---------------+-------------+--------+-------+-----------------+------------------------------------------+\n",
      "only showing top 10 rows\n",
      "\n"
     ]
    }
   ],
   "source": [
    "df.show(10, false)"
   ]
  },
  {
   "cell_type": "code",
   "execution_count": 12,
   "metadata": {},
   "outputs": [
    {
     "data": {
      "text/plain": [
       "res7: Array[String] = Array(Symbol, Name, Last Sale, Net Change, % Change, Market Cap, Country, IPO Year, Volume, Sector, Industry)\n"
      ]
     },
     "execution_count": 12,
     "metadata": {},
     "output_type": "execute_result"
    }
   ],
   "source": [
    "df.columns"
   ]
  },
  {
   "cell_type": "code",
   "execution_count": 13,
   "metadata": {},
   "outputs": [
    {
     "data": {
      "text/plain": [
       "res8: Array[(String, String)] = Array((Symbol,StringType), (Name,StringType), (Last Sale,StringType), (Net Change,DoubleType), (% Change,StringType), (Market Cap,DoubleType), (Country,StringType), (IPO Year,IntegerType), (Volume,IntegerType), (Sector,StringType), (Industry,StringType))\n"
      ]
     },
     "execution_count": 13,
     "metadata": {},
     "output_type": "execute_result"
    }
   ],
   "source": [
    "df.dtypes"
   ]
  },
  {
   "cell_type": "code",
   "execution_count": 14,
   "metadata": {},
   "outputs": [
    {
     "data": {
      "text/plain": [
       "res9: Long = 8249\n"
      ]
     },
     "execution_count": 14,
     "metadata": {},
     "output_type": "execute_result"
    }
   ],
   "source": [
    "df.count()"
   ]
  },
  {
   "cell_type": "code",
   "execution_count": 19,
   "metadata": {},
   "outputs": [
    {
     "ename": "<console>",
     "evalue": "24: error: overloaded method value filter with alternatives:",
     "output_type": "error",
     "traceback": [
      "<console>:24: error: overloaded method value filter with alternatives:",
      "  (func: org.apache.spark.api.java.function.FilterFunction[org.apache.spark.sql.Row])org.apache.spark.sql.Dataset[org.apache.spark.sql.Row] <and>",
      "  (func: org.apache.spark.sql.Row => Boolean)org.apache.spark.sql.Dataset[org.apache.spark.sql.Row] <and>",
      "  (conditionExpr: String)org.apache.spark.sql.Dataset[org.apache.spark.sql.Row] <and>",
      "  (condition: org.apache.spark.sql.Column)org.apache.spark.sql.Dataset[org.apache.spark.sql.Row]",
      " cannot be applied to ()",
      "       df = df.filter()",
      "               ^",
      ""
     ]
    }
   ],
   "source": [
    "df = df.filter()\n",
    "df.count()"
   ]
  },
  {
   "cell_type": "code",
   "execution_count": 20,
   "metadata": {},
   "outputs": [
    {
     "name": "stdout",
     "output_type": "stream",
     "text": [
      "+---------------------+-------------+------------------+\n",
      "|Sector               |count(Sector)|sum(Market Cap)   |\n",
      "+---------------------+-------------+------------------+\n",
      "|Miscellaneous        |183          |2.340380525003E12 |\n",
      "|Health Care          |1139         |7.504274218369E12 |\n",
      "|Public Utilities     |208          |2.515784862037E12 |\n",
      "|Energy               |219          |2.063835788976E12 |\n",
      "|Consumer Non-Durables|233          |3.388485952913E12 |\n",
      "|Finance              |1655         |6.725737612705E12 |\n",
      "|Basic Industries     |205          |1.699074697428E12 |\n",
      "|Capital Goods        |479          |5.34876159962E12  |\n",
      "|Technology           |826          |2.0103436609279E13|\n",
      "|Consumer Services    |752          |8.48428784128E12  |\n",
      "|Consumer Durables    |152          |5.8214517077E11   |\n",
      "|Transportation       |123          |1.062292273072E12 |\n",
      "|null                 |0            |3.097387566272E12 |\n",
      "+---------------------+-------------+------------------+\n",
      "\n"
     ]
    }
   ],
   "source": [
    "df.groupBy(\"Sector\").agg(count(\"Sector\"), sum(\"Market Cap\")).show(50, false)"
   ]
  },
  {
   "cell_type": "code",
   "execution_count": 21,
   "metadata": {},
   "outputs": [
    {
     "name": "stdout",
     "output_type": "stream",
     "text": [
      "+------+--------------------+---------+----------+--------+----------------+-------------+--------+---------+----------+--------------------+\n",
      "|Symbol|                Name|Last Sale|Net Change|% Change|      Market Cap|      Country|IPO Year|   Volume|    Sector|            Industry|\n",
      "+------+--------------------+---------+----------+--------+----------------+-------------+--------+---------+----------+--------------------+\n",
      "|  AAOI|Applied Optoelect...|    $5.38|     -0.29| -5.115%|    1.46861341E8|United States|    2013|   357430|Technology|      Semiconductors|\n",
      "|  AAPL|Apple Inc. Common...|  $169.75|     -1.39| -0.812%|  2.943013465E12|United States|    1980|107309855|Technology|Computer Manufact...|\n",
      "|   ABM|ABM Industries In...|   $38.94|     -1.32| -3.279%|   2.618369836E9|United States|    null|   647443|Technology|Diversified Comme...|\n",
      "|  ACEV|ACE Convergence A...|    $9.96|       0.0|   0.00%|        2.8635E8|United States|    2020|   194808|Technology|      Semiconductors|\n",
      "| ACEVU|ACE Convergence A...| $10.4001|       0.0|   0.00%|             0.0|United States|    2020|      105|Technology|      Semiconductors|\n",
      "| ACEVW|ACE Convergence A...|    $0.89|     -0.07| -7.292%|             0.0|United States|    2020|     8901|Technology|      Semiconductors|\n",
      "|  ACIW|ACI Worldwide Inc...|   $32.36|     -0.88| -2.647%|   3.804450322E9|United States|    null|   986928|Technology|        EDP Services|\n",
      "|  ACLS|Axcelis Technolog...|   $62.82|     -0.39| -0.617%|   2.092646208E9|United States|    2000|   413239|Technology|Industrial Machin...|\n",
      "|  ACMR|ACM Research Inc....|   $70.35|     -4.07| -5.469%|   1.372376896E9|United States|    2017|   322445|Technology|Industrial Machin...|\n",
      "|   ACN|Accenture plc Cla...|  $385.78|    -10.46|  -2.64%|2.43813243934E11|      Ireland|    2001|  2690817|Technology|        EDP Services|\n",
      "|  ACVA|ACV Auctions Inc....|   $17.44|     -0.55| -3.057%|    2.71322936E9|United States|    2021|  2207037|Technology|        EDP Services|\n",
      "|   ACY|AeroCentury Corp....|   $50.55|      5.06| 11.123%|    2.23269796E8|United States|    null|   149236|Technology|Diversified Comme...|\n",
      "|  ADBE|Adobe Inc. Common...|  $549.77|     -6.87| -1.234%|   2.61580566E11|United States|    1986|  3438952|Technology|Computer Software...|\n",
      "|   ADI|Analog Devices In...|  $168.32|     -1.79| -1.052%| 8.8423658711E10|United States|    null|  4087352|Technology|      Semiconductors|\n",
      "|  ADSK|Autodesk Inc. Com...|  $275.12|     -2.53| -0.911%| 6.0519086485E10|United States|    null|  1651595|Technology|Computer Software...|\n",
      "|   ADV|Advantage Solutio...|    $7.69|     -0.22| -2.781%|   2.449830723E9|United States|    2019|   396671|Technology|         Advertising|\n",
      "| ADVWW|Advantage Solutio...|    $2.30|     -0.02| -0.862%|             0.0|United States|    2019|     8248|Technology|         Advertising|\n",
      "|   AER|AerCap Holdings N...|   $58.14|     -1.63| -2.727%| 1.4237258548E10|  Netherlands|    2006|  1220347|Technology|Diversified Comme...|\n",
      "|  AEYE|AudioEye Inc. Com...|    $7.05|       0.1|  1.439%|     8.0048499E7|United States|    null|    18076|Technology|        EDP Services|\n",
      "|  AFRM|Affirm Holdings I...|   $97.37|      -1.4| -1.417%| 2.7361509332E10|United States|    2021|  7288655|Technology|        EDP Services|\n",
      "+------+--------------------+---------+----------+--------+----------------+-------------+--------+---------+----------+--------------------+\n",
      "only showing top 20 rows\n",
      "\n"
     ]
    }
   ],
   "source": [
    "df.filter(\"Sector == 'Technology'\").show()"
   ]
  },
  {
   "cell_type": "code",
   "execution_count": 22,
   "metadata": {},
   "outputs": [
    {
     "name": "stdout",
     "output_type": "stream",
     "text": [
      "+------+---------------------------------------------------------+---------+\n",
      "|Symbol|Name                                                     |Last Sale|\n",
      "+------+---------------------------------------------------------+---------+\n",
      "|AAOI  |Applied Optoelectronics Inc. Common Stock                |$5.38    |\n",
      "|AAPL  |Apple Inc. Common Stock                                  |$169.75  |\n",
      "|ABM   |ABM Industries Incorporated Common Stock                 |$38.94   |\n",
      "|ACEV  |ACE Convergence Acquisition Corp. Class A Ordinary Shares|$9.96    |\n",
      "|ACEVU |ACE Convergence Acquisition Corp. Unit                   |$10.4001 |\n",
      "|ACEVW |ACE Convergence Acquisition Corp. Warrant                |$0.89    |\n",
      "|ACIW  |ACI Worldwide Inc. Common Stock                          |$32.36   |\n",
      "|ACLS  |Axcelis Technologies Inc. Common Stock                   |$62.82   |\n",
      "|ACMR  |ACM Research Inc. Class A Common Stock                   |$70.35   |\n",
      "|ACN   |Accenture plc Class A Ordinary Shares (Ireland)          |$385.78  |\n",
      "|ACVA  |ACV Auctions Inc. Class A Common Stock                   |$17.44   |\n",
      "|ACY   |AeroCentury Corp. Common Stock                           |$50.55   |\n",
      "|ADBE  |Adobe Inc. Common Stock                                  |$549.77  |\n",
      "|ADI   |Analog Devices Inc. Common Stock                         |$168.32  |\n",
      "|ADSK  |Autodesk Inc. Common Stock                               |$275.12  |\n",
      "|ADV   |Advantage Solutions Inc. Class A Common Stock            |$7.69    |\n",
      "|ADVWW |Advantage Solutions Inc. Warrant                         |$2.30    |\n",
      "|AER   |AerCap Holdings N.V. Ordinary Shares                     |$58.14   |\n",
      "|AEYE  |AudioEye Inc. Common Stock                               |$7.05    |\n",
      "|AFRM  |Affirm Holdings Inc. Class A Common Stock                |$97.37   |\n",
      "+------+---------------------------------------------------------+---------+\n",
      "only showing top 20 rows\n",
      "\n"
     ]
    }
   ],
   "source": [
    "df.filter(\"Sector == 'Technology'\").select(\"Symbol\", \"Name\", \"Last Sale\").show(false)"
   ]
  },
  {
   "cell_type": "code",
   "execution_count": null,
   "metadata": {},
   "outputs": [],
   "source": [
    "df.createOrReplaceTempView(\"companylist\")"
   ]
  },
  {
   "cell_type": "code",
   "execution_count": null,
   "metadata": {},
   "outputs": [],
   "source": [
    "spark.sql(\"SELECT * FROM companylist LIMIT 10\").show(false)"
   ]
  },
  {
   "cell_type": "code",
   "execution_count": null,
   "metadata": {},
   "outputs": [],
   "source": [
    "spark.sql(\"SELECT Symbol, Name, CAST(LastSale AS float) FROM companylist\").show(false)"
   ]
  },
  {
   "cell_type": "code",
   "execution_count": null,
   "metadata": {},
   "outputs": [],
   "source": [
    "spark.sql(\"SELECT Symbol, Name, CAST(LastSale AS float) Salse FROM companylist WHERE CAST(LastSale AS float) > 1000 ORDER BY 3 DESC\").show(50, false)"
   ]
  },
  {
   "cell_type": "code",
   "execution_count": null,
   "metadata": {},
   "outputs": [],
   "source": []
  }
 ],
 "metadata": {
  "kernelspec": {
   "display_name": "spylon-kernel",
   "language": "scala",
   "name": "spylon-kernel"
  },
  "language_info": {
   "codemirror_mode": "text/x-scala",
   "file_extension": ".scala",
   "help_links": [
    {
     "text": "MetaKernel Magics",
     "url": "https://metakernel.readthedocs.io/en/latest/source/README.html"
    }
   ],
   "mimetype": "text/x-scala",
   "name": "scala",
   "pygments_lexer": "scala",
   "version": "0.4.1"
  }
 },
 "nbformat": 4,
 "nbformat_minor": 4
}
