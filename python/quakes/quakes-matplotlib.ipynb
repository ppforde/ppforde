{
 "cells": [
  {
   "cell_type": "code",
   "execution_count": null,
   "metadata": {},
   "outputs": [],
   "source": [
    "import pandas as pd\n",
    "import numpy as np\n",
    "import matplotlib as mpl\n",
    "import matplotlib.pyplot as plt\n",
    "from pprint import pprint"
   ]
  },
  {
   "cell_type": "code",
   "execution_count": null,
   "metadata": {},
   "outputs": [],
   "source": [
    "pprint(plt.rcParams.keys(), compact=True)"
   ]
  },
  {
   "cell_type": "code",
   "execution_count": null,
   "metadata": {},
   "outputs": [],
   "source": [
    "#plt.rcParams['font.sans-serif'] = \"Arial\"\n",
    "plt.rcParams['font.size'] = 14\n",
    "\n",
    "plt.rcParams['figure.figsize'] = 14,4\n",
    "plt.rcParams['figure.facecolor'] = (1,1,1,0)\n",
    "\n",
    "plt.rcParams['axes.spines.top'] = False\n",
    "plt.rcParams['axes.spines.right'] = False\n",
    "plt.rcParams['axes.linewidth'] = 1\n",
    "\n",
    "plt.rcParams['xtick.labelsize'] = \"small\"\n",
    "plt.rcParams['ytick.labelsize'] = \"small\"\n",
    "\n",
    "plt.rcParams['grid.alpha'] = 0.3"
   ]
  },
  {
   "cell_type": "code",
   "execution_count": null,
   "metadata": {},
   "outputs": [],
   "source": [
    "pprint(plt.style.available, compact=True, width=80)"
   ]
  },
  {
   "cell_type": "code",
   "execution_count": null,
   "metadata": {},
   "outputs": [],
   "source": [
    "mpl.colors.BASE_COLORS"
   ]
  },
  {
   "cell_type": "code",
   "execution_count": null,
   "metadata": {},
   "outputs": [],
   "source": [
    "mpl_colors = list(mpl.colors.CSS4_COLORS.keys())\n",
    "\n",
    "pprint(mpl_colors, compact=True, width=80)"
   ]
  },
  {
   "cell_type": "code",
   "execution_count": null,
   "metadata": {},
   "outputs": [],
   "source": [
    "LINK = \"https://earthquake.usgs.gov/earthquakes/feed/v1.0/summary/all_month.csv\""
   ]
  },
  {
   "cell_type": "code",
   "execution_count": null,
   "metadata": {},
   "outputs": [],
   "source": [
    "quakes = pd.read_csv(LINK, parse_dates=['time', 'updated'])\n",
    "quakes.info()"
   ]
  },
  {
   "cell_type": "code",
   "execution_count": null,
   "metadata": {},
   "outputs": [],
   "source": [
    "quakes.head()"
   ]
  },
  {
   "cell_type": "code",
   "execution_count": null,
   "metadata": {},
   "outputs": [],
   "source": [
    "quakes.shape"
   ]
  },
  {
   "cell_type": "code",
   "execution_count": null,
   "metadata": {},
   "outputs": [],
   "source": [
    "quakes['timeframe'] = quakes['time'].apply(lambda x: str(x)[0:10])\n",
    "quakes['starttime'] = quakes['time'].apply(lambda x: str(x)[0:19])\n",
    "quakes['updatetime'] = quakes['updated'].apply(lambda x: str(x)[0:19])\n",
    "\n",
    "quakes.filter(regex=\"time\")"
   ]
  },
  {
   "cell_type": "code",
   "execution_count": null,
   "metadata": {},
   "outputs": [],
   "source": [
    "quakes = quakes.loc[quakes['mag']>0]"
   ]
  },
  {
   "cell_type": "code",
   "execution_count": null,
   "metadata": {},
   "outputs": [],
   "source": [
    "quakes.isna().sum()"
   ]
  },
  {
   "cell_type": "code",
   "execution_count": null,
   "metadata": {},
   "outputs": [],
   "source": [
    "# completed cases only\n",
    "quakes = quakes.dropna(how=\"any\")\n",
    "quakes.isna().sum()"
   ]
  },
  {
   "cell_type": "code",
   "execution_count": null,
   "metadata": {},
   "outputs": [],
   "source": [
    "quakes.shape"
   ]
  },
  {
   "cell_type": "code",
   "execution_count": null,
   "metadata": {},
   "outputs": [],
   "source": [
    "quakes = quakes.sort_values(\"time\").reset_index(drop=True)\n",
    "quakes.nunique()"
   ]
  },
  {
   "cell_type": "code",
   "execution_count": null,
   "metadata": {},
   "outputs": [],
   "source": [
    "quakes.describe()"
   ]
  },
  {
   "cell_type": "code",
   "execution_count": null,
   "metadata": {},
   "outputs": [],
   "source": [
    "quakes.head()"
   ]
  },
  {
   "cell_type": "code",
   "execution_count": null,
   "metadata": {},
   "outputs": [],
   "source": [
    "quakes['mag'].max()"
   ]
  },
  {
   "cell_type": "code",
   "execution_count": null,
   "metadata": {},
   "outputs": [],
   "source": [
    "fig, ax = plt.subplots(figsize=(14,8))\n",
    "\n",
    "ax.spines['top'].set_visible(True)\n",
    "ax.spines['right'].set_visible(True)\n",
    "ax.spines['bottom'].set_visible(True)\n",
    "ax.spines['left'].set_visible(True)\n",
    "\n",
    "ax.set_xscale('log')\n",
    "ax.set_yscale('log')\n",
    "\n",
    "for row in quakes.query(\"locationSource=='pr'\").itertuples():\n",
    "    if row.mag > 4:\n",
    "        plt.text(x=row.mag, y=row.depth+2, s=f\"{row.place}={row.mag:,.1f}\", va=\"bottom\", ha=\"center\")\n",
    "        \n",
    "        plt.scatter(x=row.mag, y=row.depth, alpha=0.8, c=\"firebrick\")\n",
    "    else:\n",
    "        plt.scatter(x=row.mag, y=row.depth, alpha=0.4, c=\"goldenrod\")\n",
    "        \n",
    "plt.xlabel(\"Magnitude\", fontsize=12)\n",
    "plt.ylabel(\"Depth\", fontsize=12)\n",
    "plt.grid(True, alpha=0.5)\n",
    "\n",
    "plt.show();"
   ]
  },
  {
   "cell_type": "code",
   "execution_count": null,
   "metadata": {},
   "outputs": [],
   "source": [
    "q = quakes['type'].value_counts(dropna=False)\n",
    "q"
   ]
  },
  {
   "cell_type": "code",
   "execution_count": null,
   "metadata": {},
   "outputs": [],
   "source": [
    "fig, ax = plt.subplots(subplot_kw=dict(aspect=\"equal\"))\n",
    "\n",
    "wedges, text, autotexts = ax.pie(\n",
    "    q.values,\n",
    "    autopct=\"%0.1f%%\",\n",
    "    shadow=True,\n",
    "    textprops=dict(color=\"w\")\n",
    ")\n",
    "\n",
    "ax.legend(wedges, q.index, title=\"locations\", loc=\"center left\", shadow=True, bbox_to_anchor=(1,0,0.5,1))\n",
    "\n",
    "plt.setp(autotexts, size=12, weight=\"bold\")\n",
    "\n",
    "ax.set_title(\"Total Events\")\n",
    "\n",
    "plt.show();"
   ]
  },
  {
   "cell_type": "code",
   "execution_count": null,
   "metadata": {},
   "outputs": [],
   "source": [
    "q = quakes.groupby('timeframe', as_index=False).count()\n",
    "q.head()"
   ]
  },
  {
   "cell_type": "code",
   "execution_count": null,
   "metadata": {},
   "outputs": [],
   "source": [
    "fig, ax = plt.subplots()\n",
    "plt.xticks(rotation=90)\n",
    "plt.grid(False)\n",
    "\n",
    "ax.plot(q['timeframe'], q['id'], ls=\"dashed\", lw=3, c=\"b\", marker=\"s\", markerfacecolor=\"k\");"
   ]
  },
  {
   "cell_type": "code",
   "execution_count": null,
   "metadata": {},
   "outputs": [],
   "source": [
    "q = quakes.groupby('timeframe', as_index=False).mean()\n",
    "q.head()"
   ]
  },
  {
   "cell_type": "code",
   "execution_count": null,
   "metadata": {},
   "outputs": [],
   "source": [
    "fig, ax = plt.subplots()\n",
    "plt.xticks(rotation=90)\n",
    "\n",
    "plt.grid(False)\n",
    "\n",
    "plt.plot(q['timeframe'], q[['depth','mag','gap']], lw=1, marker=\"s\")\n",
    "\n",
    "plt.show();"
   ]
  },
  {
   "cell_type": "code",
   "execution_count": null,
   "metadata": {},
   "outputs": [],
   "source": [
    "fig, (ax1, ax2, ax3) = plt.subplots(3, 1, figsize=(10,10), sharey=False)\n",
    "\n",
    "ax1.plot(q['timeframe'], q['depth'], \"rs-\")\n",
    "ax1.set_ylabel(\"Depth\")\n",
    "ax1.set_xticks([])\n",
    "\n",
    "ax2.plot(q['timeframe'], q['mag'], \"bo--\")\n",
    "ax2.set_ylabel(\"Magnitude\")\n",
    "ax2.set_xticks([])\n",
    "\n",
    "ax3.plot(q['timeframe'], q['gap'], \"g^-.\")\n",
    "ax3.set_ylabel(\"Gap\")\n",
    "\n",
    "plt.xticks(rotation=90)\n",
    "\n",
    "plt.show();"
   ]
  },
  {
   "cell_type": "code",
   "execution_count": null,
   "metadata": {},
   "outputs": [],
   "source": [
    "q = quakes.groupby('timeframe').mean()\n",
    "q.head()"
   ]
  },
  {
   "cell_type": "code",
   "execution_count": null,
   "metadata": {},
   "outputs": [],
   "source": [
    "cols = [\"dmin\", \"rms\", \"magError\"]\n",
    "\n",
    "plt.figure(figsize=(14,4))\n",
    "\n",
    "ls = ['-','--','-.',':'] * 3\n",
    "mk = ['o','v','^','<','>','8','s','*','H','h','D','d','P','p','X']\n",
    "cs = ['b','g','r','c','m','y','k','w'] * 2\n",
    "\n",
    "for i, X in enumerate(cols):\n",
    "    q[X].plot(color=cs[i], ls=ls[i], marker=mk[i], markerfacecolor=cs[i+1], lw=3, markersize=8)\n",
    "    \n",
    "plt.legend(bbox_to_anchor=(1.05, 1), loc=2, borderaxespad=0.)\n",
    "\n",
    "plt.xticks(rotation=0)\n",
    "\n",
    "plt.show();"
   ]
  },
  {
   "cell_type": "code",
   "execution_count": null,
   "metadata": {},
   "outputs": [],
   "source": [
    "quakes['locationSource'].value_counts()"
   ]
  },
  {
   "cell_type": "code",
   "execution_count": null,
   "metadata": {},
   "outputs": [],
   "source": [
    "q = quakes.query(\"locationSource=='pr'\")\n",
    "q.head()"
   ]
  },
  {
   "cell_type": "code",
   "execution_count": null,
   "metadata": {},
   "outputs": [],
   "source": [
    "plt.figure(figsize=(10,10))\n",
    "\n",
    "colors = np.where(q['status']==\"automatic\", \"navy\", \"crimson\")\n",
    "plt.scatter(data=q, x=\"mag\", y=\"gap\", s=\"depth\", marker=\"o\", c=colors)\n",
    "plt.xlabel(\"Magnitude\")\n",
    "plt.ylabel(\"Gap\")\n",
    "\n",
    "plt.show();"
   ]
  },
  {
   "cell_type": "code",
   "execution_count": null,
   "metadata": {},
   "outputs": [],
   "source": [
    "q = quakes.pivot_table(index='timeframe', columns='type', values='mag', fill_value=0, aggfunc=np.mean).reset_index()\n",
    "\n",
    "q"
   ]
  },
  {
   "cell_type": "code",
   "execution_count": null,
   "metadata": {},
   "outputs": [],
   "source": [
    "dates = q.timeframe\n",
    "values = q.earthquake"
   ]
  },
  {
   "cell_type": "code",
   "execution_count": null,
   "metadata": {},
   "outputs": [],
   "source": [
    "plt.figure(figsize=(14,10))\n",
    "plt.plot(dates, values, lw=4, alpha=0.3)\n",
    "plt.scatter(dates, values, s=50, marker=\"s\", c=\"blue\")\n",
    "plt.ylim(1, values.max() * 1.1)\n",
    "\n",
    "for index, value in enumerate(values):\n",
    "    plt.text(x=index, ha=\"center\", y=value + .03, s=f\"{value:,.3f}\", rotation=45)\n",
    "    \n",
    "plt.hlines(y=np.mean(value), xmin=min(dates), xmax=max(dates), ls=\"--\", color=\"grey\")\n",
    "\n",
    "plt.title(\"Earthquake Analysis\", fontsize=20)\n",
    "plt.xlabel(\"Dates\")\n",
    "plt.ylabel(\"Values\")\n",
    "plt.grid(False)\n",
    "plt.xticks(rotation=90)\n",
    "\n",
    "plt.show();"
   ]
  },
  {
   "cell_type": "code",
   "execution_count": null,
   "metadata": {},
   "outputs": [],
   "source": [
    "q = quakes.groupby(['locationSource'], as_index=False).mean()\n",
    "\n",
    "q"
   ]
  },
  {
   "cell_type": "code",
   "execution_count": null,
   "metadata": {},
   "outputs": [],
   "source": [
    "sources = q['locationSource'].values\n",
    "values = q['magNst'].values\n",
    "\n",
    "plt.figure(figsize=(14,4))\n",
    "plt.bar(sources, values, color=\"navy\", alpha=0.5)\n",
    "plt.ylim(0, values.max() * 1.1)\n",
    "\n",
    "for sources, value in enumerate(values):\n",
    "    plt.text(x=sources, ha=\"center\", va=\"bottom\", y=value, s=f\"{value:,.1f}\", fontsize=14)\n",
    "    \n",
    "plt.xlabel(\"Index\", fontsize=16)\n",
    "plt.ylabel(\"Values\", fontsize=16)\n",
    "plt.grid(False)\n",
    "plt.xticks(rotation=0)\n",
    "\n",
    "plt.show();"
   ]
  },
  {
   "cell_type": "code",
   "execution_count": null,
   "metadata": {},
   "outputs": [],
   "source": [
    "fig, (ax0, ax1) = plt.subplots(nrows=1, ncols=2, sharey=True, figsize=(12,4))\n",
    "\n",
    "q.plot(kind=\"barh\", x='locationSource', y='depth', color=\"b\", ax=ax0)\n",
    "ax0.set(title=\"Average Depth\", xlabel=\"\", ylabel=\"Location Sources\")\n",
    "ax0.legend().set_visible(False)\n",
    "\n",
    "q.plot(kind=\"barh\", x='locationSource', y='mag', color=\"m\", ax=ax1)\n",
    "ax1.set(title=\"Average Magnitude\", xlabel=\"\", ylabel=\"\")\n",
    "ax1.legend().set_visible(False)\n",
    "\n",
    "fig.suptitle(\"Earthquake Analysis\", fontsize=14, fontweight=\"bold\")\n",
    "\n",
    "plt.tight_layout()\n",
    "\n",
    "plt.show();"
   ]
  },
  {
   "cell_type": "code",
   "execution_count": null,
   "metadata": {},
   "outputs": [],
   "source": [
    "q = quakes\\\n",
    ".groupby('locationSource')\\\n",
    ".size()\\\n",
    ".reset_index()\\\n",
    ".rename(columns={0:'size'})\\\n",
    ".sort_values('size', ascending=False)\n",
    "\n",
    "q['cum_pct'] = round(q['size'].cumsum() / q['size'].sum() * 100, 2)\n",
    "\n",
    "q"
   ]
  },
  {
   "cell_type": "code",
   "execution_count": null,
   "metadata": {},
   "outputs": [],
   "source": [
    "from matplotlib.ticker import PercentFormatter"
   ]
  },
  {
   "cell_type": "code",
   "execution_count": null,
   "metadata": {},
   "outputs": [],
   "source": [
    "fig, ax = plt.subplots(figsize=(14,4))\n",
    "\n",
    "ax.bar(q['locationSource'], q['size'])\n",
    "ax.set_title(\"Pareto Chart\")\n",
    "ax.set_xlabel(\"Location Sources\")\n",
    "ax.set_ylabel(\"Frequency\")\n",
    "\n",
    "ax1 = ax.twinx()\n",
    "ax1.plot(q['locationSource'], q['cum_pct'], color=\"red\", marker=\"o\", ms=7, alpha=0.5)\n",
    "ax1.axhline(80, color=\"orange\", ls=\"--\")\n",
    "ax1.yaxis.set_major_formatter(PercentFormatter())\n",
    "ax1.set_ylabel(\"Cumulative Percentage\")\n",
    "\n",
    "plt.show();"
   ]
  },
  {
   "cell_type": "code",
   "execution_count": null,
   "metadata": {},
   "outputs": [],
   "source": []
  }
 ],
 "metadata": {
  "kernelspec": {
   "display_name": "Python 3",
   "language": "python",
   "name": "python3"
  },
  "language_info": {
   "codemirror_mode": {
    "name": "ipython",
    "version": 3
   },
   "file_extension": ".py",
   "mimetype": "text/x-python",
   "name": "python",
   "nbconvert_exporter": "python",
   "pygments_lexer": "ipython3",
   "version": "3.8.3"
  }
 },
 "nbformat": 4,
 "nbformat_minor": 4
}
