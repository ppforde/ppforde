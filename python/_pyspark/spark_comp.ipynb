{
 "cells": [
  {
   "cell_type": "markdown",
   "metadata": {},
   "source": [
    "http://spark.apache.org/"
   ]
  },
  {
   "cell_type": "code",
   "execution_count": 1,
   "metadata": {},
   "outputs": [
    {
     "data": {
      "text/html": [
       "<style>.container {width:90% !important; font-size:100%;}</style>"
      ],
      "text/plain": [
       "<IPython.core.display.HTML object>"
      ]
     },
     "metadata": {},
     "output_type": "display_data"
    },
    {
     "data": {
      "text/html": [
       "<style>div.output_area pre {white-space: pre;}</style>"
      ],
      "text/plain": [
       "<IPython.core.display.HTML object>"
      ]
     },
     "metadata": {},
     "output_type": "display_data"
    }
   ],
   "source": [
    "from IPython.core.display import display, HTML\n",
    "display(HTML(\"<style>.container {width:90% !important; font-size:100%;}</style>\"))\n",
    "display(HTML(\"<style>div.output_area pre {white-space: pre;}</style>\"))"
   ]
  },
  {
   "cell_type": "code",
   "execution_count": 2,
   "metadata": {},
   "outputs": [],
   "source": [
    "from pprint import pprint\n",
    "import datetime\n",
    "import pandas as pd\n",
    "import numpy as np"
   ]
  },
  {
   "cell_type": "raw",
   "metadata": {},
   "source": [
    "!pip install pyspark"
   ]
  },
  {
   "cell_type": "raw",
   "metadata": {},
   "source": [
    "!pip install pyarrow"
   ]
  },
  {
   "cell_type": "code",
   "execution_count": 3,
   "metadata": {},
   "outputs": [],
   "source": [
    "from pyspark.sql import SparkSession, Row\n",
    "from pyspark.context import SparkContext\n",
    "from pyspark.sql.functions import *\n",
    "from pyspark.sql.types import *"
   ]
  },
  {
   "cell_type": "code",
   "execution_count": 4,
   "metadata": {},
   "outputs": [
    {
     "data": {
      "text/html": [
       "\n",
       "            <div>\n",
       "                <p><b>SparkSession - in-memory</b></p>\n",
       "                \n",
       "        <div>\n",
       "            <p><b>SparkContext</b></p>\n",
       "\n",
       "            <p><a href=\"http://gda.fios-router.home:4040\">Spark UI</a></p>\n",
       "\n",
       "            <dl>\n",
       "              <dt>Version</dt>\n",
       "                <dd><code>v3.2.0</code></dd>\n",
       "              <dt>Master</dt>\n",
       "                <dd><code>local[*]</code></dd>\n",
       "              <dt>AppName</dt>\n",
       "                <dd><code>sales_data</code></dd>\n",
       "            </dl>\n",
       "        </div>\n",
       "        \n",
       "            </div>\n",
       "        "
      ],
      "text/plain": [
       "<pyspark.sql.session.SparkSession at 0x7f53043aadc0>"
      ]
     },
     "execution_count": 4,
     "metadata": {},
     "output_type": "execute_result"
    }
   ],
   "source": [
    "session_name = \"sales_data\"\n",
    "\n",
    "spark = SparkSession.builder.appName(session_name).getOrCreate()\n",
    "\n",
    "spark"
   ]
  },
  {
   "cell_type": "code",
   "execution_count": 5,
   "metadata": {},
   "outputs": [
    {
     "name": "stdout",
     "output_type": "stream",
     "text": [
      "<class 'pandas.core.frame.DataFrame'>\n",
      "RangeIndex: 35000 entries, 0 to 34999\n",
      "Data columns (total 7 columns):\n",
      " #   Column       Non-Null Count  Dtype         \n",
      "---  ------       --------------  -----         \n",
      " 0   trans_dates  35000 non-null  datetime64[ns]\n",
      " 1   LOCATIONS    35000 non-null  object        \n",
      " 2   employees    35000 non-null  object        \n",
      " 3   Sales/Hrs    35000 non-null  int64         \n",
      " 4   sales tot$   35000 non-null  float64       \n",
      " 5   doc_date     35000 non-null  object        \n",
      " 6   actuals      35000 non-null  bool          \n",
      "dtypes: bool(1), datetime64[ns](1), float64(1), int64(1), object(3)\n",
      "memory usage: 1.6+ MB\n"
     ]
    }
   ],
   "source": [
    "N = 35_000\n",
    "\n",
    "current_date = datetime.date.today()\n",
    "current_time = datetime.datetime.now()\n",
    "\n",
    "pval = [.05,.25,.3,.05,.1,.1,.1,.05]\n",
    "\n",
    "np.random.RandomState(seed=7)\n",
    "\n",
    "df = pd.DataFrame.from_dict(\n",
    "    {\n",
    "        'trans_dates':np.random.choice(np.arange('2010-01-01', '2021-01-01', dtype='datetime64[D]'), size=N),\n",
    "        'LOCATIONS':np.random.choice(['CA','TX','NY','OH', 'FL'], size=(N,), p=[.1,.2,.3,.35,.05]),\n",
    "        'employees':np.random.choice(['Aiden', 'Leslie', 'Ian', 'Harlan', 'Maeve', 'Kendra', 'Allen', 'Jo'], size=(N,), p=pval),        \n",
    "        'Sales/Hrs':np.random.choice(np.arange(1, 17, 1), size=N),\n",
    "        'sales tot$':np.random.normal(loc=1000, scale=20, size=N),\n",
    "        'doc_date':current_date.strftime(\"%m/%d/%Y\"),\n",
    "    })\n",
    "\n",
    "df['actuals'] = np.where(df['trans_dates'] <= current_date.strftime(\"%Y-%m-%d\"), True, False)\n",
    "\n",
    "df.info()"
   ]
  },
  {
   "cell_type": "code",
   "execution_count": 6,
   "metadata": {},
   "outputs": [
    {
     "data": {
      "text/html": [
       "<div>\n",
       "<style scoped>\n",
       "    .dataframe tbody tr th:only-of-type {\n",
       "        vertical-align: middle;\n",
       "    }\n",
       "\n",
       "    .dataframe tbody tr th {\n",
       "        vertical-align: top;\n",
       "    }\n",
       "\n",
       "    .dataframe thead th {\n",
       "        text-align: right;\n",
       "    }\n",
       "</style>\n",
       "<table border=\"1\" class=\"dataframe\">\n",
       "  <thead>\n",
       "    <tr style=\"text-align: right;\">\n",
       "      <th></th>\n",
       "      <th>trans_dates</th>\n",
       "      <th>LOCATIONS</th>\n",
       "      <th>employees</th>\n",
       "      <th>Sales/Hrs</th>\n",
       "      <th>sales tot$</th>\n",
       "      <th>doc_date</th>\n",
       "      <th>actuals</th>\n",
       "    </tr>\n",
       "  </thead>\n",
       "  <tbody>\n",
       "    <tr>\n",
       "      <th>0</th>\n",
       "      <td>2013-08-10</td>\n",
       "      <td>TX</td>\n",
       "      <td>Leslie</td>\n",
       "      <td>13</td>\n",
       "      <td>999.850663</td>\n",
       "      <td>12/24/2021</td>\n",
       "      <td>True</td>\n",
       "    </tr>\n",
       "    <tr>\n",
       "      <th>1</th>\n",
       "      <td>2011-11-13</td>\n",
       "      <td>NY</td>\n",
       "      <td>Leslie</td>\n",
       "      <td>2</td>\n",
       "      <td>1014.180269</td>\n",
       "      <td>12/24/2021</td>\n",
       "      <td>True</td>\n",
       "    </tr>\n",
       "    <tr>\n",
       "      <th>2</th>\n",
       "      <td>2014-01-20</td>\n",
       "      <td>NY</td>\n",
       "      <td>Leslie</td>\n",
       "      <td>6</td>\n",
       "      <td>995.953437</td>\n",
       "      <td>12/24/2021</td>\n",
       "      <td>True</td>\n",
       "    </tr>\n",
       "    <tr>\n",
       "      <th>3</th>\n",
       "      <td>2011-02-23</td>\n",
       "      <td>NY</td>\n",
       "      <td>Leslie</td>\n",
       "      <td>14</td>\n",
       "      <td>1015.830561</td>\n",
       "      <td>12/24/2021</td>\n",
       "      <td>True</td>\n",
       "    </tr>\n",
       "    <tr>\n",
       "      <th>4</th>\n",
       "      <td>2019-12-13</td>\n",
       "      <td>OH</td>\n",
       "      <td>Aiden</td>\n",
       "      <td>7</td>\n",
       "      <td>1039.087062</td>\n",
       "      <td>12/24/2021</td>\n",
       "      <td>True</td>\n",
       "    </tr>\n",
       "  </tbody>\n",
       "</table>\n",
       "</div>"
      ],
      "text/plain": [
       "  trans_dates LOCATIONS employees  Sales/Hrs   sales tot$    doc_date  actuals\n",
       "0  2013-08-10        TX    Leslie         13   999.850663  12/24/2021     True\n",
       "1  2011-11-13        NY    Leslie          2  1014.180269  12/24/2021     True\n",
       "2  2014-01-20        NY    Leslie          6   995.953437  12/24/2021     True\n",
       "3  2011-02-23        NY    Leslie         14  1015.830561  12/24/2021     True\n",
       "4  2019-12-13        OH     Aiden          7  1039.087062  12/24/2021     True"
      ]
     },
     "execution_count": 6,
     "metadata": {},
     "output_type": "execute_result"
    }
   ],
   "source": [
    "df.head()"
   ]
  },
  {
   "cell_type": "code",
   "execution_count": 7,
   "metadata": {},
   "outputs": [
    {
     "data": {
      "text/plain": [
       "34998321.30343107"
      ]
     },
     "execution_count": 7,
     "metadata": {},
     "output_type": "execute_result"
    }
   ],
   "source": [
    "df['sales tot$'].sum()"
   ]
  },
  {
   "cell_type": "code",
   "execution_count": 8,
   "metadata": {},
   "outputs": [],
   "source": [
    "def clean_cols(x=str):\n",
    "    x = x.lower().replace(\",\",\"\").replace(\",\",\"\").replace(\":\",\"_\").replace(\"$\",\"\").replace(\"-\",\"\").replace(\"/\",\"_\")\n",
    "    x = x.replace(\" \",\"_\")\n",
    "    x = x.replace(\"___\",\"_\")\n",
    "    x = x.replace(\"__\",\"_\")\n",
    "    return x"
   ]
  },
  {
   "cell_type": "code",
   "execution_count": 9,
   "metadata": {},
   "outputs": [
    {
     "data": {
      "text/plain": [
       "Index(['trans_dates', 'LOCATIONS', 'employees', 'Sales/Hrs', 'sales tot$',\n",
       "       'doc_date', 'actuals'],\n",
       "      dtype='object')"
      ]
     },
     "execution_count": 9,
     "metadata": {},
     "output_type": "execute_result"
    }
   ],
   "source": [
    "df.columns"
   ]
  },
  {
   "cell_type": "code",
   "execution_count": 10,
   "metadata": {},
   "outputs": [
    {
     "data": {
      "text/plain": [
       "Index(['trans_dates', 'locations', 'employees', 'sales_hrs', 'sales_tot',\n",
       "       'doc_date', 'actuals'],\n",
       "      dtype='object')"
      ]
     },
     "execution_count": 10,
     "metadata": {},
     "output_type": "execute_result"
    }
   ],
   "source": [
    "df.columns = list(map(clean_cols, df.columns))\n",
    "df.columns"
   ]
  },
  {
   "cell_type": "code",
   "execution_count": 11,
   "metadata": {},
   "outputs": [
    {
     "name": "stdout",
     "output_type": "stream",
     "text": [
      "trans_dates date,\n",
      "locations string,\n",
      "employees string,\n",
      "sales_hrs integer,\n",
      "sales_tot double,\n",
      "doc_date date,\n",
      "actuals string,\n"
     ]
    }
   ],
   "source": [
    "sql_types = {\n",
    "    'object':'string',\n",
    "    'int64':'integer',\n",
    "    'int32':'integer',\n",
    "    'int16':'integer',\n",
    "    'float64':'double',\n",
    "    'float32':'double',\n",
    "    'datetime64[ns]':'date'\n",
    "}\n",
    "\n",
    "for i, x in enumerate(df.dtypes):\n",
    "    col_name = df.dtypes.index[i]\n",
    "    col_type = str(df.dtypes.values[i])\n",
    "    \n",
    "    if 'date' in col_name:\n",
    "        print(col_name, 'date', end='')\n",
    "    else:\n",
    "        print(col_name, sql_types.get(col_type, 'string'), end='')\n",
    "    print(',')"
   ]
  },
  {
   "cell_type": "code",
   "execution_count": 12,
   "metadata": {},
   "outputs": [],
   "source": [
    "df.to_parquet(\"sales_data\")"
   ]
  },
  {
   "cell_type": "code",
   "execution_count": 13,
   "metadata": {},
   "outputs": [],
   "source": [
    "ds = spark.read.parquet(\"sales_data\") "
   ]
  },
  {
   "cell_type": "code",
   "execution_count": 14,
   "metadata": {},
   "outputs": [
    {
     "name": "stdout",
     "output_type": "stream",
     "text": [
      "root\n",
      " |-- trans_dates: timestamp (nullable = true)\n",
      " |-- locations: string (nullable = true)\n",
      " |-- employees: string (nullable = true)\n",
      " |-- sales_hrs: long (nullable = true)\n",
      " |-- sales_tot: double (nullable = true)\n",
      " |-- doc_date: string (nullable = true)\n",
      " |-- actuals: boolean (nullable = true)\n",
      "\n"
     ]
    }
   ],
   "source": [
    "ds.printSchema()"
   ]
  },
  {
   "cell_type": "code",
   "execution_count": 15,
   "metadata": {},
   "outputs": [
    {
     "name": "stdout",
     "output_type": "stream",
     "text": [
      "+-------------------+---------+---------+---------+------------------+----------+-------+\n",
      "|trans_dates        |locations|employees|sales_hrs|sales_tot         |doc_date  |actuals|\n",
      "+-------------------+---------+---------+---------+------------------+----------+-------+\n",
      "|2013-08-09 20:00:00|TX       |Leslie   |13       |999.8506632992458 |12/24/2021|true   |\n",
      "|2011-11-12 19:00:00|NY       |Leslie   |2        |1014.1802692686405|12/24/2021|true   |\n",
      "|2014-01-19 19:00:00|NY       |Leslie   |6        |995.9534365891643 |12/24/2021|true   |\n",
      "|2011-02-22 19:00:00|NY       |Leslie   |14       |1015.8305608573602|12/24/2021|true   |\n",
      "|2019-12-12 19:00:00|OH       |Aiden    |7        |1039.087062120683 |12/24/2021|true   |\n",
      "|2014-08-04 20:00:00|NY       |Ian      |13       |977.2432583966678 |12/24/2021|true   |\n",
      "|2010-07-11 20:00:00|TX       |Ian      |4        |996.5728371254975 |12/24/2021|true   |\n",
      "|2018-08-10 20:00:00|TX       |Allen    |13       |1009.2394739956186|12/24/2021|true   |\n",
      "|2020-11-02 19:00:00|CA       |Jo       |10       |1025.5728690989893|12/24/2021|true   |\n",
      "|2011-12-31 19:00:00|OH       |Aiden    |2        |973.250416409818  |12/24/2021|true   |\n",
      "|2013-03-16 20:00:00|FL       |Allen    |15       |1027.3356328501413|12/24/2021|true   |\n",
      "|2015-05-12 20:00:00|OH       |Leslie   |14       |980.4208935062356 |12/24/2021|true   |\n",
      "|2016-07-06 20:00:00|NY       |Ian      |1        |1012.9205557165193|12/24/2021|true   |\n",
      "|2010-11-05 20:00:00|CA       |Leslie   |5        |1037.138118761962 |12/24/2021|true   |\n",
      "|2010-10-10 20:00:00|OH       |Ian      |6        |999.5651763413147 |12/24/2021|true   |\n",
      "|2018-08-12 20:00:00|TX       |Maeve    |3        |1001.6804620503054|12/24/2021|true   |\n",
      "|2014-06-08 20:00:00|NY       |Leslie   |4        |974.415595809333  |12/24/2021|true   |\n",
      "|2010-12-01 19:00:00|NY       |Leslie   |2        |962.0883384678493 |12/24/2021|true   |\n",
      "|2011-10-29 20:00:00|OH       |Aiden    |5        |998.4842439669038 |12/24/2021|true   |\n",
      "|2016-01-29 19:00:00|OH       |Ian      |13       |1000.8630339723508|12/24/2021|true   |\n",
      "+-------------------+---------+---------+---------+------------------+----------+-------+\n",
      "only showing top 20 rows\n",
      "\n"
     ]
    }
   ],
   "source": [
    "ds.show(truncate=False)"
   ]
  },
  {
   "cell_type": "code",
   "execution_count": 16,
   "metadata": {},
   "outputs": [
    {
     "data": {
      "text/plain": [
       "[('trans_dates', 'timestamp'),\n",
       " ('locations', 'string'),\n",
       " ('employees', 'string'),\n",
       " ('sales_hrs', 'bigint'),\n",
       " ('sales_tot', 'double'),\n",
       " ('doc_date', 'string'),\n",
       " ('actuals', 'boolean')]"
      ]
     },
     "execution_count": 16,
     "metadata": {},
     "output_type": "execute_result"
    }
   ],
   "source": [
    "ds.dtypes"
   ]
  },
  {
   "cell_type": "code",
   "execution_count": 17,
   "metadata": {},
   "outputs": [
    {
     "data": {
      "text/plain": [
       "['trans_dates',\n",
       " 'locations',\n",
       " 'employees',\n",
       " 'sales_hrs',\n",
       " 'sales_tot',\n",
       " 'doc_date',\n",
       " 'actuals']"
      ]
     },
     "execution_count": 17,
     "metadata": {},
     "output_type": "execute_result"
    }
   ],
   "source": [
    "ds.columns"
   ]
  },
  {
   "cell_type": "code",
   "execution_count": 18,
   "metadata": {},
   "outputs": [],
   "source": [
    "ds = ds.withColumnRenamed('sales_tot', 'sales_total')"
   ]
  },
  {
   "cell_type": "code",
   "execution_count": 19,
   "metadata": {},
   "outputs": [
    {
     "name": "stdout",
     "output_type": "stream",
     "text": [
      "+-------------------+---------+---------+---------+------------------+-------------------+-------+\n",
      "|        trans_dates|locations|employees|sales_hrs|       sales_total|           doc_date|actuals|\n",
      "+-------------------+---------+---------+---------+------------------+-------------------+-------+\n",
      "|2013-08-09 20:00:00|       TX|   Leslie|       13| 999.8506632992458|2021-01-24 00:12:00|   true|\n",
      "|2011-11-12 19:00:00|       NY|   Leslie|        2|1014.1802692686405|2021-01-24 00:12:00|   true|\n",
      "|2014-01-19 19:00:00|       NY|   Leslie|        6| 995.9534365891643|2021-01-24 00:12:00|   true|\n",
      "|2011-02-22 19:00:00|       NY|   Leslie|       14|1015.8305608573602|2021-01-24 00:12:00|   true|\n",
      "|2019-12-12 19:00:00|       OH|    Aiden|        7| 1039.087062120683|2021-01-24 00:12:00|   true|\n",
      "|2014-08-04 20:00:00|       NY|      Ian|       13| 977.2432583966678|2021-01-24 00:12:00|   true|\n",
      "|2010-07-11 20:00:00|       TX|      Ian|        4| 996.5728371254975|2021-01-24 00:12:00|   true|\n",
      "|2018-08-10 20:00:00|       TX|    Allen|       13|1009.2394739956186|2021-01-24 00:12:00|   true|\n",
      "|2020-11-02 19:00:00|       CA|       Jo|       10|1025.5728690989893|2021-01-24 00:12:00|   true|\n",
      "|2011-12-31 19:00:00|       OH|    Aiden|        2|  973.250416409818|2021-01-24 00:12:00|   true|\n",
      "|2013-03-16 20:00:00|       FL|    Allen|       15|1027.3356328501413|2021-01-24 00:12:00|   true|\n",
      "|2015-05-12 20:00:00|       OH|   Leslie|       14| 980.4208935062356|2021-01-24 00:12:00|   true|\n",
      "|2016-07-06 20:00:00|       NY|      Ian|        1|1012.9205557165193|2021-01-24 00:12:00|   true|\n",
      "|2010-11-05 20:00:00|       CA|   Leslie|        5| 1037.138118761962|2021-01-24 00:12:00|   true|\n",
      "|2010-10-10 20:00:00|       OH|      Ian|        6| 999.5651763413147|2021-01-24 00:12:00|   true|\n",
      "|2018-08-12 20:00:00|       TX|    Maeve|        3|1001.6804620503054|2021-01-24 00:12:00|   true|\n",
      "|2014-06-08 20:00:00|       NY|   Leslie|        4|  974.415595809333|2021-01-24 00:12:00|   true|\n",
      "|2010-12-01 19:00:00|       NY|   Leslie|        2| 962.0883384678493|2021-01-24 00:12:00|   true|\n",
      "|2011-10-29 20:00:00|       OH|    Aiden|        5| 998.4842439669038|2021-01-24 00:12:00|   true|\n",
      "|2016-01-29 19:00:00|       OH|      Ian|       13|1000.8630339723508|2021-01-24 00:12:00|   true|\n",
      "+-------------------+---------+---------+---------+------------------+-------------------+-------+\n",
      "only showing top 20 rows\n",
      "\n"
     ]
    }
   ],
   "source": [
    "ds = ds.withColumn('doc_date', to_timestamp(col('doc_date'), \"m/d/yyyy\"))\n",
    "ds.show()"
   ]
  },
  {
   "cell_type": "code",
   "execution_count": 20,
   "metadata": {},
   "outputs": [
    {
     "data": {
      "text/plain": [
       "datetime.datetime(2021, 12, 24, 9, 20, 53, 999747)"
      ]
     },
     "execution_count": 20,
     "metadata": {},
     "output_type": "execute_result"
    }
   ],
   "source": [
    "current_date = datetime.datetime.now()\n",
    "current_date"
   ]
  },
  {
   "cell_type": "code",
   "execution_count": 21,
   "metadata": {},
   "outputs": [
    {
     "name": "stdout",
     "output_type": "stream",
     "text": [
      "+-------------------+---------+---------+---------+------------------+-------------------+-------+--------------------------+\n",
      "|trans_dates        |locations|employees|sales_hrs|sales_total       |doc_date           |actuals|current_date              |\n",
      "+-------------------+---------+---------+---------+------------------+-------------------+-------+--------------------------+\n",
      "|2013-08-09 20:00:00|TX       |Leslie   |13       |999.8506632992458 |2021-01-24 00:12:00|true   |2021-12-24 09:20:53.999747|\n",
      "|2011-11-12 19:00:00|NY       |Leslie   |2        |1014.1802692686405|2021-01-24 00:12:00|true   |2021-12-24 09:20:53.999747|\n",
      "|2014-01-19 19:00:00|NY       |Leslie   |6        |995.9534365891643 |2021-01-24 00:12:00|true   |2021-12-24 09:20:53.999747|\n",
      "|2011-02-22 19:00:00|NY       |Leslie   |14       |1015.8305608573602|2021-01-24 00:12:00|true   |2021-12-24 09:20:53.999747|\n",
      "|2019-12-12 19:00:00|OH       |Aiden    |7        |1039.087062120683 |2021-01-24 00:12:00|true   |2021-12-24 09:20:53.999747|\n",
      "|2014-08-04 20:00:00|NY       |Ian      |13       |977.2432583966678 |2021-01-24 00:12:00|true   |2021-12-24 09:20:53.999747|\n",
      "|2010-07-11 20:00:00|TX       |Ian      |4        |996.5728371254975 |2021-01-24 00:12:00|true   |2021-12-24 09:20:53.999747|\n",
      "|2018-08-10 20:00:00|TX       |Allen    |13       |1009.2394739956186|2021-01-24 00:12:00|true   |2021-12-24 09:20:53.999747|\n",
      "|2020-11-02 19:00:00|CA       |Jo       |10       |1025.5728690989893|2021-01-24 00:12:00|true   |2021-12-24 09:20:53.999747|\n",
      "|2011-12-31 19:00:00|OH       |Aiden    |2        |973.250416409818  |2021-01-24 00:12:00|true   |2021-12-24 09:20:53.999747|\n",
      "+-------------------+---------+---------+---------+------------------+-------------------+-------+--------------------------+\n",
      "only showing top 10 rows\n",
      "\n"
     ]
    }
   ],
   "source": [
    "ds = ds.withColumn('current_date', lit(current_date))\n",
    "ds.show(10, False)"
   ]
  },
  {
   "cell_type": "code",
   "execution_count": 22,
   "metadata": {},
   "outputs": [
    {
     "name": "stdout",
     "output_type": "stream",
     "text": [
      "+-------------------+---------+---------+---------+-----------+-------------------+-------+--------------------------+\n",
      "|trans_dates        |locations|employees|sales_hrs|sales_total|doc_date           |actuals|current_date              |\n",
      "+-------------------+---------+---------+---------+-----------+-------------------+-------+--------------------------+\n",
      "|2013-08-09 20:00:00|TX       |Leslie   |13       |999.85     |2021-01-24 00:12:00|true   |2021-12-24 09:20:53.999747|\n",
      "|2011-11-12 19:00:00|NY       |Leslie   |2        |1014.18    |2021-01-24 00:12:00|true   |2021-12-24 09:20:53.999747|\n",
      "|2014-01-19 19:00:00|NY       |Leslie   |6        |995.95     |2021-01-24 00:12:00|true   |2021-12-24 09:20:53.999747|\n",
      "|2011-02-22 19:00:00|NY       |Leslie   |14       |1015.83    |2021-01-24 00:12:00|true   |2021-12-24 09:20:53.999747|\n",
      "|2019-12-12 19:00:00|OH       |Aiden    |7        |1039.09    |2021-01-24 00:12:00|true   |2021-12-24 09:20:53.999747|\n",
      "|2014-08-04 20:00:00|NY       |Ian      |13       |977.24     |2021-01-24 00:12:00|true   |2021-12-24 09:20:53.999747|\n",
      "|2010-07-11 20:00:00|TX       |Ian      |4        |996.57     |2021-01-24 00:12:00|true   |2021-12-24 09:20:53.999747|\n",
      "|2018-08-10 20:00:00|TX       |Allen    |13       |1009.24    |2021-01-24 00:12:00|true   |2021-12-24 09:20:53.999747|\n",
      "|2020-11-02 19:00:00|CA       |Jo       |10       |1025.57    |2021-01-24 00:12:00|true   |2021-12-24 09:20:53.999747|\n",
      "|2011-12-31 19:00:00|OH       |Aiden    |2        |973.25     |2021-01-24 00:12:00|true   |2021-12-24 09:20:53.999747|\n",
      "+-------------------+---------+---------+---------+-----------+-------------------+-------+--------------------------+\n",
      "only showing top 10 rows\n",
      "\n"
     ]
    }
   ],
   "source": [
    "ds = ds.withColumn('sales_total', round(col('sales_total') ,2))\n",
    "ds.show(10, False)"
   ]
  },
  {
   "cell_type": "code",
   "execution_count": 23,
   "metadata": {},
   "outputs": [
    {
     "name": "stdout",
     "output_type": "stream",
     "text": [
      "root\n",
      " |-- trans_dates: timestamp (nullable = true)\n",
      " |-- locations: string (nullable = true)\n",
      " |-- employees: string (nullable = true)\n",
      " |-- sales_hrs: long (nullable = true)\n",
      " |-- sales_total: double (nullable = true)\n",
      " |-- doc_date: timestamp (nullable = true)\n",
      " |-- actuals: boolean (nullable = true)\n",
      " |-- current_date: timestamp (nullable = false)\n",
      "\n"
     ]
    }
   ],
   "source": [
    "ds.printSchema()"
   ]
  },
  {
   "cell_type": "code",
   "execution_count": 24,
   "metadata": {},
   "outputs": [
    {
     "name": "stdout",
     "output_type": "stream",
     "text": [
      "root\n",
      " |-- trans_dates: timestamp (nullable = true)\n",
      " |-- locations: string (nullable = true)\n",
      " |-- employees: string (nullable = true)\n",
      " |-- sales_hrs: long (nullable = true)\n",
      " |-- sales_total: double (nullable = true)\n",
      " |-- doc_date: timestamp (nullable = true)\n",
      " |-- actuals: boolean (nullable = true)\n",
      " |-- current_date: timestamp (nullable = false)\n",
      "\n"
     ]
    }
   ],
   "source": [
    "ds.printSchema()"
   ]
  },
  {
   "cell_type": "code",
   "execution_count": 25,
   "metadata": {},
   "outputs": [],
   "source": [
    "def emp_sum(e):\n",
    "    if e == \"Maeve\": return 'Group1'\n",
    "    elif e == \"Harlan\": return 'Group2'\n",
    "    else: return 'Group3'\n",
    "    \n",
    "emp_sum = udf(emp_sum, StringType())"
   ]
  },
  {
   "cell_type": "code",
   "execution_count": 26,
   "metadata": {},
   "outputs": [],
   "source": [
    "ds = ds.withColumn('employee_summary', emp_sum('employees'))"
   ]
  },
  {
   "cell_type": "code",
   "execution_count": 27,
   "metadata": {},
   "outputs": [
    {
     "data": {
      "text/plain": [
       "[('trans_dates', 'timestamp'),\n",
       " ('locations', 'string'),\n",
       " ('employees', 'string'),\n",
       " ('sales_hrs', 'bigint'),\n",
       " ('sales_total', 'double'),\n",
       " ('doc_date', 'timestamp'),\n",
       " ('actuals', 'boolean'),\n",
       " ('current_date', 'timestamp'),\n",
       " ('employee_summary', 'string')]"
      ]
     },
     "execution_count": 27,
     "metadata": {},
     "output_type": "execute_result"
    }
   ],
   "source": [
    "ds.dtypes"
   ]
  },
  {
   "cell_type": "code",
   "execution_count": 28,
   "metadata": {},
   "outputs": [
    {
     "data": {
      "text/plain": [
       "35000"
      ]
     },
     "execution_count": 28,
     "metadata": {},
     "output_type": "execute_result"
    }
   ],
   "source": [
    "ds.count()"
   ]
  },
  {
   "cell_type": "code",
   "execution_count": 29,
   "metadata": {},
   "outputs": [
    {
     "name": "stdout",
     "output_type": "stream",
     "text": [
      "+-------------------+---------+---------+---------+-----------+-------------------+-------+--------------------------+----------------+\n",
      "|trans_dates        |locations|employees|sales_hrs|sales_total|doc_date           |actuals|current_date              |employee_summary|\n",
      "+-------------------+---------+---------+---------+-----------+-------------------+-------+--------------------------+----------------+\n",
      "|2013-08-09 20:00:00|TX       |Leslie   |13       |999.85     |2021-01-24 00:12:00|true   |2021-12-24 09:20:53.999747|Group3          |\n",
      "|2011-11-12 19:00:00|NY       |Leslie   |2        |1014.18    |2021-01-24 00:12:00|true   |2021-12-24 09:20:53.999747|Group3          |\n",
      "|2014-01-19 19:00:00|NY       |Leslie   |6        |995.95     |2021-01-24 00:12:00|true   |2021-12-24 09:20:53.999747|Group3          |\n",
      "|2011-02-22 19:00:00|NY       |Leslie   |14       |1015.83    |2021-01-24 00:12:00|true   |2021-12-24 09:20:53.999747|Group3          |\n",
      "|2019-12-12 19:00:00|OH       |Aiden    |7        |1039.09    |2021-01-24 00:12:00|true   |2021-12-24 09:20:53.999747|Group3          |\n",
      "|2014-08-04 20:00:00|NY       |Ian      |13       |977.24     |2021-01-24 00:12:00|true   |2021-12-24 09:20:53.999747|Group3          |\n",
      "|2010-07-11 20:00:00|TX       |Ian      |4        |996.57     |2021-01-24 00:12:00|true   |2021-12-24 09:20:53.999747|Group3          |\n",
      "|2018-08-10 20:00:00|TX       |Allen    |13       |1009.24    |2021-01-24 00:12:00|true   |2021-12-24 09:20:53.999747|Group3          |\n",
      "|2020-11-02 19:00:00|CA       |Jo       |10       |1025.57    |2021-01-24 00:12:00|true   |2021-12-24 09:20:53.999747|Group3          |\n",
      "|2011-12-31 19:00:00|OH       |Aiden    |2        |973.25     |2021-01-24 00:12:00|true   |2021-12-24 09:20:53.999747|Group3          |\n",
      "+-------------------+---------+---------+---------+-----------+-------------------+-------+--------------------------+----------------+\n",
      "only showing top 10 rows\n",
      "\n"
     ]
    }
   ],
   "source": [
    "ds.show(10, False)"
   ]
  },
  {
   "cell_type": "code",
   "execution_count": 30,
   "metadata": {},
   "outputs": [
    {
     "name": "stdout",
     "output_type": "stream",
     "text": [
      "+-------------------+---------+---------+---------+-----------+-------------------+-------+--------------------+----------------+\n",
      "|        trans_dates|locations|employees|sales_hrs|sales_total|           doc_date|actuals|        current_date|employee_summary|\n",
      "+-------------------+---------+---------+---------+-----------+-------------------+-------+--------------------+----------------+\n",
      "|2017-08-21 20:00:00|       CA|    Allen|        5|     995.74|2021-01-24 00:12:00|   true|2021-12-24 09:20:...|          Group3|\n",
      "|2018-04-08 20:00:00|       OH|      Ian|        5|     988.84|2021-01-24 00:12:00|   true|2021-12-24 09:20:...|          Group3|\n",
      "|2017-07-08 20:00:00|       NY|   Leslie|        8|     999.22|2021-01-24 00:12:00|   true|2021-12-24 09:20:...|          Group3|\n",
      "|2019-11-12 19:00:00|       OH|   Kendra|       14|    1007.88|2021-01-24 00:12:00|   true|2021-12-24 09:20:...|          Group3|\n",
      "|2012-11-11 19:00:00|       NY|    Aiden|        4|    1010.25|2021-01-24 00:12:00|   true|2021-12-24 09:20:...|          Group3|\n",
      "|2018-05-13 20:00:00|       FL|      Ian|        7|      980.1|2021-01-24 00:12:00|   true|2021-12-24 09:20:...|          Group3|\n",
      "|2017-06-07 20:00:00|       OH|      Ian|       13|    1001.42|2021-01-24 00:12:00|   true|2021-12-24 09:20:...|          Group3|\n",
      "|2018-10-21 20:00:00|       CA|      Ian|       12|     982.69|2021-01-24 00:12:00|   true|2021-12-24 09:20:...|          Group3|\n",
      "|2016-08-04 20:00:00|       TX|       Jo|        8|     991.77|2021-01-24 00:12:00|   true|2021-12-24 09:20:...|          Group3|\n",
      "|2011-07-07 20:00:00|       NY|   Leslie|       14|     993.71|2021-01-24 00:12:00|   true|2021-12-24 09:20:...|          Group3|\n",
      "|2010-05-16 20:00:00|       NY|    Maeve|       16|    1010.24|2021-01-24 00:12:00|   true|2021-12-24 09:20:...|          Group1|\n",
      "|2012-03-20 20:00:00|       CA|   Leslie|       15|    1007.53|2021-01-24 00:12:00|   true|2021-12-24 09:20:...|          Group3|\n",
      "|2018-02-15 19:00:00|       CA|    Maeve|       13|     993.61|2021-01-24 00:12:00|   true|2021-12-24 09:20:...|          Group1|\n",
      "|2018-11-12 19:00:00|       FL|       Jo|        1|    1021.72|2021-01-24 00:12:00|   true|2021-12-24 09:20:...|          Group3|\n",
      "|2013-10-28 20:00:00|       TX|      Ian|       10|    1004.85|2021-01-24 00:12:00|   true|2021-12-24 09:20:...|          Group3|\n",
      "|2010-03-14 20:00:00|       TX|      Ian|        9|     994.43|2021-01-24 00:12:00|   true|2021-12-24 09:20:...|          Group3|\n",
      "|2019-04-10 20:00:00|       NY|    Aiden|        2|     991.83|2021-01-24 00:12:00|   true|2021-12-24 09:20:...|          Group3|\n",
      "|2019-01-03 19:00:00|       OH|   Leslie|       16|     988.42|2021-01-24 00:12:00|   true|2021-12-24 09:20:...|          Group3|\n",
      "|2016-03-10 19:00:00|       NY|      Ian|        5|     978.65|2021-01-24 00:12:00|   true|2021-12-24 09:20:...|          Group3|\n",
      "|2012-11-16 19:00:00|       OH|      Ian|        9|    1007.23|2021-01-24 00:12:00|   true|2021-12-24 09:20:...|          Group3|\n",
      "+-------------------+---------+---------+---------+-----------+-------------------+-------+--------------------+----------------+\n",
      "only showing top 20 rows\n",
      "\n"
     ]
    }
   ],
   "source": [
    "ds.sample(False, fraction=0.1).show()"
   ]
  },
  {
   "cell_type": "code",
   "execution_count": 31,
   "metadata": {},
   "outputs": [
    {
     "name": "stdout",
     "output_type": "stream",
     "text": [
      "+-------------------+---------+---------+---------+-----------+-------------------+-------+--------------------+----------------+\n",
      "|        trans_dates|locations|employees|sales_hrs|sales_total|           doc_date|actuals|        current_date|employee_summary|\n",
      "+-------------------+---------+---------+---------+-----------+-------------------+-------+--------------------+----------------+\n",
      "|2009-12-31 19:00:00|       NY|   Leslie|        1|     977.27|2021-01-24 00:12:00|   true|2021-12-24 09:20:...|          Group3|\n",
      "|2009-12-31 19:00:00|       NY|      Ian|       11|    1022.62|2021-01-24 00:12:00|   true|2021-12-24 09:20:...|          Group3|\n",
      "|2009-12-31 19:00:00|       OH|    Maeve|       12|     1010.0|2021-01-24 00:12:00|   true|2021-12-24 09:20:...|          Group1|\n",
      "|2009-12-31 19:00:00|       NY|      Ian|       16|     981.46|2021-01-24 00:12:00|   true|2021-12-24 09:20:...|          Group3|\n",
      "|2009-12-31 19:00:00|       CA|      Ian|        6|    1035.54|2021-01-24 00:12:00|   true|2021-12-24 09:20:...|          Group3|\n",
      "|2009-12-31 19:00:00|       TX|   Leslie|       16|     977.74|2021-01-24 00:12:00|   true|2021-12-24 09:20:...|          Group3|\n",
      "|2009-12-31 19:00:00|       TX|   Leslie|       12|     974.79|2021-01-24 00:12:00|   true|2021-12-24 09:20:...|          Group3|\n",
      "|2010-01-01 19:00:00|       NY|   Leslie|        3|    1022.92|2021-01-24 00:12:00|   true|2021-12-24 09:20:...|          Group3|\n",
      "|2010-01-01 19:00:00|       OH|    Aiden|       12|     965.51|2021-01-24 00:12:00|   true|2021-12-24 09:20:...|          Group3|\n",
      "|2010-01-01 19:00:00|       TX|      Ian|        9|     993.69|2021-01-24 00:12:00|   true|2021-12-24 09:20:...|          Group3|\n",
      "|2010-01-01 19:00:00|       OH|      Ian|        2|     982.35|2021-01-24 00:12:00|   true|2021-12-24 09:20:...|          Group3|\n",
      "|2010-01-01 19:00:00|       OH|      Ian|        4|     999.99|2021-01-24 00:12:00|   true|2021-12-24 09:20:...|          Group3|\n",
      "|2010-01-02 19:00:00|       OH|       Jo|        6|    1000.82|2021-01-24 00:12:00|   true|2021-12-24 09:20:...|          Group3|\n",
      "|2010-01-02 19:00:00|       NY|      Ian|        6|     1034.8|2021-01-24 00:12:00|   true|2021-12-24 09:20:...|          Group3|\n",
      "|2010-01-02 19:00:00|       NY|    Maeve|        6|     994.56|2021-01-24 00:12:00|   true|2021-12-24 09:20:...|          Group1|\n",
      "|2010-01-02 19:00:00|       OH|    Maeve|        5|     976.56|2021-01-24 00:12:00|   true|2021-12-24 09:20:...|          Group1|\n",
      "|2010-01-02 19:00:00|       TX|    Aiden|       11|     1018.9|2021-01-24 00:12:00|   true|2021-12-24 09:20:...|          Group3|\n",
      "|2010-01-02 19:00:00|       TX|      Ian|        8|     983.31|2021-01-24 00:12:00|   true|2021-12-24 09:20:...|          Group3|\n",
      "|2010-01-02 19:00:00|       NY|   Leslie|        6|    1013.13|2021-01-24 00:12:00|   true|2021-12-24 09:20:...|          Group3|\n",
      "|2010-01-02 19:00:00|       OH|    Allen|       11|    1031.18|2021-01-24 00:12:00|   true|2021-12-24 09:20:...|          Group3|\n",
      "+-------------------+---------+---------+---------+-----------+-------------------+-------+--------------------+----------------+\n",
      "only showing top 20 rows\n",
      "\n"
     ]
    }
   ],
   "source": [
    "ds.sort('trans_dates').show()"
   ]
  },
  {
   "cell_type": "code",
   "execution_count": 32,
   "metadata": {},
   "outputs": [
    {
     "name": "stdout",
     "output_type": "stream",
     "text": [
      "+-------------------+---------+---------+---------+-----------+-------------------+-------+--------------------+----------------+\n",
      "|        trans_dates|locations|employees|sales_hrs|sales_total|           doc_date|actuals|        current_date|employee_summary|\n",
      "+-------------------+---------+---------+---------+-----------+-------------------+-------+--------------------+----------------+\n",
      "|2009-12-31 19:00:00|       NY|   Leslie|        1|     977.27|2021-01-24 00:12:00|   true|2021-12-24 09:20:...|          Group3|\n",
      "|2009-12-31 19:00:00|       NY|      Ian|       11|    1022.62|2021-01-24 00:12:00|   true|2021-12-24 09:20:...|          Group3|\n",
      "|2009-12-31 19:00:00|       OH|    Maeve|       12|     1010.0|2021-01-24 00:12:00|   true|2021-12-24 09:20:...|          Group1|\n",
      "|2009-12-31 19:00:00|       NY|      Ian|       16|     981.46|2021-01-24 00:12:00|   true|2021-12-24 09:20:...|          Group3|\n",
      "|2009-12-31 19:00:00|       CA|      Ian|        6|    1035.54|2021-01-24 00:12:00|   true|2021-12-24 09:20:...|          Group3|\n",
      "|2009-12-31 19:00:00|       TX|   Leslie|       16|     977.74|2021-01-24 00:12:00|   true|2021-12-24 09:20:...|          Group3|\n",
      "|2009-12-31 19:00:00|       TX|   Leslie|       12|     974.79|2021-01-24 00:12:00|   true|2021-12-24 09:20:...|          Group3|\n",
      "|2010-01-01 19:00:00|       NY|   Leslie|        3|    1022.92|2021-01-24 00:12:00|   true|2021-12-24 09:20:...|          Group3|\n",
      "|2010-01-01 19:00:00|       OH|    Aiden|       12|     965.51|2021-01-24 00:12:00|   true|2021-12-24 09:20:...|          Group3|\n",
      "|2010-01-01 19:00:00|       TX|      Ian|        9|     993.69|2021-01-24 00:12:00|   true|2021-12-24 09:20:...|          Group3|\n",
      "|2010-01-01 19:00:00|       OH|      Ian|        2|     982.35|2021-01-24 00:12:00|   true|2021-12-24 09:20:...|          Group3|\n",
      "|2010-01-01 19:00:00|       OH|      Ian|        4|     999.99|2021-01-24 00:12:00|   true|2021-12-24 09:20:...|          Group3|\n",
      "|2010-01-02 19:00:00|       OH|       Jo|        6|    1000.82|2021-01-24 00:12:00|   true|2021-12-24 09:20:...|          Group3|\n",
      "|2010-01-02 19:00:00|       NY|      Ian|        6|     1034.8|2021-01-24 00:12:00|   true|2021-12-24 09:20:...|          Group3|\n",
      "|2010-01-02 19:00:00|       NY|    Maeve|        6|     994.56|2021-01-24 00:12:00|   true|2021-12-24 09:20:...|          Group1|\n",
      "|2010-01-02 19:00:00|       OH|    Maeve|        5|     976.56|2021-01-24 00:12:00|   true|2021-12-24 09:20:...|          Group1|\n",
      "|2010-01-02 19:00:00|       TX|    Aiden|       11|     1018.9|2021-01-24 00:12:00|   true|2021-12-24 09:20:...|          Group3|\n",
      "|2010-01-02 19:00:00|       TX|      Ian|        8|     983.31|2021-01-24 00:12:00|   true|2021-12-24 09:20:...|          Group3|\n",
      "|2010-01-02 19:00:00|       NY|   Leslie|        6|    1013.13|2021-01-24 00:12:00|   true|2021-12-24 09:20:...|          Group3|\n",
      "|2010-01-02 19:00:00|       OH|    Allen|       11|    1031.18|2021-01-24 00:12:00|   true|2021-12-24 09:20:...|          Group3|\n",
      "+-------------------+---------+---------+---------+-----------+-------------------+-------+--------------------+----------------+\n",
      "only showing top 20 rows\n",
      "\n"
     ]
    }
   ],
   "source": [
    "ds.sort('trans_dates').show()"
   ]
  },
  {
   "cell_type": "code",
   "execution_count": 33,
   "metadata": {},
   "outputs": [
    {
     "name": "stdout",
     "output_type": "stream",
     "text": [
      "+-------------------+---------+---------+---------+-----------+-------------------+-------+--------------------+----------------+\n",
      "|        trans_dates|locations|employees|sales_hrs|sales_total|           doc_date|actuals|        current_date|employee_summary|\n",
      "+-------------------+---------+---------+---------+-----------+-------------------+-------+--------------------+----------------+\n",
      "|2020-11-02 19:00:00|       CA|       Jo|       10|    1025.57|2021-01-24 00:12:00|   true|2021-12-24 09:20:...|          Group3|\n",
      "|2010-11-05 20:00:00|       CA|   Leslie|        5|    1037.14|2021-01-24 00:12:00|   true|2021-12-24 09:20:...|          Group3|\n",
      "|2013-06-08 20:00:00|       CA|    Allen|        2|    1013.84|2021-01-24 00:12:00|   true|2021-12-24 09:20:...|          Group3|\n",
      "|2017-08-21 20:00:00|       CA|    Allen|        5|     995.74|2021-01-24 00:12:00|   true|2021-12-24 09:20:...|          Group3|\n",
      "|2016-04-28 20:00:00|       CA|   Harlan|       10|     991.18|2021-01-24 00:12:00|   true|2021-12-24 09:20:...|          Group2|\n",
      "|2010-06-22 20:00:00|       CA|   Leslie|       12|     955.18|2021-01-24 00:12:00|   true|2021-12-24 09:20:...|          Group3|\n",
      "|2011-01-11 19:00:00|       CA|      Ian|        2|    1004.45|2021-01-24 00:12:00|   true|2021-12-24 09:20:...|          Group3|\n",
      "|2016-08-05 20:00:00|       CA|    Aiden|       13|    1001.76|2021-01-24 00:12:00|   true|2021-12-24 09:20:...|          Group3|\n",
      "|2018-10-21 20:00:00|       CA|      Ian|       12|     982.69|2021-01-24 00:12:00|   true|2021-12-24 09:20:...|          Group3|\n",
      "|2011-12-01 19:00:00|       CA|   Leslie|       13|    1043.39|2021-01-24 00:12:00|   true|2021-12-24 09:20:...|          Group3|\n",
      "|2014-01-29 19:00:00|       CA|      Ian|       10|    1009.07|2021-01-24 00:12:00|   true|2021-12-24 09:20:...|          Group3|\n",
      "|2012-03-20 20:00:00|       CA|   Leslie|       15|    1007.53|2021-01-24 00:12:00|   true|2021-12-24 09:20:...|          Group3|\n",
      "|2018-02-15 19:00:00|       CA|    Maeve|       13|     993.61|2021-01-24 00:12:00|   true|2021-12-24 09:20:...|          Group1|\n",
      "|2017-03-06 19:00:00|       CA|      Ian|        8|    1014.09|2021-01-24 00:12:00|   true|2021-12-24 09:20:...|          Group3|\n",
      "|2016-12-03 19:00:00|       CA|    Allen|        7|    1024.85|2021-01-24 00:12:00|   true|2021-12-24 09:20:...|          Group3|\n",
      "|2017-10-01 20:00:00|       CA|   Leslie|        7|    1006.01|2021-01-24 00:12:00|   true|2021-12-24 09:20:...|          Group3|\n",
      "|2016-12-14 19:00:00|       CA|    Aiden|        6|     990.17|2021-01-24 00:12:00|   true|2021-12-24 09:20:...|          Group3|\n",
      "|2020-07-15 20:00:00|       CA|   Leslie|       13|    1042.62|2021-01-24 00:12:00|   true|2021-12-24 09:20:...|          Group3|\n",
      "|2014-02-23 19:00:00|       CA|   Leslie|       12|     970.91|2021-01-24 00:12:00|   true|2021-12-24 09:20:...|          Group3|\n",
      "|2019-05-16 20:00:00|       CA|    Aiden|       15|    1039.12|2021-01-24 00:12:00|   true|2021-12-24 09:20:...|          Group3|\n",
      "+-------------------+---------+---------+---------+-----------+-------------------+-------+--------------------+----------------+\n",
      "only showing top 20 rows\n",
      "\n"
     ]
    }
   ],
   "source": [
    "ds.filter(ds['locations']=='CA').show()"
   ]
  },
  {
   "cell_type": "code",
   "execution_count": 34,
   "metadata": {},
   "outputs": [
    {
     "name": "stdout",
     "output_type": "stream",
     "text": [
      "+----------------+-------------------+\n",
      "|employee_summary|   sum(sales_total)|\n",
      "+----------------+-------------------+\n",
      "|          Group2| 1772455.9299999974|\n",
      "|          Group1| 3465959.7900000056|\n",
      "|          Group3|2.975990571999999E7|\n",
      "+----------------+-------------------+\n",
      "\n"
     ]
    }
   ],
   "source": [
    "ds.groupBy('employee_summary').agg({'sales_total':'sum'}).show()"
   ]
  },
  {
   "cell_type": "code",
   "execution_count": 35,
   "metadata": {},
   "outputs": [
    {
     "name": "stdout",
     "output_type": "stream",
     "text": [
      "+---------+--------------------+-----------------+----------------+----------------+\n",
      "|locations|    sum(sales_total)| avg(sales_total)|max(sales_total)|min(sales_total)|\n",
      "+---------+--------------------+-----------------+----------------+----------------+\n",
      "|       CA|   3506486.089999995| 999.853461648131|         1076.21|          940.41|\n",
      "|       FL|  1766399.1800000002|999.6599773627619|         1081.21|          925.58|\n",
      "|       NY|1.0556957949999992E7|999.9960168608499|         1077.27|           926.6|\n",
      "|       OH|1.2187589740000056E7|999.9663390219935|         1084.59|           905.5|\n",
      "|       TX|   6980888.479999987|999.9840252112859|         1084.31|          931.61|\n",
      "+---------+--------------------+-----------------+----------------+----------------+\n",
      "\n"
     ]
    }
   ],
   "source": [
    "groups = ['locations']\n",
    "aggs = ['sales_total']\n",
    "\n",
    "func = [sum, mean, max, min]\n",
    "\n",
    "expr = [f(col(c)) for f in func for c in aggs]\n",
    "\n",
    "ds.groupBy(*groups).agg(*expr).orderBy('locations').show()"
   ]
  },
  {
   "cell_type": "code",
   "execution_count": 36,
   "metadata": {},
   "outputs": [
    {
     "name": "stdout",
     "output_type": "stream",
     "text": [
      "+---------+-----------------+------------------+------------------+------------------+------------------+------------------+------------------+------------------+\n",
      "|locations|            Aiden|             Allen|            Harlan|               Ian|                Jo|            Kendra|            Leslie|             Maeve|\n",
      "+---------+-----------------+------------------+------------------+------------------+------------------+------------------+------------------+------------------+\n",
      "|       CA|157878.2699999999| 352987.6400000001|179701.07000000004| 1063717.550000001|185838.13000000018| 332761.8600000001| 864463.3499999995|369138.22000000003|\n",
      "|       FL|99035.19000000002| 174583.2999999999| 83769.36000000003| 534227.2599999998| 77997.46000000002|181933.23000000013| 438674.8300000002|176178.55000000005|\n",
      "|       NY|533981.1100000003|1057267.3299999996| 568648.9199999993|3211283.0799999977| 513552.6699999999|1010777.8500000004| 2609025.640000002|1052421.3499999992|\n",
      "|       OH|564429.1100000003|1220881.7900000005| 605716.9000000005|3615143.0000000033| 649952.6299999995|1281242.1699999997|3068193.2700000014|1182030.8700000006|\n",
      "|       TX|328787.2000000003| 746892.5299999991|334619.67999999993|2087546.4100000001|         346605.23| 719798.4099999991|1730448.2199999955| 686190.8000000003|\n",
      "+---------+-----------------+------------------+------------------+------------------+------------------+------------------+------------------+------------------+\n",
      "\n"
     ]
    }
   ],
   "source": [
    "ds.groupBy('locations').pivot('employees').agg(sum('sales_total')).orderBy('locations').show()"
   ]
  },
  {
   "cell_type": "code",
   "execution_count": 37,
   "metadata": {},
   "outputs": [
    {
     "name": "stdout",
     "output_type": "stream",
     "text": [
      "+---------+-----------------+\n",
      "|locations|             true|\n",
      "+---------+-----------------+\n",
      "|       CA|157878.2699999999|\n",
      "|       FL|99035.19000000002|\n",
      "|       NY|533981.1100000003|\n",
      "|       OH|564429.1100000003|\n",
      "|       TX|328787.2000000003|\n",
      "+---------+-----------------+\n",
      "\n"
     ]
    }
   ],
   "source": [
    "ds.filter(ds['employees']=='Aiden').groupBy('locations').pivot('actuals').agg(sum('sales_total')).orderBy('locations').show()"
   ]
  },
  {
   "cell_type": "code",
   "execution_count": 38,
   "metadata": {},
   "outputs": [],
   "source": [
    "sc = spark.sparkContext"
   ]
  },
  {
   "cell_type": "code",
   "execution_count": 39,
   "metadata": {},
   "outputs": [
    {
     "name": "stdout",
     "output_type": "stream",
     "text": [
      "+---------+-----------+---------+\n",
      "|locations|     stname|   region|\n",
      "+---------+-----------+---------+\n",
      "|       AL|    Alabama|    South|\n",
      "|       AK|     Alaska|     West|\n",
      "|       AZ|    Arizona|     West|\n",
      "|       AR|   Arkansas|    South|\n",
      "|       CA| California|     West|\n",
      "|       CO|   Colorado|     West|\n",
      "|       CT|Connecticut|Northeast|\n",
      "|       DE|   Delaware|    South|\n",
      "|       FL|    Florida|    South|\n",
      "|       GA|    Georgia|    South|\n",
      "|       HI|     Hawaii|     West|\n",
      "|       ID|      Idaho|     West|\n",
      "|       IL|   Illinois|  Midwest|\n",
      "|       IN|    Indiana|  Midwest|\n",
      "|       IA|       Iowa|  Midwest|\n",
      "|       KS|     Kansas|  Midwest|\n",
      "|       KY|   Kentucky|    South|\n",
      "|       LA|  Louisiana|    South|\n",
      "|       ME|      Maine|Northeast|\n",
      "|       MD|   Maryland|    South|\n",
      "+---------+-----------+---------+\n",
      "only showing top 20 rows\n",
      "\n"
     ]
    }
   ],
   "source": [
    "\n",
    "locations = (\n",
    "    'AL', 'AK', 'AZ', 'AR', 'CA', 'CO', 'CT', 'DE', 'FL', 'GA', 'HI',\n",
    "    'ID', 'IL', 'IN', 'IA', 'KS', 'KY', 'LA', 'ME', 'MD', 'MA', 'MI',\n",
    "    'MN', 'MS', 'MO', 'MT', 'NE', 'NV', 'NH', 'NJ', 'NM', 'NY', 'NC',\n",
    "    'ND', 'OH', 'OK', 'OR', 'PA', 'RI', 'SC', 'SD', 'TN', 'TX', 'UT',\n",
    "    'VT', 'VA', 'WA', 'WV', 'WI', 'WY', 'PR', 'GU', 'VI', 'AS', 'MP',\n",
    "    'DC'\n",
    ")\n",
    "\n",
    "stname = (\n",
    "    'Alabama', 'Alaska', 'Arizona', 'Arkansas', 'California', 'Colorado', 'Connecticut',\n",
    "    'Delaware', 'Florida', 'Georgia', 'Hawaii', 'Idaho', 'Illinois', 'Indiana', 'Iowa', 'Kansas',\n",
    "    'Kentucky', 'Louisiana',  'Maine', 'Maryland', 'Massachusetts', 'Michigan', 'Minnesota',\n",
    "    'Mississippi', 'Missouri', 'Montana', 'Nebraska', 'Nevada', 'New Hampshire', 'New Jersey',\n",
    "    'New Mexico', 'New York', 'North Carolina', 'North Dakota', 'Ohio', 'Oklahoma', 'Oregon',\n",
    "    'Pennsylvania', 'Rhode Island', 'South Carolina', 'South Dakota', 'Tennessee', 'Texas',\n",
    "    'Utah', 'Vermont', 'Virginia', 'Washington', 'West Virginia', 'Wisconsin', 'Wyoming',\n",
    "    'Puerto Rico', 'Guam', 'U.S. Virgin Islands', 'American Samoa', 'Northern Mariana Islands',\n",
    "    'District of Columbia'\n",
    ")\n",
    "\n",
    "region = (\n",
    "    'South', 'West', 'West', 'South', 'West', 'West', 'Northeast', 'South', 'South', 'South',\n",
    "    'West', 'West', 'Midwest', 'Midwest', 'Midwest', 'Midwest', 'South', 'South', 'Northeast',\n",
    "    'South', 'Northeast', 'Midwest', 'Midwest', 'South', 'Midwest', 'West', 'Midwest', 'West',\n",
    "    'Northeast', 'Northeast', 'West', 'Northeast', 'South', 'Midwest', 'Midwest', 'South',\n",
    "    'West', 'Northeast', 'Northeast', 'South', 'Midwest', 'South', 'South', 'West', 'Northeast',\n",
    "    'South', 'West', 'South', 'Midwest', 'West', 'South', 'South', 'South', 'South', 'South',\n",
    "    'South'\n",
    ")\n",
    "\n",
    "dt = sc.parallelize([Row(locations=col[0], stname=col[1], region=col[2]) for col in list(zip(locations,stname,region))]).toDF()\n",
    "\n",
    "dt.show()"
   ]
  },
  {
   "cell_type": "code",
   "execution_count": 40,
   "metadata": {},
   "outputs": [
    {
     "name": "stdout",
     "output_type": "stream",
     "text": [
      "+---------+-------------------+\n",
      "|locations|             stname|\n",
      "+---------+-------------------+\n",
      "|       AL|            Alabama|\n",
      "|       AR|           Arkansas|\n",
      "|       DE|           Delaware|\n",
      "|       FL|            Florida|\n",
      "|       GA|            Georgia|\n",
      "|       KY|           Kentucky|\n",
      "|       LA|          Louisiana|\n",
      "|       MD|           Maryland|\n",
      "|       MS|        Mississippi|\n",
      "|       NC|     North Carolina|\n",
      "|       OK|           Oklahoma|\n",
      "|       SC|     South Carolina|\n",
      "|       TN|          Tennessee|\n",
      "|       TX|              Texas|\n",
      "|       VA|           Virginia|\n",
      "|       WV|      West Virginia|\n",
      "|       PR|        Puerto Rico|\n",
      "|       GU|               Guam|\n",
      "|       VI|U.S. Virgin Islands|\n",
      "|       AS|     American Samoa|\n",
      "+---------+-------------------+\n",
      "only showing top 20 rows\n",
      "\n"
     ]
    }
   ],
   "source": [
    "dt.where(\"region == 'South'\").select('locations', 'stname').show()"
   ]
  },
  {
   "cell_type": "code",
   "execution_count": 41,
   "metadata": {},
   "outputs": [
    {
     "name": "stdout",
     "output_type": "stream",
     "text": [
      "+---------+-------------------+---------+---------+-----------+-------------------+-------+--------------------+----------------+----------+---------+\n",
      "|locations|        trans_dates|employees|sales_hrs|sales_total|           doc_date|actuals|        current_date|employee_summary|    stname|   region|\n",
      "+---------+-------------------+---------+---------+-----------+-------------------+-------+--------------------+----------------+----------+---------+\n",
      "|       CA|2020-11-02 19:00:00|       Jo|       10|    1025.57|2021-01-24 00:12:00|   true|2021-12-24 09:20:...|          Group3|California|     West|\n",
      "|       CA|2010-11-05 20:00:00|   Leslie|        5|    1037.14|2021-01-24 00:12:00|   true|2021-12-24 09:20:...|          Group3|California|     West|\n",
      "|       OH|2019-12-12 19:00:00|    Aiden|        7|    1039.09|2021-01-24 00:12:00|   true|2021-12-24 09:20:...|          Group3|      Ohio|  Midwest|\n",
      "|       OH|2011-12-31 19:00:00|    Aiden|        2|     973.25|2021-01-24 00:12:00|   true|2021-12-24 09:20:...|          Group3|      Ohio|  Midwest|\n",
      "|       OH|2015-05-12 20:00:00|   Leslie|       14|     980.42|2021-01-24 00:12:00|   true|2021-12-24 09:20:...|          Group3|      Ohio|  Midwest|\n",
      "|       OH|2010-10-10 20:00:00|      Ian|        6|     999.57|2021-01-24 00:12:00|   true|2021-12-24 09:20:...|          Group3|      Ohio|  Midwest|\n",
      "|       OH|2011-10-29 20:00:00|    Aiden|        5|     998.48|2021-01-24 00:12:00|   true|2021-12-24 09:20:...|          Group3|      Ohio|  Midwest|\n",
      "|       OH|2016-01-29 19:00:00|      Ian|       13|    1000.86|2021-01-24 00:12:00|   true|2021-12-24 09:20:...|          Group3|      Ohio|  Midwest|\n",
      "|       NY|2011-11-12 19:00:00|   Leslie|        2|    1014.18|2021-01-24 00:12:00|   true|2021-12-24 09:20:...|          Group3|  New York|Northeast|\n",
      "|       NY|2014-01-19 19:00:00|   Leslie|        6|     995.95|2021-01-24 00:12:00|   true|2021-12-24 09:20:...|          Group3|  New York|Northeast|\n",
      "|       NY|2011-02-22 19:00:00|   Leslie|       14|    1015.83|2021-01-24 00:12:00|   true|2021-12-24 09:20:...|          Group3|  New York|Northeast|\n",
      "|       NY|2014-08-04 20:00:00|      Ian|       13|     977.24|2021-01-24 00:12:00|   true|2021-12-24 09:20:...|          Group3|  New York|Northeast|\n",
      "|       NY|2016-07-06 20:00:00|      Ian|        1|    1012.92|2021-01-24 00:12:00|   true|2021-12-24 09:20:...|          Group3|  New York|Northeast|\n",
      "|       NY|2014-06-08 20:00:00|   Leslie|        4|     974.42|2021-01-24 00:12:00|   true|2021-12-24 09:20:...|          Group3|  New York|Northeast|\n",
      "|       NY|2010-12-01 19:00:00|   Leslie|        2|     962.09|2021-01-24 00:12:00|   true|2021-12-24 09:20:...|          Group3|  New York|Northeast|\n",
      "|       TX|2013-08-09 20:00:00|   Leslie|       13|     999.85|2021-01-24 00:12:00|   true|2021-12-24 09:20:...|          Group3|     Texas|    South|\n",
      "|       TX|2010-07-11 20:00:00|      Ian|        4|     996.57|2021-01-24 00:12:00|   true|2021-12-24 09:20:...|          Group3|     Texas|    South|\n",
      "|       TX|2018-08-10 20:00:00|    Allen|       13|    1009.24|2021-01-24 00:12:00|   true|2021-12-24 09:20:...|          Group3|     Texas|    South|\n",
      "|       TX|2018-08-12 20:00:00|    Maeve|        3|    1001.68|2021-01-24 00:12:00|   true|2021-12-24 09:20:...|          Group1|     Texas|    South|\n",
      "|       TX|2012-11-21 19:00:00|   Kendra|        6|     987.32|2021-01-24 00:12:00|   true|2021-12-24 09:20:...|          Group3|     Texas|    South|\n",
      "+---------+-------------------+---------+---------+-----------+-------------------+-------+--------------------+----------------+----------+---------+\n",
      "only showing top 20 rows\n",
      "\n"
     ]
    }
   ],
   "source": [
    "dj = ds.join(dt, on='locations', how='left')\n",
    "dj.show()"
   ]
  },
  {
   "cell_type": "code",
   "execution_count": null,
   "metadata": {},
   "outputs": [],
   "source": [
    "dj.createOrReplaceTempView(\"sales_data\")"
   ]
  },
  {
   "cell_type": "code",
   "execution_count": null,
   "metadata": {},
   "outputs": [],
   "source": [
    "spark.sql(\"SELECT * FROM sales_data LIMIT 10\").show()"
   ]
  },
  {
   "cell_type": "code",
   "execution_count": null,
   "metadata": {},
   "outputs": [],
   "source": [
    "spark.sql(\"SELECT count(*) AS total_count, round(sum(sales_total)/1000) AS total_sales_k FROM sales_data\").show()"
   ]
  },
  {
   "cell_type": "code",
   "execution_count": null,
   "metadata": {},
   "outputs": [],
   "source": [
    "spark.sql(\"SELECT region, round(sum(sales_total)/1000) AS sales_k FROM sales_data GROUP BY region ORDER BY 2 DESC\").show()"
   ]
  },
  {
   "cell_type": "code",
   "execution_count": null,
   "metadata": {},
   "outputs": [],
   "source": [
    "pdf = spark.sql(\"SELECT region, stname, employees, sales_hrs, sales_total FROM sales_data WHERE region IN ('Midwest', 'West')\").toPandas()\n",
    "pdf.head()"
   ]
  },
  {
   "cell_type": "code",
   "execution_count": null,
   "metadata": {},
   "outputs": [],
   "source": [
    "pdf['region'].value_counts(dropna=False)"
   ]
  }
 ],
 "metadata": {
  "kernelspec": {
   "display_name": "Python 3",
   "language": "python",
   "name": "python3"
  },
  "language_info": {
   "codemirror_mode": {
    "name": "ipython",
    "version": 3
   },
   "file_extension": ".py",
   "mimetype": "text/x-python",
   "name": "python",
   "nbconvert_exporter": "python",
   "pygments_lexer": "ipython3",
   "version": "3.8.3"
  }
 },
 "nbformat": 4,
 "nbformat_minor": 2
}
