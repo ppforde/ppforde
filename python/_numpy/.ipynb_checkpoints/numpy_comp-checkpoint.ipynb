{
 "cells": [
  {
   "cell_type": "code",
   "execution_count": 1,
   "metadata": {},
   "outputs": [
    {
     "name": "stdout",
     "output_type": "stream",
     "text": [
      "Pandas version 1.0.5\n",
      "Numpy version 1.18.5\n"
     ]
    }
   ],
   "source": [
    "import time\n",
    "\n",
    "import pandas as pd\n",
    "import numpy as np\n",
    "import matplotlib.pyplot as plt\n",
    "import seaborn as sns\n",
    "import math as m\n",
    "\n",
    "print('Pandas version', pd.__version__)\n",
    "print('Numpy version', np.__version__)"
   ]
  },
  {
   "cell_type": "code",
   "execution_count": 2,
   "metadata": {},
   "outputs": [],
   "source": [
    "pd.options.display.float_format = '{:,.2f}'.format\n",
    "pd.set_option('display.precision', 2)\n",
    "pd.set_option('max_rows', 250)\n",
    "pd.set_option('max_columns', 250)\n",
    "\n",
    "plt.style.use('seaborn')"
   ]
  },
  {
   "cell_type": "code",
   "execution_count": 3,
   "metadata": {},
   "outputs": [],
   "source": [
    "#import numba\n",
    "#@numba.jit\n",
    "def Auto_Loan(Loans, Rates, Periods):\n",
    "    Rates = Rates / 100 / 12\n",
    "    return (Rates * Loans / (1-m.pow(1 + Rates, -Periods)))"
   ]
  },
  {
   "cell_type": "code",
   "execution_count": 4,
   "metadata": {},
   "outputs": [
    {
     "name": "stdout",
     "output_type": "stream",
     "text": [
      "CPU times: user 7 µs, sys: 1 µs, total: 8 µs\n",
      "Wall time: 16.7 µs\n"
     ]
    },
    {
     "data": {
      "text/plain": [
       "389.83925640372223"
      ]
     },
     "execution_count": 4,
     "metadata": {},
     "output_type": "execute_result"
    }
   ],
   "source": [
    "%time\n",
    "Auto_Loan(25515, 3.19, 72)"
   ]
  },
  {
   "cell_type": "code",
   "execution_count": 5,
   "metadata": {},
   "outputs": [
    {
     "name": "stdout",
     "output_type": "stream",
     "text": [
      "CPU times: user 2 µs, sys: 0 ns, total: 2 µs\n",
      "Wall time: 2.86 µs\n"
     ]
    },
    {
     "name": "stderr",
     "output_type": "stream",
     "text": [
      "<ipython-input-5-017008f22190>:2: DeprecationWarning: numpy.pmt is deprecated and will be removed from NumPy 1.20. Use numpy_financial.pmt instead (https://pypi.org/project/numpy-financial/).\n",
      "  np.pmt(rate=(3.19/100/12), nper=72, pv=-25515)\n"
     ]
    },
    {
     "data": {
      "text/plain": [
       "389.83925640372235"
      ]
     },
     "execution_count": 5,
     "metadata": {},
     "output_type": "execute_result"
    }
   ],
   "source": [
    "%time\n",
    "np.pmt(rate=(3.19/100/12), nper=72, pv=-25515)"
   ]
  },
  {
   "cell_type": "code",
   "execution_count": 6,
   "metadata": {},
   "outputs": [
    {
     "name": "stdout",
     "output_type": "stream",
     "text": [
      "389.83925640372223\n",
      "389.83925640372235\n"
     ]
    },
    {
     "name": "stderr",
     "output_type": "stream",
     "text": [
      "<ipython-input-6-0fe304d64de9>:3: DeprecationWarning: numpy.pmt is deprecated and will be removed from NumPy 1.20. Use numpy_financial.pmt instead (https://pypi.org/project/numpy-financial/).\n",
      "  print(np.pmt(rate=(3.19/100/12), nper=72, pv=-25515))\n"
     ]
    }
   ],
   "source": [
    "print(Auto_Loan(25515, 3.19, 72))\n",
    "\n",
    "print(np.pmt(rate=(3.19/100/12), nper=72, pv=-25515))"
   ]
  },
  {
   "cell_type": "code",
   "execution_count": 7,
   "metadata": {},
   "outputs": [
    {
     "data": {
      "text/plain": [
       "array(['NJ', 'NY', 'PA'], dtype='<U2')"
      ]
     },
     "execution_count": 7,
     "metadata": {},
     "output_type": "execute_result"
    }
   ],
   "source": [
    "states = np.array(['NJ','NY','PA'])\n",
    "states"
   ]
  },
  {
   "cell_type": "code",
   "execution_count": 8,
   "metadata": {},
   "outputs": [
    {
     "data": {
      "text/plain": [
       "array([0.1 , 0.85, 0.05])"
      ]
     },
     "execution_count": 8,
     "metadata": {},
     "output_type": "execute_result"
    }
   ],
   "source": [
    "ratios = np.array([.1, .85, .05])\n",
    "ratios"
   ]
  },
  {
   "cell_type": "code",
   "execution_count": 9,
   "metadata": {},
   "outputs": [
    {
     "data": {
      "text/plain": [
       "numpy.ndarray"
      ]
     },
     "execution_count": 9,
     "metadata": {},
     "output_type": "execute_result"
    }
   ],
   "source": [
    "Cars = np.r_[22000:30001,41000,45000,51000:60001,105000]\n",
    "type(Cars)"
   ]
  },
  {
   "cell_type": "code",
   "execution_count": 10,
   "metadata": {},
   "outputs": [
    {
     "data": {
      "text/plain": [
       "17005"
      ]
     },
     "execution_count": 10,
     "metadata": {},
     "output_type": "execute_result"
    }
   ],
   "source": [
    "Cars.size"
   ]
  },
  {
   "cell_type": "code",
   "execution_count": 11,
   "metadata": {},
   "outputs": [
    {
     "data": {
      "text/plain": [
       "True"
      ]
     },
     "execution_count": 11,
     "metadata": {},
     "output_type": "execute_result"
    }
   ],
   "source": [
    "30000 in Cars"
   ]
  },
  {
   "cell_type": "code",
   "execution_count": 12,
   "metadata": {},
   "outputs": [
    {
     "data": {
      "text/plain": [
       "False"
      ]
     },
     "execution_count": 12,
     "metadata": {},
     "output_type": "execute_result"
    }
   ],
   "source": [
    "30001 in Cars"
   ]
  },
  {
   "cell_type": "code",
   "execution_count": 13,
   "metadata": {},
   "outputs": [
    {
     "data": {
      "text/plain": [
       "array([26534, 29703, 23749, 30781, 36805, 37802, 32911, 32632, 23214,\n",
       "       36854, 28198, 24978, 24102, 22375, 29516])"
      ]
     },
     "execution_count": 13,
     "metadata": {},
     "output_type": "execute_result"
    }
   ],
   "source": [
    "Cars2 = np.random.randint(22000, 40000, 15)\n",
    "Cars2"
   ]
  },
  {
   "cell_type": "code",
   "execution_count": 14,
   "metadata": {},
   "outputs": [
    {
     "data": {
      "text/plain": [
       "array([22375, 23214, 23749, 24102, 24978, 26534, 28198, 29516, 29703])"
      ]
     },
     "execution_count": 14,
     "metadata": {},
     "output_type": "execute_result"
    }
   ],
   "source": [
    "Cars[np.isin(Cars, Cars2)]"
   ]
  },
  {
   "cell_type": "code",
   "execution_count": 15,
   "metadata": {},
   "outputs": [
    {
     "data": {
      "image/png": "[encoded data removed]",
      "text/plain": [
       "<Figure size 576x396 with 1 Axes>"
      ]
     },
     "metadata": {},
     "output_type": "display_data"
    }
   ],
   "source": [
    "sns.lineplot(x=np.arange(0,Cars.size), y=Cars);"
   ]
  },
  {
   "cell_type": "code",
   "execution_count": 16,
   "metadata": {},
   "outputs": [
    {
     "data": {
      "text/plain": [
       "51499.0"
      ]
     },
     "execution_count": 16,
     "metadata": {},
     "output_type": "execute_result"
    }
   ],
   "source": [
    "np.median(Cars)"
   ]
  },
  {
   "cell_type": "code",
   "execution_count": 17,
   "metadata": {},
   "outputs": [
    {
     "data": {
      "text/plain": [
       "14936.27187006859"
      ]
     },
     "execution_count": 17,
     "metadata": {},
     "output_type": "execute_result"
    }
   ],
   "source": [
    "np.std(Cars)"
   ]
  },
  {
   "cell_type": "code",
   "execution_count": 18,
   "metadata": {},
   "outputs": [
    {
     "data": {
      "text/plain": [
       "261"
      ]
     },
     "execution_count": 18,
     "metadata": {},
     "output_type": "execute_result"
    }
   ],
   "source": [
    "np.busday_count('2019-01-01', '2020-01-01')"
   ]
  },
  {
   "cell_type": "code",
   "execution_count": 19,
   "metadata": {},
   "outputs": [
    {
     "data": {
      "text/plain": [
       "261"
      ]
     },
     "execution_count": 19,
     "metadata": {},
     "output_type": "execute_result"
    }
   ],
   "source": [
    "365 - (52*2)"
   ]
  },
  {
   "cell_type": "code",
   "execution_count": 20,
   "metadata": {},
   "outputs": [
    {
     "name": "stdout",
     "output_type": "stream",
     "text": [
      "['2024-01-01', '2025-01-01', '2026-01-01', '2027-01-01', '2028-01-01', '2029-01-01', '2030-01-01']\n",
      "['2024-07-04', '2025-07-04', '2026-07-04', '2027-07-04', '2028-07-04', '2029-07-04', '2030-07-04']\n",
      "['2024-12-25', '2025-12-25', '2026-12-25', '2027-12-25', '2028-12-25', '2029-12-25', '2030-12-25']\n"
     ]
    }
   ],
   "source": [
    "nyd = [str(y) + '-01-01' for y in range(1970, 2031)]\n",
    "july4 = [str(y) + '-07-04' for y in range(1970, 2031)]\n",
    "xmas = [str(y) + '-12-25' for y in range(1970, 2031)]\n",
    "\n",
    "print(nyd[-7:])\n",
    "print(july4[-7:])\n",
    "print(xmas[-7:])"
   ]
  },
  {
   "cell_type": "code",
   "execution_count": 21,
   "metadata": {},
   "outputs": [
    {
     "data": {
      "text/plain": [
       "258"
      ]
     },
     "execution_count": 21,
     "metadata": {},
     "output_type": "execute_result"
    }
   ],
   "source": [
    "np.busday_count('2019-01-01', '2020-01-01', holidays=nyd + july4 + xmas)"
   ]
  },
  {
   "cell_type": "code",
   "execution_count": 22,
   "metadata": {},
   "outputs": [],
   "source": [
    "N = 3000\n",
    "\n",
    "Start_Dates = np.random.choice(np.arange('2019-11-26', '2020-07-01', dtype='datetime64[D]'), replace=True, size=N)\n",
    "States = np.random.choice(states, size=(N), p=ratios)\n",
    "Loans = np.random.normal(loc=np.median(Cars), scale=1000, size=N).astype(int)\n",
    "Rates = np.random.choice(np.linspace(start=4.6, stop=5.2, num=6, dtype=np.float32), replace=True, size=N)\n",
    "Periods = np.random.choice(np.arange(12, 84, 12), replace=True, size=N)\n",
    "End_Dates = Start_Dates + (Periods * 30)\n",
    "Bus_Days = np.busday_count(Start_Dates, End_Dates)\n",
    "Luxury = np.where(Loans >= 50000, True, False)"
   ]
  },
  {
   "cell_type": "code",
   "execution_count": 23,
   "metadata": {},
   "outputs": [
    {
     "name": "stderr",
     "output_type": "stream",
     "text": [
      "<ipython-input-23-c6134f571b32>:3: DeprecationWarning: numpy.pmt is deprecated and will be removed from NumPy 1.20. Use numpy_financial.pmt instead (https://pypi.org/project/numpy-financial/).\n",
      "  Payments = np.pmt(rate=Rates/100/12, nper=Periods, pv=-Loans)\n"
     ]
    }
   ],
   "source": [
    "#start = time.perf_counter_ns()\n",
    "\n",
    "Payments = np.pmt(rate=Rates/100/12, nper=Periods, pv=-Loans)\n",
    "\n",
    "#print(\"Processed in {:,} nanseconds\".format(time.perf_counter_ns()-start))"
   ]
  },
  {
   "cell_type": "code",
   "execution_count": 24,
   "metadata": {},
   "outputs": [],
   "source": [
    "auto_np = np.empty(N, dtype={'names':('states','loans','rates','periods','payments','start_dates','end_dates', 'bus_days', 'luxury'),\n",
    "                             'formats':('U2','f8','f8','i8','f8','datetime64[D]','datetime64[D]', 'i8', 'bool')})"
   ]
  },
  {
   "cell_type": "code",
   "execution_count": 25,
   "metadata": {},
   "outputs": [
    {
     "data": {
      "text/plain": [
       "3000"
      ]
     },
     "execution_count": 25,
     "metadata": {},
     "output_type": "execute_result"
    }
   ],
   "source": [
    "auto_np['states'] = States\n",
    "auto_np['loans'] = Loans\n",
    "auto_np['rates'] = Rates\n",
    "auto_np['periods'] = Periods\n",
    "auto_np['payments'] = Payments\n",
    "auto_np['start_dates'] = Start_Dates\n",
    "auto_np['end_dates'] = End_Dates\n",
    "auto_np['bus_days'] = Bus_Days\n",
    "auto_np['luxury'] = Luxury\n",
    "\n",
    "auto_np.size"
   ]
  },
  {
   "cell_type": "code",
   "execution_count": 26,
   "metadata": {},
   "outputs": [
    {
     "name": "stdout",
     "output_type": "stream",
     "text": [
      "$5,623,149\n"
     ]
    }
   ],
   "source": [
    "print('${:,.0f}'.format(auto_np['payments'].sum()))"
   ]
  },
  {
   "cell_type": "code",
   "execution_count": 27,
   "metadata": {},
   "outputs": [
    {
     "name": "stdout",
     "output_type": "stream",
     "text": [
      "$1,874.38\n"
     ]
    }
   ],
   "source": [
    "print('${:,.2f}'.format(auto_np['payments'].mean()))"
   ]
  },
  {
   "cell_type": "code",
   "execution_count": 28,
   "metadata": {},
   "outputs": [
    {
     "name": "stdout",
     "output_type": "stream",
     "text": [
      "$4,682.13\n"
     ]
    }
   ],
   "source": [
    "print('${:,.2f}'.format(auto_np['payments'].max()))"
   ]
  },
  {
   "cell_type": "code",
   "execution_count": 32,
   "metadata": {},
   "outputs": [
    {
     "data": {
      "text/plain": [
       "('NY', 49927., 4.84000015, 60, 938.52990199, '2020-03-03', '2025-02-05', 1286, False)"
      ]
     },
     "execution_count": 32,
     "metadata": {},
     "output_type": "execute_result"
    }
   ],
   "source": [
    "auto_np[0]"
   ]
  },
  {
   "cell_type": "code",
   "execution_count": 33,
   "metadata": {},
   "outputs": [],
   "source": [
    "np.set_printoptions(precision=2)"
   ]
  },
  {
   "cell_type": "code",
   "execution_count": 34,
   "metadata": {},
   "outputs": [
    {
     "name": "stdout",
     "output_type": "stream",
     "text": [
      "[('NY', 49927., 4.84, 60,  938.53, '2020-03-03', '2025-02-05', 1286, False)\n",
      " ('PA', 50669., 4.96, 24, 2222.01, '2020-03-12', '2022-03-02',  514,  True)\n",
      " ('NY', 53276., 4.84, 72,  854.06, '2020-01-13', '2025-12-12', 1544,  True)\n",
      " ('NY', 51111., 4.84, 72,  819.35, '2020-06-01', '2026-05-01', 1544,  True)\n",
      " ('NJ', 50375., 5.08, 48, 1161.92, '2020-05-15', '2024-04-24', 1028,  True)]\n"
     ]
    }
   ],
   "source": [
    "print(auto_np[0:5])"
   ]
  },
  {
   "cell_type": "code",
   "execution_count": 35,
   "metadata": {},
   "outputs": [
    {
     "name": "stdout",
     "output_type": "stream",
     "text": [
      "[('NY', 51822., 5.08, 24, 2275.35, '2020-04-28', '2022-04-18',  514,  True)\n",
      " ('PA', 51573., 4.96, 60,  972.3 , '2019-12-18', '2024-11-21', 1286,  True)\n",
      " ('NY', 52607., 4.6 , 24, 2298.55, '2020-02-27', '2022-02-16',  514,  True)\n",
      " ('NY', 49503., 5.2 , 60,  938.72, '2020-02-15', '2025-01-19', 1285, False)\n",
      " ('NY', 52130., 4.96, 60,  982.8 , '2020-02-20', '2025-01-24', 1286,  True)]\n"
     ]
    }
   ],
   "source": [
    "print(auto_np[-5:])"
   ]
  },
  {
   "cell_type": "code",
   "execution_count": 36,
   "metadata": {},
   "outputs": [
    {
     "name": "stdout",
     "output_type": "stream",
     "text": [
      "[('NY', 52420., 5.2 , 12, 4492.31, '2020-05-14', '2021-05-09', 257,  True)\n",
      " ('NY', 51165., 4.96, 12, 4379.16, '2020-05-12', '2021-05-07', 258,  True)\n",
      " ('PA', 51271., 5.08, 12, 4391.03, '2020-06-23', '2021-06-18', 258,  True)\n",
      " ('NY', 51944., 4.84, 12, 4442.99, '2019-12-08', '2020-12-02', 257,  True)\n",
      " ('NY', 51447., 4.96, 12, 4403.29, '2020-01-17', '2021-01-11', 256,  True)]\n"
     ]
    }
   ],
   "source": [
    "print(auto_np[auto_np['periods']==12][0:5])"
   ]
  },
  {
   "cell_type": "code",
   "execution_count": 37,
   "metadata": {},
   "outputs": [
    {
     "data": {
      "text/plain": [
       "array([49927., 50669., 53276., ..., 52607., 49503., 52130.])"
      ]
     },
     "execution_count": 37,
     "metadata": {},
     "output_type": "execute_result"
    }
   ],
   "source": [
    "auto_np[auto_np['payments'] > 600]['loans']"
   ]
  },
  {
   "cell_type": "code",
   "execution_count": 38,
   "metadata": {},
   "outputs": [
    {
     "data": {
      "text/plain": [
       "array([48673.])"
      ]
     },
     "execution_count": 38,
     "metadata": {},
     "output_type": "execute_result"
    }
   ],
   "source": [
    "auto_np[auto_np['payments'] == auto_np['payments'].min()]['loans']"
   ]
  },
  {
   "cell_type": "code",
   "execution_count": 39,
   "metadata": {},
   "outputs": [
    {
     "data": {
      "text/plain": [
       "array([], dtype=float64)"
      ]
     },
     "execution_count": 39,
     "metadata": {},
     "output_type": "execute_result"
    }
   ],
   "source": [
    "auto_np[auto_np['loans'] < 0]['loans']"
   ]
  },
  {
   "cell_type": "code",
   "execution_count": 40,
   "metadata": {},
   "outputs": [
    {
     "data": {
      "text/plain": [
       "array(['NJ', 'NY', 'PA'], dtype='<U2')"
      ]
     },
     "execution_count": 40,
     "metadata": {},
     "output_type": "execute_result"
    }
   ],
   "source": [
    "np.unique(auto_np['states'])"
   ]
  },
  {
   "cell_type": "code",
   "execution_count": 41,
   "metadata": {},
   "outputs": [
    {
     "name": "stderr",
     "output_type": "stream",
     "text": [
      "/home/gda/anaconda3/lib/python3.8/site-packages/seaborn/distributions.py:2619: FutureWarning: `distplot` is a deprecated function and will be removed in a future version. Please adapt your code to use either `displot` (a figure-level function with similar flexibility) or `histplot` (an axes-level function for histograms).\n",
      "  warnings.warn(msg, FutureWarning)\n"
     ]
    },
    {
     "data": {
      "image/png": "[encoded data removed]",
      "text/plain": [
       "<Figure size 576x396 with 1 Axes>"
      ]
     },
     "metadata": {},
     "output_type": "display_data"
    }
   ],
   "source": [
    "sns.distplot(auto_np['loans']);"
   ]
  },
  {
   "cell_type": "code",
   "execution_count": 42,
   "metadata": {},
   "outputs": [
    {
     "name": "stderr",
     "output_type": "stream",
     "text": [
      "/home/gda/anaconda3/lib/python3.8/site-packages/seaborn/distributions.py:2619: FutureWarning: `distplot` is a deprecated function and will be removed in a future version. Please adapt your code to use either `displot` (a figure-level function with similar flexibility) or `histplot` (an axes-level function for histograms).\n",
      "  warnings.warn(msg, FutureWarning)\n"
     ]
    },
    {
     "data": {
      "image/png": "[encoded data removed]",
      "text/plain": [
       "<Figure size 576x396 with 1 Axes>"
      ]
     },
     "metadata": {},
     "output_type": "display_data"
    }
   ],
   "source": [
    "sns.distplot(auto_np['payments']);"
   ]
  },
  {
   "cell_type": "code",
   "execution_count": 43,
   "metadata": {},
   "outputs": [
    {
     "data": {
      "image/png": "[encoded data removed]",
      "text/plain": [
       "<Figure size 576x396 with 1 Axes>"
      ]
     },
     "metadata": {},
     "output_type": "display_data"
    }
   ],
   "source": [
    "sns.boxplot(x=auto_np['periods'], y=auto_np['payments']);"
   ]
  },
  {
   "cell_type": "code",
   "execution_count": 44,
   "metadata": {},
   "outputs": [
    {
     "data": {
      "image/png": "[encoded data removed]",
      "text/plain": [
       "<Figure size 576x396 with 1 Axes>"
      ]
     },
     "metadata": {},
     "output_type": "display_data"
    }
   ],
   "source": [
    "sns.countplot(x=auto_np['luxury'], alpha=.8);"
   ]
  },
  {
   "cell_type": "code",
   "execution_count": 45,
   "metadata": {},
   "outputs": [
    {
     "data": {
      "image/png": "[encoded data removed]",
      "text/plain": [
       "<Figure size 576x396 with 1 Axes>"
      ]
     },
     "metadata": {},
     "output_type": "display_data"
    }
   ],
   "source": [
    "sns.barplot(x=auto_np['states'], y=auto_np['payments']);"
   ]
  },
  {
   "cell_type": "code",
   "execution_count": 46,
   "metadata": {},
   "outputs": [
    {
     "data": {
      "text/plain": [
       "array([ 938.53, 2222.01,  854.06,  819.35, 1161.92, 4492.31, 1582.81,\n",
       "        950.13, 2267.65, 4379.16])"
      ]
     },
     "execution_count": 46,
     "metadata": {},
     "output_type": "execute_result"
    }
   ],
   "source": [
    "auto_np['payments'][0:10]"
   ]
  },
  {
   "cell_type": "code",
   "execution_count": 47,
   "metadata": {},
   "outputs": [],
   "source": [
    "#auto_np['payments'].tofile(file='auto_payments.csv', format='%.0f', sep=';')"
   ]
  },
  {
   "cell_type": "code",
   "execution_count": 48,
   "metadata": {},
   "outputs": [],
   "source": [
    "#auto_payments = np.fromfile(file='auto_payments.csv', sep=';')\n",
    "#auto_payments[0:10]"
   ]
  },
  {
   "cell_type": "code",
   "execution_count": 49,
   "metadata": {},
   "outputs": [
    {
     "data": {
      "text/plain": [
       "924"
      ]
     },
     "execution_count": 49,
     "metadata": {},
     "output_type": "execute_result"
    }
   ],
   "source": [
    "price_test = auto_np['loans'] > 50000\n",
    "payment_test = auto_np['payments'] < 1000\n",
    "\n",
    "auto_bool = np.logical_and(price_test, payment_test)\n",
    "\n",
    "auto_np[auto_bool].size"
   ]
  },
  {
   "cell_type": "code",
   "execution_count": 50,
   "metadata": {},
   "outputs": [
    {
     "name": "stdout",
     "output_type": "stream",
     "text": [
      "<class 'pandas.core.frame.DataFrame'>\n",
      "RangeIndex: 924 entries, 0 to 923\n",
      "Data columns (total 9 columns):\n",
      " #   Column       Non-Null Count  Dtype         \n",
      "---  ------       --------------  -----         \n",
      " 0   states       924 non-null    object        \n",
      " 1   loans        924 non-null    float64       \n",
      " 2   rates        924 non-null    float64       \n",
      " 3   periods      924 non-null    int64         \n",
      " 4   payments     924 non-null    float64       \n",
      " 5   start_dates  924 non-null    datetime64[ns]\n",
      " 6   end_dates    924 non-null    datetime64[ns]\n",
      " 7   bus_days     924 non-null    int64         \n",
      " 8   luxury       924 non-null    bool          \n",
      "dtypes: bool(1), datetime64[ns](2), float64(3), int64(2), object(1)\n",
      "memory usage: 58.8+ KB\n"
     ]
    }
   ],
   "source": [
    "df = pd.DataFrame.from_records(auto_np[auto_bool])\n",
    "df.info()"
   ]
  },
  {
   "cell_type": "code",
   "execution_count": null,
   "metadata": {},
   "outputs": [],
   "source": [
    "df.head()"
   ]
  },
  {
   "cell_type": "code",
   "execution_count": null,
   "metadata": {},
   "outputs": [],
   "source": [
    "df.describe()"
   ]
  },
  {
   "cell_type": "code",
   "execution_count": null,
   "metadata": {},
   "outputs": [],
   "source": [
    "df.nsmallest(n=20, columns='payments')"
   ]
  },
  {
   "cell_type": "code",
   "execution_count": null,
   "metadata": {},
   "outputs": [],
   "source": [
    "cars = sns.load_dataset('mpg')\n",
    "cars.head()"
   ]
  },
  {
   "cell_type": "code",
   "execution_count": null,
   "metadata": {},
   "outputs": [],
   "source": [
    "cars.isna().sum()"
   ]
  },
  {
   "cell_type": "code",
   "execution_count": null,
   "metadata": {},
   "outputs": [],
   "source": [
    "cars.corr()"
   ]
  },
  {
   "cell_type": "code",
   "execution_count": null,
   "metadata": {},
   "outputs": [],
   "source": [
    "cars.dropna(subset=['horsepower'], inplace=True)"
   ]
  },
  {
   "cell_type": "code",
   "execution_count": null,
   "metadata": {},
   "outputs": [],
   "source": [
    "X = cars.horsepower.values\n",
    "Y = cars.mpg.values\n",
    "\n",
    "sns.regplot(X, Y );"
   ]
  },
  {
   "cell_type": "code",
   "execution_count": null,
   "metadata": {},
   "outputs": [],
   "source": [
    "# numpy polyfit\n",
    "\n",
    "# Creates a linear regression from the data points\n",
    "m, b = np.polyfit(x=X, y=Y, deg=1)\n",
    "\n",
    "print(\"m={:.02f},  b={:.02f}\".format(m, b))"
   ]
  },
  {
   "cell_type": "code",
   "execution_count": null,
   "metadata": {},
   "outputs": [],
   "source": [
    "# This is a simple y = mx + b line function\n",
    "def f(x):\n",
    "    return m*x + b\n",
    "\n",
    "# This generates the same scatter plot as before, but adds a line plot using the function above\n",
    "sns.scatterplot(x=X, y=Y, alpha=.4)\n",
    "sns.lineplot(X, f(X), color='grey');"
   ]
  },
  {
   "cell_type": "code",
   "execution_count": null,
   "metadata": {},
   "outputs": [],
   "source": [
    "fit = np.polyfit(x=X, y=Y, deg=1)\n",
    "\n",
    "fit"
   ]
  },
  {
   "cell_type": "code",
   "execution_count": null,
   "metadata": {},
   "outputs": [],
   "source": [
    "np.polyval(fit,75)"
   ]
  },
  {
   "cell_type": "code",
   "execution_count": null,
   "metadata": {},
   "outputs": [],
   "source": [
    "xval = 100\n",
    "\n",
    "sns.scatterplot(x=X, y=Y, alpha=.4)\n",
    "sns.scatterplot(x=[xval], y=[np.polyval(fit,xval)], color='r')\n",
    "sns.lineplot(X, f(X), color='grey');"
   ]
  },
  {
   "cell_type": "code",
   "execution_count": null,
   "metadata": {},
   "outputs": [],
   "source": [
    "from ipywidgets import interact\n",
    "\n",
    "@interact(xval=150)\n",
    "def plot(xval):\n",
    "    sns.scatterplot(x=X, y=Y, alpha=.4)\n",
    "    sns.scatterplot(x=[xval], y=[np.polyval(fit,xval)], color='r')\n",
    "    sns.lineplot(X, f(X), color='grey');\n"
   ]
  },
  {
   "cell_type": "code",
   "execution_count": null,
   "metadata": {},
   "outputs": [],
   "source": []
  }
 ],
 "metadata": {
  "kernelspec": {
   "display_name": "Python 3",
   "language": "python",
   "name": "python3"
  },
  "language_info": {
   "codemirror_mode": {
    "name": "ipython",
    "version": 3
   },
   "file_extension": ".py",
   "mimetype": "text/x-python",
   "name": "python",
   "nbconvert_exporter": "python",
   "pygments_lexer": "ipython3",
   "version": "3.8.3"
  }
 },
 "nbformat": 4,
 "nbformat_minor": 4
}
