{
 "cells": [
  {
   "cell_type": "code",
   "execution_count": 60,
   "metadata": {},
   "outputs": [
    {
     "name": "stdout",
     "output_type": "stream",
     "text": [
      "Python info 3.8.3 (default, Jul  2 2020, 16:21:59) \n",
      "[GCC 7.3.0]\n"
     ]
    }
   ],
   "source": [
    "import sys\n",
    "\n",
    "print('Python info', sys.version)"
   ]
  },
  {
   "cell_type": "code",
   "execution_count": 61,
   "metadata": {},
   "outputs": [
    {
     "name": "stdout",
     "output_type": "stream",
     "text": [
      "This is the curent directory /home/gda/Documents/github/ppforde/python/books\n"
     ]
    }
   ],
   "source": [
    "import os\n",
    "\n",
    "print('This is the curent directory', os.getcwd())"
   ]
  },
  {
   "cell_type": "code",
   "execution_count": 62,
   "metadata": {},
   "outputs": [
    {
     "name": "stdout",
     "output_type": "stream",
     "text": [
      "System date/time 2021-12-26 09:45:10.113727\n",
      "Local date/time 2021-12-26 09:45:10.113755-05:00\n"
     ]
    }
   ],
   "source": [
    "import datetime\n",
    "import pytz\n",
    "\n",
    "current_date = datetime.date.today()\n",
    "current_time = datetime.datetime.now()\n",
    "local_time = datetime.datetime.today().astimezone(pytz.timezone(\"America/New_York\"))\n",
    "\n",
    "print(\"System date/time\", current_time)\n",
    "print(\"Local date/time\", local_time)"
   ]
  },
  {
   "cell_type": "code",
   "execution_count": 63,
   "metadata": {},
   "outputs": [
    {
     "name": "stdout",
     "output_type": "stream",
     "text": [
      "Pandas version 1.0.5\n",
      "Numpy version 1.18.5\n",
      "Matplotlib version 3.2.2\n"
     ]
    }
   ],
   "source": [
    "import pandas as pd\n",
    "import numpy as np\n",
    "import matplotlib as mpl\n",
    "import matplotlib.pyplot as plt\n",
    "\n",
    "print('Pandas version', pd.__version__)\n",
    "print('Numpy version', np.__version__)\n",
    "print('Matplotlib version', mpl.__version__)"
   ]
  },
  {
   "cell_type": "code",
   "execution_count": 64,
   "metadata": {},
   "outputs": [],
   "source": [
    "pd.options.display.float_format = '{:,.2f}'.format\n",
    "pd.set_option('display.precision', 2)\n",
    "pd.set_option('max_rows', 250)\n",
    "pd.set_option('max_columns', 250)\n",
    "\n",
    "from pylab import rcParams\n",
    "%matplotlib inline\n",
    "rcParams['figure.figsize'] = 5, 4\n",
    "plt.style.use('seaborn-whitegrid')"
   ]
  },
  {
   "cell_type": "code",
   "execution_count": 65,
   "metadata": {},
   "outputs": [],
   "source": [
    "import re\n",
    "import string\n",
    "from pprint import pprint\n",
    "import collections\n",
    "from collections import Counter"
   ]
  },
  {
   "cell_type": "code",
   "execution_count": 66,
   "metadata": {},
   "outputs": [
    {
     "name": "stdout",
     "output_type": "stream",
     "text": [
      "Requirement already satisfied: nltk in /home/gda/anaconda3/lib/python3.8/site-packages (3.5)\n",
      "Requirement already satisfied: tqdm in /home/gda/anaconda3/lib/python3.8/site-packages (from nltk) (4.47.0)\n",
      "Requirement already satisfied: click in /home/gda/anaconda3/lib/python3.8/site-packages (from nltk) (7.1.2)\n",
      "Requirement already satisfied: joblib in /home/gda/anaconda3/lib/python3.8/site-packages (from nltk) (0.16.0)\n",
      "Requirement already satisfied: regex in /home/gda/anaconda3/lib/python3.8/site-packages (from nltk) (2020.6.8)\n",
      "Note: you may need to restart the kernel to use updated packages.\n"
     ]
    }
   ],
   "source": [
    "%pip install nltk"
   ]
  },
  {
   "cell_type": "code",
   "execution_count": 67,
   "metadata": {},
   "outputs": [
    {
     "name": "stderr",
     "output_type": "stream",
     "text": [
      "[nltk_data] Downloading package punkt to /home/gda/nltk_data...\n",
      "[nltk_data]   Package punkt is already up-to-date!\n"
     ]
    },
    {
     "data": {
      "text/plain": [
       "True"
      ]
     },
     "execution_count": 67,
     "metadata": {},
     "output_type": "execute_result"
    }
   ],
   "source": [
    "import nltk\n",
    "from nltk.corpus import stopwords\n",
    "from nltk import word_tokenize\n",
    "from nltk.util import ngrams\n",
    "\n",
    "nltk.download('punkt')"
   ]
  },
  {
   "cell_type": "code",
   "execution_count": 68,
   "metadata": {},
   "outputs": [
    {
     "name": "stdout",
     "output_type": "stream",
     "text": [
      "Requirement already satisfied: wordcloud in /home/gda/anaconda3/lib/python3.8/site-packages (1.8.1)\n",
      "Requirement already satisfied: numpy>=1.6.1 in /home/gda/anaconda3/lib/python3.8/site-packages (from wordcloud) (1.18.5)\n",
      "Requirement already satisfied: matplotlib in /home/gda/anaconda3/lib/python3.8/site-packages (from wordcloud) (3.2.2)\n",
      "Requirement already satisfied: pillow in /home/gda/anaconda3/lib/python3.8/site-packages (from wordcloud) (7.2.0)\n",
      "Requirement already satisfied: cycler>=0.10 in /home/gda/anaconda3/lib/python3.8/site-packages (from matplotlib->wordcloud) (0.10.0)\n",
      "Requirement already satisfied: kiwisolver>=1.0.1 in /home/gda/anaconda3/lib/python3.8/site-packages (from matplotlib->wordcloud) (1.2.0)\n",
      "Requirement already satisfied: python-dateutil>=2.1 in /home/gda/anaconda3/lib/python3.8/site-packages (from matplotlib->wordcloud) (2.8.1)\n",
      "Requirement already satisfied: pyparsing!=2.0.4,!=2.1.2,!=2.1.6,>=2.0.1 in /home/gda/anaconda3/lib/python3.8/site-packages (from matplotlib->wordcloud) (2.4.7)\n",
      "Requirement already satisfied: six in /home/gda/anaconda3/lib/python3.8/site-packages (from cycler>=0.10->matplotlib->wordcloud) (1.15.0)\n",
      "Note: you may need to restart the kernel to use updated packages.\n"
     ]
    }
   ],
   "source": [
    "%pip install wordcloud"
   ]
  },
  {
   "cell_type": "code",
   "execution_count": 69,
   "metadata": {},
   "outputs": [],
   "source": [
    "from wordcloud import WordCloud"
   ]
  },
  {
   "cell_type": "code",
   "execution_count": 70,
   "metadata": {},
   "outputs": [
    {
     "name": "stdout",
     "output_type": "stream",
     "text": [
      "Requirement already satisfied: wget in /home/gda/anaconda3/lib/python3.8/site-packages (3.2)\n",
      "Note: you may need to restart the kernel to use updated packages.\n"
     ]
    }
   ],
   "source": [
    "%pip install wget"
   ]
  },
  {
   "cell_type": "code",
   "execution_count": 71,
   "metadata": {},
   "outputs": [],
   "source": [
    "import wget"
   ]
  },
  {
   "cell_type": "code",
   "execution_count": 72,
   "metadata": {},
   "outputs": [],
   "source": [
    "URL = 'http://www.gutenberg.org/files/120/120-0.txt'"
   ]
  },
  {
   "cell_type": "code",
   "execution_count": 73,
   "metadata": {},
   "outputs": [
    {
     "name": "stdout",
     "output_type": "stream",
     "text": [
      "http://www.gutenberg.org/files/120/120-0.txt\n"
     ]
    }
   ],
   "source": [
    "print(URL)"
   ]
  },
  {
   "cell_type": "code",
   "execution_count": 74,
   "metadata": {},
   "outputs": [],
   "source": [
    "book = wget.download(URL)"
   ]
  },
  {
   "cell_type": "code",
   "execution_count": 75,
   "metadata": {},
   "outputs": [
    {
     "data": {
      "text/plain": [
       "str"
      ]
     },
     "execution_count": 75,
     "metadata": {},
     "output_type": "execute_result"
    }
   ],
   "source": [
    "with open(book, encoding='utf-8-sig') as f:\n",
    "    data = f.read()\n",
    "\n",
    "type(data)"
   ]
  },
  {
   "cell_type": "code",
   "execution_count": 76,
   "metadata": {},
   "outputs": [
    {
     "name": "stdout",
     "output_type": "stream",
     "text": [
      "('The Project Gutenberg EBook of Treasure Island, by Robert Louis Stevenson\\n'\n",
      " '\\n'\n",
      " 'This eBook is for the use of anyone anywhere in the United States and most\\n'\n",
      " 'other parts of the world at no cost and with almost no restrictions\\n'\n",
      " 'whatsoever.  You may copy it, give it away or re-use it under the terms of\\n'\n",
      " 'the Project Gutenberg License included with this eBook or online at\\n'\n",
      " \"www.gutenberg.org.  If you are not located in the United States, you'll \"\n",
      " 'have\\n'\n",
      " 'to check the laws of the country where you are located before using this '\n",
      " 'ebook.\\n'\n",
      " '\\n'\n",
      " 'Title: Treasure Island\\n'\n",
      " '\\n'\n",
      " 'Author: Robert Louis Stevenson\\n'\n",
      " '\\n'\n",
      " 'Illustrator: Louis Rhead\\n'\n",
      " '\\n'\n",
      " 'Release Date: March 13, 1994 [EBook #120]\\n'\n",
      " '[Most recently updated: October 28, 2020]\\n'\n",
      " '\\n'\n",
      " 'Language: English\\n'\n",
      " '\\n'\n",
      " 'Character set encoding: UTF-8\\n'\n",
      " '\\n'\n",
      " '*** START OF THIS PROJECT GUTENBERG EBOOK TREASURE ISLAND ***\\n'\n",
      " '\\n'\n",
      " '\\n'\n",
      " '\\n'\n",
      " '\\n'\n",
      " 'Produced by Judy Boss, John Hamm, Arthur DiBianca and David Widger\\n'\n",
      " '\\n'\n",
      " '\\n'\n",
      " '\\n'\n",
      " '\\n'\n",
      " 'TREASURE ISLAND\\n'\n",
      " '\\n'\n",
      " 'by Robert Louis Stevenson\\n'\n",
      " '\\n'\n",
      " '\\n'\n",
      " '\\n'\n",
      " '\\n'\n",
      " 'TREASURE ISLAND\\n'\n",
      " '\\n'\n",
      " 'To S.L.O., an American gentleman in accordance with whose class')\n"
     ]
    }
   ],
   "source": [
    "pprint(data[0:1000])"
   ]
  },
  {
   "cell_type": "code",
   "execution_count": 77,
   "metadata": {},
   "outputs": [
    {
     "data": {
      "text/plain": [
       "382356"
      ]
     },
     "execution_count": 77,
     "metadata": {},
     "output_type": "execute_result"
    }
   ],
   "source": [
    "data.rfind('END')"
   ]
  },
  {
   "cell_type": "code",
   "execution_count": 78,
   "metadata": {},
   "outputs": [
    {
     "name": "stdout",
     "output_type": "stream",
     "text": [
      "('t its\\n'\n",
      " 'volunteers and employees are scattered throughout numerous\\n'\n",
      " 'locations. Its business office is located at 809 North 1500 West, Salt\\n'\n",
      " 'Lake City, UT 84116, (801) 596-1887. Email contact links and up to\\n'\n",
      " \"date contact information can be found at the Foundation's web site and\\n\"\n",
      " 'official page at www.gutenberg.org/contact\\n'\n",
      " '\\n'\n",
      " 'For additional contact information:\\n'\n",
      " '\\n'\n",
      " '    Dr. Gregory B. Newby\\n'\n",
      " '    Chief Executive and Director\\n'\n",
      " '    gbnewby@pglaf.org\\n'\n",
      " '\\n'\n",
      " 'Section 4. Information about Donations to the Project Gutenberg\\n'\n",
      " 'Literary Archive Foundation\\n'\n",
      " '\\n'\n",
      " 'Project Gutenberg-tm depends upon and cannot survive without wide\\n'\n",
      " 'spread public support and donations to carry out its mission of\\n'\n",
      " 'increasing the number of public domain and licensed works that can be\\n'\n",
      " 'freely distributed in machine readable form accessible by the widest\\n'\n",
      " 'array of equipment including outdated equipment. Many small donations\\n'\n",
      " '($1 to $5,000) are particularly important to maintaining tax exempt\\n'\n",
      " 'status with the IRS.\\n'\n",
      " '\\n'\n",
      " 'The Foundation is committed to complying with the laws regulating\\n'\n",
      " 'charities and charitable donations in all 50 states of the United\\n'\n",
      " 'States. Compliance requirements are not uniform and it takes a\\n'\n",
      " 'considerable effort, much paperwork and many fees to meet and keep up\\n'\n",
      " 'with these requirements. We do not solicit donations in locations\\n'\n",
      " 'where we have not received written confirmation of compliance. To SEND\\n'\n",
      " 'DONATIONS or determine the status of compliance for any particular\\n'\n",
      " 'state visit www.gutenberg.org/donate\\n'\n",
      " '\\n'\n",
      " 'While we cannot and do not solicit contributions from states where we\\n'\n",
      " 'have not met the solicitation requirements, we know of no prohibition\\n'\n",
      " 'against accepting unsolicited donations from donors in such states who\\n'\n",
      " 'approach us with offers to donate.\\n'\n",
      " '\\n'\n",
      " 'International donations are gratefully accepted, but we cannot make\\n'\n",
      " 'any statements concerning tax treatment of donations received from\\n'\n",
      " 'outside the United States. U.S. laws alone swamp our small staff.\\n'\n",
      " '\\n'\n",
      " 'Please check the Project Gutenberg Web pages for current donation\\n'\n",
      " 'methods and addresses. Donations are accepted in a number of other\\n'\n",
      " 'ways including checks, online payments and credit card donations. To\\n'\n",
      " 'donate, please visit: www.gutenberg.org/donate\\n'\n",
      " '\\n'\n",
      " 'Section 5. General Information About Project Gutenberg-tm electronic works.\\n'\n",
      " '\\n'\n",
      " 'Professor Michael S. Hart was the originator of the Project\\n'\n",
      " 'Gutenberg-tm concept of a library of electronic works that could be\\n'\n",
      " 'freely shared with anyone. For forty years, he produced and\\n'\n",
      " 'distributed Project Gutenberg-tm eBooks with only a loose network of\\n'\n",
      " 'volunteer support.\\n'\n",
      " '\\n'\n",
      " 'Project Gutenberg-tm eBooks are often created from several printed\\n'\n",
      " 'editions, all of which are confirmed as not protected by copyright in\\n'\n",
      " 'the U.S. unless a copyright notice is included. Thus, we do not\\n'\n",
      " 'necessarily keep eBooks in compliance with any particular paper\\n'\n",
      " 'edition.\\n'\n",
      " '\\n'\n",
      " 'Most people start at our Web site which has the main PG search\\n'\n",
      " 'facility: www.gutenberg.org\\n'\n",
      " '\\n'\n",
      " 'This Web site includes information about Project Gutenberg-tm,\\n'\n",
      " 'including how to make donations to the Project Gutenberg Literary\\n'\n",
      " 'Archive Foundation, how to help produce our new eBooks, and how to\\n'\n",
      " 'subscribe to our email newsletter to hear about new eBooks.\\n'\n",
      " '\\n'\n",
      " '\\n')\n"
     ]
    }
   ],
   "source": [
    "pprint(data[381000:])"
   ]
  },
  {
   "cell_type": "code",
   "execution_count": 79,
   "metadata": {},
   "outputs": [],
   "source": [
    "def regex(pattern, string):\n",
    "    patt = re.compile(pattern)\n",
    "    matches = patt.finditer(string)    \n",
    "    return list(matches)"
   ]
  },
  {
   "cell_type": "code",
   "execution_count": 80,
   "metadata": {},
   "outputs": [
    {
     "data": {
      "text/plain": [
       "7891"
      ]
     },
     "execution_count": 80,
     "metadata": {},
     "output_type": "execute_result"
    }
   ],
   "source": [
    "# Number of lines?\n",
    "len(regex(r'\\n', data))"
   ]
  },
  {
   "cell_type": "code",
   "execution_count": 81,
   "metadata": {},
   "outputs": [
    {
     "data": {
      "text/plain": [
       "[]"
      ]
     },
     "execution_count": 81,
     "metadata": {},
     "output_type": "execute_result"
    }
   ],
   "source": [
    "# Phone Numbers?\n",
    "regex(r'\\d{3}[.-]\\d{3}[.-]\\d{4}', data)"
   ]
  },
  {
   "cell_type": "code",
   "execution_count": 82,
   "metadata": {},
   "outputs": [
    {
     "data": {
      "text/plain": [
       "[<re.Match object; span=(381417, 381434), match='gbnewby@pglaf.org'>]"
      ]
     },
     "execution_count": 82,
     "metadata": {},
     "output_type": "execute_result"
    }
   ],
   "source": [
    "# Emails?\n",
    "email = r'[a-zA-Z0-9_.+-]+@[a-zA-Z0-9-]+\\.[a-zA-Z0-9-.]+'\n",
    "regex(email, data)"
   ]
  },
  {
   "cell_type": "code",
   "execution_count": 83,
   "metadata": {},
   "outputs": [
    {
     "data": {
      "text/plain": [
       "[<re.Match object; span=(365458, 365482), match='http://www.gutenberg.org'>]"
      ]
     },
     "execution_count": 83,
     "metadata": {},
     "output_type": "execute_result"
    }
   ],
   "source": [
    "# Websites?\n",
    "regex(r'https?://(www\\.)?(\\w+)(\\.\\w+)', data)"
   ]
  },
  {
   "cell_type": "code",
   "execution_count": 84,
   "metadata": {},
   "outputs": [
    {
     "data": {
      "text/plain": [
       "[<re.Match object; span=(25018, 25030), match='Mrs. Hawkins'>,\n",
       " <re.Match object; span=(26502, 26511), match='Mr. Bones'>,\n",
       " <re.Match object; span=(42109, 42122), match='Mrs. Crossley'>,\n",
       " <re.Match object; span=(46359, 46372), match='Mrs. Crossley'>,\n",
       " <re.Match object; span=(57753, 57762), match='Mr. Dance'>,\n",
       " <re.Match object; span=(58444, 58453), match='Mr. Dance'>,\n",
       " <re.Match object; span=(59511, 59520), match='Mr. Dance'>,\n",
       " <re.Match object; span=(59877, 59886), match='Mr. Dance'>,\n",
       " <re.Match object; span=(60195, 60204), match='Mr. Dance'>,\n",
       " <re.Match object; span=(60456, 60465), match='Mr. Dance'>,\n",
       " <re.Match object; span=(61133, 61142), match='Mr. Dance'>,\n",
       " <re.Match object; span=(61715, 61728), match='Mr.\\nTrelawney'>,\n",
       " <re.Match object; span=(61999, 62008), match='Mr. Dance'>,\n",
       " <re.Match object; span=(62031, 62040), match='Mr. Dance'>,\n",
       " <re.Match object; span=(62289, 62298), match='Mr. Dance'>,\n",
       " <re.Match object; span=(63068, 63077), match='Mr. Dance'>,\n",
       " <re.Match object; span=(65301, 65306), match='Mr. W'>,\n",
       " <re.Match object; span=(79041, 79054), match='Mr. Trelawney'>,\n",
       " <re.Match object; span=(82681, 82691), match='Mr. Silver'>,\n",
       " <re.Match object; span=(83778, 83791), match='Mr. Trelawney'>,\n",
       " <re.Match object; span=(90222, 90231), match='Mr. Arrow'>,\n",
       " <re.Match object; span=(90398, 90411), match='Mr. Trelawney'>,\n",
       " <re.Match object; span=(92269, 92282), match='Mr. Trelawney'>,\n",
       " <re.Match object; span=(93068, 93077), match='Mr. Arrow'>,\n",
       " <re.Match object; span=(94046, 94059), match='Mr. Trelawney'>,\n",
       " <re.Match object; span=(94709, 94722), match='Mr. Trelawney'>,\n",
       " <re.Match object; span=(95033, 95042), match='Mr.\\nArrow'>,\n",
       " <re.Match object; span=(95548, 95557), match='Mr. Arrow'>,\n",
       " <re.Match object; span=(96232, 96245), match='Mr. Trelawney'>,\n",
       " <re.Match object; span=(97046, 97055), match='Mr. Arrow'>,\n",
       " <re.Match object; span=(97406, 97415), match='Mr. Arrow'>,\n",
       " <re.Match object; span=(97538, 97547), match='Mr. Arrow'>,\n",
       " <re.Match object; span=(99302, 99313), match='Mr. Blandly'>,\n",
       " <re.Match object; span=(100952, 100961), match='Mr. Arrow'>,\n",
       " <re.Match object; span=(102433, 102446), match='Mr. Trelawney'>,\n",
       " <re.Match object; span=(119383, 119392), match='Mr. Arrow'>,\n",
       " <re.Match object; span=(125477, 125490), match='Mr.\\nTrelawney'>,\n",
       " <re.Match object; span=(127989, 128002), match='Mr. Trelawney'>,\n",
       " <re.Match object; span=(128093, 128106), match='Mr. Trelawney'>,\n",
       " <re.Match object; span=(128138, 128150), match='Mr. Smollett'>,\n",
       " <re.Match object; span=(128602, 128615), match='Mr.\\nTrelawney'>,\n",
       " <re.Match object; span=(166057, 166066), match='Mr. Hands'>,\n",
       " <re.Match object; span=(169225, 169237), match='Mr. Smollett'>,\n",
       " <re.Match object; span=(173794, 173807), match='Mr. Trelawney'>,\n",
       " <re.Match object; span=(173834, 173847), match='Mr. Trelawney'>,\n",
       " <re.Match object; span=(202985, 202997), match='Mr. Smollett'>,\n",
       " <re.Match object; span=(206921, 206934), match='Mr. Trelawney'>,\n",
       " <re.Match object; span=(208383, 208396), match='Mr. Trelawney'>,\n",
       " <re.Match object; span=(208954, 208967), match='Mr. Trelawney'>,\n",
       " <re.Match object; span=(211291, 211304), match='Mr. Trelawney'>,\n",
       " <re.Match object; span=(216857, 216870), match='Mr. Trelawney'>,\n",
       " <re.Match object; span=(216896, 216908), match='Mr. Smollett'>,\n",
       " <re.Match object; span=(217304, 217317), match='Mr.\\nTrelawney'>,\n",
       " <re.Match object; span=(250547, 250556), match='Mr. Hands'>,\n",
       " <re.Match object; span=(252788, 252797), match='Mr. Hands'>,\n",
       " <re.Match object; span=(253128, 253137), match='Mr. Hands'>,\n",
       " <re.Match object; span=(253629, 253638), match='Mr. Hands'>,\n",
       " <re.Match object; span=(257817, 257826), match='Mr. Hands'>,\n",
       " <re.Match object; span=(259376, 259385), match='Mr. Hands'>,\n",
       " <re.Match object; span=(262557, 262566), match='Mr. Hands'>,\n",
       " <re.Match object; span=(270444, 270453), match='Mr. Hands'>,\n",
       " <re.Match object; span=(284910, 284921), match='Mr. Hawkins'>,\n",
       " <re.Match object; span=(287696, 287707), match='Mr.\\nHawkins'>,\n",
       " <re.Match object; span=(290479, 290489), match='Mr. Silver'>,\n",
       " <re.Match object; span=(323878, 323889), match='Mr. Hawkins'>,\n",
       " <re.Match object; span=(348869, 348879), match='Mr. Silver'>,\n",
       " <re.Match object; span=(363337, 363348), match='Mr. Blandly'>]"
      ]
     },
     "execution_count": 84,
     "metadata": {},
     "output_type": "execute_result"
    }
   ],
   "source": [
    "# Mr/Ms/Mrs?\n",
    "regex(r'(Mr|Ms|Mrs)\\.?\\s[A-Z]\\w*', data)"
   ]
  },
  {
   "cell_type": "code",
   "execution_count": 85,
   "metadata": {},
   "outputs": [
    {
     "data": {
      "text/plain": [
       "[<re.Match object; span=(0, 12), match='The Project '>,\n",
       " <re.Match object; span=(51, 64), match='Robert Louis '>,\n",
       " <re.Match object; span=(127, 141), match='United States '>,\n",
       " <re.Match object; span=(297, 315), match='Project Gutenberg '>,\n",
       " <re.Match object; span=(526, 542), match='Treasure Island\\n'>,\n",
       " <re.Match object; span=(551, 564), match='Robert Louis '>,\n",
       " <re.Match object; span=(588, 600), match='Louis Rhead\\n'>,\n",
       " <re.Match object; span=(856, 869), match='David Widger\\n'>,\n",
       " <re.Match object; span=(893, 906), match='Robert Louis '>,\n",
       " <re.Match object; span=(1846, 1856), match='Or Cooper '>,\n",
       " <re.Match object; span=(2064, 2072), match='The Old '>,\n",
       " <re.Match object; span=(2427, 2435), match='The Sea '>,\n",
       " <re.Match object; span=(2793, 2802), match='My Shore '>,\n",
       " <re.Match object; span=(2999, 3012), match='The Stockade\\n'>,\n",
       " <re.Match object; span=(3543, 3550), match='My Sea '>,\n",
       " <re.Match object; span=(3911, 3926), match='Captain Silver\\n'>,\n",
       " <re.Match object; span=(4391, 4399), match='The Old '>,\n",
       " <re.Match object; span=(4416, 4424), match='The Old '>,\n",
       " <re.Match object; span=(4439, 4454), match='Admiral Benbow\\n'>,\n",
       " <re.Match object; span=(4831, 4846), match='Admiral Benbow '>,\n",
       " <re.Match object; span=(7880, 7895), match='Admiral Benbow\\n'>,\n",
       " <re.Match object; span=(16009, 16019), match='Black Dog '>,\n",
       " <re.Match object; span=(21431, 21441), match='Black\\nDog '>,\n",
       " <re.Match object; span=(21501, 21516), match='Admiral\\nBenbow '>,\n",
       " <re.Match object; span=(22079, 22089), match='Black Dog '>,\n",
       " <re.Match object; span=(22874, 22884), match='Black\\nDog '>,\n",
       " <re.Match object; span=(24770, 24785), match='Doctor Livesey\\n'>,\n",
       " <re.Match object; span=(25408, 25420), match='Billy Bones '>,\n",
       " <re.Match object; span=(25689, 25702), match='Master Billy '>,\n",
       " <re.Match object; span=(26256, 26266), match='Black Dog '>,\n",
       " <re.Match object; span=(27592, 27602), match='The Black '>,\n",
       " <re.Match object; span=(31661, 31671), match='Black Dog '>,\n",
       " <re.Match object; span=(35225, 35236), match='Black Hill '>,\n",
       " <re.Match object; span=(38983, 38993), match='Black\\nDog '>,\n",
       " <re.Match object; span=(39142, 39157), match='Doctor Livesey '>,\n",
       " <re.Match object; span=(41131, 41146), match='Admiral Benbow '>,\n",
       " <re.Match object; span=(43040, 43055), match='Admiral Benbow '>,\n",
       " <re.Match object; span=(45670, 45682), match='West Indian '>,\n",
       " <re.Match object; span=(49900, 49909), match='The Last '>,\n",
       " <re.Match object; span=(49916, 49926), match='Blind Man\\n'>,\n",
       " <re.Match object; span=(56782, 56799), match='Supervisor Dance\\n'>,\n",
       " <re.Match object; span=(62734, 62746), match='Jim Hawkins '>,\n",
       " <re.Match object; span=(63459, 63473), match='The Spaniards '>,\n",
       " <re.Match object; span=(65261, 65273), match='Billy Bones '>,\n",
       " <re.Match object; span=(65338, 65347), match='Off Palm '>,\n",
       " <re.Match object; span=(68413, 68429), match='Skeleton Island '>,\n",
       " <re.Match object; span=(71611, 71623), match='Tom Redruth '>,\n",
       " <re.Match object; span=(71793, 71804), match='Old Anchor '>,\n",
       " <re.Match object; span=(74220, 74230), match='Long John '>,\n",
       " <re.Match object; span=(74826, 74836), match='Long John '>,\n",
       " <re.Match object; span=(75553, 75568), match='John Trelawney\\n'>,\n",
       " <re.Match object; span=(75851, 75861), match='Long John '>,\n",
       " <re.Match object; span=(78500, 78513), match='Royal George '>,\n",
       " <re.Match object; span=(82111, 82121), match='Long John '>,\n",
       " <re.Match object; span=(83616, 83630), match='Admiral Hawke '>,\n",
       " <re.Match object; span=(84135, 84145), match='Long John '>,\n",
       " <re.Match object; span=(84203, 84213), match='Black Dog '>,\n",
       " <re.Match object; span=(86069, 86080), match='Old Bailey '>,\n",
       " <re.Match object; span=(86091, 86102), match='Bow Street '>,\n",
       " <re.Match object; span=(86166, 86176), match='Black Dog '>,\n",
       " <re.Match object; span=(86472, 86482), match='Long John '>,\n",
       " <re.Match object; span=(89023, 89033), match='Long John '>,\n",
       " <re.Match object; span=(89279, 89289), match='Black Dog '>,\n",
       " <re.Match object; span=(89387, 89397), match='Long John '>,\n",
       " <re.Match object; span=(89675, 89687), match='John Silver '>,\n",
       " <re.Match object; span=(96305, 96317), match='Had Livesey '>,\n",
       " <re.Match object; span=(97492, 97504), match='Now Redruth '>,\n",
       " <re.Match object; span=(98060, 98070), match='Long John '>,\n",
       " <re.Match object; span=(99173, 99184), match='The Voyage\\n'>,\n",
       " <re.Match object; span=(99412, 99427), match='Admiral Benbow '>,\n",
       " <re.Match object; span=(100276, 100291), match='Admiral\\nBenbow '>,\n",
       " <re.Match object; span=(102720, 102730), match='Long John '>,\n",
       " <re.Match object; span=(105782, 105791), match='And John '>,\n",
       " <re.Match object; span=(105917, 105934), match='Captain Smollett '>,\n",
       " <re.Match object; span=(109395, 109408), match='Apple Barrel\\n'>,\n",
       " <re.Match object; span=(119793, 119803), match='When Dick '>,\n",
       " <re.Match object; span=(121146, 121163), match='Captain Smollett '>,\n",
       " <re.Match object; span=(121588, 121604), match='Skeleton Island '>,\n",
       " <re.Match object; span=(126219, 126229), match='Long John '>,\n",
       " <re.Match object; span=(126395, 126407), match='Jim Hawkins '>,\n",
       " <re.Match object; span=(129993, 130002), match='My Shore '>,\n",
       " <re.Match object; span=(130020, 130027), match='How My '>,\n",
       " <re.Match object; span=(130027, 130043), match='Shore Adventure '>,\n",
       " <re.Match object; span=(132766, 132776), match='Long John '>,\n",
       " <re.Match object; span=(133236, 133252), match='Skeleton Island '>,\n",
       " <re.Match object; span=(134993, 135003), match='Long\\nJohn '>,\n",
       " <re.Match object; span=(135549, 135559), match='Long John '>,\n",
       " <re.Match object; span=(139479, 139489), match='The First '>,\n",
       " <re.Match object; span=(139540, 139550), match='Long John '>,\n",
       " <re.Match object; span=(143074, 143084), match='Long John '>,\n",
       " <re.Match object; span=(149563, 149571), match='The Man '>,\n",
       " <re.Match object; span=(157909, 157921), match='Billy\\nBones '>,\n",
       " <re.Match object; span=(160934, 160943), match='Ben Gunn '>,\n",
       " <re.Match object; span=(161260, 161271), match='Union Jack '>,\n",
       " <re.Match object; span=(161321, 161334), match='The Stockade\\n'>,\n",
       " <re.Match object; span=(161342, 161362), match='Narrative Continued '>,\n",
       " <re.Match object; span=(161385, 161394), match='Ship Was '>,\n",
       " <re.Match object; span=(161825, 161837), match='Jim\\nHawkins '>,\n",
       " <re.Match object; span=(164551, 164566), match='Royal Highness\\n'>,\n",
       " <re.Match object; span=(164671, 164683), match='Jim Hawkins '>,\n",
       " <re.Match object; span=(169732, 169745), match='Abraham\\nGray '>,\n",
       " <re.Match object; span=(170057, 170077), match='Narrative Continued '>,\n",
       " <re.Match object; span=(170109, 170119), match='Last Trip\\n'>,\n",
       " <re.Match object; span=(173696, 173709), match='Israel Hands\\n'>,\n",
       " <re.Match object; span=(177909, 177929), match='Narrative Continued '>,\n",
       " <re.Match object; span=(179746, 179758), match='Tom Redruth '>,\n",
       " <re.Match object; span=(182557, 182572), match='August Blandly '>,\n",
       " <re.Match object; span=(185306, 185318), match='John Hunter '>,\n",
       " <re.Match object; span=(185998, 186016), match='Narrative Resumed '>,\n",
       " <re.Match object; span=(186032, 186045), match='The Garrison '>,\n",
       " <re.Match object; span=(186073, 186082), match='Ben Gunn '>,\n",
       " <re.Match object; span=(186993, 187002), match='Ben Gunn '>,\n",
       " <re.Match object; span=(187351, 187360), match='Ben Gunn '>,\n",
       " <re.Match object; span=(190539, 190548), match='Ben\\nGunn '>,\n",
       " <re.Match object; span=(192924, 192941), match='Captain Smollett '>,\n",
       " <re.Match object; span=(193789, 193798), match='Ben Gunn '>,\n",
       " <re.Match object; span=(198114, 198124), match='Long John '>,\n",
       " <re.Match object; span=(198744, 198754), match='Long John '>,\n",
       " <re.Match object; span=(198996, 199007), match='But Silver '>,\n",
       " <re.Match object; span=(201834, 201851), match='Captain Smollett '>,\n",
       " <re.Match object; span=(202930, 202937), match='If Abe '>,\n",
       " <re.Match object; span=(204637, 204654), match='Captain Smollett '>,\n",
       " <re.Match object; span=(206531, 206542), match='The Attack\\n'>,\n",
       " <re.Match object; span=(211669, 211681), match='But Captain '>,\n",
       " <re.Match object; span=(217463, 217470), match='My Sea '>,\n",
       " <re.Match object; span=(217488, 217495), match='How My '>,\n",
       " <re.Match object; span=(217495, 217509), match='Sea Adventure '>,\n",
       " <re.Match object; span=(219057, 219072), match='Doctor\\nLivesey '>,\n",
       " <re.Match object; span=(221659, 221668), match='Ben Gunn '>,\n",
       " <re.Match object; span=(224194, 224206), match='Jolly Roger '>,\n",
       " <re.Match object; span=(224763, 224777), match='Captain Flint '>,\n",
       " <re.Match object; span=(226838, 226855), match='Captain Smollett '>,\n",
       " <re.Match object; span=(228816, 228825), match='Even Ben '>,\n",
       " <re.Match object; span=(236988, 236999), match='The Cruise '>,\n",
       " <re.Match object; span=(237263, 237280), match='Haulbowline Head '>,\n",
       " <re.Match object; span=(239002, 239019), match='Haulbowline Head '>,\n",
       " <re.Match object; span=(243470, 243487), match='Captain Smollett '>,\n",
       " <re.Match object; span=(247514, 247526), match='Jolly Roger\\n'>,\n",
       " <re.Match object; span=(248758, 248771), match='Israel Hands '>,\n",
       " <re.Match object; span=(250165, 250178), match='Israel Hands '>,\n",
       " <re.Match object; span=(254306, 254318), match='North Inlet '>,\n",
       " <re.Match object; span=(254927, 254939), match='North Inlet '>,\n",
       " <re.Match object; span=(256538, 256551), match='Israel Hands\\n'>,\n",
       " <re.Match object; span=(260649, 260661), match='North Inlet '>,\n",
       " <re.Match object; span=(263884, 263896), match='North Inlet '>,\n",
       " <re.Match object; span=(267999, 268010), match='Black Hill '>,\n",
       " <re.Match object; span=(269601, 269614), match='Israel Hands\\n'>,\n",
       " <re.Match object; span=(277561, 277578), match='Captain Smollett '>,\n",
       " <re.Match object; span=(283216, 283231), match='Captain Silver\\n'>,\n",
       " <re.Match object; span=(287748, 287763), match='Doctor Livesey '>,\n",
       " <re.Match object; span=(296079, 296089), match='Long John '>,\n",
       " <re.Match object; span=(297567, 297577), match='The Black '>,\n",
       " <re.Match object; span=(297577, 297588), match='Spot Again\\n'>,\n",
       " <re.Match object; span=(300118, 300128), match='Then Dick '>,\n",
       " <re.Match object; span=(302625, 302640), match='Execution Dock '>,\n",
       " <re.Match object; span=(308316, 308329), match='George Merry '>,\n",
       " <re.Match object; span=(308996, 309006), match='On Parole\\n'>,\n",
       " <re.Match object; span=(312034, 312049), match='Doctor Livesey '>,\n",
       " <re.Match object; span=(312124, 312136), match='King George '>,\n",
       " <re.Match object; span=(313403, 313416), match='George Merry '>,\n",
       " <re.Match object; span=(317781, 317798), match='Captain\\nSmollett '>,\n",
       " <re.Match object; span=(322784, 322798), match='Captain Flint '>,\n",
       " <re.Match object; span=(325462, 325476), match='Captain Flint '>,\n",
       " <re.Match object; span=(327280, 327296), match='Skeleton Island '>,\n",
       " <re.Match object; span=(327865, 327879), match='Captain Flint '>,\n",
       " <re.Match object; span=(328074, 328084), match='Long John '>,\n",
       " <re.Match object; span=(331354, 331364), match='Pole Star '>,\n",
       " <re.Match object; span=(333567, 333577), match='The Voice '>,\n",
       " <re.Match object; span=(337377, 337390), match='Still Silver '>,\n",
       " <re.Match object; span=(338784, 338797), match='George Merry '>,\n",
       " <re.Match object; span=(339248, 339257), match='Ben Gunn\\n'>,\n",
       " <re.Match object; span=(340308, 340317), match='But Dick '>,\n",
       " <re.Match object; span=(344299, 344308), match='The Fall '>,\n",
       " <re.Match object; span=(347388, 347398), match='Long John '>,\n",
       " <re.Match object; span=(347607, 347616), match='Ben Gunn '>,\n",
       " <re.Match object; span=(355043, 355052), match='And Last\\n'>,\n",
       " <re.Match object; span=(355582, 355591), match='Ben Gunn '>,\n",
       " <re.Match object; span=(361278, 361294), match='Treasure Island '>,\n",
       " <re.Match object; span=(361910, 361926), match='Mexican Indians '>,\n",
       " <re.Match object; span=(362552, 362561), match='Ben Gunn '>,\n",
       " <re.Match object; span=(363796, 363813), match='Captain Smollett '>,\n",
       " <re.Match object; span=(364449, 364459), match='Of Silver '>,\n",
       " <re.Match object; span=(365099, 365113), match='Captain Flint\\n'>,\n",
       " <re.Match object; span=(365190, 365208), match='Project Gutenberg '>,\n",
       " <re.Match object; span=(365237, 365250), match='Robert Louis '>,\n",
       " <re.Match object; span=(365547, 365560), match='David Widger\\n'>,\n",
       " <re.Match object; span=(365744, 365758), match='United States '>,\n",
       " <re.Match object; span=(365847, 365861), match='United\\nStates '>,\n",
       " <re.Match object; span=(365952, 365966), match='General Terms '>,\n",
       " <re.Match object; span=(366126, 366144), match='Project Gutenberg '>,\n",
       " <re.Match object; span=(366564, 366578), match='United States '>,\n",
       " <re.Match object; span=(367091, 367104), match='Full\\nProject '>,\n",
       " <re.Match object; span=(367202, 367216), match='General Terms '>,\n",
       " <re.Match object; span=(367227, 367250), match='Redistributing Project\\n'>,\n",
       " <re.Match object; span=(368557, 368569), match='The Project '>,\n",
       " <re.Match object; span=(368569, 368588), match='Gutenberg Literary '>,\n",
       " <re.Match object; span=(368588, 368607), match='Archive Foundation '>,\n",
       " <re.Match object; span=(368883, 368897), match='United States '>,\n",
       " <re.Match object; span=(369105, 369123), match='Project Gutenberg '>,\n",
       " <re.Match object; span=(370046, 370061), match='The Foundation '>,\n",
       " <re.Match object; span=(370674, 370688), match='United States '>,\n",
       " <re.Match object; span=(370849, 370867), match='Project Gutenberg '>,\n",
       " <re.Match object; span=(371349, 371363), match='United States '>,\n",
       " <re.Match object; span=(372941, 372955), match='Plain Vanilla '>,\n",
       " <re.Match object; span=(373261, 373275), match='Plain\\nVanilla '>,\n",
       " <re.Match object; span=(374066, 374085), match='Gutenberg Literary '>,\n",
       " <re.Match object; span=(374337, 374356), match='Gutenberg Literary '>,\n",
       " <re.Match object; span=(374356, 374375), match='Archive Foundation '>,\n",
       " <re.Match object; span=(374452, 374470), match='Project Gutenberg\\n'>,\n",
       " <re.Match object; span=(374472, 374489), match='Literary Archive '>,\n",
       " <re.Match object; span=(375470, 375488), match='Project Gutenberg '>,\n",
       " <re.Match object; span=(375488, 375505), match='Literary Archive '>,\n",
       " <re.Match object; span=(375520, 375532), match='The\\nProject '>,\n",
       " <re.Match object; span=(375532, 375552), match='Gutenberg Trademark '>,\n",
       " <re.Match object; span=(375676, 375694), match='Project Gutenberg '>,\n",
       " <re.Match object; span=(376440, 376458), match='Project\\nGutenberg '>,\n",
       " <re.Match object; span=(376458, 376475), match='Literary Archive '>,\n",
       " <re.Match object; span=(380004, 380022), match='Project\\nGutenberg '>,\n",
       " <re.Match object; span=(380022, 380039), match='Literary Archive '>,\n",
       " <re.Match object; span=(380176, 380194), match='Project Gutenberg '>,\n",
       " <re.Match object; span=(380194, 380211), match='Literary\\nArchive '>,\n",
       " <re.Match object; span=(380381, 380399), match='Project Gutenberg '>,\n",
       " <re.Match object; span=(380399, 380416), match='Literary Archive '>,\n",
       " <re.Match object; span=(380428, 380440), match='The Project '>,\n",
       " <re.Match object; span=(380440, 380459), match='Gutenberg Literary '>,\n",
       " <re.Match object; span=(380459, 380478), match='Archive Foundation '>,\n",
       " <re.Match object; span=(380618, 380635), match='Internal\\nRevenue '>,\n",
       " <re.Match object; span=(380738, 380756), match='Project Gutenberg '>,\n",
       " <re.Match object; span=(380756, 380773), match='Literary\\nArchive '>,\n",
       " <re.Match object; span=(381131, 381141), match='Salt\\nLake '>,\n",
       " <re.Match object; span=(381384, 381400), match='Chief Executive '>,\n",
       " <re.Match object; span=(381482, 381500), match='Project Gutenberg\\n'>,\n",
       " <re.Match object; span=(381500, 381517), match='Literary Archive '>,\n",
       " <re.Match object; span=(381958, 381973), match='The Foundation '>,\n",
       " <re.Match object; span=(382931, 382949), match='Project Gutenberg '>,\n",
       " <re.Match object; span=(383175, 383195), match='General Information '>,\n",
       " <re.Match object; span=(383195, 383209), match='About Project '>,\n",
       " <re.Match object; span=(383241, 383259), match='Professor Michael '>,\n",
       " <re.Match object; span=(383885, 383894), match='This Web '>,\n",
       " <re.Match object; span=(383987, 384005), match='Project Gutenberg '>,\n",
       " <re.Match object; span=(384005, 384022), match='Literary\\nArchive '>]"
      ]
     },
     "execution_count": 85,
     "metadata": {},
     "output_type": "execute_result"
    }
   ],
   "source": [
    "# Names?\n",
    "regex(r\"[A-Z][a-z]{1,20}\\s[A-Z][a-z]{1,20}\\s\", data)"
   ]
  },
  {
   "cell_type": "code",
   "execution_count": 86,
   "metadata": {},
   "outputs": [
    {
     "data": {
      "text/plain": [
       "[<re.Match object; span=(130020, 130049), match='How My Shore Adventure Began\\n'>,\n",
       " <re.Match object; span=(217488, 217515), match='How My Sea Adventure Began\\n'>,\n",
       " <re.Match object; span=(368557, 368607), match='The Project Gutenberg Literary Archive Foundation>,\n",
       " <re.Match object; span=(375470, 375516), match='Project Gutenberg Literary Archive Foundation '>,\n",
       " <re.Match object; span=(380004, 380050), match='Project\\nGutenberg Literary Archive Foundation '>,\n",
       " <re.Match object; span=(380176, 380222), match='Project Gutenberg Literary\\nArchive Foundation '>,\n",
       " <re.Match object; span=(380381, 380427), match='Project Gutenberg Literary Archive Foundation\\n'>,\n",
       " <re.Match object; span=(380428, 380478), match='The Project Gutenberg Literary Archive Foundation>,\n",
       " <re.Match object; span=(380738, 380784), match='Project Gutenberg Literary\\nArchive Foundation '>,\n",
       " <re.Match object; span=(381482, 381528), match='Project Gutenberg\\nLiterary Archive Foundation\\n'>]"
      ]
     },
     "execution_count": 86,
     "metadata": {},
     "output_type": "execute_result"
    }
   ],
   "source": [
    "# Titles?\n",
    "regex(r\"([A-Z][a-z]{1,20}\\s){5,}\", data)"
   ]
  },
  {
   "cell_type": "code",
   "execution_count": 87,
   "metadata": {},
   "outputs": [
    {
     "data": {
      "text/plain": [
       "[<re.Match object; span=(63426, 63436), match='Blackbeard'>]"
      ]
     },
     "execution_count": 87,
     "metadata": {},
     "output_type": "execute_result"
    }
   ],
   "source": [
    "# Blackbeard?\n",
    "regex(r'Blackbeard', data)"
   ]
  },
  {
   "cell_type": "code",
   "execution_count": 88,
   "metadata": {},
   "outputs": [
    {
     "name": "stdout",
     "output_type": "stream",
     "text": [
      "('e, and I made\\n'\n",
      " 'a hearty supper, for I was as hungry as a hawk, while Mr. Dance was\\n'\n",
      " 'further complimented and at last dismissed.\\n'\n",
      " '\\n'\n",
      " '“And now, squire,” said the doctor.\\n'\n",
      " '\\n'\n",
      " '“And now, Livesey,” said the squire in the same breath.\\n'\n",
      " '\\n'\n",
      " '“One at a time, one at a time,” laughed Dr. Livesey. “You have heard of\\n'\n",
      " 'this Flint, I suppose?”\\n'\n",
      " '\\n'\n",
      " '“Heard of him!” cried the squire. “Heard of him, you say! He was the\\n'\n",
      " 'bloodthirstiest buccaneer that sailed. Blackbeard was a child to Flint.\\n'\n",
      " 'The Spaniards were so prodigiously afraid of him that, I tell you, sir,\\n'\n",
      " 'I was sometimes proud he was an Englishman. I’ve seen his top-sails with\\n'\n",
      " 'these eyes, off Trinidad, and the cowardly son of a rum-puncheon that I\\n'\n",
      " 'sailed with put back--put back, sir, into Port of Spain.”\\n'\n",
      " '\\n'\n",
      " '“Well, I’ve heard of him myself, in England,” said the doctor. “But the\\n'\n",
      " 'point is, had he money?”\\n'\n",
      " '\\n'\n",
      " '“Money!” cried the squire. “Have you heard the story? What were these\\n'\n",
      " 'villains after but money? What do they care for but money? For what\\n'\n",
      " 'would they risk their rascal ')\n"
     ]
    }
   ],
   "source": [
    "# Scan around \"Blackbeard\"\n",
    "pprint(data[63000:64000])"
   ]
  },
  {
   "cell_type": "code",
   "execution_count": 89,
   "metadata": {},
   "outputs": [
    {
     "data": {
      "text/plain": [
       "[<re.Match object; span=(74220, 74236), match='Long John Silver'>,\n",
       " <re.Match object; span=(75851, 75867), match='Long John Silver'>,\n",
       " <re.Match object; span=(86472, 86488), match='Long John Silver'>,\n",
       " <re.Match object; span=(102720, 102736), match='Long John Silver'>,\n",
       " <re.Match object; span=(143074, 143090), match='Long John Silver'>]"
      ]
     },
     "execution_count": 89,
     "metadata": {},
     "output_type": "execute_result"
    }
   ],
   "source": [
    "# Long John Silver?\n",
    "regex(r'Long John Silver', data)"
   ]
  },
  {
   "cell_type": "code",
   "execution_count": 90,
   "metadata": {},
   "outputs": [
    {
     "name": "stdout",
     "output_type": "stream",
     "text": [
      "Long John Silver, he is\n",
      "     called, and has lost a leg; but that I regarded as\n",
      "     a recommendation, since he lost it in his\n",
      "     country’s service, under the immortal Hawke.\n",
      "--------------------------------------------------------------------------------\n",
      "Long John Silver unearthed a very\n",
      "     competent man for a mate, a man named Arrow.\n",
      "--------------------------------------------------------------------------------\n",
      "But\n",
      "he was too deep, and too ready, and too clever for me, and by the time\n",
      "the two men had come back out of breath and confessed that they had lost\n",
      "the track in a crowd, and been scolded like thieves, I would have gone\n",
      "bail for the innocence of Long John Silver.\n",
      "--------------------------------------------------------------------------------\n",
      "He was a great confidant of Long John Silver, and so the mention of\n",
      "his name leads me on to speak of our ship’s cook, Barbecue, as the men\n",
      "called him.\n",
      "--------------------------------------------------------------------------------\n",
      "Crawling on all fours, I made steadily but slowly towards them, till at\n",
      "last, raising my head to an aperture among the leaves, I could see clear\n",
      "down into a little green dell beside the marsh, and closely set about\n",
      "with trees, where Long John Silver and another of the crew stood face to\n",
      "face in conversation.\n",
      "--------------------------------------------------------------------------------\n"
     ]
    }
   ],
   "source": [
    "# Get sentences with \"Long John Silver\"\n",
    "get_sentence = re.findall(r\"[^.]*Long John Silver[^.]*\\.\", data)\n",
    "\n",
    "for sentence in get_sentence:\n",
    "    print(sentence.strip())\n",
    "    print(\"-\"*80)"
   ]
  },
  {
   "cell_type": "code",
   "execution_count": 91,
   "metadata": {},
   "outputs": [
    {
     "name": "stdout",
     "output_type": "stream",
     "text": [
      "I’ve seen his top-sails with these eyes, off Trinidad, and the cowardly son of a rum-puncheon that I sailed with put back--put back, sir, into Port of Spain”.\n",
      "--------------------------------------------------------------------------------\n",
      "“Well, I’ve heard of him myself, in England,” said the doctor.\n",
      "--------------------------------------------------------------------------------\n",
      "“But the point is, had he money?\n",
      "--------------------------------------------------------------------------------\n",
      "”  “Money!\n",
      "--------------------------------------------------------------------------------\n",
      "” cried the squire.\n",
      "--------------------------------------------------------------------------------\n",
      "“Have you heard the story?\n",
      "--------------------------------------------------------------------------------\n",
      "What were these villains after but money?\n",
      "--------------------------------------------------------------------------------\n",
      "What do they care for but money?\n",
      "--------------------------------------------------------------------------------\n",
      "For what would they risk their rascal carcasses but money?\n",
      "--------------------------------------------------------------------------------\n",
      "”  “That we shall soon know,” replied the doctor.\n",
      "--------------------------------------------------------------------------------\n",
      "“But you are so confoundedly hot-headed and exclamatory that I cannot get a word in.\n",
      "--------------------------------------------------------------------------------\n"
     ]
    }
   ],
   "source": [
    "# https://stackoverflow.com/questions/4576077/python-split-text-on-sentences\n",
    "\n",
    "alphabets= \"([A-Za-z])\"\n",
    "prefixes = \"(Mr|St|Mrs|Ms|Dr)[.]\"\n",
    "suffixes = \"(Inc|Ltd|Jr|Sr|Co)\"\n",
    "starters = \"(Mr|Mrs|Ms|Dr|He\\s|She\\s|It\\s|They\\s|Their\\s|Our\\s|We\\s|But\\s|However\\s|That\\s|This\\s|Wherever)\"\n",
    "acronyms = \"([A-Z][.][A-Z][.](?:[A-Z][.])?)\"\n",
    "websites = \"[.](com|net|org|io|gov)\"\n",
    "\n",
    "def split_into_sentences(text):\n",
    "    #text = \" \" + text + \"  \"\n",
    "    text = text.replace(\"\\n\",\" \")\n",
    "    text = re.sub(prefixes,\"\\\\1<prd>\",text)\n",
    "    text = re.sub(websites,\"<prd>\\\\1\",text)\n",
    "    text = re.sub(\"\\s\" + alphabets + \"[.] \",\" \\\\1<prd> \",text)\n",
    "    text = re.sub(acronyms+\" \"+starters,\"\\\\1<stop> \\\\2\",text)\n",
    "    text = re.sub(alphabets + \"[.]\" + alphabets + \"[.]\" + alphabets + \"[.]\",\"\\\\1<prd>\\\\2<prd>\\\\3<prd>\",text)\n",
    "    text = re.sub(alphabets + \"[.]\" + alphabets + \"[.]\",\"\\\\1<prd>\\\\2<prd>\",text)\n",
    "    text = re.sub(\" \"+suffixes+\"[.] \"+starters,\" \\\\1<stop> \\\\2\",text)\n",
    "    text = re.sub(\" \"+suffixes+\"[.]\",\" \\\\1<prd>\",text)\n",
    "    text = re.sub(\" \" + alphabets + \"[.]\",\" \\\\1<prd>\",text)\n",
    "    if \"”\" in text: text = text.replace(\".”\",\"”.\")\n",
    "    if \"\\\"\" in text: text = text.replace(\".\\\"\",\"\\\".\")\n",
    "    if \"!\" in text: text = text.replace(\"!\\\"\",\"\\\"!\")\n",
    "    if \"?\" in text: text = text.replace(\"?\\\"\",\"\\\"?\")\n",
    "    text = text.replace(\".\",\".<stop>\")\n",
    "    text = text.replace(\"?\",\"?<stop>\")\n",
    "    text = text.replace(\"!\",\"!<stop>\")\n",
    "    text = text.replace(\"<prd>\",\".\")\n",
    "    sentences = text.split(\"<stop>\")\n",
    "    sentences = sentences[:-1]\n",
    "    sentences = [s.strip() for s in sentences]\n",
    "    return sentences\n",
    "\n",
    "sentence_list = split_into_sentences(data)\n",
    "\n",
    "for s in sentence_list[900:911]:\n",
    "    print(s)\n",
    "    print(\"-\"*80)"
   ]
  },
  {
   "cell_type": "code",
   "execution_count": 92,
   "metadata": {},
   "outputs": [
    {
     "data": {
      "text/plain": [
       "list"
      ]
     },
     "execution_count": 92,
     "metadata": {},
     "output_type": "execute_result"
    }
   ],
   "source": [
    "# Split into words\n",
    "word_search = re.findall(pattern='\\w+', string=data)\n",
    "type(word_search)"
   ]
  },
  {
   "cell_type": "code",
   "execution_count": 93,
   "metadata": {},
   "outputs": [
    {
     "data": {
      "text/plain": [
       "[('the', 4599),\n",
       " ('and', 2961),\n",
       " ('i', 1968),\n",
       " ('a', 1814),\n",
       " ('of', 1808),\n",
       " ('to', 1607),\n",
       " ('was', 1138),\n",
       " ('you', 1049),\n",
       " ('in', 1036),\n",
       " ('he', 939),\n",
       " ('that', 935),\n",
       " ('it', 793),\n",
       " ('had', 739),\n",
       " ('with', 666),\n",
       " ('his', 653),\n",
       " ('as', 636),\n",
       " ('my', 623),\n",
       " ('for', 615),\n",
       " ('s', 615),\n",
       " ('on', 527)]"
      ]
     },
     "execution_count": 93,
     "metadata": {},
     "output_type": "execute_result"
    }
   ],
   "source": [
    "words = re.findall(r'\\w+', data.lower())\n",
    "Counter(words).most_common(20)"
   ]
  },
  {
   "cell_type": "code",
   "execution_count": 94,
   "metadata": {},
   "outputs": [
    {
     "data": {
      "text/plain": [
       "[('', 92650),\n",
       " ('the', 4599),\n",
       " ('and', 2961),\n",
       " ('i', 1968),\n",
       " ('a', 1814),\n",
       " ('of', 1808),\n",
       " ('to', 1607),\n",
       " ('was', 1138),\n",
       " ('you', 1049),\n",
       " ('in', 1036),\n",
       " ('he', 939),\n",
       " ('that', 935),\n",
       " ('it', 793),\n",
       " ('had', 739),\n",
       " ('with', 666),\n",
       " ('his', 653),\n",
       " ('as', 636),\n",
       " ('my', 623),\n",
       " ('for', 615),\n",
       " ('s', 615)]"
      ]
     },
     "execution_count": 94,
     "metadata": {},
     "output_type": "execute_result"
    }
   ],
   "source": [
    "words = re.findall(r'[a-z]*', data.lower())\n",
    "Counter(words).most_common(20)"
   ]
  },
  {
   "cell_type": "code",
   "execution_count": 95,
   "metadata": {},
   "outputs": [
    {
     "data": {
      "text/plain": [
       "[('e', 35195),\n",
       " ('t', 26470),\n",
       " ('a', 24712),\n",
       " ('o', 23038),\n",
       " ('n', 20193),\n",
       " ('i', 18887),\n",
       " ('h', 18593),\n",
       " ('s', 17670),\n",
       " ('r', 16425),\n",
       " ('d', 14210)]"
      ]
     },
     "execution_count": 95,
     "metadata": {},
     "output_type": "execute_result"
    }
   ],
   "source": [
    "letters = re.findall('[a-zA-Z]', data.lower())\n",
    "Counter(letters).most_common(10)"
   ]
  },
  {
   "cell_type": "code",
   "execution_count": 96,
   "metadata": {},
   "outputs": [
    {
     "data": {
      "text/plain": [
       "[('1', 50),\n",
       " ('3', 12),\n",
       " ('8', 7),\n",
       " ('2', 7),\n",
       " ('4', 7),\n",
       " ('17', 6),\n",
       " ('5', 6),\n",
       " ('120', 5),\n",
       " ('7', 5),\n",
       " ('9', 5)]"
      ]
     },
     "execution_count": 96,
     "metadata": {},
     "output_type": "execute_result"
    }
   ],
   "source": [
    "numbers = re.findall(r'\\d+', data)\n",
    "Counter(numbers).most_common(10)"
   ]
  },
  {
   "cell_type": "code",
   "execution_count": 97,
   "metadata": {},
   "outputs": [],
   "source": [
    "def draw_wordcloud(dict):\n",
    "    wordcloud = WordCloud(\n",
    "        max_words=50,\n",
    "        background_color='white',\n",
    "        colormap='Dark2',\n",
    "        height=600,\n",
    "        width=600).generate_from_frequencies(dict)\n",
    "    \n",
    "    plt.imshow(wordcloud, interpolation=\"bilinear\")\n",
    "    plt.axis(\"off\")        \n",
    "    plt.show()"
   ]
  },
  {
   "cell_type": "code",
   "execution_count": 98,
   "metadata": {},
   "outputs": [
    {
     "data": {
      "text/plain": [
       "Counter({'sea': 199,\n",
       "         'sand': 63,\n",
       "         'mountain': 5,\n",
       "         'hills': 8,\n",
       "         'ocean': 2,\n",
       "         'river': 7,\n",
       "         'forest': 1,\n",
       "         'lake': 1})"
      ]
     },
     "execution_count": 98,
     "metadata": {},
     "output_type": "execute_result"
    }
   ],
   "source": [
    "features = re.findall('(mountain|lake|forest|river|ocean|crater|hills|sea|ocean|jungle|sand)',data.lower())\n",
    "Counter(features)"
   ]
  },
  {
   "cell_type": "code",
   "execution_count": 99,
   "metadata": {},
   "outputs": [
    {
     "data": {
      "image/png": "[encoded data removed]",
      "text/plain": [
       "<Figure size 360x288 with 1 Axes>"
      ]
     },
     "metadata": {},
     "output_type": "display_data"
    }
   ],
   "source": [
    "draw_wordcloud(Counter(features))"
   ]
  },
  {
   "cell_type": "code",
   "execution_count": 100,
   "metadata": {},
   "outputs": [
    {
     "data": {
      "text/plain": [
       "Counter({'America': 2, 'England': 13, 'Spain': 1})"
      ]
     },
     "execution_count": 100,
     "metadata": {},
     "output_type": "execute_result"
    }
   ],
   "source": [
    "features = re.findall('(Spain|England|France|America|Portugal)',data)\n",
    "Counter(features)"
   ]
  },
  {
   "cell_type": "code",
   "execution_count": 101,
   "metadata": {},
   "outputs": [
    {
     "data": {
      "image/png": "[encoded data removed]",
      "text/plain": [
       "<Figure size 360x288 with 1 Axes>"
      ]
     },
     "metadata": {},
     "output_type": "display_data"
    }
   ],
   "source": [
    "draw_wordcloud(Counter(features))"
   ]
  },
  {
   "cell_type": "code",
   "execution_count": 102,
   "metadata": {},
   "outputs": [
    {
     "data": {
      "text/plain": [
       "list"
      ]
     },
     "execution_count": 102,
     "metadata": {},
     "output_type": "execute_result"
    }
   ],
   "source": [
    "with open(book, 'r', encoding='utf-8', newline='\\r\\n') as f:\n",
    "    datalines = [line.strip() for line in f.readlines()]\n",
    "\n",
    "type(datalines)"
   ]
  },
  {
   "cell_type": "code",
   "execution_count": 103,
   "metadata": {},
   "outputs": [
    {
     "data": {
      "text/plain": [
       "['\\ufeffThe Project Gutenberg EBook of Treasure Island, by Robert Louis Stevenson',\n",
       " '',\n",
       " 'This eBook is for the use of anyone anywhere in the United States and most',\n",
       " 'other parts of the world at no cost and with almost no restrictions',\n",
       " 'whatsoever.  You may copy it, give it away or re-use it under the terms of',\n",
       " 'the Project Gutenberg License included with this eBook or online at',\n",
       " \"www.gutenberg.org.  If you are not located in the United States, you'll have\",\n",
       " 'to check the laws of the country where you are located before using this ebook.',\n",
       " '',\n",
       " 'Title: Treasure Island',\n",
       " '',\n",
       " 'Author: Robert Louis Stevenson',\n",
       " '',\n",
       " 'Illustrator: Louis Rhead',\n",
       " '',\n",
       " 'Release Date: March 13, 1994 [EBook #120]',\n",
       " '[Most recently updated: October 28, 2020]',\n",
       " '',\n",
       " 'Language: English',\n",
       " '',\n",
       " 'Character set encoding: UTF-8',\n",
       " '',\n",
       " '*** START OF THIS PROJECT GUTENBERG EBOOK TREASURE ISLAND ***',\n",
       " '',\n",
       " '',\n",
       " '',\n",
       " '',\n",
       " 'Produced by Judy Boss, John Hamm, Arthur DiBianca and David Widger',\n",
       " '',\n",
       " '',\n",
       " '',\n",
       " '',\n",
       " 'TREASURE ISLAND',\n",
       " '',\n",
       " 'by Robert Louis Stevenson',\n",
       " '',\n",
       " '',\n",
       " '',\n",
       " '',\n",
       " 'TREASURE ISLAND',\n",
       " '',\n",
       " 'To S.L.O., an American gentleman in accordance with whose classic taste',\n",
       " 'the following narrative has been designed, it is now, in return for',\n",
       " 'numerous delightful hours, and with the kindest wishes, dedicated by his',\n",
       " 'affectionate friend, the author.',\n",
       " '',\n",
       " '',\n",
       " '',\n",
       " 'TO THE HESITATING PURCHASER',\n",
       " '']"
      ]
     },
     "execution_count": 103,
     "metadata": {},
     "output_type": "execute_result"
    }
   ],
   "source": [
    "datalines[0:50]"
   ]
  },
  {
   "cell_type": "code",
   "execution_count": 104,
   "metadata": {},
   "outputs": [
    {
     "name": "stdout",
     "output_type": "stream",
     "text": [
      "1314 >>> bloodthirstiest buccaneer that sailed. Blackbeard was a child to Flint.\n"
     ]
    }
   ],
   "source": [
    "for i, x in enumerate(datalines):\n",
    "    if 'blackbeard' in x.lower():\n",
    "        print(i, '>>>', x)"
   ]
  },
  {
   "cell_type": "code",
   "execution_count": 105,
   "metadata": {},
   "outputs": [
    {
     "name": "stderr",
     "output_type": "stream",
     "text": [
      "[nltk_data] Downloading package stopwords to /home/gda/nltk_data...\n",
      "[nltk_data]   Package stopwords is already up-to-date!\n"
     ]
    },
    {
     "data": {
      "text/plain": [
       "bool"
      ]
     },
     "execution_count": 105,
     "metadata": {},
     "output_type": "execute_result"
    }
   ],
   "source": [
    "stopwords = nltk.download('stopwords')\n",
    "type(stopwords)"
   ]
  },
  {
   "cell_type": "code",
   "execution_count": 106,
   "metadata": {},
   "outputs": [
    {
     "data": {
      "text/plain": [
       "list"
      ]
     },
     "execution_count": 106,
     "metadata": {},
     "output_type": "execute_result"
    }
   ],
   "source": [
    "stopwords = nltk.corpus.stopwords.words('english')\n",
    "type(stopwords)"
   ]
  },
  {
   "cell_type": "code",
   "execution_count": 107,
   "metadata": {},
   "outputs": [
    {
     "data": {
      "text/plain": [
       "nltk.stem.porter.PorterStemmer"
      ]
     },
     "execution_count": 107,
     "metadata": {},
     "output_type": "execute_result"
    }
   ],
   "source": [
    "ps = nltk.PorterStemmer()\n",
    "type(ps)"
   ]
  },
  {
   "cell_type": "code",
   "execution_count": 108,
   "metadata": {},
   "outputs": [
    {
     "data": {
      "text/plain": [
       "'sure'"
      ]
     },
     "execution_count": 108,
     "metadata": {},
     "output_type": "execute_result"
    }
   ],
   "source": [
    "ps.stem('Surely')"
   ]
  },
  {
   "cell_type": "code",
   "execution_count": 109,
   "metadata": {},
   "outputs": [
    {
     "data": {
      "text/plain": [
       "['i',\n",
       " 'me',\n",
       " 'my',\n",
       " 'myself',\n",
       " 'we',\n",
       " 'our',\n",
       " 'ours',\n",
       " 'ourselves',\n",
       " 'you',\n",
       " \"you're\",\n",
       " \"you've\",\n",
       " \"you'll\",\n",
       " \"you'd\",\n",
       " 'your',\n",
       " 'yours',\n",
       " 'yourself',\n",
       " 'yourselves',\n",
       " 'he',\n",
       " 'him',\n",
       " 'his']"
      ]
     },
     "execution_count": 109,
     "metadata": {},
     "output_type": "execute_result"
    }
   ],
   "source": [
    "stopwords[0:20]"
   ]
  },
  {
   "cell_type": "code",
   "execution_count": 110,
   "metadata": {},
   "outputs": [
    {
     "data": {
      "text/plain": [
       "'!\"#$%&\\'()*+,-./:;<=>?@[\\\\]^_`{|}~'"
      ]
     },
     "execution_count": 110,
     "metadata": {},
     "output_type": "execute_result"
    }
   ],
   "source": [
    "string.punctuation"
   ]
  },
  {
   "cell_type": "code",
   "execution_count": 111,
   "metadata": {},
   "outputs": [
    {
     "data": {
      "text/plain": [
       "'0123456789abcdefghijklmnopqrstuvwxyzABCDEFGHIJKLMNOPQRSTUVWXYZ!\"#$%&\\'()*+,-./:;<=>?@[\\\\]^_`{|}~ \\t\\n\\r\\x0b\\x0c'"
      ]
     },
     "execution_count": 111,
     "metadata": {},
     "output_type": "execute_result"
    }
   ],
   "source": [
    "string.printable"
   ]
  },
  {
   "cell_type": "code",
   "execution_count": 112,
   "metadata": {},
   "outputs": [],
   "source": [
    "def clean_text(text):\n",
    "    text = \"\".join([word.lower() for word in text if word not in string.punctuation])\n",
    "    text = \"\".join([word.lower() for word in text if word in string.printable])\n",
    "    tokens = re.split('\\W+', text)\n",
    "    text = [word for word in tokens if word not in stopwords]\n",
    "    text = [ps.stem(word) for word in tokens if word not in stopwords]\n",
    "    return text"
   ]
  },
  {
   "cell_type": "code",
   "execution_count": 113,
   "metadata": {},
   "outputs": [
    {
     "data": {
      "text/plain": [
       "['project',\n",
       " 'gutenberg',\n",
       " 'ebook',\n",
       " 'treasur',\n",
       " 'island',\n",
       " 'robert',\n",
       " 'loui',\n",
       " 'stevenson',\n",
       " 'ebook',\n",
       " 'use',\n",
       " 'anyon',\n",
       " 'anywher',\n",
       " 'unit',\n",
       " 'state',\n",
       " 'part',\n",
       " 'world',\n",
       " 'cost',\n",
       " 'almost',\n",
       " 'restrict',\n",
       " 'whatsoev']"
      ]
     },
     "execution_count": 113,
     "metadata": {},
     "output_type": "execute_result"
    }
   ],
   "source": [
    "clean_book = clean_text(data)\n",
    "clean_book[0:20]"
   ]
  },
  {
   "cell_type": "code",
   "execution_count": 114,
   "metadata": {},
   "outputs": [
    {
     "data": {
      "text/plain": [
       "[('said', 322),\n",
       " ('one', 271),\n",
       " ('man', 259),\n",
       " ('captain', 234),\n",
       " ('like', 226),\n",
       " ('hand', 224),\n",
       " ('silver', 220),\n",
       " ('well', 186),\n",
       " ('say', 178),\n",
       " ('doctor', 176),\n",
       " ('could', 174),\n",
       " ('us', 171),\n",
       " ('would', 169),\n",
       " ('upon', 153),\n",
       " ('see', 151),\n",
       " ('time', 138),\n",
       " ('cri', 136),\n",
       " ('ship', 132),\n",
       " ('look', 131),\n",
       " ('come', 127)]"
      ]
     },
     "execution_count": 114,
     "metadata": {},
     "output_type": "execute_result"
    }
   ],
   "source": [
    "words = re.findall(r'\\w+', \" \".join(clean_book))\n",
    "Counter(words).most_common(20)"
   ]
  },
  {
   "cell_type": "code",
   "execution_count": 115,
   "metadata": {},
   "outputs": [
    {
     "data": {
      "image/png": "[encoded data removed]",
      "text/plain": [
       "<Figure size 360x288 with 1 Axes>"
      ]
     },
     "metadata": {},
     "output_type": "display_data"
    }
   ],
   "source": [
    "wc = dict(Counter(words).most_common(20))\n",
    "\n",
    "draw_wordcloud(wc)"
   ]
  },
  {
   "cell_type": "code",
   "execution_count": 116,
   "metadata": {},
   "outputs": [
    {
     "data": {
      "text/plain": [
       "Counter({'island': 88,\n",
       "         'gold': 12,\n",
       "         'captain': 234,\n",
       "         'sea': 77,\n",
       "         'ship': 132,\n",
       "         'rum': 55,\n",
       "         'matey': 4,\n",
       "         'plank': 5,\n",
       "         'ale': 3,\n",
       "         'blackbeard': 1,\n",
       "         'port': 11,\n",
       "         'slave': 2,\n",
       "         'cannon': 3})"
      ]
     },
     "execution_count": 116,
     "metadata": {},
     "output_type": "execute_result"
    }
   ],
   "source": [
    "mywords = ['treasure', 'island', 'ship', 'ships', 'rum', 'pirates',\n",
    "           'matey', 'captain', 'cannon', 'wenches', 'sailors',\n",
    "           'gold', 'booty', 'yarr', 'poopdeck', 'port',\n",
    "           'plank', 'sea', 'blackbeard', 'ale', 'slave']\n",
    "\n",
    "special_words = [word for word in words if word in mywords]\n",
    "Counter(special_words)"
   ]
  },
  {
   "cell_type": "code",
   "execution_count": 117,
   "metadata": {},
   "outputs": [
    {
     "data": {
      "image/png": "[encoded data removed]",
      "text/plain": [
       "<Figure size 360x288 with 1 Axes>"
      ]
     },
     "metadata": {},
     "output_type": "display_data"
    }
   ],
   "source": [
    "wc = Counter(special_words)\n",
    "\n",
    "draw_wordcloud(wc)"
   ]
  },
  {
   "cell_type": "code",
   "execution_count": 129,
   "metadata": {},
   "outputs": [
    {
     "data": {
      "image/png": "[encoded data removed]",
      "text/plain": [
       "<Figure size 720x288 with 1 Axes>"
      ]
     },
     "metadata": {},
     "output_type": "display_data"
    }
   ],
   "source": [
    "plt.figure(figsize=(10,4))\n",
    "plt.bar(height=wc.values(), x=wc.keys())\n",
    "plt.grid(False)\n",
    "plt.show();"
   ]
  },
  {
   "cell_type": "code",
   "execution_count": 118,
   "metadata": {},
   "outputs": [
    {
     "name": "stdout",
     "output_type": "stream",
     "text": [
      "\u001b[0;31mSignature:\u001b[0m\n",
      "\u001b[0mplt\u001b[0m\u001b[0;34m.\u001b[0m\u001b[0mimshow\u001b[0m\u001b[0;34m(\u001b[0m\u001b[0;34m\u001b[0m\n",
      "\u001b[0;34m\u001b[0m    \u001b[0mX\u001b[0m\u001b[0;34m,\u001b[0m\u001b[0;34m\u001b[0m\n",
      "\u001b[0;34m\u001b[0m    \u001b[0mcmap\u001b[0m\u001b[0;34m=\u001b[0m\u001b[0;32mNone\u001b[0m\u001b[0;34m,\u001b[0m\u001b[0;34m\u001b[0m\n",
      "\u001b[0;34m\u001b[0m    \u001b[0mnorm\u001b[0m\u001b[0;34m=\u001b[0m\u001b[0;32mNone\u001b[0m\u001b[0;34m,\u001b[0m\u001b[0;34m\u001b[0m\n",
      "\u001b[0;34m\u001b[0m    \u001b[0maspect\u001b[0m\u001b[0;34m=\u001b[0m\u001b[0;32mNone\u001b[0m\u001b[0;34m,\u001b[0m\u001b[0;34m\u001b[0m\n",
      "\u001b[0;34m\u001b[0m    \u001b[0minterpolation\u001b[0m\u001b[0;34m=\u001b[0m\u001b[0;32mNone\u001b[0m\u001b[0;34m,\u001b[0m\u001b[0;34m\u001b[0m\n",
      "\u001b[0;34m\u001b[0m    \u001b[0malpha\u001b[0m\u001b[0;34m=\u001b[0m\u001b[0;32mNone\u001b[0m\u001b[0;34m,\u001b[0m\u001b[0;34m\u001b[0m\n",
      "\u001b[0;34m\u001b[0m    \u001b[0mvmin\u001b[0m\u001b[0;34m=\u001b[0m\u001b[0;32mNone\u001b[0m\u001b[0;34m,\u001b[0m\u001b[0;34m\u001b[0m\n",
      "\u001b[0;34m\u001b[0m    \u001b[0mvmax\u001b[0m\u001b[0;34m=\u001b[0m\u001b[0;32mNone\u001b[0m\u001b[0;34m,\u001b[0m\u001b[0;34m\u001b[0m\n",
      "\u001b[0;34m\u001b[0m    \u001b[0morigin\u001b[0m\u001b[0;34m=\u001b[0m\u001b[0;32mNone\u001b[0m\u001b[0;34m,\u001b[0m\u001b[0;34m\u001b[0m\n",
      "\u001b[0;34m\u001b[0m    \u001b[0mextent\u001b[0m\u001b[0;34m=\u001b[0m\u001b[0;32mNone\u001b[0m\u001b[0;34m,\u001b[0m\u001b[0;34m\u001b[0m\n",
      "\u001b[0;34m\u001b[0m    \u001b[0mshape\u001b[0m\u001b[0;34m=\u001b[0m\u001b[0;34m<\u001b[0m\u001b[0mdeprecated\u001b[0m \u001b[0mparameter\u001b[0m\u001b[0;34m>\u001b[0m\u001b[0;34m,\u001b[0m\u001b[0;34m\u001b[0m\n",
      "\u001b[0;34m\u001b[0m    \u001b[0mfilternorm\u001b[0m\u001b[0;34m=\u001b[0m\u001b[0;36m1\u001b[0m\u001b[0;34m,\u001b[0m\u001b[0;34m\u001b[0m\n",
      "\u001b[0;34m\u001b[0m    \u001b[0mfilterrad\u001b[0m\u001b[0;34m=\u001b[0m\u001b[0;36m4.0\u001b[0m\u001b[0;34m,\u001b[0m\u001b[0;34m\u001b[0m\n",
      "\u001b[0;34m\u001b[0m    \u001b[0mimlim\u001b[0m\u001b[0;34m=\u001b[0m\u001b[0;34m<\u001b[0m\u001b[0mdeprecated\u001b[0m \u001b[0mparameter\u001b[0m\u001b[0;34m>\u001b[0m\u001b[0;34m,\u001b[0m\u001b[0;34m\u001b[0m\n",
      "\u001b[0;34m\u001b[0m    \u001b[0mresample\u001b[0m\u001b[0;34m=\u001b[0m\u001b[0;32mNone\u001b[0m\u001b[0;34m,\u001b[0m\u001b[0;34m\u001b[0m\n",
      "\u001b[0;34m\u001b[0m    \u001b[0murl\u001b[0m\u001b[0;34m=\u001b[0m\u001b[0;32mNone\u001b[0m\u001b[0;34m,\u001b[0m\u001b[0;34m\u001b[0m\n",
      "\u001b[0;34m\u001b[0m    \u001b[0;34m*\u001b[0m\u001b[0;34m,\u001b[0m\u001b[0;34m\u001b[0m\n",
      "\u001b[0;34m\u001b[0m    \u001b[0mdata\u001b[0m\u001b[0;34m=\u001b[0m\u001b[0;32mNone\u001b[0m\u001b[0;34m,\u001b[0m\u001b[0;34m\u001b[0m\n",
      "\u001b[0;34m\u001b[0m    \u001b[0;34m**\u001b[0m\u001b[0mkwargs\u001b[0m\u001b[0;34m,\u001b[0m\u001b[0;34m\u001b[0m\n",
      "\u001b[0;34m\u001b[0m\u001b[0;34m)\u001b[0m\u001b[0;34m\u001b[0m\u001b[0;34m\u001b[0m\u001b[0m\n",
      "\u001b[0;31mDocstring:\u001b[0m\n",
      "Display data as an image; i.e. on a 2D regular raster.\n",
      "\n",
      "The input may either be actual RGB(A) data, or 2D scalar data, which\n",
      "will be rendered as a pseudocolor image. Note: For actually displaying\n",
      "a grayscale image set up the color mapping using the parameters\n",
      "``cmap='gray', vmin=0, vmax=255``.\n",
      "\n",
      "Parameters\n",
      "----------\n",
      "X : array-like or PIL image\n",
      "    The image data. Supported array shapes are:\n",
      "\n",
      "    - (M, N): an image with scalar data. The values are mapped to\n",
      "      colors using normalization and a colormap. See parameters *norm*,\n",
      "      *cmap*, *vmin*, *vmax*.\n",
      "    - (M, N, 3): an image with RGB values (0-1 float or 0-255 int).\n",
      "    - (M, N, 4): an image with RGBA values (0-1 float or 0-255 int),\n",
      "      i.e. including transparency.\n",
      "\n",
      "    The first two dimensions (M, N) define the rows and columns of\n",
      "    the image.\n",
      "\n",
      "    Out-of-range RGB(A) values are clipped.\n",
      "\n",
      "cmap : str or `~matplotlib.colors.Colormap`, optional\n",
      "    The Colormap instance or registered colormap name used to map\n",
      "    scalar data to colors. This parameter is ignored for RGB(A) data.\n",
      "    Defaults to :rc:`image.cmap`.\n",
      "\n",
      "norm : `~matplotlib.colors.Normalize`, optional\n",
      "    The `Normalize` instance used to scale scalar data to the [0, 1]\n",
      "    range before mapping to colors using *cmap*. By default, a linear\n",
      "    scaling mapping the lowest value to 0 and the highest to 1 is used.\n",
      "    This parameter is ignored for RGB(A) data.\n",
      "\n",
      "aspect : {'equal', 'auto'} or float, optional\n",
      "    Controls the aspect ratio of the axes. The aspect is of particular\n",
      "    relevance for images since it may distort the image, i.e. pixel\n",
      "    will not be square.\n",
      "\n",
      "    This parameter is a shortcut for explicitly calling\n",
      "    `.Axes.set_aspect`. See there for further details.\n",
      "\n",
      "    - 'equal': Ensures an aspect ratio of 1. Pixels will be square\n",
      "      (unless pixel sizes are explicitly made non-square in data\n",
      "      coordinates using *extent*).\n",
      "    - 'auto': The axes is kept fixed and the aspect is adjusted so\n",
      "      that the data fit in the axes. In general, this will result in\n",
      "      non-square pixels.\n",
      "\n",
      "    If not given, use :rc:`image.aspect`.\n",
      "\n",
      "interpolation : str, optional\n",
      "    The interpolation method used. If *None*, :rc:`image.interpolation`\n",
      "    is used.\n",
      "\n",
      "    Supported values are 'none', 'antialiased', 'nearest', 'bilinear',\n",
      "    'bicubic', 'spline16', 'spline36', 'hanning', 'hamming', 'hermite',\n",
      "    'kaiser', 'quadric', 'catrom', 'gaussian', 'bessel', 'mitchell',\n",
      "    'sinc', 'lanczos'.\n",
      "\n",
      "    If *interpolation* is 'none', then no interpolation is performed\n",
      "    on the Agg, ps, pdf and svg backends. Other backends will fall back\n",
      "    to 'nearest'. Note that most SVG renders perform interpolation at\n",
      "    rendering and that the default interpolation method they implement\n",
      "    may differ.\n",
      "\n",
      "    If *interpolation* is the default 'antialiased', then 'nearest'\n",
      "    interpolation is used if the image is upsampled by more than a\n",
      "    factor of three (i.e. the number of display pixels is at least\n",
      "    three times the size of the data array).  If the upsampling rate is\n",
      "    smaller than 3, or the image is downsampled, then 'hanning'\n",
      "    interpolation is used to act as an anti-aliasing filter, unless the\n",
      "    image happens to be upsampled by exactly a factor of two or one.\n",
      "\n",
      "    See\n",
      "    :doc:`/gallery/images_contours_and_fields/interpolation_methods`\n",
      "    for an overview of the supported interpolation methods, and\n",
      "    :doc:`/gallery/images_contours_and_fields/image_antialiasing` for\n",
      "    a discussion of image antialiasing.\n",
      "\n",
      "    Some interpolation methods require an additional radius parameter,\n",
      "    which can be set by *filterrad*. Additionally, the antigrain image\n",
      "    resize filter is controlled by the parameter *filternorm*.\n",
      "\n",
      "alpha : scalar or array-like, optional\n",
      "    The alpha blending value, between 0 (transparent) and 1 (opaque).\n",
      "    If *alpha* is an array, the alpha blending values are applied pixel\n",
      "    by pixel, and *alpha* must have the same shape as *X*.\n",
      "\n",
      "vmin, vmax : scalar, optional\n",
      "    When using scalar data and no explicit *norm*, *vmin* and *vmax*\n",
      "    define the data range that the colormap covers. By default,\n",
      "    the colormap covers the complete value range of the supplied\n",
      "    data. *vmin*, *vmax* are ignored if the *norm* parameter is used.\n",
      "\n",
      "origin : {'upper', 'lower'}, optional\n",
      "    Place the [0, 0] index of the array in the upper left or lower left\n",
      "    corner of the axes. The convention 'upper' is typically used for\n",
      "    matrices and images.\n",
      "    If not given, :rc:`image.origin` is used, defaulting to 'upper'.\n",
      "\n",
      "    Note that the vertical axes points upward for 'lower'\n",
      "    but downward for 'upper'.\n",
      "\n",
      "    See the :doc:`/tutorials/intermediate/imshow_extent` tutorial for\n",
      "    examples and a more detailed description.\n",
      "\n",
      "extent : scalars (left, right, bottom, top), optional\n",
      "    The bounding box in data coordinates that the image will fill.\n",
      "    The image is stretched individually along x and y to fill the box.\n",
      "\n",
      "    The default extent is determined by the following conditions.\n",
      "    Pixels have unit size in data coordinates. Their centers are on\n",
      "    integer coordinates, and their center coordinates range from 0 to\n",
      "    columns-1 horizontally and from 0 to rows-1 vertically.\n",
      "\n",
      "    Note that the direction of the vertical axis and thus the default\n",
      "    values for top and bottom depend on *origin*:\n",
      "\n",
      "    - For ``origin == 'upper'`` the default is\n",
      "      ``(-0.5, numcols-0.5, numrows-0.5, -0.5)``.\n",
      "    - For ``origin == 'lower'`` the default is\n",
      "      ``(-0.5, numcols-0.5, -0.5, numrows-0.5)``.\n",
      "\n",
      "    See the :doc:`/tutorials/intermediate/imshow_extent` tutorial for\n",
      "    examples and a more detailed description.\n",
      "\n",
      "filternorm : bool, optional, default: True\n",
      "    A parameter for the antigrain image resize filter (see the\n",
      "    antigrain documentation).  If *filternorm* is set, the filter\n",
      "    normalizes integer values and corrects the rounding errors. It\n",
      "    doesn't do anything with the source floating point values, it\n",
      "    corrects only integers according to the rule of 1.0 which means\n",
      "    that any sum of pixel weights must be equal to 1.0.  So, the\n",
      "    filter function must produce a graph of the proper shape.\n",
      "\n",
      "filterrad : float > 0, optional, default: 4.0\n",
      "    The filter radius for filters that have a radius parameter, i.e.\n",
      "    when interpolation is one of: 'sinc', 'lanczos' or 'blackman'.\n",
      "\n",
      "resample : bool, optional\n",
      "    When *True*, use a full resampling method.  When *False*, only\n",
      "    resample when the output image is larger than the input image.\n",
      "\n",
      "url : str, optional\n",
      "    Set the url of the created `.AxesImage`. See `.Artist.set_url`.\n",
      "\n",
      "Returns\n",
      "-------\n",
      "image : `~matplotlib.image.AxesImage`\n",
      "\n",
      "Other Parameters\n",
      "----------------\n",
      "**kwargs : `~matplotlib.artist.Artist` properties\n",
      "    These parameters are passed on to the constructor of the\n",
      "    `.AxesImage` artist.\n",
      "\n",
      "See also\n",
      "--------\n",
      "matshow : Plot a matrix or an array as an image.\n",
      "\n",
      "Notes\n",
      "-----\n",
      "Unless *extent* is used, pixel centers will be located at integer\n",
      "coordinates. In other words: the origin will coincide with the center\n",
      "of pixel (0, 0).\n",
      "\n",
      "There are two common representations for RGB images with an alpha\n",
      "channel:\n",
      "\n",
      "-   Straight (unassociated) alpha: R, G, and B channels represent the\n",
      "    color of the pixel, disregarding its opacity.\n",
      "-   Premultiplied (associated) alpha: R, G, and B channels represent\n",
      "    the color of the pixel, adjusted for its opacity by multiplication.\n",
      "\n",
      "`~matplotlib.pyplot.imshow` expects RGB images adopting the straight\n",
      "(unassociated) alpha representation.\n",
      "\n",
      ".. note::\n",
      "    In addition to the above described arguments, this function can take a\n",
      "    **data** keyword argument. If such a **data** argument is given, the\n",
      "    following arguments are replaced by **data[<arg>]**:\n",
      "\n",
      "    * All positional and all keyword arguments.\n",
      "\n",
      "    Objects passed as **data** must support item access (``data[<arg>]``) and\n",
      "    membership test (``<arg> in data``).\n",
      "\u001b[0;31mFile:\u001b[0m      ~/anaconda3/lib/python3.8/site-packages/matplotlib/pyplot.py\n",
      "\u001b[0;31mType:\u001b[0m      function\n"
     ]
    }
   ],
   "source": [
    "?plt.imshow"
   ]
  },
  {
   "cell_type": "code",
   "execution_count": null,
   "metadata": {},
   "outputs": [],
   "source": []
  }
 ],
 "metadata": {
  "kernelspec": {
   "display_name": "Python 3",
   "language": "python",
   "name": "python3"
  },
  "language_info": {
   "codemirror_mode": {
    "name": "ipython",
    "version": 3
   },
   "file_extension": ".py",
   "mimetype": "text/x-python",
   "name": "python",
   "nbconvert_exporter": "python",
   "pygments_lexer": "ipython3",
   "version": "3.8.3"
  }
 },
 "nbformat": 4,
 "nbformat_minor": 4
}
