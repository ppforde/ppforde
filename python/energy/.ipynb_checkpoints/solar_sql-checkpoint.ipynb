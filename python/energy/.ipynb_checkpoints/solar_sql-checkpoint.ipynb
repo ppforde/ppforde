{
 "cells": [
  {
   "cell_type": "code",
   "execution_count": null,
   "metadata": {
    "id": "8ScFypfRDw1_"
   },
   "outputs": [],
   "source": [
    "import csv\n",
    "from pprint import pprint"
   ]
  },
  {
   "cell_type": "code",
   "execution_count": null,
   "metadata": {
    "id": "4dllLlSDDw2A"
   },
   "outputs": [],
   "source": [
    "import pandas as pd\n",
    "import numpy as np\n",
    "import matplotlib.pyplot as plt"
   ]
  },
  {
   "cell_type": "code",
   "execution_count": null,
   "metadata": {
    "id": "Ya5Ml9CCDw2B"
   },
   "outputs": [],
   "source": [
    "plt.style.use('seaborn-whitegrid')"
   ]
  },
  {
   "cell_type": "code",
   "execution_count": null,
   "metadata": {
    "id": "lUTuSlMIDw2B"
   },
   "outputs": [],
   "source": [
    "!pip install psycopg2-binary"
   ]
  },
  {
   "cell_type": "code",
   "execution_count": null,
   "metadata": {
    "id": "2i8_z-T1Dw2B"
   },
   "outputs": [],
   "source": [
    "import psycopg2\n",
    "import psycopg2.extras as e"
   ]
  },
  {
   "cell_type": "code",
   "execution_count": null,
   "metadata": {
    "id": "ZzIRF07MDw2B"
   },
   "outputs": [],
   "source": [
    "dbname = 'solar_power'\n",
    "user = 'postgres'\n",
    "password = 'myshell123'\n",
    "host = 'localhost'\n",
    "port = '5432'"
   ]
  },
  {
   "cell_type": "code",
   "execution_count": null,
   "metadata": {
    "id": "kKRqqxUrDw2B"
   },
   "outputs": [],
   "source": [
    "#conn = psycopg2.connect(\"dbname=crappy_gifts user=postgres password=$kyw8lker host=localhost\")\n",
    "conn = psycopg2.connect(f\"dbname={dbname} user={user} password={password} host={host}\")\n",
    "cursor = conn.cursor()\n",
    "conn.dsn"
   ]
  },
  {
   "cell_type": "markdown",
   "metadata": {},
   "source": [
    "## Solar Power Installations in New York State"
   ]
  },
  {
   "cell_type": "code",
   "execution_count": null,
   "metadata": {
    "id": "0QtKdFPpDw2C"
   },
   "outputs": [],
   "source": [
    "fp = \"https://data.ny.gov/api/views/3x8r-34rs/rows.csv?accessType=DOWNLOAD&sorting=true\"\n",
    "\n",
    "df = pd.read_csv(fp, encoding='utf-8')\n",
    "\n",
    "df.info()"
   ]
  },
  {
   "cell_type": "code",
   "execution_count": null,
   "metadata": {
    "id": "NJCK3nieDw2D"
   },
   "outputs": [],
   "source": [
    "df.columns = df.columns.str.lower().str.replace(\" \",\"_\").str.replace(\"$\",\"\")\n",
    "df.columns"
   ]
  },
  {
   "cell_type": "code",
   "execution_count": null,
   "metadata": {
    "id": "Mz9Al33IDw2D"
   },
   "outputs": [],
   "source": [
    "df.info()"
   ]
  },
  {
   "cell_type": "code",
   "execution_count": null,
   "metadata": {
    "id": "ed78CcqaDw2D"
   },
   "outputs": [],
   "source": [
    "sql_columns = list(df.dtypes.index)\n",
    "pprint(sql_columns, compact=True)"
   ]
  },
  {
   "cell_type": "code",
   "execution_count": null,
   "metadata": {
    "id": "60U4_Rq5Dw2D"
   },
   "outputs": [],
   "source": [
    "date_cols = [x for x in df.columns if \"date\" in x.lower()]\n",
    "\n",
    "df[date_cols] = df[date_cols].apply(lambda x: pd.to_datetime(x, format='%m/%d/%Y'))"
   ]
  },
  {
   "cell_type": "code",
   "execution_count": null,
   "metadata": {
    "id": "Ezg5tBGKDw2E"
   },
   "outputs": [],
   "source": [
    "df['longitude'] = df['georeference'].str.extract('(-?\\d+.\\d+)\\s', expand = True).astype('float32')\n",
    "df['latitude'] = df['georeference'].str.extract('\\s(-?\\d+.\\d+)', expand = True).astype('float32')\n",
    "\n",
    "df[['georeference','latitude','longitude']].head()"
   ]
  },
  {
   "cell_type": "code",
   "execution_count": null,
   "metadata": {
    "id": "VQrXUpKmDw2E"
   },
   "outputs": [],
   "source": [
    "df.shape"
   ]
  },
  {
   "cell_type": "code",
   "execution_count": null,
   "metadata": {
    "id": "IGeNrfiADw2E"
   },
   "outputs": [],
   "source": [
    "df = df[df['project_cost'].notna()]\n",
    "df = df[df['incentive'].notna()]\n",
    "df = df[df['county'].notna()]\n",
    "df = df[df['electric_utility'].notna()]\n",
    "\n",
    "df.shape"
   ]
  },
  {
   "cell_type": "code",
   "execution_count": null,
   "metadata": {
    "id": "cmRb6HnWDw2E"
   },
   "outputs": [],
   "source": [
    "df['total_costs'] = df.eval('project_cost + incentive')\n",
    "df['total_costs'].sum()"
   ]
  },
  {
   "cell_type": "code",
   "execution_count": null,
   "metadata": {
    "id": "8iWTdOhLDw2F"
   },
   "outputs": [],
   "source": [
    "#df.dropna(how='any', inplace=True)\n",
    "\n",
    "df = df[df['date_application_received'].between('2001-01-01','2022-01-01')]\n",
    "df.shape"
   ]
  },
  {
   "cell_type": "code",
   "execution_count": null,
   "metadata": {
    "id": "BZA25BTaDw2F"
   },
   "outputs": [],
   "source": [
    "table = \"solar\""
   ]
  },
  {
   "cell_type": "code",
   "execution_count": null,
   "metadata": {
    "id": "34_cIKvgDw2F"
   },
   "outputs": [],
   "source": [
    "fp = '{}.csv'.format(table)\n",
    "\n",
    "df.to_csv(fp, sep='\\t', index=False)"
   ]
  },
  {
   "cell_type": "code",
   "execution_count": null,
   "metadata": {
    "id": "cIk_0_NtDw2F"
   },
   "outputs": [],
   "source": [
    "pd_maps = {\n",
    "    'object':'varchar',\n",
    "    'datetime64[ns]':'date',\n",
    "    'int64':'integer',\n",
    "    'int32':'integer',\n",
    "    'float64':'numeric',\n",
    "    'float32':'numeric',\n",
    "    'bool':'boolean'\n",
    "}"
   ]
  },
  {
   "cell_type": "code",
   "execution_count": null,
   "metadata": {
    "id": "GSlhcqQMDw2F"
   },
   "outputs": [],
   "source": [
    "pd_columns = df.dtypes.index.tolist()\n",
    "pprint(pd_columns, compact=True)"
   ]
  },
  {
   "cell_type": "code",
   "execution_count": null,
   "metadata": {
    "id": "AJsZd4oBDw2F"
   },
   "outputs": [],
   "source": [
    "pd_formats = df.dtypes.values.astype(str).tolist()\n",
    "pprint(pd_formats, compact=True)"
   ]
  },
  {
   "cell_type": "code",
   "execution_count": null,
   "metadata": {
    "id": "rI3LlspjDw2G"
   },
   "outputs": [],
   "source": [
    "cc = {}\n",
    "for i, x in enumerate(pd_columns):\n",
    "    cc[x] = pd_maps[pd_formats[i]]\n",
    "    \n",
    "cc"
   ]
  },
  {
   "cell_type": "code",
   "execution_count": null,
   "metadata": {
    "id": "-bZY6uiSDw2G"
   },
   "outputs": [],
   "source": [
    "cc['state'] = 'char(2)'\n",
    "\n",
    "cc"
   ]
  },
  {
   "cell_type": "code",
   "execution_count": null,
   "metadata": {
    "id": "WiXIDUJbDw2G"
   },
   "outputs": [],
   "source": [
    "stmt = \"\"\"DROP TABLE IF EXISTS {};\"\"\".format(table)\n",
    "print(stmt)"
   ]
  },
  {
   "cell_type": "code",
   "execution_count": null,
   "metadata": {
    "id": "0BrtIq4nDw2G"
   },
   "outputs": [],
   "source": [
    "cursor.execute(stmt)\n",
    "conn.commit()"
   ]
  },
  {
   "cell_type": "code",
   "execution_count": null,
   "metadata": {
    "id": "3fn7adD5Dw2G"
   },
   "outputs": [],
   "source": [
    "stmt = \"CREATE TABLE {} (\\n\".format(table)\n",
    "\n",
    "for k, v in cc.items():\n",
    "    stmt += \"\"\"\"{}\" {},\\n\"\"\".format(k, v)\n",
    "\n",
    "stmt = stmt[:-2]\n",
    "stmt += \"\\n);\"\n",
    "\n",
    "print(stmt)"
   ]
  },
  {
   "cell_type": "raw",
   "metadata": {
    "id": "qJ1EeRrnDw2G"
   },
   "source": [
    "stmt = \"CREATE TABLE {} (\\n\".format(table)\n",
    "\n",
    "for i, x in enumerate(pd_columns):\n",
    "    stmt += \"\"\"\"{}\" {},\\n\"\"\".format(x, pd_maps[pd_formats[i]])\n",
    "\n",
    "stmt = stmt[:-2]\n",
    "stmt += \"\\n);\"\n",
    "\n",
    "print(stmt)"
   ]
  },
  {
   "cell_type": "code",
   "execution_count": null,
   "metadata": {
    "id": "E7lh69f8Dw2H"
   },
   "outputs": [],
   "source": [
    "cursor.execute(stmt)\n",
    "conn.commit()"
   ]
  },
  {
   "cell_type": "code",
   "execution_count": null,
   "metadata": {
    "id": "j9q7o_0UDw2H"
   },
   "outputs": [],
   "source": [
    "stmt = \"\"\"TRUNCATE TABLE {};\"\"\".format(table)\n",
    "cursor.execute(stmt)\n",
    "conn.commit()"
   ]
  },
  {
   "cell_type": "raw",
   "metadata": {
    "id": "dfWSJ01vDw2H"
   },
   "source": [
    "stmt = \\\n",
    "\"\"\"\n",
    "copy {} from stdin\n",
    "with csv header\n",
    "delimiter as e'\\\\t'\n",
    "quote as ' '\n",
    "\"\"\".format(table)\n",
    "\n",
    "print(stmt)"
   ]
  },
  {
   "cell_type": "code",
   "execution_count": null,
   "metadata": {
    "id": "AmLwEPNHDw2H"
   },
   "outputs": [],
   "source": [
    "stmt = \\\n",
    "\"\"\"\n",
    "copy {} from stdin\n",
    "with csv header delimiter as e'\\\\t' null as ''\n",
    "\"\"\".format(table)\n",
    "\n",
    "print(stmt)"
   ]
  },
  {
   "cell_type": "code",
   "execution_count": null,
   "metadata": {
    "id": "BhR9wXaMDw2H"
   },
   "outputs": [],
   "source": [
    "with open(fp, 'r', encoding='utf-8') as f:\n",
    "    cursor.copy_expert(sql=stmt, file=f)\n",
    "    conn.commit()"
   ]
  },
  {
   "cell_type": "code",
   "execution_count": null,
   "metadata": {
    "id": "rRTP6cLYDw2H"
   },
   "outputs": [],
   "source": [
    "stmt = f'''\n",
    "select *\n",
    "from {table}\n",
    "'''\n",
    "\n",
    "data = pd.read_sql(con=conn, sql=stmt)\n",
    "data.head(10)"
   ]
  },
  {
   "cell_type": "markdown",
   "metadata": {},
   "source": [
    "## Counties of New York State"
   ]
  },
  {
   "cell_type": "code",
   "execution_count": null,
   "metadata": {
    "id": "oo6qZO0XDw2H"
   },
   "outputs": [],
   "source": [
    "url = \"https://data.ny.gov/api/views/4xc7-bukh/rows.csv?accessType=DOWNLOAD&sorting=true\"\n",
    "print(url)"
   ]
  },
  {
   "cell_type": "code",
   "execution_count": null,
   "metadata": {
    "id": "IXmc-WUNDw2I"
   },
   "outputs": [],
   "source": [
    "ny_county = pd.read_csv(url)\n",
    "ny_county"
   ]
  },
  {
   "cell_type": "code",
   "execution_count": null,
   "metadata": {
    "id": "rzibhmJEDw2I"
   },
   "outputs": [],
   "source": [
    "ny_county.rename(columns={x: x.replace(\" \", \"_\").lower()  for x in ny_county.columns}, inplace=True)"
   ]
  },
  {
   "cell_type": "code",
   "execution_count": null,
   "metadata": {
    "id": "q1RrJt3-Dw2I"
   },
   "outputs": [],
   "source": [
    "set(df.county).symmetric_difference(set(ny_county.county))"
   ]
  },
  {
   "cell_type": "code",
   "execution_count": null,
   "metadata": {
    "id": "MnrIJhPTDw2I"
   },
   "outputs": [],
   "source": [
    "df.loc[df['county'] == 'St. Lawrence', ['county']] = 'St Lawrence'"
   ]
  },
  {
   "cell_type": "code",
   "execution_count": null,
   "metadata": {
    "id": "287KGDENDw2I"
   },
   "outputs": [],
   "source": [
    "set(df.county).symmetric_difference(set(ny_county.county))"
   ]
  },
  {
   "cell_type": "code",
   "execution_count": null,
   "metadata": {
    "id": "WEXErqSdDw2I"
   },
   "outputs": [],
   "source": [
    "ny_county['location'].head()"
   ]
  },
  {
   "cell_type": "code",
   "execution_count": null,
   "metadata": {
    "id": "WfgmW41sDw2J"
   },
   "outputs": [],
   "source": [
    "del ny_county['location']"
   ]
  },
  {
   "cell_type": "code",
   "execution_count": null,
   "metadata": {},
   "outputs": [],
   "source": [
    "del df"
   ]
  },
  {
   "cell_type": "code",
   "execution_count": null,
   "metadata": {},
   "outputs": [],
   "source": [
    "df = ny_county.copy()"
   ]
  },
  {
   "cell_type": "code",
   "execution_count": null,
   "metadata": {
    "id": "S1EkdFaVDw2J"
   },
   "outputs": [],
   "source": [
    "pd_columns = df.dtypes.index.tolist()\n",
    "pprint(pd_columns, compact=True)"
   ]
  },
  {
   "cell_type": "code",
   "execution_count": null,
   "metadata": {},
   "outputs": [],
   "source": [
    "pd_formats = df.dtypes.values.astype(str).tolist()\n",
    "pprint(pd_formats, compact=True)"
   ]
  },
  {
   "cell_type": "code",
   "execution_count": null,
   "metadata": {},
   "outputs": [],
   "source": [
    "cc = {}\n",
    "for i, x in enumerate(pd_columns):\n",
    "    cc[x] = pd_maps[pd_formats[i]]\n",
    "    \n",
    "cc"
   ]
  },
  {
   "cell_type": "code",
   "execution_count": null,
   "metadata": {},
   "outputs": [],
   "source": [
    "table = \"counties\""
   ]
  },
  {
   "cell_type": "code",
   "execution_count": null,
   "metadata": {},
   "outputs": [],
   "source": [
    "fp = '{}.csv'.format(table)\n",
    "\n",
    "df.to_csv(fp, sep='\\t', index=False)"
   ]
  },
  {
   "cell_type": "code",
   "execution_count": null,
   "metadata": {},
   "outputs": [],
   "source": [
    "stmt = \"\"\"DROP TABLE IF EXISTS {};\"\"\".format(table)\n",
    "print(stmt)"
   ]
  },
  {
   "cell_type": "code",
   "execution_count": null,
   "metadata": {},
   "outputs": [],
   "source": [
    "cursor.execute(stmt)\n",
    "conn.commit()"
   ]
  },
  {
   "cell_type": "code",
   "execution_count": null,
   "metadata": {},
   "outputs": [],
   "source": [
    "stmt = \"CREATE TABLE {} (\\n\".format(table)\n",
    "\n",
    "for k, v in cc.items():\n",
    "    stmt += \"\"\"\"{}\" {},\\n\"\"\".format(k, v)\n",
    "\n",
    "stmt = stmt[:-2]\n",
    "stmt += \"\\n);\"\n",
    "\n",
    "print(stmt)"
   ]
  },
  {
   "cell_type": "code",
   "execution_count": null,
   "metadata": {},
   "outputs": [],
   "source": [
    "cursor.execute(stmt)\n",
    "conn.commit()"
   ]
  },
  {
   "cell_type": "code",
   "execution_count": null,
   "metadata": {},
   "outputs": [],
   "source": [
    "stmt = \"\"\"TRUNCATE TABLE {};\"\"\".format(table)\n",
    "cursor.execute(stmt)\n",
    "conn.commit()"
   ]
  },
  {
   "cell_type": "code",
   "execution_count": null,
   "metadata": {},
   "outputs": [],
   "source": [
    "stmt = \\\n",
    "\"\"\"\n",
    "copy {} from stdin\n",
    "with csv header delimiter as e'\\\\t' null as ''\n",
    "\"\"\".format(table)\n",
    "\n",
    "print(stmt)"
   ]
  },
  {
   "cell_type": "code",
   "execution_count": null,
   "metadata": {},
   "outputs": [],
   "source": [
    "with open(fp, 'r', encoding='utf-8') as f:\n",
    "    cursor.copy_expert(sql=stmt, file=f)\n",
    "    conn.commit()"
   ]
  },
  {
   "cell_type": "code",
   "execution_count": null,
   "metadata": {
    "id": "dIlbZJymDw2J"
   },
   "outputs": [],
   "source": [
    "cursor.close()\n",
    "conn.close()"
   ]
  },
  {
   "cell_type": "code",
   "execution_count": null,
   "metadata": {},
   "outputs": [],
   "source": []
  }
 ],
 "metadata": {
  "colab": {
   "name": "SQL_Connection_Postgres_Solar.ipynb",
   "provenance": []
  },
  "kernelspec": {
   "display_name": "Python 3",
   "language": "python",
   "name": "python3"
  },
  "language_info": {
   "codemirror_mode": {
    "name": "ipython",
    "version": 3
   },
   "file_extension": ".py",
   "mimetype": "text/x-python",
   "name": "python",
   "nbconvert_exporter": "python",
   "pygments_lexer": "ipython3",
   "version": "3.8.3"
  }
 },
 "nbformat": 4,
 "nbformat_minor": 1
}
