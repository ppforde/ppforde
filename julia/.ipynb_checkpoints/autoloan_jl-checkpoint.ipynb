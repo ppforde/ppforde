{
 "cells": [
  {
   "cell_type": "code",
   "execution_count": 1,
   "metadata": {},
   "outputs": [],
   "source": [
    "using Printf\n",
    "using Dates\n",
    "using LinearAlgebra"
   ]
  },
  {
   "cell_type": "code",
   "execution_count": 2,
   "metadata": {},
   "outputs": [
    {
     "data": {
      "text/plain": [
       "4.7"
      ]
     },
     "execution_count": 2,
     "metadata": {},
     "output_type": "execute_result"
    }
   ],
   "source": [
    "interest_rate = 4.7"
   ]
  },
  {
   "cell_type": "code",
   "execution_count": 3,
   "metadata": {},
   "outputs": [
    {
     "data": {
      "text/plain": [
       "\"2021-12-20 21:27:09\""
      ]
     },
     "execution_count": 3,
     "metadata": {},
     "output_type": "execute_result"
    }
   ],
   "source": [
    "current_date = Dates.format(now(), \"Y-mm-dd HH:MM:SS\")"
   ]
  },
  {
   "cell_type": "code",
   "execution_count": 4,
   "metadata": {},
   "outputs": [
    {
     "data": {
      "text/plain": [
       "Int64[]"
      ]
     },
     "execution_count": 4,
     "metadata": {},
     "output_type": "execute_result"
    }
   ],
   "source": [
    "count_all = Int64[]"
   ]
  },
  {
   "cell_type": "code",
   "execution_count": 5,
   "metadata": {},
   "outputs": [
    {
     "data": {
      "text/plain": [
       "Float64[]"
      ]
     },
     "execution_count": 5,
     "metadata": {},
     "output_type": "execute_result"
    }
   ],
   "source": [
    "sum_all = Float64[]"
   ]
  },
  {
   "cell_type": "code",
   "execution_count": 6,
   "metadata": {},
   "outputs": [
    {
     "name": "stdout",
     "output_type": "stream",
     "text": [
      "25000, 24, 4.7, 1093.43, high, 2021-12-20 21:27:09\n",
      "25000, 36, 4.7, 745.91, high, 2021-12-20 21:27:09\n",
      "25000, 48, 4.7, 572.34, ok, 2021-12-20 21:27:09\n",
      "25000, 60, 4.7, 468.35, low, 2021-12-20 21:27:09\n",
      "25000, 72, 4.7, 399.15, low, 2021-12-20 21:27:09\n",
      "26000, 24, 4.7, 1137.17, high, 2021-12-20 21:27:09\n",
      "26000, 36, 4.7, 775.75, high, 2021-12-20 21:27:09\n",
      "26000, 48, 4.7, 595.23, ok, 2021-12-20 21:27:09\n",
      "26000, 60, 4.7, 487.09, low, 2021-12-20 21:27:09\n",
      "26000, 72, 4.7, 415.12, low, 2021-12-20 21:27:09\n",
      "27000, 24, 4.7, 1180.90, high, 2021-12-20 21:27:09\n",
      "27000, 36, 4.7, 805.58, high, 2021-12-20 21:27:09\n",
      "27000, 48, 4.7, 618.13, high, 2021-12-20 21:27:09\n",
      "27000, 60, 4.7, 505.82, ok, 2021-12-20 21:27:09\n",
      "27000, 72, 4.7, 431.09, low, 2021-12-20 21:27:09\n",
      "28000, 24, 4.7, 1224.64, high, 2021-12-20 21:27:09\n",
      "28000, 36, 4.7, 835.42, high, 2021-12-20 21:27:09\n",
      "28000, 48, 4.7, 641.02, high, 2021-12-20 21:27:09\n",
      "28000, 60, 4.7, 524.55, ok, 2021-12-20 21:27:09\n",
      "28000, 72, 4.7, 447.05, low, 2021-12-20 21:27:09\n",
      "29000, 24, 4.7, 1268.38, high, 2021-12-20 21:27:09\n",
      "29000, 36, 4.7, 865.26, high, 2021-12-20 21:27:09\n",
      "29000, 48, 4.7, 663.92, high, 2021-12-20 21:27:09\n",
      "29000, 60, 4.7, 543.29, ok, 2021-12-20 21:27:09\n",
      "29000, 72, 4.7, 463.02, low, 2021-12-20 21:27:09\n",
      "\n",
      "Total records: 25 & total payments 17707.61\n"
     ]
    }
   ],
   "source": [
    "io = open(\"loans.csv\", \"w\")\n",
    "\n",
    "write(io, \"LOAN,TERM,INTEREST,MONTHLY,STATUS,DATE\\n\")\n",
    "\n",
    "for present_value = 25000:1000:29000, number_periods = 24:12:72\n",
    "    \n",
    "    irr = interest_rate/100/12\n",
    "    \n",
    "    monthly_payment = round((irr * present_value) / (1 - (1 + irr)  ^ -number_periods) * 100) / 100\n",
    "    \n",
    "    if monthly_payment <= 500\n",
    "        payment_status = \"low\"\n",
    "    elseif monthly_payment >= 600\n",
    "        payment_status = \"high\"\n",
    "    else\n",
    "        payment_status = \"ok\"\n",
    "    end\n",
    "    \n",
    "    @printf(\"%d, %d, %.1f, %.2f, %s, %s\\n\",\n",
    "        present_value,\n",
    "        number_periods,\n",
    "        interest_rate,\n",
    "        monthly_payment,\n",
    "        payment_status,\n",
    "        current_date\n",
    "    )\n",
    "    \n",
    "    write(io, \"$present_value,$number_periods,$interest_rate,$monthly_payment,$payment_status,$current_date\\n\")\n",
    "    \n",
    "    push!(count_all, 1)\n",
    "    \n",
    "    push!(sum_all, monthly_payment)\n",
    "    \n",
    "end\n",
    "\n",
    "close(io)\n",
    "\n",
    "@printf(\"\\nTotal records: %d & total payments %.2f\\n\", sum(count_all), sum(sum_all))"
   ]
  },
  {
   "cell_type": "code",
   "execution_count": 7,
   "metadata": {},
   "outputs": [
    {
     "data": {
      "text/plain": [
       "Float64[]"
      ]
     },
     "execution_count": 7,
     "metadata": {},
     "output_type": "execute_result"
    }
   ],
   "source": [
    "pval_list = Float64[]"
   ]
  },
  {
   "cell_type": "code",
   "execution_count": 8,
   "metadata": {},
   "outputs": [
    {
     "data": {
      "text/plain": [
       "Float64[]"
      ]
     },
     "execution_count": 8,
     "metadata": {},
     "output_type": "execute_result"
    }
   ],
   "source": [
    "nper_list = Float64[]"
   ]
  },
  {
   "cell_type": "code",
   "execution_count": 9,
   "metadata": {},
   "outputs": [
    {
     "data": {
      "text/plain": [
       "Float64[]"
      ]
     },
     "execution_count": 9,
     "metadata": {},
     "output_type": "execute_result"
    }
   ],
   "source": [
    "irate_list = Float64[]"
   ]
  },
  {
   "cell_type": "code",
   "execution_count": 10,
   "metadata": {},
   "outputs": [],
   "source": [
    "for pval = 25000:1000:29000, nper = 24:12:72\n",
    "    push!(pval_list, pval)\n",
    "    push!(nper_list, nper)\n",
    "    push!(irate_list, 4.7)\n",
    "end"
   ]
  },
  {
   "cell_type": "code",
   "execution_count": 11,
   "metadata": {},
   "outputs": [
    {
     "data": {
      "text/plain": [
       "5×5 Matrix{Float64}:\n",
       " 24.0  24.0  24.0  24.0  24.0\n",
       " 36.0  36.0  36.0  36.0  36.0\n",
       " 48.0  48.0  48.0  48.0  48.0\n",
       " 60.0  60.0  60.0  60.0  60.0\n",
       " 72.0  72.0  72.0  72.0  72.0"
      ]
     },
     "execution_count": 11,
     "metadata": {},
     "output_type": "execute_result"
    }
   ],
   "source": [
    "nper_array = reshape(nper_list, 5, 5)"
   ]
  },
  {
   "cell_type": "code",
   "execution_count": 12,
   "metadata": {},
   "outputs": [
    {
     "data": {
      "text/plain": [
       "5×5 Matrix{Float64}:\n",
       " 25000.0  26000.0  27000.0  28000.0  29000.0\n",
       " 25000.0  26000.0  27000.0  28000.0  29000.0\n",
       " 25000.0  26000.0  27000.0  28000.0  29000.0\n",
       " 25000.0  26000.0  27000.0  28000.0  29000.0\n",
       " 25000.0  26000.0  27000.0  28000.0  29000.0"
      ]
     },
     "execution_count": 12,
     "metadata": {},
     "output_type": "execute_result"
    }
   ],
   "source": [
    "pval_array = reshape(pval_list, 5, 5)"
   ]
  },
  {
   "cell_type": "code",
   "execution_count": 13,
   "metadata": {},
   "outputs": [
    {
     "data": {
      "text/plain": [
       "5×5 Matrix{Float64}:\n",
       " 4.7  4.7  4.7  4.7  4.7\n",
       " 4.7  4.7  4.7  4.7  4.7\n",
       " 4.7  4.7  4.7  4.7  4.7\n",
       " 4.7  4.7  4.7  4.7  4.7\n",
       " 4.7  4.7  4.7  4.7  4.7"
      ]
     },
     "execution_count": 13,
     "metadata": {},
     "output_type": "execute_result"
    }
   ],
   "source": [
    "irate_array = reshape(irate_list, 5, 5)"
   ]
  },
  {
   "cell_type": "code",
   "execution_count": 14,
   "metadata": {},
   "outputs": [
    {
     "data": {
      "text/plain": [
       "auto_loan (generic function with 1 method)"
      ]
     },
     "execution_count": 14,
     "metadata": {},
     "output_type": "execute_result"
    }
   ],
   "source": [
    "function auto_loan(loan::Float64, term::Float64, interest::Float64)\n",
    "    interest = interest / 100.0 /12.0\n",
    "    return (interest * loan) / (1.0 - (1.0 + interest)^ -term)\n",
    "end"
   ]
  },
  {
   "cell_type": "code",
   "execution_count": 15,
   "metadata": {},
   "outputs": [
    {
     "data": {
      "text/plain": [
       "389.83925640372223"
      ]
     },
     "execution_count": 15,
     "metadata": {},
     "output_type": "execute_result"
    }
   ],
   "source": [
    "auto_loan(25515.0, 72.0, 3.19)"
   ]
  },
  {
   "cell_type": "code",
   "execution_count": 16,
   "metadata": {},
   "outputs": [
    {
     "data": {
      "text/plain": [
       "5×5 Matrix{Float64}:\n",
       " 1093.43   1137.17   1180.9    1224.64   1268.38\n",
       "  745.91    775.746   805.583   835.419   865.255\n",
       "  572.341   595.235   618.128   641.022   663.916\n",
       "  468.352   487.087   505.821   524.555   543.289\n",
       "  399.154   415.12    431.086   447.052   463.018"
      ]
     },
     "execution_count": 16,
     "metadata": {},
     "output_type": "execute_result"
    }
   ],
   "source": [
    "# note: dot notation is needed to broadcast across all the arrays\n",
    "pmt = auto_loan.(pval_array, nper_array, irate_array)\n",
    "pmt"
   ]
  },
  {
   "cell_type": "code",
   "execution_count": 17,
   "metadata": {},
   "outputs": [
    {
     "data": {
      "text/plain": [
       "Matrix{Float64} (alias for Array{Float64, 2})"
      ]
     },
     "execution_count": 17,
     "metadata": {},
     "output_type": "execute_result"
    }
   ],
   "source": [
    "typeof(pmt)"
   ]
  },
  {
   "cell_type": "code",
   "execution_count": null,
   "metadata": {},
   "outputs": [],
   "source": []
  }
 ],
 "metadata": {
  "kernelspec": {
   "display_name": "Julia 1.7.0",
   "language": "julia",
   "name": "julia-1.7"
  },
  "language_info": {
   "file_extension": ".jl",
   "mimetype": "application/julia",
   "name": "julia",
   "version": "1.7.0"
  }
 },
 "nbformat": 4,
 "nbformat_minor": 4
}
