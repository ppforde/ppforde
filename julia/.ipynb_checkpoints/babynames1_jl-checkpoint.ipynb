{
 "cells": [
  {
   "cell_type": "code",
   "execution_count": 1,
   "metadata": {},
   "outputs": [],
   "source": [
    "using CSV, DataFrames, Queryverse"
   ]
  },
  {
   "cell_type": "code",
   "execution_count": 21,
   "metadata": {},
   "outputs": [
    {
     "name": "stdout",
     "output_type": "stream",
     "text": [
      "https://www.ssa.gov/oact/babynames/state/namesbystate.zip\n"
     ]
    }
   ],
   "source": [
    "println(\"https://www.ssa.gov/oact/babynames/state/namesbystate.zip\")"
   ]
  },
  {
   "cell_type": "code",
   "execution_count": 22,
   "metadata": {},
   "outputs": [
    {
     "name": "stderr",
     "output_type": "stream",
     "text": [
      "  % Total    % Received % Xferd  Average Speed   Time    Time     Time  Current\n",
      "                                 Dload  Upload   Total   Spent    Left  Speed\n",
      "\r",
      "  0     0    0     0    0     0      0      0 --:--:-- --:--:-- --:--:--     0\r",
      "  8 21.4M    8 1967k    0     0  4532k      0  0:00:04 --:--:--  0:00:04 4521k\r",
      " 34 21.4M   34 7512k    0     0  5231k      0  0:00:04  0:00:01  0:00:03 5227k\r",
      " 58 21.4M   58 12.6M    0     0  5319k      0  0:00:04  0:00:02  0:00:02 5317k\r",
      " 83 21.4M   83 17.9M    0     0  5343k      0  0:00:04  0:00:03  0:00:01 5342k\r",
      "100 21.4M  100 21.4M    0     0  5375k      0  0:00:04  0:00:04 --:--:-- 5375k\n"
     ]
    }
   ],
   "source": [
    ";curl -o namesbystate.zip https://www.ssa.gov/oact/babynames/state/namesbystate.zip"
   ]
  },
  {
   "cell_type": "code",
   "execution_count": 23,
   "metadata": {},
   "outputs": [
    {
     "name": "stdout",
     "output_type": "stream",
     "text": [
      "Archive:  namesbystate.zip\n"
     ]
    },
    {
     "name": "stderr",
     "output_type": "stream",
     "text": [
      "replace baby_data/AK.TXT? [y]es, [n]o, [A]ll, [N]one, [r]ename:  NULL\n",
      "(EOF or read error, treating as \"[N]one\" ...)\n"
     ]
    }
   ],
   "source": [
    ";unzip namesbystate.zip -d baby_data"
   ]
  },
  {
   "cell_type": "code",
   "execution_count": 24,
   "metadata": {},
   "outputs": [
    {
     "name": "stdout",
     "output_type": "stream",
     "text": [
      "WY,F,1910,Mary,27\r\n",
      "WY,F,1910,Margaret,22\r\n",
      "WY,F,1910,Helen,13\r\n",
      "WY,F,1910,Alice,10\r\n",
      "WY,F,1910,Dorothy,9\r\n",
      "WY,F,1910,Frances,8\r\n",
      "WY,F,1910,Josephine,8\r\n",
      "WY,F,1910,Lena,8\r\n",
      "WY,F,1910,Anna,7\r\n",
      "WY,F,1910,Ruth,7\r\n"
     ]
    }
   ],
   "source": [
    ";head baby_data/WY.TXT"
   ]
  },
  {
   "cell_type": "code",
   "execution_count": 25,
   "metadata": {},
   "outputs": [
    {
     "name": "stdout",
     "output_type": "stream",
     "text": [
      "AL,M,2019,Walton,5\r\n",
      "AL,M,2019,Waylen,5\r\n",
      "AL,M,2019,Westyn,5\r\n",
      "AL,M,2019,Whitaker,5\r\n",
      "AL,M,2019,Wylder,5\r\n",
      "AL,M,2019,Zaire,5\r\n",
      "AL,M,2019,Zakari,5\r\n",
      "AL,M,2019,Zaylon,5\r\n",
      "AL,M,2019,Zayvion,5\r\n",
      "AL,M,2019,Zylon,5\r\n"
     ]
    }
   ],
   "source": [
    ";tail baby_data/AL.TXT"
   ]
  },
  {
   "cell_type": "code",
   "execution_count": 26,
   "metadata": {},
   "outputs": [
    {
     "name": "stdout",
     "output_type": "stream",
     "text": [
      "92573:AL,M,1948,Gregg,6\r\n",
      "93173:AL,M,1949,Gregg,5\r\n",
      "95204:AL,M,1953,Gregg,7\r\n",
      "96914:AL,M,1956,Gregg,5\r\n",
      "97310:AL,M,1957,Gregg,9\r\n",
      "98541:AL,M,1959,Gregg,5\r\n",
      "98897:AL,M,1960,Gregg,12\r\n",
      "99516:AL,M,1961,Gregg,9\r\n",
      "100025:AL,M,1962,Gregg,10\r\n",
      "100531:AL,M,1963,Gregg,13\r\n",
      "101103:AL,M,1964,Gregg,10\r\n",
      "102088:AL,M,1966,Gregg,11\r\n",
      "102721:AL,M,1967,Gregg,5\r\n",
      "104215:AL,M,1970,Gregg,5\r\n"
     ]
    }
   ],
   "source": [
    ";grep -n -i -w Gregg baby_data/AL.TXT"
   ]
  },
  {
   "cell_type": "code",
   "execution_count": 27,
   "metadata": {},
   "outputs": [],
   "source": [
    "using Glob"
   ]
  },
  {
   "cell_type": "code",
   "execution_count": 28,
   "metadata": {},
   "outputs": [
    {
     "data": {
      "text/plain": [
       "51-element Vector{String}:\n",
       " \"baby_data/AK.TXT\"\n",
       " \"baby_data/AL.TXT\"\n",
       " \"baby_data/AR.TXT\"\n",
       " \"baby_data/AZ.TXT\"\n",
       " \"baby_data/CA.TXT\"\n",
       " \"baby_data/CO.TXT\"\n",
       " \"baby_data/CT.TXT\"\n",
       " \"baby_data/DC.TXT\"\n",
       " \"baby_data/DE.TXT\"\n",
       " \"baby_data/FL.TXT\"\n",
       " \"baby_data/GA.TXT\"\n",
       " \"baby_data/HI.TXT\"\n",
       " \"baby_data/IA.TXT\"\n",
       " ⋮\n",
       " \"baby_data/RI.TXT\"\n",
       " \"baby_data/SC.TXT\"\n",
       " \"baby_data/SD.TXT\"\n",
       " \"baby_data/TN.TXT\"\n",
       " \"baby_data/TX.TXT\"\n",
       " \"baby_data/UT.TXT\"\n",
       " \"baby_data/VA.TXT\"\n",
       " \"baby_data/VT.TXT\"\n",
       " \"baby_data/WA.TXT\"\n",
       " \"baby_data/WI.TXT\"\n",
       " \"baby_data/WV.TXT\"\n",
       " \"baby_data/WY.TXT\""
      ]
     },
     "execution_count": 28,
     "metadata": {},
     "output_type": "execute_result"
    }
   ],
   "source": [
    "files = glob(\"baby_data/*.TXT\")"
   ]
  },
  {
   "cell_type": "code",
   "execution_count": 29,
   "metadata": {},
   "outputs": [
    {
     "data": {
      "text/html": [
       "<table class=\"data-frame\"><thead><tr><th></th><th>Column1</th><th>Column2</th><th>Column3</th><th>Column4</th><th>Column5</th></tr><tr><th></th><th>String</th><th>String</th><th>Int64</th><th>String</th><th>Int64</th></tr></thead><tbody><p>28,962 rows × 5 columns</p><tr><th>1</th><td>AK</td><td>F</td><td>1910</td><td>Mary</td><td>14</td></tr><tr><th>2</th><td>AK</td><td>F</td><td>1910</td><td>Annie</td><td>12</td></tr><tr><th>3</th><td>AK</td><td>F</td><td>1910</td><td>Anna</td><td>10</td></tr><tr><th>4</th><td>AK</td><td>F</td><td>1910</td><td>Margaret</td><td>8</td></tr><tr><th>5</th><td>AK</td><td>F</td><td>1910</td><td>Helen</td><td>7</td></tr><tr><th>6</th><td>AK</td><td>F</td><td>1910</td><td>Elsie</td><td>6</td></tr><tr><th>7</th><td>AK</td><td>F</td><td>1910</td><td>Lucy</td><td>6</td></tr><tr><th>8</th><td>AK</td><td>F</td><td>1910</td><td>Dorothy</td><td>5</td></tr><tr><th>9</th><td>AK</td><td>F</td><td>1911</td><td>Mary</td><td>12</td></tr><tr><th>10</th><td>AK</td><td>F</td><td>1911</td><td>Margaret</td><td>7</td></tr><tr><th>11</th><td>AK</td><td>F</td><td>1911</td><td>Ruth</td><td>7</td></tr><tr><th>12</th><td>AK</td><td>F</td><td>1911</td><td>Annie</td><td>6</td></tr><tr><th>13</th><td>AK</td><td>F</td><td>1911</td><td>Elizabeth</td><td>6</td></tr><tr><th>14</th><td>AK</td><td>F</td><td>1911</td><td>Helen</td><td>6</td></tr><tr><th>15</th><td>AK</td><td>F</td><td>1912</td><td>Mary</td><td>9</td></tr><tr><th>16</th><td>AK</td><td>F</td><td>1912</td><td>Elsie</td><td>8</td></tr><tr><th>17</th><td>AK</td><td>F</td><td>1912</td><td>Agnes</td><td>7</td></tr><tr><th>18</th><td>AK</td><td>F</td><td>1912</td><td>Anna</td><td>7</td></tr><tr><th>19</th><td>AK</td><td>F</td><td>1912</td><td>Helen</td><td>7</td></tr><tr><th>20</th><td>AK</td><td>F</td><td>1912</td><td>Louise</td><td>7</td></tr><tr><th>21</th><td>AK</td><td>F</td><td>1912</td><td>Jean</td><td>6</td></tr><tr><th>22</th><td>AK</td><td>F</td><td>1912</td><td>Ruth</td><td>6</td></tr><tr><th>23</th><td>AK</td><td>F</td><td>1912</td><td>Alice</td><td>5</td></tr><tr><th>24</th><td>AK</td><td>F</td><td>1912</td><td>Esther</td><td>5</td></tr><tr><th>25</th><td>AK</td><td>F</td><td>1912</td><td>Ethel</td><td>5</td></tr><tr><th>26</th><td>AK</td><td>F</td><td>1912</td><td>Margaret</td><td>5</td></tr><tr><th>27</th><td>AK</td><td>F</td><td>1912</td><td>Marie</td><td>5</td></tr><tr><th>28</th><td>AK</td><td>F</td><td>1913</td><td>Mary</td><td>21</td></tr><tr><th>29</th><td>AK</td><td>F</td><td>1913</td><td>Elizabeth</td><td>9</td></tr><tr><th>30</th><td>AK</td><td>F</td><td>1913</td><td>Margaret</td><td>8</td></tr><tr><th>&vellip;</th><td>&vellip;</td><td>&vellip;</td><td>&vellip;</td><td>&vellip;</td><td>&vellip;</td></tr></tbody></table>"
      ],
      "text/latex": [
       "\\begin{tabular}{r|ccccc}\n",
       "\t& Column1 & Column2 & Column3 & Column4 & Column5\\\\\n",
       "\t\\hline\n",
       "\t& String & String & Int64 & String & Int64\\\\\n",
       "\t\\hline\n",
       "\t1 & AK & F & 1910 & Mary & 14 \\\\\n",
       "\t2 & AK & F & 1910 & Annie & 12 \\\\\n",
       "\t3 & AK & F & 1910 & Anna & 10 \\\\\n",
       "\t4 & AK & F & 1910 & Margaret & 8 \\\\\n",
       "\t5 & AK & F & 1910 & Helen & 7 \\\\\n",
       "\t6 & AK & F & 1910 & Elsie & 6 \\\\\n",
       "\t7 & AK & F & 1910 & Lucy & 6 \\\\\n",
       "\t8 & AK & F & 1910 & Dorothy & 5 \\\\\n",
       "\t9 & AK & F & 1911 & Mary & 12 \\\\\n",
       "\t10 & AK & F & 1911 & Margaret & 7 \\\\\n",
       "\t11 & AK & F & 1911 & Ruth & 7 \\\\\n",
       "\t12 & AK & F & 1911 & Annie & 6 \\\\\n",
       "\t13 & AK & F & 1911 & Elizabeth & 6 \\\\\n",
       "\t14 & AK & F & 1911 & Helen & 6 \\\\\n",
       "\t15 & AK & F & 1912 & Mary & 9 \\\\\n",
       "\t16 & AK & F & 1912 & Elsie & 8 \\\\\n",
       "\t17 & AK & F & 1912 & Agnes & 7 \\\\\n",
       "\t18 & AK & F & 1912 & Anna & 7 \\\\\n",
       "\t19 & AK & F & 1912 & Helen & 7 \\\\\n",
       "\t20 & AK & F & 1912 & Louise & 7 \\\\\n",
       "\t21 & AK & F & 1912 & Jean & 6 \\\\\n",
       "\t22 & AK & F & 1912 & Ruth & 6 \\\\\n",
       "\t23 & AK & F & 1912 & Alice & 5 \\\\\n",
       "\t24 & AK & F & 1912 & Esther & 5 \\\\\n",
       "\t25 & AK & F & 1912 & Ethel & 5 \\\\\n",
       "\t26 & AK & F & 1912 & Margaret & 5 \\\\\n",
       "\t27 & AK & F & 1912 & Marie & 5 \\\\\n",
       "\t28 & AK & F & 1913 & Mary & 21 \\\\\n",
       "\t29 & AK & F & 1913 & Elizabeth & 9 \\\\\n",
       "\t30 & AK & F & 1913 & Margaret & 8 \\\\\n",
       "\t$\\dots$ & $\\dots$ & $\\dots$ & $\\dots$ & $\\dots$ & $\\dots$ \\\\\n",
       "\\end{tabular}\n"
      ],
      "text/plain": [
       "\u001b[1m28962×5 DataFrame\u001b[0m\n",
       "\u001b[1m   Row \u001b[0m│\u001b[1m Column1 \u001b[0m\u001b[1m Column2 \u001b[0m\u001b[1m Column3 \u001b[0m\u001b[1m Column4   \u001b[0m\u001b[1m Column5 \u001b[0m\n",
       "\u001b[1m       \u001b[0m│\u001b[90m String  \u001b[0m\u001b[90m String  \u001b[0m\u001b[90m Int64   \u001b[0m\u001b[90m String    \u001b[0m\u001b[90m Int64   \u001b[0m\n",
       "───────┼───────────────────────────────────────────────\n",
       "     1 │ AK       F           1910  Mary            14\n",
       "     2 │ AK       F           1910  Annie           12\n",
       "     3 │ AK       F           1910  Anna            10\n",
       "     4 │ AK       F           1910  Margaret         8\n",
       "     5 │ AK       F           1910  Helen            7\n",
       "     6 │ AK       F           1910  Elsie            6\n",
       "     7 │ AK       F           1910  Lucy             6\n",
       "     8 │ AK       F           1910  Dorothy          5\n",
       "     9 │ AK       F           1911  Mary            12\n",
       "    10 │ AK       F           1911  Margaret         7\n",
       "    11 │ AK       F           1911  Ruth             7\n",
       "   ⋮   │    ⋮        ⋮        ⋮         ⋮         ⋮\n",
       " 28953 │ AK       M           2019  Milo             5\n",
       " 28954 │ AK       M           2019  Myles            5\n",
       " 28955 │ AK       M           2019  Nicolas          5\n",
       " 28956 │ AK       M           2019  Nolan            5\n",
       " 28957 │ AK       M           2019  Oscar            5\n",
       " 28958 │ AK       M           2019  Patrick          5\n",
       " 28959 │ AK       M           2019  Ronin            5\n",
       " 28960 │ AK       M           2019  Sterling         5\n",
       " 28961 │ AK       M           2019  Titus            5\n",
       " 28962 │ AK       M           2019  Tucker           5\n",
       "\u001b[36m                                     28941 rows omitted\u001b[0m"
      ]
     },
     "execution_count": 29,
     "metadata": {},
     "output_type": "execute_result"
    }
   ],
   "source": [
    "df = DataFrame.(CSV.File.(files[1], header=false))"
   ]
  },
  {
   "cell_type": "code",
   "execution_count": 30,
   "metadata": {},
   "outputs": [
    {
     "data": {
      "text/plain": [
       "DataFrame"
      ]
     },
     "execution_count": 30,
     "metadata": {},
     "output_type": "execute_result"
    }
   ],
   "source": [
    "typeof(df)"
   ]
  },
  {
   "cell_type": "code",
   "execution_count": 31,
   "metadata": {
    "scrolled": false
   },
   "outputs": [],
   "source": [
    "df = DataFrame()\n",
    "\n",
    "for file in files\n",
    "    xf = DataFrame(CSV.File.(file, header=false))\n",
    "    df = append!(df, xf)\n",
    "end"
   ]
  },
  {
   "cell_type": "code",
   "execution_count": 32,
   "metadata": {},
   "outputs": [
    {
     "data": {
      "text/plain": [
       "DataFrame"
      ]
     },
     "execution_count": 32,
     "metadata": {},
     "output_type": "execute_result"
    }
   ],
   "source": [
    "typeof(df)"
   ]
  },
  {
   "cell_type": "code",
   "execution_count": 34,
   "metadata": {},
   "outputs": [
    {
     "data": {
      "text/html": [
       "<table class=\"data-frame\"><thead><tr><th></th><th>Column1</th><th>Column2</th><th>Column3</th><th>Column4</th><th>Column5</th></tr><tr><th></th><th>String</th><th>String</th><th>Int64</th><th>String</th><th>Int64</th></tr></thead><tbody><p>5 rows × 5 columns</p><tr><th>1</th><td>AK</td><td>F</td><td>1910</td><td>Mary</td><td>14</td></tr><tr><th>2</th><td>AK</td><td>F</td><td>1910</td><td>Annie</td><td>12</td></tr><tr><th>3</th><td>AK</td><td>F</td><td>1910</td><td>Anna</td><td>10</td></tr><tr><th>4</th><td>AK</td><td>F</td><td>1910</td><td>Margaret</td><td>8</td></tr><tr><th>5</th><td>AK</td><td>F</td><td>1910</td><td>Helen</td><td>7</td></tr></tbody></table>"
      ],
      "text/latex": [
       "\\begin{tabular}{r|ccccc}\n",
       "\t& Column1 & Column2 & Column3 & Column4 & Column5\\\\\n",
       "\t\\hline\n",
       "\t& String & String & Int64 & String & Int64\\\\\n",
       "\t\\hline\n",
       "\t1 & AK & F & 1910 & Mary & 14 \\\\\n",
       "\t2 & AK & F & 1910 & Annie & 12 \\\\\n",
       "\t3 & AK & F & 1910 & Anna & 10 \\\\\n",
       "\t4 & AK & F & 1910 & Margaret & 8 \\\\\n",
       "\t5 & AK & F & 1910 & Helen & 7 \\\\\n",
       "\\end{tabular}\n"
      ],
      "text/plain": [
       "\u001b[1m5×5 DataFrame\u001b[0m\n",
       "\u001b[1m Row \u001b[0m│\u001b[1m Column1 \u001b[0m\u001b[1m Column2 \u001b[0m\u001b[1m Column3 \u001b[0m\u001b[1m Column4  \u001b[0m\u001b[1m Column5 \u001b[0m\n",
       "\u001b[1m     \u001b[0m│\u001b[90m String  \u001b[0m\u001b[90m String  \u001b[0m\u001b[90m Int64   \u001b[0m\u001b[90m String   \u001b[0m\u001b[90m Int64   \u001b[0m\n",
       "─────┼──────────────────────────────────────────────\n",
       "   1 │ AK       F           1910  Mary           14\n",
       "   2 │ AK       F           1910  Annie          12\n",
       "   3 │ AK       F           1910  Anna           10\n",
       "   4 │ AK       F           1910  Margaret        8\n",
       "   5 │ AK       F           1910  Helen           7"
      ]
     },
     "execution_count": 34,
     "metadata": {},
     "output_type": "execute_result"
    }
   ],
   "source": [
    "first(df, 5)"
   ]
  },
  {
   "cell_type": "code",
   "execution_count": 35,
   "metadata": {},
   "outputs": [
    {
     "data": {
      "text/html": [
       "<table class=\"data-frame\"><thead><tr><th></th><th>Column1</th><th>Column2</th><th>Column3</th><th>Column4</th><th>Column5</th></tr><tr><th></th><th>String</th><th>String</th><th>Int64</th><th>String</th><th>Int64</th></tr></thead><tbody><p>5 rows × 5 columns</p><tr><th>1</th><td>WY</td><td>M</td><td>2019</td><td>Theo</td><td>5</td></tr><tr><th>2</th><td>WY</td><td>M</td><td>2019</td><td>Tristan</td><td>5</td></tr><tr><th>3</th><td>WY</td><td>M</td><td>2019</td><td>Vincent</td><td>5</td></tr><tr><th>4</th><td>WY</td><td>M</td><td>2019</td><td>Warren</td><td>5</td></tr><tr><th>5</th><td>WY</td><td>M</td><td>2019</td><td>Waylon</td><td>5</td></tr></tbody></table>"
      ],
      "text/latex": [
       "\\begin{tabular}{r|ccccc}\n",
       "\t& Column1 & Column2 & Column3 & Column4 & Column5\\\\\n",
       "\t\\hline\n",
       "\t& String & String & Int64 & String & Int64\\\\\n",
       "\t\\hline\n",
       "\t1 & WY & M & 2019 & Theo & 5 \\\\\n",
       "\t2 & WY & M & 2019 & Tristan & 5 \\\\\n",
       "\t3 & WY & M & 2019 & Vincent & 5 \\\\\n",
       "\t4 & WY & M & 2019 & Warren & 5 \\\\\n",
       "\t5 & WY & M & 2019 & Waylon & 5 \\\\\n",
       "\\end{tabular}\n"
      ],
      "text/plain": [
       "\u001b[1m5×5 DataFrame\u001b[0m\n",
       "\u001b[1m Row \u001b[0m│\u001b[1m Column1 \u001b[0m\u001b[1m Column2 \u001b[0m\u001b[1m Column3 \u001b[0m\u001b[1m Column4 \u001b[0m\u001b[1m Column5 \u001b[0m\n",
       "\u001b[1m     \u001b[0m│\u001b[90m String  \u001b[0m\u001b[90m String  \u001b[0m\u001b[90m Int64   \u001b[0m\u001b[90m String  \u001b[0m\u001b[90m Int64   \u001b[0m\n",
       "─────┼─────────────────────────────────────────────\n",
       "   1 │ WY       M           2019  Theo           5\n",
       "   2 │ WY       M           2019  Tristan        5\n",
       "   3 │ WY       M           2019  Vincent        5\n",
       "   4 │ WY       M           2019  Warren         5\n",
       "   5 │ WY       M           2019  Waylon         5"
      ]
     },
     "execution_count": 35,
     "metadata": {},
     "output_type": "execute_result"
    }
   ],
   "source": [
    "last(df, 5)"
   ]
  },
  {
   "cell_type": "code",
   "execution_count": 36,
   "metadata": {},
   "outputs": [
    {
     "data": {
      "text/plain": [
       "(6122890, 5)"
      ]
     },
     "execution_count": 36,
     "metadata": {},
     "output_type": "execute_result"
    }
   ],
   "source": [
    "size(df)"
   ]
  },
  {
   "cell_type": "code",
   "execution_count": 37,
   "metadata": {},
   "outputs": [
    {
     "data": {
      "text/html": [
       "<table class=\"data-frame\"><thead><tr><th></th><th>State</th><th>Gender</th><th>Period</th><th>Name</th><th>Total</th></tr><tr><th></th><th>String</th><th>String</th><th>Int64</th><th>String</th><th>Int64</th></tr></thead><tbody><p>6,122,890 rows × 5 columns</p><tr><th>1</th><td>AK</td><td>F</td><td>1910</td><td>Mary</td><td>14</td></tr><tr><th>2</th><td>AK</td><td>F</td><td>1910</td><td>Annie</td><td>12</td></tr><tr><th>3</th><td>AK</td><td>F</td><td>1910</td><td>Anna</td><td>10</td></tr><tr><th>4</th><td>AK</td><td>F</td><td>1910</td><td>Margaret</td><td>8</td></tr><tr><th>5</th><td>AK</td><td>F</td><td>1910</td><td>Helen</td><td>7</td></tr><tr><th>6</th><td>AK</td><td>F</td><td>1910</td><td>Elsie</td><td>6</td></tr><tr><th>7</th><td>AK</td><td>F</td><td>1910</td><td>Lucy</td><td>6</td></tr><tr><th>8</th><td>AK</td><td>F</td><td>1910</td><td>Dorothy</td><td>5</td></tr><tr><th>9</th><td>AK</td><td>F</td><td>1911</td><td>Mary</td><td>12</td></tr><tr><th>10</th><td>AK</td><td>F</td><td>1911</td><td>Margaret</td><td>7</td></tr><tr><th>11</th><td>AK</td><td>F</td><td>1911</td><td>Ruth</td><td>7</td></tr><tr><th>12</th><td>AK</td><td>F</td><td>1911</td><td>Annie</td><td>6</td></tr><tr><th>13</th><td>AK</td><td>F</td><td>1911</td><td>Elizabeth</td><td>6</td></tr><tr><th>14</th><td>AK</td><td>F</td><td>1911</td><td>Helen</td><td>6</td></tr><tr><th>15</th><td>AK</td><td>F</td><td>1912</td><td>Mary</td><td>9</td></tr><tr><th>16</th><td>AK</td><td>F</td><td>1912</td><td>Elsie</td><td>8</td></tr><tr><th>17</th><td>AK</td><td>F</td><td>1912</td><td>Agnes</td><td>7</td></tr><tr><th>18</th><td>AK</td><td>F</td><td>1912</td><td>Anna</td><td>7</td></tr><tr><th>19</th><td>AK</td><td>F</td><td>1912</td><td>Helen</td><td>7</td></tr><tr><th>20</th><td>AK</td><td>F</td><td>1912</td><td>Louise</td><td>7</td></tr><tr><th>21</th><td>AK</td><td>F</td><td>1912</td><td>Jean</td><td>6</td></tr><tr><th>22</th><td>AK</td><td>F</td><td>1912</td><td>Ruth</td><td>6</td></tr><tr><th>23</th><td>AK</td><td>F</td><td>1912</td><td>Alice</td><td>5</td></tr><tr><th>24</th><td>AK</td><td>F</td><td>1912</td><td>Esther</td><td>5</td></tr><tr><th>25</th><td>AK</td><td>F</td><td>1912</td><td>Ethel</td><td>5</td></tr><tr><th>26</th><td>AK</td><td>F</td><td>1912</td><td>Margaret</td><td>5</td></tr><tr><th>27</th><td>AK</td><td>F</td><td>1912</td><td>Marie</td><td>5</td></tr><tr><th>28</th><td>AK</td><td>F</td><td>1913</td><td>Mary</td><td>21</td></tr><tr><th>29</th><td>AK</td><td>F</td><td>1913</td><td>Elizabeth</td><td>9</td></tr><tr><th>30</th><td>AK</td><td>F</td><td>1913</td><td>Margaret</td><td>8</td></tr><tr><th>&vellip;</th><td>&vellip;</td><td>&vellip;</td><td>&vellip;</td><td>&vellip;</td><td>&vellip;</td></tr></tbody></table>"
      ],
      "text/latex": [
       "\\begin{tabular}{r|ccccc}\n",
       "\t& State & Gender & Period & Name & Total\\\\\n",
       "\t\\hline\n",
       "\t& String & String & Int64 & String & Int64\\\\\n",
       "\t\\hline\n",
       "\t1 & AK & F & 1910 & Mary & 14 \\\\\n",
       "\t2 & AK & F & 1910 & Annie & 12 \\\\\n",
       "\t3 & AK & F & 1910 & Anna & 10 \\\\\n",
       "\t4 & AK & F & 1910 & Margaret & 8 \\\\\n",
       "\t5 & AK & F & 1910 & Helen & 7 \\\\\n",
       "\t6 & AK & F & 1910 & Elsie & 6 \\\\\n",
       "\t7 & AK & F & 1910 & Lucy & 6 \\\\\n",
       "\t8 & AK & F & 1910 & Dorothy & 5 \\\\\n",
       "\t9 & AK & F & 1911 & Mary & 12 \\\\\n",
       "\t10 & AK & F & 1911 & Margaret & 7 \\\\\n",
       "\t11 & AK & F & 1911 & Ruth & 7 \\\\\n",
       "\t12 & AK & F & 1911 & Annie & 6 \\\\\n",
       "\t13 & AK & F & 1911 & Elizabeth & 6 \\\\\n",
       "\t14 & AK & F & 1911 & Helen & 6 \\\\\n",
       "\t15 & AK & F & 1912 & Mary & 9 \\\\\n",
       "\t16 & AK & F & 1912 & Elsie & 8 \\\\\n",
       "\t17 & AK & F & 1912 & Agnes & 7 \\\\\n",
       "\t18 & AK & F & 1912 & Anna & 7 \\\\\n",
       "\t19 & AK & F & 1912 & Helen & 7 \\\\\n",
       "\t20 & AK & F & 1912 & Louise & 7 \\\\\n",
       "\t21 & AK & F & 1912 & Jean & 6 \\\\\n",
       "\t22 & AK & F & 1912 & Ruth & 6 \\\\\n",
       "\t23 & AK & F & 1912 & Alice & 5 \\\\\n",
       "\t24 & AK & F & 1912 & Esther & 5 \\\\\n",
       "\t25 & AK & F & 1912 & Ethel & 5 \\\\\n",
       "\t26 & AK & F & 1912 & Margaret & 5 \\\\\n",
       "\t27 & AK & F & 1912 & Marie & 5 \\\\\n",
       "\t28 & AK & F & 1913 & Mary & 21 \\\\\n",
       "\t29 & AK & F & 1913 & Elizabeth & 9 \\\\\n",
       "\t30 & AK & F & 1913 & Margaret & 8 \\\\\n",
       "\t$\\dots$ & $\\dots$ & $\\dots$ & $\\dots$ & $\\dots$ & $\\dots$ \\\\\n",
       "\\end{tabular}\n"
      ],
      "text/plain": [
       "\u001b[1m6122890×5 DataFrame\u001b[0m\n",
       "\u001b[1m     Row \u001b[0m│\u001b[1m State  \u001b[0m\u001b[1m Gender \u001b[0m\u001b[1m Period \u001b[0m\u001b[1m Name      \u001b[0m\u001b[1m Total \u001b[0m\n",
       "\u001b[1m         \u001b[0m│\u001b[90m String \u001b[0m\u001b[90m String \u001b[0m\u001b[90m Int64  \u001b[0m\u001b[90m String    \u001b[0m\u001b[90m Int64 \u001b[0m\n",
       "─────────┼──────────────────────────────────────────\n",
       "       1 │ AK      F         1910  Mary          14\n",
       "       2 │ AK      F         1910  Annie         12\n",
       "       3 │ AK      F         1910  Anna          10\n",
       "       4 │ AK      F         1910  Margaret       8\n",
       "       5 │ AK      F         1910  Helen          7\n",
       "       6 │ AK      F         1910  Elsie          6\n",
       "       7 │ AK      F         1910  Lucy           6\n",
       "       8 │ AK      F         1910  Dorothy        5\n",
       "       9 │ AK      F         1911  Mary          12\n",
       "      10 │ AK      F         1911  Margaret       7\n",
       "      11 │ AK      F         1911  Ruth           7\n",
       "    ⋮    │   ⋮       ⋮       ⋮         ⋮        ⋮\n",
       " 6122881 │ WY      M         2019  Paxton         5\n",
       " 6122882 │ WY      M         2019  Porter         5\n",
       " 6122883 │ WY      M         2019  Richard        5\n",
       " 6122884 │ WY      M         2019  Ronan          5\n",
       " 6122885 │ WY      M         2019  Tate           5\n",
       " 6122886 │ WY      M         2019  Theo           5\n",
       " 6122887 │ WY      M         2019  Tristan        5\n",
       " 6122888 │ WY      M         2019  Vincent        5\n",
       " 6122889 │ WY      M         2019  Warren         5\n",
       " 6122890 │ WY      M         2019  Waylon         5\n",
       "\u001b[36m                                6122869 rows omitted\u001b[0m"
      ]
     },
     "execution_count": 37,
     "metadata": {},
     "output_type": "execute_result"
    }
   ],
   "source": [
    "df = rename(df,\n",
    "    :Column1 => :State,\n",
    "    :Column2 => :Gender,\n",
    "    :Column3 => :Period,\n",
    "    :Column4 => :Name,\n",
    "    :Column5 => :Total\n",
    ")"
   ]
  },
  {
   "cell_type": "code",
   "execution_count": 38,
   "metadata": {},
   "outputs": [
    {
     "data": {
      "text/plain": [
       "2-element Vector{String}:\n",
       " \"F\"\n",
       " \"M\""
      ]
     },
     "execution_count": 38,
     "metadata": {},
     "output_type": "execute_result"
    }
   ],
   "source": [
    "unique(df.Gender)"
   ]
  },
  {
   "cell_type": "code",
   "execution_count": 39,
   "metadata": {},
   "outputs": [
    {
     "data": {
      "text/plain": [
       "314092866"
      ]
     },
     "execution_count": 39,
     "metadata": {},
     "output_type": "execute_result"
    }
   ],
   "source": [
    "sum(df.Total)"
   ]
  },
  {
   "cell_type": "code",
   "execution_count": 61,
   "metadata": {},
   "outputs": [
    {
     "data": {
      "application/vnd.vegalite.v4+json": {
       "data": {
        "values": [
         {
          "SumTotal": 287,
          "Years": 1910
         },
         {
          "SumTotal": 279,
          "Years": 1911
         },
         {
          "SumTotal": 687,
          "Years": 1912
         },
         {
          "SumTotal": 837,
          "Years": 1913
         },
         {
          "SumTotal": 1102,
          "Years": 1914
         },
         {
          "SumTotal": 1434,
          "Years": 1915
         },
         {
          "SumTotal": 1381,
          "Years": 1916
         },
         {
          "SumTotal": 1487,
          "Years": 1917
         },
         {
          "SumTotal": 1690,
          "Years": 1918
         },
         {
          "SumTotal": 1582,
          "Years": 1919
         },
         {
          "SumTotal": 1606,
          "Years": 1920
         },
         {
          "SumTotal": 1704,
          "Years": 1921
         },
         {
          "SumTotal": 1600,
          "Years": 1922
         },
         {
          "SumTotal": 1625,
          "Years": 1923
         },
         {
          "SumTotal": 1748,
          "Years": 1924
         },
         {
          "SumTotal": 1576,
          "Years": 1925
         },
         {
          "SumTotal": 1547,
          "Years": 1926
         },
         {
          "SumTotal": 1502,
          "Years": 1927
         },
         {
          "SumTotal": 1421,
          "Years": 1928
         },
         {
          "SumTotal": 1300,
          "Years": 1929
         },
         {
          "SumTotal": 1305,
          "Years": 1930
         },
         {
          "SumTotal": 1227,
          "Years": 1931
         },
         {
          "SumTotal": 1198,
          "Years": 1932
         },
         {
          "SumTotal": 1218,
          "Years": 1933
         },
         {
          "SumTotal": 1258,
          "Years": 1934
         },
         {
          "SumTotal": 1304,
          "Years": 1935
         },
         {
          "SumTotal": 1368,
          "Years": 1936
         },
         {
          "SumTotal": 1341,
          "Years": 1937
         },
         {
          "SumTotal": 1370,
          "Years": 1938
         },
         {
          "SumTotal": 1407,
          "Years": 1939
         },
         {
          "SumTotal": 1555,
          "Years": 1940
         },
         {
          "SumTotal": 1995,
          "Years": 1941
         },
         {
          "SumTotal": 2527,
          "Years": 1942
         },
         {
          "SumTotal": 3006,
          "Years": 1943
         },
         {
          "SumTotal": 3137,
          "Years": 1944
         },
         {
          "SumTotal": 3654,
          "Years": 1945
         },
         {
          "SumTotal": 4259,
          "Years": 1946
         },
         {
          "SumTotal": 4639,
          "Years": 1947
         },
         {
          "SumTotal": 4509,
          "Years": 1948
         },
         {
          "SumTotal": 4605,
          "Years": 1949
         },
         {
          "SumTotal": 4438,
          "Years": 1950
         },
         {
          "SumTotal": 4824,
          "Years": 1951
         },
         {
          "SumTotal": 5921,
          "Years": 1952
         },
         {
          "SumTotal": 6185,
          "Years": 1953
         },
         {
          "SumTotal": 6374,
          "Years": 1954
         },
         {
          "SumTotal": 6624,
          "Years": 1955
         },
         {
          "SumTotal": 6426,
          "Years": 1956
         },
         {
          "SumTotal": 8198,
          "Years": 1957
         },
         {
          "SumTotal": 7939,
          "Years": 1958
         },
         {
          "SumTotal": 7388,
          "Years": 1959
         },
         {
          "SumTotal": 6903,
          "Years": 1960
         },
         {
          "SumTotal": 7286,
          "Years": 1961
         },
         {
          "SumTotal": 7418,
          "Years": 1962
         },
         {
          "SumTotal": 7401,
          "Years": 1963
         },
         {
          "SumTotal": 7031,
          "Years": 1964
         },
         {
          "SumTotal": 6278,
          "Years": 1965
         },
         {
          "SumTotal": 6215,
          "Years": 1966
         },
         {
          "SumTotal": 6371,
          "Years": 1967
         },
         {
          "SumTotal": 6280,
          "Years": 1968
         },
         {
          "SumTotal": 6845,
          "Years": 1969
         },
         {
          "SumTotal": 6621,
          "Years": 1970
         },
         {
          "SumTotal": 6086,
          "Years": 1971
         },
         {
          "SumTotal": 4990,
          "Years": 1972
         },
         {
          "SumTotal": 4715,
          "Years": 1973
         },
         {
          "SumTotal": 5122,
          "Years": 1974
         },
         {
          "SumTotal": 4754,
          "Years": 1975
         },
         {
          "SumTotal": 4792,
          "Years": 1976
         },
         {
          "SumTotal": 4817,
          "Years": 1977
         },
         {
          "SumTotal": 4827,
          "Years": 1978
         },
         {
          "SumTotal": 4989,
          "Years": 1979
         },
         {
          "SumTotal": 5246,
          "Years": 1980
         },
         {
          "SumTotal": 5386,
          "Years": 1981
         },
         {
          "SumTotal": 5365,
          "Years": 1982
         },
         {
          "SumTotal": 4623,
          "Years": 1983
         },
         {
          "SumTotal": 4129,
          "Years": 1984
         },
         {
          "SumTotal": 3891,
          "Years": 1985
         },
         {
          "SumTotal": 3540,
          "Years": 1986
         },
         {
          "SumTotal": 3422,
          "Years": 1987
         },
         {
          "SumTotal": 3355,
          "Years": 1988
         },
         {
          "SumTotal": 3112,
          "Years": 1989
         },
         {
          "SumTotal": 3063,
          "Years": 1990
         },
         {
          "SumTotal": 2785,
          "Years": 1991
         },
         {
          "SumTotal": 2642,
          "Years": 1992
         },
         {
          "SumTotal": 2414,
          "Years": 1993
         },
         {
          "SumTotal": 2533,
          "Years": 1994
         },
         {
          "SumTotal": 2428,
          "Years": 1995
         },
         {
          "SumTotal": 2775,
          "Years": 1996
         },
         {
          "SumTotal": 2899,
          "Years": 1997
         },
         {
          "SumTotal": 3138,
          "Years": 1998
         },
         {
          "SumTotal": 3386,
          "Years": 1999
         },
         {
          "SumTotal": 3690,
          "Years": 2000
         },
         {
          "SumTotal": 3664,
          "Years": 2001
         },
         {
          "SumTotal": 3530,
          "Years": 2002
         },
         {
          "SumTotal": 3678,
          "Years": 2003
         },
         {
          "SumTotal": 3526,
          "Years": 2004
         },
         {
          "SumTotal": 3168,
          "Years": 2005
         },
         {
          "SumTotal": 3040,
          "Years": 2006
         },
         {
          "SumTotal": 2708,
          "Years": 2007
         },
         {
          "SumTotal": 2338,
          "Years": 2008
         },
         {
          "SumTotal": 1989,
          "Years": 2009
         },
         {
          "SumTotal": 1572,
          "Years": 2010
         },
         {
          "SumTotal": 1286,
          "Years": 2011
         },
         {
          "SumTotal": 1202,
          "Years": 2012
         },
         {
          "SumTotal": 1094,
          "Years": 2013
         },
         {
          "SumTotal": 997,
          "Years": 2014
         },
         {
          "SumTotal": 871,
          "Years": 2015
         },
         {
          "SumTotal": 775,
          "Years": 2016
         },
         {
          "SumTotal": 680,
          "Years": 2017
         },
         {
          "SumTotal": 555,
          "Years": 2018
         },
         {
          "SumTotal": 535,
          "Years": 2019
         }
        ]
       },
       "encoding": {
        "x": {
         "field": "Years",
         "type": "nominal"
        },
        "y": {
         "field": "SumTotal",
         "type": "quantitative"
        }
       },
       "height": 400,
       "mark": "area",
       "width": 750
      },
      "image/png": "[encoded data removed]",
      "image/svg+xml": [
       "<?xml version=\"1.0\" encoding=\"utf-8\"?>\n",
       "<!DOCTYPE svg PUBLIC \"-//W3C//DTD SVG 1.1//EN\" \"http://www.w3.org/Graphics/SVG/1.1/DTD/svg11.dtd\">\n",
       "<svg xmlns=\"http://www.w3.org/2000/svg\" xmlns:xlink=\"http://www.w3.org/1999/xlink\" version=\"1.1\" class=\"marks\" width=\"811\" height=\"462\" viewBox=\"0 0 811 462\"><rect width=\"811\" height=\"462\" fill=\"white\"/><g fill=\"none\" stroke-miterlimit=\"10\" transform=\"translate(54,10)\"><g class=\"mark-group role-frame root\" role=\"graphics-object\" aria-roledescription=\"group mark container\"><g transform=\"translate(0,0)\"><path class=\"background\" aria-hidden=\"true\" d=\"M0.5,0.5h750v400h-750Z\" stroke=\"#ddd\"/><g><g class=\"mark-group role-axis\" aria-hidden=\"true\"><g transform=\"translate(0.5,0.5)\"><path class=\"background\" aria-hidden=\"true\" d=\"M0,0h0v0h0Z\" pointer-events=\"none\"/><g><g class=\"mark-rule role-axis-grid\" pointer-events=\"none\"><line transform=\"translate(0,400)\" x2=\"750\" y2=\"0\" stroke=\"#ddd\" stroke-width=\"1\" opacity=\"1\"/><line transform=\"translate(0,356)\" x2=\"750\" y2=\"0\" stroke=\"#ddd\" stroke-width=\"1\" opacity=\"1\"/><line transform=\"translate(0,311)\" x2=\"750\" y2=\"0\" stroke=\"#ddd\" stroke-width=\"1\" opacity=\"1\"/><line transform=\"translate(0,267)\" x2=\"750\" y2=\"0\" stroke=\"#ddd\" stroke-width=\"1\" opacity=\"1\"/><line transform=\"translate(0,222)\" x2=\"750\" y2=\"0\" stroke=\"#ddd\" stroke-width=\"1\" opacity=\"1\"/><line transform=\"translate(0,178)\" x2=\"750\" y2=\"0\" stroke=\"#ddd\" stroke-width=\"1\" opacity=\"1\"/><line transform=\"translate(0,133)\" x2=\"750\" y2=\"0\" stroke=\"#ddd\" stroke-width=\"1\" opacity=\"1\"/><line transform=\"translate(0,89)\" x2=\"750\" y2=\"0\" stroke=\"#ddd\" stroke-width=\"1\" opacity=\"1\"/><line transform=\"translate(0,44)\" x2=\"750\" y2=\"0\" stroke=\"#ddd\" stroke-width=\"1\" opacity=\"1\"/><line transform=\"translate(0,0)\" x2=\"750\" y2=\"0\" stroke=\"#ddd\" stroke-width=\"1\" opacity=\"1\"/></g></g><path class=\"foreground\" aria-hidden=\"true\" d=\"\" pointer-events=\"none\" display=\"none\"/></g></g><g class=\"mark-group role-axis\" role=\"graphics-symbol\" aria-roledescription=\"axis\" aria-label=\"X-axis titled 'Years' for a discrete scale with 110 values: 1910, 1911, 1912, 1913, 1914, ending with 2019\"><g transform=\"translate(0.5,400.5)\"><path class=\"background\" aria-hidden=\"true\" d=\"M0,0h0v0h0Z\" pointer-events=\"none\"/><g><g class=\"mark-rule role-axis-tick\" pointer-events=\"none\"><line transform=\"translate(3,0)\" x2=\"0\" y2=\"5\" stroke=\"#888\" stroke-width=\"1\" opacity=\"1\"/><line transform=\"translate(10,0)\" x2=\"0\" y2=\"5\" stroke=\"#888\" stroke-width=\"1\" opacity=\"1\"/><line transform=\"translate(17,0)\" x2=\"0\" y2=\"5\" stroke=\"#888\" stroke-width=\"1\" opacity=\"1\"/><line transform=\"translate(24,0)\" x2=\"0\" y2=\"5\" stroke=\"#888\" stroke-width=\"1\" opacity=\"1\"/><line transform=\"translate(31,0)\" x2=\"0\" y2=\"5\" stroke=\"#888\" stroke-width=\"1\" opacity=\"1\"/><line transform=\"translate(37,0)\" x2=\"0\" y2=\"5\" stroke=\"#888\" stroke-width=\"1\" opacity=\"1\"/><line transform=\"translate(44,0)\" x2=\"0\" y2=\"5\" stroke=\"#888\" stroke-width=\"1\" opacity=\"1\"/><line transform=\"translate(51,0)\" x2=\"0\" y2=\"5\" stroke=\"#888\" stroke-width=\"1\" opacity=\"1\"/><line transform=\"translate(58,0)\" x2=\"0\" y2=\"5\" stroke=\"#888\" stroke-width=\"1\" opacity=\"1\"/><line transform=\"translate(65,0)\" x2=\"0\" y2=\"5\" stroke=\"#888\" stroke-width=\"1\" opacity=\"1\"/><line transform=\"translate(72,0)\" x2=\"0\" y2=\"5\" stroke=\"#888\" stroke-width=\"1\" opacity=\"1\"/><line transform=\"translate(78,0)\" x2=\"0\" y2=\"5\" stroke=\"#888\" stroke-width=\"1\" opacity=\"1\"/><line transform=\"translate(85,0)\" x2=\"0\" y2=\"5\" stroke=\"#888\" stroke-width=\"1\" opacity=\"1\"/><line transform=\"translate(92,0)\" x2=\"0\" y2=\"5\" stroke=\"#888\" stroke-width=\"1\" opacity=\"1\"/><line transform=\"translate(99,0)\" x2=\"0\" y2=\"5\" stroke=\"#888\" stroke-width=\"1\" opacity=\"1\"/><line transform=\"translate(106,0)\" x2=\"0\" y2=\"5\" stroke=\"#888\" stroke-width=\"1\" opacity=\"1\"/><line transform=\"translate(112,0)\" x2=\"0\" y2=\"5\" stroke=\"#888\" stroke-width=\"1\" opacity=\"1\"/><line transform=\"translate(119,0)\" x2=\"0\" y2=\"5\" stroke=\"#888\" stroke-width=\"1\" opacity=\"1\"/><line transform=\"translate(126,0)\" x2=\"0\" y2=\"5\" stroke=\"#888\" stroke-width=\"1\" opacity=\"1\"/><line transform=\"translate(133,0)\" x2=\"0\" y2=\"5\" stroke=\"#888\" stroke-width=\"1\" opacity=\"1\"/><line transform=\"translate(140,0)\" x2=\"0\" y2=\"5\" stroke=\"#888\" stroke-width=\"1\" opacity=\"1\"/><line transform=\"translate(147,0)\" x2=\"0\" y2=\"5\" stroke=\"#888\" stroke-width=\"1\" opacity=\"1\"/><line transform=\"translate(153,0)\" x2=\"0\" y2=\"5\" stroke=\"#888\" stroke-width=\"1\" opacity=\"1\"/><line transform=\"translate(160,0)\" x2=\"0\" y2=\"5\" stroke=\"#888\" stroke-width=\"1\" opacity=\"1\"/><line transform=\"translate(167,0)\" x2=\"0\" y2=\"5\" stroke=\"#888\" stroke-width=\"1\" opacity=\"1\"/><line transform=\"translate(174,0)\" x2=\"0\" y2=\"5\" stroke=\"#888\" stroke-width=\"1\" opacity=\"1\"/><line transform=\"translate(181,0)\" x2=\"0\" y2=\"5\" stroke=\"#888\" stroke-width=\"1\" opacity=\"1\"/><line transform=\"translate(187,0)\" x2=\"0\" y2=\"5\" stroke=\"#888\" stroke-width=\"1\" opacity=\"1\"/><line transform=\"translate(194,0)\" x2=\"0\" y2=\"5\" stroke=\"#888\" stroke-width=\"1\" opacity=\"1\"/><line transform=\"translate(201,0)\" x2=\"0\" y2=\"5\" stroke=\"#888\" stroke-width=\"1\" opacity=\"1\"/><line transform=\"translate(208,0)\" x2=\"0\" y2=\"5\" stroke=\"#888\" stroke-width=\"1\" opacity=\"1\"/><line transform=\"translate(215,0)\" x2=\"0\" y2=\"5\" stroke=\"#888\" stroke-width=\"1\" opacity=\"1\"/><line transform=\"translate(222,0)\" x2=\"0\" y2=\"5\" stroke=\"#888\" stroke-width=\"1\" opacity=\"1\"/><line transform=\"translate(228,0)\" x2=\"0\" y2=\"5\" stroke=\"#888\" stroke-width=\"1\" opacity=\"1\"/><line transform=\"translate(235,0)\" x2=\"0\" y2=\"5\" stroke=\"#888\" stroke-width=\"1\" opacity=\"1\"/><line transform=\"translate(242,0)\" x2=\"0\" y2=\"5\" stroke=\"#888\" stroke-width=\"1\" opacity=\"1\"/><line transform=\"translate(249,0)\" x2=\"0\" y2=\"5\" stroke=\"#888\" stroke-width=\"1\" opacity=\"1\"/><line transform=\"translate(256,0)\" x2=\"0\" y2=\"5\" stroke=\"#888\" stroke-width=\"1\" opacity=\"1\"/><line transform=\"translate(263,0)\" x2=\"0\" y2=\"5\" stroke=\"#888\" stroke-width=\"1\" opacity=\"1\"/><line transform=\"translate(269,0)\" x2=\"0\" y2=\"5\" stroke=\"#888\" stroke-width=\"1\" opacity=\"1\"/><line transform=\"translate(276,0)\" x2=\"0\" y2=\"5\" stroke=\"#888\" stroke-width=\"1\" opacity=\"1\"/><line transform=\"translate(283,0)\" x2=\"0\" y2=\"5\" stroke=\"#888\" stroke-width=\"1\" opacity=\"1\"/><line transform=\"translate(290,0)\" x2=\"0\" y2=\"5\" stroke=\"#888\" stroke-width=\"1\" opacity=\"1\"/><line transform=\"translate(297,0)\" x2=\"0\" y2=\"5\" stroke=\"#888\" stroke-width=\"1\" opacity=\"1\"/><line transform=\"translate(303,0)\" x2=\"0\" y2=\"5\" stroke=\"#888\" stroke-width=\"1\" opacity=\"1\"/><line transform=\"translate(310,0)\" x2=\"0\" y2=\"5\" stroke=\"#888\" stroke-width=\"1\" opacity=\"1\"/><line transform=\"translate(317,0)\" x2=\"0\" y2=\"5\" stroke=\"#888\" stroke-width=\"1\" opacity=\"1\"/><line transform=\"translate(324,0)\" x2=\"0\" y2=\"5\" stroke=\"#888\" stroke-width=\"1\" opacity=\"1\"/><line transform=\"translate(331,0)\" x2=\"0\" y2=\"5\" stroke=\"#888\" stroke-width=\"1\" opacity=\"1\"/><line transform=\"translate(338,0)\" x2=\"0\" y2=\"5\" stroke=\"#888\" stroke-width=\"1\" opacity=\"1\"/><line transform=\"translate(344,0)\" x2=\"0\" y2=\"5\" stroke=\"#888\" stroke-width=\"1\" opacity=\"1\"/><line transform=\"translate(351,0)\" x2=\"0\" y2=\"5\" stroke=\"#888\" stroke-width=\"1\" opacity=\"1\"/><line transform=\"translate(358,0)\" x2=\"0\" y2=\"5\" stroke=\"#888\" stroke-width=\"1\" opacity=\"1\"/><line transform=\"translate(365,0)\" x2=\"0\" y2=\"5\" stroke=\"#888\" stroke-width=\"1\" opacity=\"1\"/><line transform=\"translate(372,0)\" x2=\"0\" y2=\"5\" stroke=\"#888\" stroke-width=\"1\" opacity=\"1\"/><line transform=\"translate(378,0)\" x2=\"0\" y2=\"5\" stroke=\"#888\" stroke-width=\"1\" opacity=\"1\"/><line transform=\"translate(385,0)\" x2=\"0\" y2=\"5\" stroke=\"#888\" stroke-width=\"1\" opacity=\"1\"/><line transform=\"translate(392,0)\" x2=\"0\" y2=\"5\" stroke=\"#888\" stroke-width=\"1\" opacity=\"1\"/><line transform=\"translate(399,0)\" x2=\"0\" y2=\"5\" stroke=\"#888\" stroke-width=\"1\" opacity=\"1\"/><line transform=\"translate(406,0)\" x2=\"0\" y2=\"5\" stroke=\"#888\" stroke-width=\"1\" opacity=\"1\"/><line transform=\"translate(413,0)\" x2=\"0\" y2=\"5\" stroke=\"#888\" stroke-width=\"1\" opacity=\"1\"/><line transform=\"translate(419,0)\" x2=\"0\" y2=\"5\" stroke=\"#888\" stroke-width=\"1\" opacity=\"1\"/><line transform=\"translate(426,0)\" x2=\"0\" y2=\"5\" stroke=\"#888\" stroke-width=\"1\" opacity=\"1\"/><line transform=\"translate(433,0)\" x2=\"0\" y2=\"5\" stroke=\"#888\" stroke-width=\"1\" opacity=\"1\"/><line transform=\"translate(440,0)\" x2=\"0\" y2=\"5\" stroke=\"#888\" stroke-width=\"1\" opacity=\"1\"/><line transform=\"translate(447,0)\" x2=\"0\" y2=\"5\" stroke=\"#888\" stroke-width=\"1\" opacity=\"1\"/><line transform=\"translate(453,0)\" x2=\"0\" y2=\"5\" stroke=\"#888\" stroke-width=\"1\" opacity=\"1\"/><line transform=\"translate(460,0)\" x2=\"0\" y2=\"5\" stroke=\"#888\" stroke-width=\"1\" opacity=\"1\"/><line transform=\"translate(467,0)\" x2=\"0\" y2=\"5\" stroke=\"#888\" stroke-width=\"1\" opacity=\"1\"/><line transform=\"translate(474,0)\" x2=\"0\" y2=\"5\" stroke=\"#888\" stroke-width=\"1\" opacity=\"1\"/><line transform=\"translate(481,0)\" x2=\"0\" y2=\"5\" stroke=\"#888\" stroke-width=\"1\" opacity=\"1\"/><line transform=\"translate(488,0)\" x2=\"0\" y2=\"5\" stroke=\"#888\" stroke-width=\"1\" opacity=\"1\"/><line transform=\"translate(494,0)\" x2=\"0\" y2=\"5\" stroke=\"#888\" stroke-width=\"1\" opacity=\"1\"/><line transform=\"translate(501,0)\" x2=\"0\" y2=\"5\" stroke=\"#888\" stroke-width=\"1\" opacity=\"1\"/><line transform=\"translate(508,0)\" x2=\"0\" y2=\"5\" stroke=\"#888\" stroke-width=\"1\" opacity=\"1\"/><line transform=\"translate(515,0)\" x2=\"0\" y2=\"5\" stroke=\"#888\" stroke-width=\"1\" opacity=\"1\"/><line transform=\"translate(522,0)\" x2=\"0\" y2=\"5\" stroke=\"#888\" stroke-width=\"1\" opacity=\"1\"/><line transform=\"translate(528,0)\" x2=\"0\" y2=\"5\" stroke=\"#888\" stroke-width=\"1\" opacity=\"1\"/><line transform=\"translate(535,0)\" x2=\"0\" y2=\"5\" stroke=\"#888\" stroke-width=\"1\" opacity=\"1\"/><line transform=\"translate(542,0)\" x2=\"0\" y2=\"5\" stroke=\"#888\" stroke-width=\"1\" opacity=\"1\"/><line transform=\"translate(549,0)\" x2=\"0\" y2=\"5\" stroke=\"#888\" stroke-width=\"1\" opacity=\"1\"/><line transform=\"translate(556,0)\" x2=\"0\" y2=\"5\" stroke=\"#888\" stroke-width=\"1\" opacity=\"1\"/><line transform=\"translate(563,0)\" x2=\"0\" y2=\"5\" stroke=\"#888\" stroke-width=\"1\" opacity=\"1\"/><line transform=\"translate(569,0)\" x2=\"0\" y2=\"5\" stroke=\"#888\" stroke-width=\"1\" opacity=\"1\"/><line transform=\"translate(576,0)\" x2=\"0\" y2=\"5\" stroke=\"#888\" stroke-width=\"1\" opacity=\"1\"/><line transform=\"translate(583,0)\" x2=\"0\" y2=\"5\" stroke=\"#888\" stroke-width=\"1\" opacity=\"1\"/><line transform=\"translate(590,0)\" x2=\"0\" y2=\"5\" stroke=\"#888\" stroke-width=\"1\" opacity=\"1\"/><line transform=\"translate(597,0)\" x2=\"0\" y2=\"5\" stroke=\"#888\" stroke-width=\"1\" opacity=\"1\"/><line transform=\"translate(603,0)\" x2=\"0\" y2=\"5\" stroke=\"#888\" stroke-width=\"1\" opacity=\"1\"/><line transform=\"translate(610,0)\" x2=\"0\" y2=\"5\" stroke=\"#888\" stroke-width=\"1\" opacity=\"1\"/><line transform=\"translate(617,0)\" x2=\"0\" y2=\"5\" stroke=\"#888\" stroke-width=\"1\" opacity=\"1\"/><line transform=\"translate(624,0)\" x2=\"0\" y2=\"5\" stroke=\"#888\" stroke-width=\"1\" opacity=\"1\"/><line transform=\"translate(631,0)\" x2=\"0\" y2=\"5\" stroke=\"#888\" stroke-width=\"1\" opacity=\"1\"/><line transform=\"translate(638,0)\" x2=\"0\" y2=\"5\" stroke=\"#888\" stroke-width=\"1\" opacity=\"1\"/><line transform=\"translate(644,0)\" x2=\"0\" y2=\"5\" stroke=\"#888\" stroke-width=\"1\" opacity=\"1\"/><line transform=\"translate(651,0)\" x2=\"0\" y2=\"5\" stroke=\"#888\" stroke-width=\"1\" opacity=\"1\"/><line transform=\"translate(658,0)\" x2=\"0\" y2=\"5\" stroke=\"#888\" stroke-width=\"1\" opacity=\"1\"/><line transform=\"translate(665,0)\" x2=\"0\" y2=\"5\" stroke=\"#888\" stroke-width=\"1\" opacity=\"1\"/><line transform=\"translate(672,0)\" x2=\"0\" y2=\"5\" stroke=\"#888\" stroke-width=\"1\" opacity=\"1\"/><line transform=\"translate(678,0)\" x2=\"0\" y2=\"5\" stroke=\"#888\" stroke-width=\"1\" opacity=\"1\"/><line transform=\"translate(685,0)\" x2=\"0\" y2=\"5\" stroke=\"#888\" stroke-width=\"1\" opacity=\"1\"/><line transform=\"translate(692,0)\" x2=\"0\" y2=\"5\" stroke=\"#888\" stroke-width=\"1\" opacity=\"1\"/><line transform=\"translate(699,0)\" x2=\"0\" y2=\"5\" stroke=\"#888\" stroke-width=\"1\" opacity=\"1\"/><line transform=\"translate(706,0)\" x2=\"0\" y2=\"5\" stroke=\"#888\" stroke-width=\"1\" opacity=\"1\"/><line transform=\"translate(713,0)\" x2=\"0\" y2=\"5\" stroke=\"#888\" stroke-width=\"1\" opacity=\"1\"/><line transform=\"translate(719,0)\" x2=\"0\" y2=\"5\" stroke=\"#888\" stroke-width=\"1\" opacity=\"1\"/><line transform=\"translate(726,0)\" x2=\"0\" y2=\"5\" stroke=\"#888\" stroke-width=\"1\" opacity=\"1\"/><line transform=\"translate(733,0)\" x2=\"0\" y2=\"5\" stroke=\"#888\" stroke-width=\"1\" opacity=\"1\"/><line transform=\"translate(740,0)\" x2=\"0\" y2=\"5\" stroke=\"#888\" stroke-width=\"1\" opacity=\"1\"/><line transform=\"translate(747,0)\" x2=\"0\" y2=\"5\" stroke=\"#888\" stroke-width=\"1\" opacity=\"1\"/></g><g class=\"mark-text role-axis-label\" pointer-events=\"none\"><text text-anchor=\"end\" transform=\"translate(3.409090909090878,7) rotate(270) translate(0,3)\" font-family=\"sans-serif\" font-size=\"10px\" fill=\"#000\" opacity=\"1\">1910</text><text text-anchor=\"end\" transform=\"translate(10.227272727272696,7) rotate(270) translate(0,3)\" font-family=\"sans-serif\" font-size=\"10px\" fill=\"#000\" opacity=\"1\">1911</text><text text-anchor=\"end\" transform=\"translate(17.045454545454515,7) rotate(270) translate(0,3)\" font-family=\"sans-serif\" font-size=\"10px\" fill=\"#000\" opacity=\"1\">1912</text><text text-anchor=\"end\" transform=\"translate(23.86363636363633,7) rotate(270) translate(0,3)\" font-family=\"sans-serif\" font-size=\"10px\" fill=\"#000\" opacity=\"1\">1913</text><text text-anchor=\"end\" transform=\"translate(30.68181818181815,7) rotate(270) translate(0,3)\" font-family=\"sans-serif\" font-size=\"10px\" fill=\"#000\" opacity=\"1\">1914</text><text text-anchor=\"end\" transform=\"translate(37.49999999999997,7) rotate(270) translate(0,3)\" font-family=\"sans-serif\" font-size=\"10px\" fill=\"#000\" opacity=\"1\">1915</text><text text-anchor=\"end\" transform=\"translate(44.318181818181785,7) rotate(270) translate(0,3)\" font-family=\"sans-serif\" font-size=\"10px\" fill=\"#000\" opacity=\"1\">1916</text><text text-anchor=\"end\" transform=\"translate(51.136363636363605,7) rotate(270) translate(0,3)\" font-family=\"sans-serif\" font-size=\"10px\" fill=\"#000\" opacity=\"1\">1917</text><text text-anchor=\"end\" transform=\"translate(57.954545454545425,7) rotate(270) translate(0,3)\" font-family=\"sans-serif\" font-size=\"10px\" fill=\"#000\" opacity=\"1\">1918</text><text text-anchor=\"end\" transform=\"translate(64.77272727272725,7) rotate(270) translate(0,3)\" font-family=\"sans-serif\" font-size=\"10px\" fill=\"#000\" opacity=\"1\">1919</text><text text-anchor=\"end\" transform=\"translate(71.59090909090907,7) rotate(270) translate(0,3)\" font-family=\"sans-serif\" font-size=\"10px\" fill=\"#000\" opacity=\"1\">1920</text><text text-anchor=\"end\" transform=\"translate(78.40909090909088,7) rotate(270) translate(0,3)\" font-family=\"sans-serif\" font-size=\"10px\" fill=\"#000\" opacity=\"1\">1921</text><text text-anchor=\"end\" transform=\"translate(85.22727272727269,7) rotate(270) translate(0,3)\" font-family=\"sans-serif\" font-size=\"10px\" fill=\"#000\" opacity=\"1\">1922</text><text text-anchor=\"end\" transform=\"translate(92.04545454545452,7) rotate(270) translate(0,3)\" font-family=\"sans-serif\" font-size=\"10px\" fill=\"#000\" opacity=\"1\">1923</text><text text-anchor=\"end\" transform=\"translate(98.86363636363633,7) rotate(270) translate(0,3)\" font-family=\"sans-serif\" font-size=\"10px\" fill=\"#000\" opacity=\"1\">1924</text><text text-anchor=\"end\" transform=\"translate(105.68181818181816,7) rotate(270) translate(0,3)\" font-family=\"sans-serif\" font-size=\"10px\" fill=\"#000\" opacity=\"1\">1925</text><text text-anchor=\"end\" transform=\"translate(112.49999999999997,7) rotate(270) translate(0,3)\" font-family=\"sans-serif\" font-size=\"10px\" fill=\"#000\" opacity=\"1\">1926</text><text text-anchor=\"end\" transform=\"translate(119.31818181818178,7) rotate(270) translate(0,3)\" font-family=\"sans-serif\" font-size=\"10px\" fill=\"#000\" opacity=\"1\">1927</text><text text-anchor=\"end\" transform=\"translate(126.13636363636361,7) rotate(270) translate(0,3)\" font-family=\"sans-serif\" font-size=\"10px\" fill=\"#000\" opacity=\"1\">1928</text><text text-anchor=\"end\" transform=\"translate(132.95454545454544,7) rotate(270) translate(0,3)\" font-family=\"sans-serif\" font-size=\"10px\" fill=\"#000\" opacity=\"1\">1929</text><text text-anchor=\"end\" transform=\"translate(139.77272727272725,7) rotate(270) translate(0,3)\" font-family=\"sans-serif\" font-size=\"10px\" fill=\"#000\" opacity=\"1\">1930</text><text text-anchor=\"end\" transform=\"translate(146.59090909090907,7) rotate(270) translate(0,3)\" font-family=\"sans-serif\" font-size=\"10px\" fill=\"#000\" opacity=\"1\">1931</text><text text-anchor=\"end\" transform=\"translate(153.40909090909088,7) rotate(270) translate(0,3)\" font-family=\"sans-serif\" font-size=\"10px\" fill=\"#000\" opacity=\"1\">1932</text><text text-anchor=\"end\" transform=\"translate(160.2272727272727,7) rotate(270) translate(0,3)\" font-family=\"sans-serif\" font-size=\"10px\" fill=\"#000\" opacity=\"1\">1933</text><text text-anchor=\"end\" transform=\"translate(167.0454545454545,7) rotate(270) translate(0,3)\" font-family=\"sans-serif\" font-size=\"10px\" fill=\"#000\" opacity=\"1\">1934</text><text text-anchor=\"end\" transform=\"translate(173.86363636363635,7) rotate(270) translate(0,3)\" font-family=\"sans-serif\" font-size=\"10px\" fill=\"#000\" opacity=\"1\">1935</text><text text-anchor=\"end\" transform=\"translate(180.68181818181816,7) rotate(270) translate(0,3)\" font-family=\"sans-serif\" font-size=\"10px\" fill=\"#000\" opacity=\"1\">1936</text><text text-anchor=\"end\" transform=\"translate(187.49999999999997,7) rotate(270) translate(0,3)\" font-family=\"sans-serif\" font-size=\"10px\" fill=\"#000\" opacity=\"1\">1937</text><text text-anchor=\"end\" transform=\"translate(194.31818181818178,7) rotate(270) translate(0,3)\" font-family=\"sans-serif\" font-size=\"10px\" fill=\"#000\" opacity=\"1\">1938</text><text text-anchor=\"end\" transform=\"translate(201.1363636363636,7) rotate(270) translate(0,3)\" font-family=\"sans-serif\" font-size=\"10px\" fill=\"#000\" opacity=\"1\">1939</text><text text-anchor=\"end\" transform=\"translate(207.95454545454544,7) rotate(270) translate(0,3)\" font-family=\"sans-serif\" font-size=\"10px\" fill=\"#000\" opacity=\"1\">1940</text><text text-anchor=\"end\" transform=\"translate(214.77272727272725,7) rotate(270) translate(0,3)\" font-family=\"sans-serif\" font-size=\"10px\" fill=\"#000\" opacity=\"1\">1941</text><text text-anchor=\"end\" transform=\"translate(221.59090909090907,7) rotate(270) translate(0,3)\" font-family=\"sans-serif\" font-size=\"10px\" fill=\"#000\" opacity=\"1\">1942</text><text text-anchor=\"end\" transform=\"translate(228.40909090909088,7) rotate(270) translate(0,3)\" font-family=\"sans-serif\" font-size=\"10px\" fill=\"#000\" opacity=\"1\">1943</text><text text-anchor=\"end\" transform=\"translate(235.2272727272727,7) rotate(270) translate(0,3)\" font-family=\"sans-serif\" font-size=\"10px\" fill=\"#000\" opacity=\"1\">1944</text><text text-anchor=\"end\" transform=\"translate(242.04545454545453,7) rotate(270) translate(0,3)\" font-family=\"sans-serif\" font-size=\"10px\" fill=\"#000\" opacity=\"1\">1945</text><text text-anchor=\"end\" transform=\"translate(248.86363636363635,7) rotate(270) translate(0,3)\" font-family=\"sans-serif\" font-size=\"10px\" fill=\"#000\" opacity=\"1\">1946</text><text text-anchor=\"end\" transform=\"translate(255.68181818181816,7) rotate(270) translate(0,3)\" font-family=\"sans-serif\" font-size=\"10px\" fill=\"#000\" opacity=\"1\">1947</text><text text-anchor=\"end\" transform=\"translate(262.5,7) rotate(270) translate(0,3)\" font-family=\"sans-serif\" font-size=\"10px\" fill=\"#000\" opacity=\"1\">1948</text><text text-anchor=\"end\" transform=\"translate(269.3181818181818,7) rotate(270) translate(0,3)\" font-family=\"sans-serif\" font-size=\"10px\" fill=\"#000\" opacity=\"1\">1949</text><text text-anchor=\"end\" transform=\"translate(276.1363636363636,7) rotate(270) translate(0,3)\" font-family=\"sans-serif\" font-size=\"10px\" fill=\"#000\" opacity=\"1\">1950</text><text text-anchor=\"end\" transform=\"translate(282.95454545454544,7) rotate(270) translate(0,3)\" font-family=\"sans-serif\" font-size=\"10px\" fill=\"#000\" opacity=\"1\">1951</text><text text-anchor=\"end\" transform=\"translate(289.77272727272725,7) rotate(270) translate(0,3)\" font-family=\"sans-serif\" font-size=\"10px\" fill=\"#000\" opacity=\"1\">1952</text><text text-anchor=\"end\" transform=\"translate(296.59090909090907,7) rotate(270) translate(0,3)\" font-family=\"sans-serif\" font-size=\"10px\" fill=\"#000\" opacity=\"1\">1953</text><text text-anchor=\"end\" transform=\"translate(303.4090909090909,7) rotate(270) translate(0,3)\" font-family=\"sans-serif\" font-size=\"10px\" fill=\"#000\" opacity=\"1\">1954</text><text text-anchor=\"end\" transform=\"translate(310.2272727272727,7) rotate(270) translate(0,3)\" font-family=\"sans-serif\" font-size=\"10px\" fill=\"#000\" opacity=\"1\">1955</text><text text-anchor=\"end\" transform=\"translate(317.0454545454545,7) rotate(270) translate(0,3)\" font-family=\"sans-serif\" font-size=\"10px\" fill=\"#000\" opacity=\"1\">1956</text><text text-anchor=\"end\" transform=\"translate(323.8636363636363,7) rotate(270) translate(0,3)\" font-family=\"sans-serif\" font-size=\"10px\" fill=\"#000\" opacity=\"1\">1957</text><text text-anchor=\"end\" transform=\"translate(330.68181818181813,7) rotate(270) translate(0,3)\" font-family=\"sans-serif\" font-size=\"10px\" fill=\"#000\" opacity=\"1\">1958</text><text text-anchor=\"end\" transform=\"translate(337.5,7) rotate(270) translate(0,3)\" font-family=\"sans-serif\" font-size=\"10px\" fill=\"#000\" opacity=\"1\">1959</text><text text-anchor=\"end\" transform=\"translate(344.3181818181818,7) rotate(270) translate(0,3)\" font-family=\"sans-serif\" font-size=\"10px\" fill=\"#000\" opacity=\"1\">1960</text><text text-anchor=\"end\" transform=\"translate(351.1363636363636,7) rotate(270) translate(0,3)\" font-family=\"sans-serif\" font-size=\"10px\" fill=\"#000\" opacity=\"1\">1961</text><text text-anchor=\"end\" transform=\"translate(357.95454545454544,7) rotate(270) translate(0,3)\" font-family=\"sans-serif\" font-size=\"10px\" fill=\"#000\" opacity=\"1\">1962</text><text text-anchor=\"end\" transform=\"translate(364.77272727272725,7) rotate(270) translate(0,3)\" font-family=\"sans-serif\" font-size=\"10px\" fill=\"#000\" opacity=\"1\">1963</text><text text-anchor=\"end\" transform=\"translate(371.59090909090907,7) rotate(270) translate(0,3)\" font-family=\"sans-serif\" font-size=\"10px\" fill=\"#000\" opacity=\"1\">1964</text><text text-anchor=\"end\" transform=\"translate(378.4090909090909,7) rotate(270) translate(0,3)\" font-family=\"sans-serif\" font-size=\"10px\" fill=\"#000\" opacity=\"1\">1965</text><text text-anchor=\"end\" transform=\"translate(385.2272727272727,7) rotate(270) translate(0,3)\" font-family=\"sans-serif\" font-size=\"10px\" fill=\"#000\" opacity=\"1\">1966</text><text text-anchor=\"end\" transform=\"translate(392.0454545454545,7) rotate(270) translate(0,3)\" font-family=\"sans-serif\" font-size=\"10px\" fill=\"#000\" opacity=\"1\">1967</text><text text-anchor=\"end\" transform=\"translate(398.8636363636363,7) rotate(270) translate(0,3)\" font-family=\"sans-serif\" font-size=\"10px\" fill=\"#000\" opacity=\"1\">1968</text><text text-anchor=\"end\" transform=\"translate(405.6818181818182,7) rotate(270) translate(0,3)\" font-family=\"sans-serif\" font-size=\"10px\" fill=\"#000\" opacity=\"1\">1969</text><text text-anchor=\"end\" transform=\"translate(412.5,7) rotate(270) translate(0,3)\" font-family=\"sans-serif\" font-size=\"10px\" fill=\"#000\" opacity=\"1\">1970</text><text text-anchor=\"end\" transform=\"translate(419.3181818181818,7) rotate(270) translate(0,3)\" font-family=\"sans-serif\" font-size=\"10px\" fill=\"#000\" opacity=\"1\">1971</text><text text-anchor=\"end\" transform=\"translate(426.1363636363636,7) rotate(270) translate(0,3)\" font-family=\"sans-serif\" font-size=\"10px\" fill=\"#000\" opacity=\"1\">1972</text><text text-anchor=\"end\" transform=\"translate(432.95454545454544,7) rotate(270) translate(0,3)\" font-family=\"sans-serif\" font-size=\"10px\" fill=\"#000\" opacity=\"1\">1973</text><text text-anchor=\"end\" transform=\"translate(439.77272727272725,7) rotate(270) translate(0,3)\" font-family=\"sans-serif\" font-size=\"10px\" fill=\"#000\" opacity=\"1\">1974</text><text text-anchor=\"end\" transform=\"translate(446.59090909090907,7) rotate(270) translate(0,3)\" font-family=\"sans-serif\" font-size=\"10px\" fill=\"#000\" opacity=\"1\">1975</text><text text-anchor=\"end\" transform=\"translate(453.4090909090909,7) rotate(270) translate(0,3)\" font-family=\"sans-serif\" font-size=\"10px\" fill=\"#000\" opacity=\"1\">1976</text><text text-anchor=\"end\" transform=\"translate(460.2272727272727,7) rotate(270) translate(0,3)\" font-family=\"sans-serif\" font-size=\"10px\" fill=\"#000\" opacity=\"1\">1977</text><text text-anchor=\"end\" transform=\"translate(467.0454545454545,7) rotate(270) translate(0,3)\" font-family=\"sans-serif\" font-size=\"10px\" fill=\"#000\" opacity=\"1\">1978</text><text text-anchor=\"end\" transform=\"translate(473.8636363636363,7) rotate(270) translate(0,3)\" font-family=\"sans-serif\" font-size=\"10px\" fill=\"#000\" opacity=\"1\">1979</text><text text-anchor=\"end\" transform=\"translate(480.6818181818182,7) rotate(270) translate(0,3)\" font-family=\"sans-serif\" font-size=\"10px\" fill=\"#000\" opacity=\"1\">1980</text><text text-anchor=\"end\" transform=\"translate(487.5,7) rotate(270) translate(0,3)\" font-family=\"sans-serif\" font-size=\"10px\" fill=\"#000\" opacity=\"1\">1981</text><text text-anchor=\"end\" transform=\"translate(494.3181818181818,7) rotate(270) translate(0,3)\" font-family=\"sans-serif\" font-size=\"10px\" fill=\"#000\" opacity=\"1\">1982</text><text text-anchor=\"end\" transform=\"translate(501.1363636363636,7) rotate(270) translate(0,3)\" font-family=\"sans-serif\" font-size=\"10px\" fill=\"#000\" opacity=\"1\">1983</text><text text-anchor=\"end\" transform=\"translate(507.95454545454544,7) rotate(270) translate(0,3)\" font-family=\"sans-serif\" font-size=\"10px\" fill=\"#000\" opacity=\"1\">1984</text><text text-anchor=\"end\" transform=\"translate(514.7727272727273,7) rotate(270) translate(0,3)\" font-family=\"sans-serif\" font-size=\"10px\" fill=\"#000\" opacity=\"1\">1985</text><text text-anchor=\"end\" transform=\"translate(521.5909090909091,7) rotate(270) translate(0,3)\" font-family=\"sans-serif\" font-size=\"10px\" fill=\"#000\" opacity=\"1\">1986</text><text text-anchor=\"end\" transform=\"translate(528.4090909090909,7) rotate(270) translate(0,3)\" font-family=\"sans-serif\" font-size=\"10px\" fill=\"#000\" opacity=\"1\">1987</text><text text-anchor=\"end\" transform=\"translate(535.2272727272727,7) rotate(270) translate(0,3)\" font-family=\"sans-serif\" font-size=\"10px\" fill=\"#000\" opacity=\"1\">1988</text><text text-anchor=\"end\" transform=\"translate(542.0454545454545,7) rotate(270) translate(0,3)\" font-family=\"sans-serif\" font-size=\"10px\" fill=\"#000\" opacity=\"1\">1989</text><text text-anchor=\"end\" transform=\"translate(548.8636363636364,7) rotate(270) translate(0,3)\" font-family=\"sans-serif\" font-size=\"10px\" fill=\"#000\" opacity=\"1\">1990</text><text text-anchor=\"end\" transform=\"translate(555.6818181818181,7) rotate(270) translate(0,3)\" font-family=\"sans-serif\" font-size=\"10px\" fill=\"#000\" opacity=\"1\">1991</text><text text-anchor=\"end\" transform=\"translate(562.5,7) rotate(270) translate(0,3)\" font-family=\"sans-serif\" font-size=\"10px\" fill=\"#000\" opacity=\"1\">1992</text><text text-anchor=\"end\" transform=\"translate(569.3181818181818,7) rotate(270) translate(0,3)\" font-family=\"sans-serif\" font-size=\"10px\" fill=\"#000\" opacity=\"1\">1993</text><text text-anchor=\"end\" transform=\"translate(576.1363636363636,7) rotate(270) translate(0,3)\" font-family=\"sans-serif\" font-size=\"10px\" fill=\"#000\" opacity=\"1\">1994</text><text text-anchor=\"end\" transform=\"translate(582.9545454545454,7) rotate(270) translate(0,3)\" font-family=\"sans-serif\" font-size=\"10px\" fill=\"#000\" opacity=\"1\">1995</text><text text-anchor=\"end\" transform=\"translate(589.7727272727273,7) rotate(270) translate(0,3)\" font-family=\"sans-serif\" font-size=\"10px\" fill=\"#000\" opacity=\"1\">1996</text><text text-anchor=\"end\" transform=\"translate(596.5909090909091,7) rotate(270) translate(0,3)\" font-family=\"sans-serif\" font-size=\"10px\" fill=\"#000\" opacity=\"1\">1997</text><text text-anchor=\"end\" transform=\"translate(603.4090909090909,7) rotate(270) translate(0,3)\" font-family=\"sans-serif\" font-size=\"10px\" fill=\"#000\" opacity=\"1\">1998</text><text text-anchor=\"end\" transform=\"translate(610.2272727272727,7) rotate(270) translate(0,3)\" font-family=\"sans-serif\" font-size=\"10px\" fill=\"#000\" opacity=\"1\">1999</text><text text-anchor=\"end\" transform=\"translate(617.0454545454545,7) rotate(270) translate(0,3)\" font-family=\"sans-serif\" font-size=\"10px\" fill=\"#000\" opacity=\"1\">2000</text><text text-anchor=\"end\" transform=\"translate(623.8636363636364,7) rotate(270) translate(0,3)\" font-family=\"sans-serif\" font-size=\"10px\" fill=\"#000\" opacity=\"1\">2001</text><text text-anchor=\"end\" transform=\"translate(630.6818181818181,7) rotate(270) translate(0,3)\" font-family=\"sans-serif\" font-size=\"10px\" fill=\"#000\" opacity=\"1\">2002</text><text text-anchor=\"end\" transform=\"translate(637.5,7) rotate(270) translate(0,3)\" font-family=\"sans-serif\" font-size=\"10px\" fill=\"#000\" opacity=\"1\">2003</text><text text-anchor=\"end\" transform=\"translate(644.3181818181818,7) rotate(270) translate(0,3)\" font-family=\"sans-serif\" font-size=\"10px\" fill=\"#000\" opacity=\"1\">2004</text><text text-anchor=\"end\" transform=\"translate(651.1363636363636,7) rotate(270) translate(0,3)\" font-family=\"sans-serif\" font-size=\"10px\" fill=\"#000\" opacity=\"1\">2005</text><text text-anchor=\"end\" transform=\"translate(657.9545454545454,7) rotate(270) translate(0,3)\" font-family=\"sans-serif\" font-size=\"10px\" fill=\"#000\" opacity=\"1\">2006</text><text text-anchor=\"end\" transform=\"translate(664.7727272727273,7) rotate(270) translate(0,3)\" font-family=\"sans-serif\" font-size=\"10px\" fill=\"#000\" opacity=\"1\">2007</text><text text-anchor=\"end\" transform=\"translate(671.5909090909091,7) rotate(270) translate(0,3)\" font-family=\"sans-serif\" font-size=\"10px\" fill=\"#000\" opacity=\"1\">2008</text><text text-anchor=\"end\" transform=\"translate(678.4090909090909,7) rotate(270) translate(0,3)\" font-family=\"sans-serif\" font-size=\"10px\" fill=\"#000\" opacity=\"1\">2009</text><text text-anchor=\"end\" transform=\"translate(685.2272727272727,7) rotate(270) translate(0,3)\" font-family=\"sans-serif\" font-size=\"10px\" fill=\"#000\" opacity=\"1\">2010</text><text text-anchor=\"end\" transform=\"translate(692.0454545454545,7) rotate(270) translate(0,3)\" font-family=\"sans-serif\" font-size=\"10px\" fill=\"#000\" opacity=\"1\">2011</text><text text-anchor=\"end\" transform=\"translate(698.8636363636364,7) rotate(270) translate(0,3)\" font-family=\"sans-serif\" font-size=\"10px\" fill=\"#000\" opacity=\"1\">2012</text><text text-anchor=\"end\" transform=\"translate(705.6818181818181,7) rotate(270) translate(0,3)\" font-family=\"sans-serif\" font-size=\"10px\" fill=\"#000\" opacity=\"1\">2013</text><text text-anchor=\"end\" transform=\"translate(712.5,7) rotate(270) translate(0,3)\" font-family=\"sans-serif\" font-size=\"10px\" fill=\"#000\" opacity=\"1\">2014</text><text text-anchor=\"end\" transform=\"translate(719.3181818181818,7) rotate(270) translate(0,3)\" font-family=\"sans-serif\" font-size=\"10px\" fill=\"#000\" opacity=\"1\">2015</text><text text-anchor=\"end\" transform=\"translate(726.1363636363636,7) rotate(270) translate(0,3)\" font-family=\"sans-serif\" font-size=\"10px\" fill=\"#000\" opacity=\"1\">2016</text><text text-anchor=\"end\" transform=\"translate(732.9545454545455,7) rotate(270) translate(0,3)\" font-family=\"sans-serif\" font-size=\"10px\" fill=\"#000\" opacity=\"1\">2017</text><text text-anchor=\"end\" transform=\"translate(739.7727272727273,7) rotate(270) translate(0,3)\" font-family=\"sans-serif\" font-size=\"10px\" fill=\"#000\" opacity=\"1\">2018</text><text text-anchor=\"end\" transform=\"translate(746.5909090909091,7) rotate(270) translate(0,3)\" font-family=\"sans-serif\" font-size=\"10px\" fill=\"#000\" opacity=\"1\">2019</text></g><g class=\"mark-rule role-axis-domain\" pointer-events=\"none\"><line transform=\"translate(0,0)\" x2=\"750\" y2=\"0\" stroke=\"#888\" stroke-width=\"1\" opacity=\"1\"/></g><g class=\"mark-text role-axis-title\" pointer-events=\"none\"><text text-anchor=\"middle\" transform=\"translate(375,44.00000000000006)\" font-family=\"sans-serif\" font-size=\"11px\" font-weight=\"bold\" fill=\"#000\" opacity=\"1\">Years</text></g></g><path class=\"foreground\" aria-hidden=\"true\" d=\"\" pointer-events=\"none\" display=\"none\"/></g></g><g class=\"mark-group role-axis\" role=\"graphics-symbol\" aria-roledescription=\"axis\" aria-label=\"Y-axis titled 'SumTotal' for a linear scale with values from 0 to 9,000\"><g transform=\"translate(0.5,0.5)\"><path class=\"background\" aria-hidden=\"true\" d=\"M0,0h0v0h0Z\" pointer-events=\"none\"/><g><g class=\"mark-rule role-axis-tick\" pointer-events=\"none\"><line transform=\"translate(0,400)\" x2=\"-5\" y2=\"0\" stroke=\"#888\" stroke-width=\"1\" opacity=\"1\"/><line transform=\"translate(0,356)\" x2=\"-5\" y2=\"0\" stroke=\"#888\" stroke-width=\"1\" opacity=\"1\"/><line transform=\"translate(0,311)\" x2=\"-5\" y2=\"0\" stroke=\"#888\" stroke-width=\"1\" opacity=\"1\"/><line transform=\"translate(0,267)\" x2=\"-5\" y2=\"0\" stroke=\"#888\" stroke-width=\"1\" opacity=\"1\"/><line transform=\"translate(0,222)\" x2=\"-5\" y2=\"0\" stroke=\"#888\" stroke-width=\"1\" opacity=\"1\"/><line transform=\"translate(0,178)\" x2=\"-5\" y2=\"0\" stroke=\"#888\" stroke-width=\"1\" opacity=\"1\"/><line transform=\"translate(0,133)\" x2=\"-5\" y2=\"0\" stroke=\"#888\" stroke-width=\"1\" opacity=\"1\"/><line transform=\"translate(0,89)\" x2=\"-5\" y2=\"0\" stroke=\"#888\" stroke-width=\"1\" opacity=\"1\"/><line transform=\"translate(0,44)\" x2=\"-5\" y2=\"0\" stroke=\"#888\" stroke-width=\"1\" opacity=\"1\"/><line transform=\"translate(0,0)\" x2=\"-5\" y2=\"0\" stroke=\"#888\" stroke-width=\"1\" opacity=\"1\"/></g><g class=\"mark-text role-axis-label\" pointer-events=\"none\"><text text-anchor=\"end\" transform=\"translate(-7,403)\" font-family=\"sans-serif\" font-size=\"10px\" fill=\"#000\" opacity=\"1\">0</text><text text-anchor=\"end\" transform=\"translate(-7,358.55555555555554)\" font-family=\"sans-serif\" font-size=\"10px\" fill=\"#000\" opacity=\"1\">1,000</text><text text-anchor=\"end\" transform=\"translate(-7,314.11111111111114)\" font-family=\"sans-serif\" font-size=\"10px\" fill=\"#000\" opacity=\"1\">2,000</text><text text-anchor=\"end\" transform=\"translate(-7,269.6666666666667)\" font-family=\"sans-serif\" font-size=\"10px\" fill=\"#000\" opacity=\"1\">3,000</text><text text-anchor=\"end\" transform=\"translate(-7,225.22222222222223)\" font-family=\"sans-serif\" font-size=\"10px\" fill=\"#000\" opacity=\"1\">4,000</text><text text-anchor=\"end\" transform=\"translate(-7,180.77777777777777)\" font-family=\"sans-serif\" font-size=\"10px\" fill=\"#000\" opacity=\"1\">5,000</text><text text-anchor=\"end\" transform=\"translate(-7,136.33333333333334)\" font-family=\"sans-serif\" font-size=\"10px\" fill=\"#000\" opacity=\"1\">6,000</text><text text-anchor=\"end\" transform=\"translate(-7,91.88888888888889)\" font-family=\"sans-serif\" font-size=\"10px\" fill=\"#000\" opacity=\"1\">7,000</text><text text-anchor=\"end\" transform=\"translate(-7,47.444444444444464)\" font-family=\"sans-serif\" font-size=\"10px\" fill=\"#000\" opacity=\"1\">8,000</text><text text-anchor=\"end\" transform=\"translate(-7,3)\" font-family=\"sans-serif\" font-size=\"10px\" fill=\"#000\" opacity=\"1\">9,000</text></g><g class=\"mark-rule role-axis-domain\" pointer-events=\"none\"><line transform=\"translate(0,400)\" x2=\"0\" y2=\"-400\" stroke=\"#888\" stroke-width=\"1\" opacity=\"1\"/></g><g class=\"mark-text role-axis-title\" pointer-events=\"none\"><text text-anchor=\"middle\" transform=\"translate(-38,200) rotate(-90) translate(0,-2)\" font-family=\"sans-serif\" font-size=\"11px\" font-weight=\"bold\" fill=\"#000\" opacity=\"1\">SumTotal</text></g></g><path class=\"foreground\" aria-hidden=\"true\" d=\"\" pointer-events=\"none\" display=\"none\"/></g></g><g class=\"mark-area role-mark marks\" role=\"graphics-object\" aria-roledescription=\"area mark container\"><path aria-label=\"Years: 1910; SumTotal: 287\" role=\"graphics-symbol\" aria-roledescription=\"area mark\" d=\"M3.409090909090878,387.24444444444447L10.227272727272696,387.59999999999997L17.045454545454515,369.46666666666664L23.86363636363633,362.8L30.68181818181815,351.02222222222224L37.49999999999997,336.26666666666665L44.318181818181785,338.6222222222222L51.136363636363605,333.91111111111115L57.954545454545425,324.88888888888886L64.77272727272725,329.68888888888887L71.59090909090907,328.62222222222226L78.40909090909088,324.26666666666665L85.22727272727269,328.88888888888886L92.04545454545452,327.77777777777777L98.86363636363633,322.31111111111113L105.68181818181816,329.9555555555556L112.49999999999997,331.24444444444447L119.31818181818178,333.24444444444447L126.13636363636361,336.84444444444443L132.95454545454544,342.22222222222223L139.77272727272725,342L146.59090909090907,345.4666666666667L153.40909090909088,346.75555555555553L160.2272727272727,345.8666666666667L167.0454545454545,344.0888888888889L173.86363636363635,342.0444444444445L180.68181818181816,339.2L187.49999999999997,340.4L194.31818181818178,339.1111111111111L201.1363636363636,337.4666666666667L207.95454545454544,330.88888888888886L214.77272727272725,311.3333333333333L221.59090909090907,287.68888888888887L228.40909090909088,266.4L235.2272727272727,260.5777777777778L242.04545454545453,237.6L248.86363636363635,210.7111111111111L255.68181818181816,193.8222222222222L262.5,199.6L269.3181818181818,195.33333333333331L276.1363636363636,202.7555555555556L282.95454545454544,185.6L289.77272727272725,136.84444444444446L296.59090909090907,125.11111111111113L303.4090909090909,116.71111111111112L310.2272727272727,105.60000000000001L317.0454545454545,114.4L323.8636363636363,35.64444444444446L330.68181818181813,47.15555555555557L337.5,71.64444444444445L344.3181818181818,93.19999999999999L351.1363636363636,76.17777777777776L357.95454545454544,70.31111111111113L364.77272727272725,71.06666666666666L371.59090909090907,87.51111111111109L378.4090909090909,120.97777777777776L385.2272727272727,123.77777777777777L392.0454545454545,116.84444444444443L398.8636363636363,120.88888888888887L405.6818181818182,95.77777777777779L412.5,105.73333333333332L419.3181818181818,129.51111111111112L426.1363636363636,178.22222222222223L432.95454545454544,190.44444444444446L439.77272727272725,172.35555555555555L446.59090909090907,188.7111111111111L453.4090909090909,187.0222222222222L460.2272727272727,185.9111111111111L467.0454545454545,185.46666666666667L473.8636363636363,178.26666666666665L480.6818181818182,166.84444444444443L487.5,160.62222222222223L494.3181818181818,161.55555555555554L501.1363636363636,194.5333333333333L507.95454545454544,216.4888888888889L514.7727272727273,227.06666666666666L521.5909090909091,242.66666666666669L528.4090909090909,247.9111111111111L535.2272727272727,250.88888888888889L542.0454545454545,261.6888888888889L548.8636363636364,263.8666666666667L555.6818181818181,276.22222222222223L562.5,282.5777777777778L569.3181818181818,292.71111111111117L576.1363636363636,287.4222222222222L582.9545454545454,292.0888888888889L589.7727272727273,276.6666666666667L596.5909090909091,271.15555555555557L603.4090909090909,260.5333333333333L610.2272727272727,249.51111111111112L617.0454545454545,236.00000000000003L623.8636363636364,237.15555555555557L630.6818181818181,243.1111111111111L637.5,236.5333333333333L644.3181818181818,243.2888888888889L651.1363636363636,259.2L657.9545454545454,264.8888888888889L664.7727272727273,279.64444444444445L671.5909090909091,296.0888888888889L678.4090909090909,311.6L685.2272727272727,330.1333333333333L692.0454545454545,342.84444444444443L698.8636363636364,346.5777777777778L705.6818181818181,351.3777777777778L712.5,355.6888888888889L719.3181818181818,361.2888888888889L726.1363636363636,365.55555555555554L732.9545454545455,369.77777777777777L739.7727272727273,375.3333333333333L746.5909090909091,376.22222222222223L746.5909090909091,400L739.7727272727273,400L732.9545454545455,400L726.1363636363636,400L719.3181818181818,400L712.5,400L705.6818181818181,400L698.8636363636364,400L692.0454545454545,400L685.2272727272727,400L678.4090909090909,400L671.5909090909091,400L664.7727272727273,400L657.9545454545454,400L651.1363636363636,400L644.3181818181818,400L637.5,400L630.6818181818181,400L623.8636363636364,400L617.0454545454545,400L610.2272727272727,400L603.4090909090909,400L596.5909090909091,400L589.7727272727273,400L582.9545454545454,400L576.1363636363636,400L569.3181818181818,400L562.5,400L555.6818181818181,400L548.8636363636364,400L542.0454545454545,400L535.2272727272727,400L528.4090909090909,400L521.5909090909091,400L514.7727272727273,400L507.95454545454544,400L501.1363636363636,400L494.3181818181818,400L487.5,400L480.6818181818182,400L473.8636363636363,400L467.0454545454545,400L460.2272727272727,400L453.4090909090909,400L446.59090909090907,400L439.77272727272725,400L432.95454545454544,400L426.1363636363636,400L419.3181818181818,400L412.5,400L405.6818181818182,400L398.8636363636363,400L392.0454545454545,400L385.2272727272727,400L378.4090909090909,400L371.59090909090907,400L364.77272727272725,400L357.95454545454544,400L351.1363636363636,400L344.3181818181818,400L337.5,400L330.68181818181813,400L323.8636363636363,400L317.0454545454545,400L310.2272727272727,400L303.4090909090909,400L296.59090909090907,400L289.77272727272725,400L282.95454545454544,400L276.1363636363636,400L269.3181818181818,400L262.5,400L255.68181818181816,400L248.86363636363635,400L242.04545454545453,400L235.2272727272727,400L228.40909090909088,400L221.59090909090907,400L214.77272727272725,400L207.95454545454544,400L201.1363636363636,400L194.31818181818178,400L187.49999999999997,400L180.68181818181816,400L173.86363636363635,400L167.0454545454545,400L160.2272727272727,400L153.40909090909088,400L146.59090909090907,400L139.77272727272725,400L132.95454545454544,400L126.13636363636361,400L119.31818181818178,400L112.49999999999997,400L105.68181818181816,400L98.86363636363633,400L92.04545454545452,400L85.22727272727269,400L78.40909090909088,400L71.59090909090907,400L64.77272727272725,400L57.954545454545425,400L51.136363636363605,400L44.318181818181785,400L37.49999999999997,400L30.68181818181815,400L23.86363636363633,400L17.045454545454515,400L10.227272727272696,400L3.409090909090878,400Z\" fill=\"#4c78a8\"/></g></g><path class=\"foreground\" aria-hidden=\"true\" d=\"\" display=\"none\"/></g></g></g></svg>\n"
      ],
      "text/plain": [
       "@vlplot(\n",
       "    width=750,\n",
       "    height=400,\n",
       "    mark=\"area\",\n",
       "    encoding={\n",
       "        x={\n",
       "            field=\"Years\",\n",
       "            type=\"nominal\"\n",
       "        },\n",
       "        y={\n",
       "            field=\"SumTotal\",\n",
       "            type=\"quantitative\"\n",
       "        }\n",
       "    },\n",
       "    data={\n",
       "        values=...\n",
       "    }\n",
       ")"
      ]
     },
     "execution_count": 61,
     "metadata": {},
     "output_type": "execute_result"
    }
   ],
   "source": [
    "df |>\n",
    "    @filter(_.Name == \"Leslie\") |>\n",
    "    @groupby(_.Period) |>\n",
    "    @map({Years=key(_), SumTotal=sum(_.Total)}) |>\n",
    "    @orderby(_.Years) |>\n",
    "    @vlplot(:area, x=\"Years:n\", y=\"SumTotal:q\", width=750, height=400)"
   ]
  },
  {
   "cell_type": "code",
   "execution_count": 56,
   "metadata": {},
   "outputs": [
    {
     "data": {
      "text/plain": [
       "1970:2020"
      ]
     },
     "execution_count": 56,
     "metadata": {},
     "output_type": "execute_result"
    }
   ],
   "source": [
    "year_range = 1970:2020"
   ]
  },
  {
   "cell_type": "code",
   "execution_count": 62,
   "metadata": {},
   "outputs": [
    {
     "data": {
      "application/vnd.vegalite.v4+json": {
       "data": {
        "values": [
         {
          "Gender": "F",
          "SumTotal": 5623,
          "Years": 1970
         },
         {
          "Gender": "M",
          "SumTotal": 998,
          "Years": 1970
         },
         {
          "Gender": "F",
          "SumTotal": 5109,
          "Years": 1971
         },
         {
          "Gender": "M",
          "SumTotal": 977,
          "Years": 1971
         },
         {
          "Gender": "F",
          "SumTotal": 4174,
          "Years": 1972
         },
         {
          "Gender": "M",
          "SumTotal": 816,
          "Years": 1972
         },
         {
          "Gender": "F",
          "SumTotal": 3953,
          "Years": 1973
         },
         {
          "Gender": "M",
          "SumTotal": 762,
          "Years": 1973
         },
         {
          "Gender": "F",
          "SumTotal": 4461,
          "Years": 1974
         },
         {
          "Gender": "M",
          "SumTotal": 661,
          "Years": 1974
         },
         {
          "Gender": "F",
          "SumTotal": 4105,
          "Years": 1975
         },
         {
          "Gender": "M",
          "SumTotal": 649,
          "Years": 1975
         },
         {
          "Gender": "F",
          "SumTotal": 4310,
          "Years": 1976
         },
         {
          "Gender": "M",
          "SumTotal": 482,
          "Years": 1976
         },
         {
          "Gender": "F",
          "SumTotal": 4250,
          "Years": 1977
         },
         {
          "Gender": "M",
          "SumTotal": 567,
          "Years": 1977
         },
         {
          "Gender": "F",
          "SumTotal": 4334,
          "Years": 1978
         },
         {
          "Gender": "M",
          "SumTotal": 493,
          "Years": 1978
         },
         {
          "Gender": "F",
          "SumTotal": 4495,
          "Years": 1979
         },
         {
          "Gender": "M",
          "SumTotal": 494,
          "Years": 1979
         },
         {
          "Gender": "F",
          "SumTotal": 4776,
          "Years": 1980
         },
         {
          "Gender": "M",
          "SumTotal": 470,
          "Years": 1980
         },
         {
          "Gender": "F",
          "SumTotal": 4934,
          "Years": 1981
         },
         {
          "Gender": "M",
          "SumTotal": 452,
          "Years": 1981
         },
         {
          "Gender": "F",
          "SumTotal": 4985,
          "Years": 1982
         },
         {
          "Gender": "M",
          "SumTotal": 380,
          "Years": 1982
         },
         {
          "Gender": "F",
          "SumTotal": 4250,
          "Years": 1983
         },
         {
          "Gender": "M",
          "SumTotal": 373,
          "Years": 1983
         },
         {
          "Gender": "F",
          "SumTotal": 3808,
          "Years": 1984
         },
         {
          "Gender": "M",
          "SumTotal": 321,
          "Years": 1984
         },
         {
          "Gender": "F",
          "SumTotal": 3606,
          "Years": 1985
         },
         {
          "Gender": "M",
          "SumTotal": 285,
          "Years": 1985
         },
         {
          "Gender": "F",
          "SumTotal": 3217,
          "Years": 1986
         },
         {
          "Gender": "M",
          "SumTotal": 323,
          "Years": 1986
         },
         {
          "Gender": "F",
          "SumTotal": 3195,
          "Years": 1987
         },
         {
          "Gender": "M",
          "SumTotal": 227,
          "Years": 1987
         },
         {
          "Gender": "F",
          "SumTotal": 3072,
          "Years": 1988
         },
         {
          "Gender": "M",
          "SumTotal": 283,
          "Years": 1988
         },
         {
          "Gender": "F",
          "SumTotal": 2849,
          "Years": 1989
         },
         {
          "Gender": "M",
          "SumTotal": 263,
          "Years": 1989
         },
         {
          "Gender": "F",
          "SumTotal": 2812,
          "Years": 1990
         },
         {
          "Gender": "M",
          "SumTotal": 251,
          "Years": 1990
         },
         {
          "Gender": "F",
          "SumTotal": 2539,
          "Years": 1991
         },
         {
          "Gender": "M",
          "SumTotal": 246,
          "Years": 1991
         },
         {
          "Gender": "F",
          "SumTotal": 2465,
          "Years": 1992
         },
         {
          "Gender": "M",
          "SumTotal": 177,
          "Years": 1992
         },
         {
          "Gender": "F",
          "SumTotal": 2273,
          "Years": 1993
         },
         {
          "Gender": "M",
          "SumTotal": 141,
          "Years": 1993
         },
         {
          "Gender": "F",
          "SumTotal": 2379,
          "Years": 1994
         },
         {
          "Gender": "M",
          "SumTotal": 154,
          "Years": 1994
         },
         {
          "Gender": "F",
          "SumTotal": 2290,
          "Years": 1995
         },
         {
          "Gender": "M",
          "SumTotal": 138,
          "Years": 1995
         },
         {
          "Gender": "F",
          "SumTotal": 2645,
          "Years": 1996
         },
         {
          "Gender": "M",
          "SumTotal": 130,
          "Years": 1996
         },
         {
          "Gender": "F",
          "SumTotal": 2801,
          "Years": 1997
         },
         {
          "Gender": "M",
          "SumTotal": 98,
          "Years": 1997
         },
         {
          "Gender": "F",
          "SumTotal": 3062,
          "Years": 1998
         },
         {
          "Gender": "M",
          "SumTotal": 76,
          "Years": 1998
         },
         {
          "Gender": "F",
          "SumTotal": 3323,
          "Years": 1999
         },
         {
          "Gender": "M",
          "SumTotal": 63,
          "Years": 1999
         },
         {
          "Gender": "F",
          "SumTotal": 3596,
          "Years": 2000
         },
         {
          "Gender": "M",
          "SumTotal": 94,
          "Years": 2000
         },
         {
          "Gender": "F",
          "SumTotal": 3598,
          "Years": 2001
         },
         {
          "Gender": "M",
          "SumTotal": 66,
          "Years": 2001
         },
         {
          "Gender": "F",
          "SumTotal": 3507,
          "Years": 2002
         },
         {
          "Gender": "M",
          "SumTotal": 23,
          "Years": 2002
         },
         {
          "Gender": "F",
          "SumTotal": 3623,
          "Years": 2003
         },
         {
          "Gender": "M",
          "SumTotal": 55,
          "Years": 2003
         },
         {
          "Gender": "F",
          "SumTotal": 3484,
          "Years": 2004
         },
         {
          "Gender": "M",
          "SumTotal": 42,
          "Years": 2004
         },
         {
          "Gender": "F",
          "SumTotal": 3109,
          "Years": 2005
         },
         {
          "Gender": "M",
          "SumTotal": 59,
          "Years": 2005
         },
         {
          "Gender": "F",
          "SumTotal": 3017,
          "Years": 2006
         },
         {
          "Gender": "M",
          "SumTotal": 23,
          "Years": 2006
         },
         {
          "Gender": "F",
          "SumTotal": 2677,
          "Years": 2007
         },
         {
          "Gender": "M",
          "SumTotal": 31,
          "Years": 2007
         },
         {
          "Gender": "F",
          "SumTotal": 2314,
          "Years": 2008
         },
         {
          "Gender": "M",
          "SumTotal": 24,
          "Years": 2008
         },
         {
          "Gender": "F",
          "SumTotal": 1962,
          "Years": 2009
         },
         {
          "Gender": "M",
          "SumTotal": 27,
          "Years": 2009
         },
         {
          "Gender": "F",
          "SumTotal": 1556,
          "Years": 2010
         },
         {
          "Gender": "M",
          "SumTotal": 16,
          "Years": 2010
         },
         {
          "Gender": "F",
          "SumTotal": 1273,
          "Years": 2011
         },
         {
          "Gender": "M",
          "SumTotal": 13,
          "Years": 2011
         },
         {
          "Gender": "F",
          "SumTotal": 1202,
          "Years": 2012
         },
         {
          "Gender": "F",
          "SumTotal": 1088,
          "Years": 2013
         },
         {
          "Gender": "M",
          "SumTotal": 6,
          "Years": 2013
         },
         {
          "Gender": "F",
          "SumTotal": 972,
          "Years": 2014
         },
         {
          "Gender": "M",
          "SumTotal": 25,
          "Years": 2014
         },
         {
          "Gender": "F",
          "SumTotal": 866,
          "Years": 2015
         },
         {
          "Gender": "M",
          "SumTotal": 5,
          "Years": 2015
         },
         {
          "Gender": "F",
          "SumTotal": 769,
          "Years": 2016
         },
         {
          "Gender": "M",
          "SumTotal": 6,
          "Years": 2016
         },
         {
          "Gender": "F",
          "SumTotal": 674,
          "Years": 2017
         },
         {
          "Gender": "M",
          "SumTotal": 6,
          "Years": 2017
         },
         {
          "Gender": "F",
          "SumTotal": 555,
          "Years": 2018
         },
         {
          "Gender": "F",
          "SumTotal": 524,
          "Years": 2019
         },
         {
          "Gender": "M",
          "SumTotal": 11,
          "Years": 2019
         }
        ]
       },
       "encoding": {
        "color": {
         "field": "Gender",
         "type": "nominal"
        },
        "x": {
         "field": "Years",
         "type": "ordinal"
        },
        "y": {
         "field": "SumTotal",
         "type": "quantitative"
        }
       },
       "height": 400,
       "mark": "area",
       "width": 750
      },
      "image/png": "[encoded data removed]",
      "image/svg+xml": [
       "<?xml version=\"1.0\" encoding=\"utf-8\"?>\n",
       "<!DOCTYPE svg PUBLIC \"-//W3C//DTD SVG 1.1//EN\" \"http://www.w3.org/Graphics/SVG/1.1/DTD/svg11.dtd\">\n",
       "<svg xmlns=\"http://www.w3.org/2000/svg\" xmlns:xlink=\"http://www.w3.org/1999/xlink\" version=\"1.1\" class=\"marks\" width=\"871\" height=\"461\" viewBox=\"0 0 871 461\"><rect width=\"871\" height=\"461\" fill=\"white\"/><g fill=\"none\" stroke-miterlimit=\"10\" transform=\"translate(54,10)\"><g class=\"mark-group role-frame root\" role=\"graphics-object\" aria-roledescription=\"group mark container\"><g transform=\"translate(0,0)\"><path class=\"background\" aria-hidden=\"true\" d=\"M0.5,0.5h750v400h-750Z\" stroke=\"#ddd\"/><g><g class=\"mark-group role-axis\" aria-hidden=\"true\"><g transform=\"translate(0.5,0.5)\"><path class=\"background\" aria-hidden=\"true\" d=\"M0,0h0v0h0Z\" pointer-events=\"none\"/><g><g class=\"mark-rule role-axis-grid\" pointer-events=\"none\"><line transform=\"translate(0,400)\" x2=\"750\" y2=\"0\" stroke=\"#ddd\" stroke-width=\"1\" opacity=\"1\"/><line transform=\"translate(0,371)\" x2=\"750\" y2=\"0\" stroke=\"#ddd\" stroke-width=\"1\" opacity=\"1\"/><line transform=\"translate(0,343)\" x2=\"750\" y2=\"0\" stroke=\"#ddd\" stroke-width=\"1\" opacity=\"1\"/><line transform=\"translate(0,314)\" x2=\"750\" y2=\"0\" stroke=\"#ddd\" stroke-width=\"1\" opacity=\"1\"/><line transform=\"translate(0,286)\" x2=\"750\" y2=\"0\" stroke=\"#ddd\" stroke-width=\"1\" opacity=\"1\"/><line transform=\"translate(0,257)\" x2=\"750\" y2=\"0\" stroke=\"#ddd\" stroke-width=\"1\" opacity=\"1\"/><line transform=\"translate(0,229)\" x2=\"750\" y2=\"0\" stroke=\"#ddd\" stroke-width=\"1\" opacity=\"1\"/><line transform=\"translate(0,200)\" x2=\"750\" y2=\"0\" stroke=\"#ddd\" stroke-width=\"1\" opacity=\"1\"/><line transform=\"translate(0,171)\" x2=\"750\" y2=\"0\" stroke=\"#ddd\" stroke-width=\"1\" opacity=\"1\"/><line transform=\"translate(0,143)\" x2=\"750\" y2=\"0\" stroke=\"#ddd\" stroke-width=\"1\" opacity=\"1\"/><line transform=\"translate(0,114)\" x2=\"750\" y2=\"0\" stroke=\"#ddd\" stroke-width=\"1\" opacity=\"1\"/><line transform=\"translate(0,86)\" x2=\"750\" y2=\"0\" stroke=\"#ddd\" stroke-width=\"1\" opacity=\"1\"/><line transform=\"translate(0,57)\" x2=\"750\" y2=\"0\" stroke=\"#ddd\" stroke-width=\"1\" opacity=\"1\"/><line transform=\"translate(0,29)\" x2=\"750\" y2=\"0\" stroke=\"#ddd\" stroke-width=\"1\" opacity=\"1\"/><line transform=\"translate(0,0)\" x2=\"750\" y2=\"0\" stroke=\"#ddd\" stroke-width=\"1\" opacity=\"1\"/></g></g><path class=\"foreground\" aria-hidden=\"true\" d=\"\" pointer-events=\"none\" display=\"none\"/></g></g><g class=\"mark-group role-axis\" role=\"graphics-symbol\" aria-roledescription=\"axis\" aria-label=\"X-axis titled 'Years' for a discrete scale with 50 values: 1970, 1971, 1972, 1973, 1974, ending with 2019\"><g transform=\"translate(0.5,400.5)\"><path class=\"background\" aria-hidden=\"true\" d=\"M0,0h0v0h0Z\" pointer-events=\"none\"/><g><g class=\"mark-rule role-axis-tick\" pointer-events=\"none\"><line transform=\"translate(8,0)\" x2=\"0\" y2=\"5\" stroke=\"#888\" stroke-width=\"1\" opacity=\"1\"/><line transform=\"translate(23,0)\" x2=\"0\" y2=\"5\" stroke=\"#888\" stroke-width=\"1\" opacity=\"1\"/><line transform=\"translate(38,0)\" x2=\"0\" y2=\"5\" stroke=\"#888\" stroke-width=\"1\" opacity=\"1\"/><line transform=\"translate(53,0)\" x2=\"0\" y2=\"5\" stroke=\"#888\" stroke-width=\"1\" opacity=\"1\"/><line transform=\"translate(68,0)\" x2=\"0\" y2=\"5\" stroke=\"#888\" stroke-width=\"1\" opacity=\"1\"/><line transform=\"translate(83,0)\" x2=\"0\" y2=\"5\" stroke=\"#888\" stroke-width=\"1\" opacity=\"1\"/><line transform=\"translate(98,0)\" x2=\"0\" y2=\"5\" stroke=\"#888\" stroke-width=\"1\" opacity=\"1\"/><line transform=\"translate(113,0)\" x2=\"0\" y2=\"5\" stroke=\"#888\" stroke-width=\"1\" opacity=\"1\"/><line transform=\"translate(128,0)\" x2=\"0\" y2=\"5\" stroke=\"#888\" stroke-width=\"1\" opacity=\"1\"/><line transform=\"translate(143,0)\" x2=\"0\" y2=\"5\" stroke=\"#888\" stroke-width=\"1\" opacity=\"1\"/><line transform=\"translate(158,0)\" x2=\"0\" y2=\"5\" stroke=\"#888\" stroke-width=\"1\" opacity=\"1\"/><line transform=\"translate(173,0)\" x2=\"0\" y2=\"5\" stroke=\"#888\" stroke-width=\"1\" opacity=\"1\"/><line transform=\"translate(188,0)\" x2=\"0\" y2=\"5\" stroke=\"#888\" stroke-width=\"1\" opacity=\"1\"/><line transform=\"translate(203,0)\" x2=\"0\" y2=\"5\" stroke=\"#888\" stroke-width=\"1\" opacity=\"1\"/><line transform=\"translate(218,0)\" x2=\"0\" y2=\"5\" stroke=\"#888\" stroke-width=\"1\" opacity=\"1\"/><line transform=\"translate(233,0)\" x2=\"0\" y2=\"5\" stroke=\"#888\" stroke-width=\"1\" opacity=\"1\"/><line transform=\"translate(248,0)\" x2=\"0\" y2=\"5\" stroke=\"#888\" stroke-width=\"1\" opacity=\"1\"/><line transform=\"translate(263,0)\" x2=\"0\" y2=\"5\" stroke=\"#888\" stroke-width=\"1\" opacity=\"1\"/><line transform=\"translate(278,0)\" x2=\"0\" y2=\"5\" stroke=\"#888\" stroke-width=\"1\" opacity=\"1\"/><line transform=\"translate(293,0)\" x2=\"0\" y2=\"5\" stroke=\"#888\" stroke-width=\"1\" opacity=\"1\"/><line transform=\"translate(308,0)\" x2=\"0\" y2=\"5\" stroke=\"#888\" stroke-width=\"1\" opacity=\"1\"/><line transform=\"translate(323,0)\" x2=\"0\" y2=\"5\" stroke=\"#888\" stroke-width=\"1\" opacity=\"1\"/><line transform=\"translate(338,0)\" x2=\"0\" y2=\"5\" stroke=\"#888\" stroke-width=\"1\" opacity=\"1\"/><line transform=\"translate(353,0)\" x2=\"0\" y2=\"5\" stroke=\"#888\" stroke-width=\"1\" opacity=\"1\"/><line transform=\"translate(368,0)\" x2=\"0\" y2=\"5\" stroke=\"#888\" stroke-width=\"1\" opacity=\"1\"/><line transform=\"translate(383,0)\" x2=\"0\" y2=\"5\" stroke=\"#888\" stroke-width=\"1\" opacity=\"1\"/><line transform=\"translate(398,0)\" x2=\"0\" y2=\"5\" stroke=\"#888\" stroke-width=\"1\" opacity=\"1\"/><line transform=\"translate(413,0)\" x2=\"0\" y2=\"5\" stroke=\"#888\" stroke-width=\"1\" opacity=\"1\"/><line transform=\"translate(428,0)\" x2=\"0\" y2=\"5\" stroke=\"#888\" stroke-width=\"1\" opacity=\"1\"/><line transform=\"translate(443,0)\" x2=\"0\" y2=\"5\" stroke=\"#888\" stroke-width=\"1\" opacity=\"1\"/><line transform=\"translate(458,0)\" x2=\"0\" y2=\"5\" stroke=\"#888\" stroke-width=\"1\" opacity=\"1\"/><line transform=\"translate(473,0)\" x2=\"0\" y2=\"5\" stroke=\"#888\" stroke-width=\"1\" opacity=\"1\"/><line transform=\"translate(488,0)\" x2=\"0\" y2=\"5\" stroke=\"#888\" stroke-width=\"1\" opacity=\"1\"/><line transform=\"translate(503,0)\" x2=\"0\" y2=\"5\" stroke=\"#888\" stroke-width=\"1\" opacity=\"1\"/><line transform=\"translate(518,0)\" x2=\"0\" y2=\"5\" stroke=\"#888\" stroke-width=\"1\" opacity=\"1\"/><line transform=\"translate(533,0)\" x2=\"0\" y2=\"5\" stroke=\"#888\" stroke-width=\"1\" opacity=\"1\"/><line transform=\"translate(548,0)\" x2=\"0\" y2=\"5\" stroke=\"#888\" stroke-width=\"1\" opacity=\"1\"/><line transform=\"translate(563,0)\" x2=\"0\" y2=\"5\" stroke=\"#888\" stroke-width=\"1\" opacity=\"1\"/><line transform=\"translate(578,0)\" x2=\"0\" y2=\"5\" stroke=\"#888\" stroke-width=\"1\" opacity=\"1\"/><line transform=\"translate(593,0)\" x2=\"0\" y2=\"5\" stroke=\"#888\" stroke-width=\"1\" opacity=\"1\"/><line transform=\"translate(608,0)\" x2=\"0\" y2=\"5\" stroke=\"#888\" stroke-width=\"1\" opacity=\"1\"/><line transform=\"translate(623,0)\" x2=\"0\" y2=\"5\" stroke=\"#888\" stroke-width=\"1\" opacity=\"1\"/><line transform=\"translate(638,0)\" x2=\"0\" y2=\"5\" stroke=\"#888\" stroke-width=\"1\" opacity=\"1\"/><line transform=\"translate(653,0)\" x2=\"0\" y2=\"5\" stroke=\"#888\" stroke-width=\"1\" opacity=\"1\"/><line transform=\"translate(668,0)\" x2=\"0\" y2=\"5\" stroke=\"#888\" stroke-width=\"1\" opacity=\"1\"/><line transform=\"translate(683,0)\" x2=\"0\" y2=\"5\" stroke=\"#888\" stroke-width=\"1\" opacity=\"1\"/><line transform=\"translate(698,0)\" x2=\"0\" y2=\"5\" stroke=\"#888\" stroke-width=\"1\" opacity=\"1\"/><line transform=\"translate(713,0)\" x2=\"0\" y2=\"5\" stroke=\"#888\" stroke-width=\"1\" opacity=\"1\"/><line transform=\"translate(728,0)\" x2=\"0\" y2=\"5\" stroke=\"#888\" stroke-width=\"1\" opacity=\"1\"/><line transform=\"translate(743,0)\" x2=\"0\" y2=\"5\" stroke=\"#888\" stroke-width=\"1\" opacity=\"1\"/></g><g class=\"mark-text role-axis-label\" pointer-events=\"none\"><text text-anchor=\"end\" transform=\"translate(7.5,7) rotate(270) translate(0,3)\" font-family=\"sans-serif\" font-size=\"10px\" fill=\"#000\" opacity=\"1\">1970</text><text text-anchor=\"end\" transform=\"translate(22.5,7) rotate(270) translate(0,3)\" font-family=\"sans-serif\" font-size=\"10px\" fill=\"#000\" opacity=\"1\">1971</text><text text-anchor=\"end\" transform=\"translate(37.5,7) rotate(270) translate(0,3)\" font-family=\"sans-serif\" font-size=\"10px\" fill=\"#000\" opacity=\"1\">1972</text><text text-anchor=\"end\" transform=\"translate(52.5,7) rotate(270) translate(0,3)\" font-family=\"sans-serif\" font-size=\"10px\" fill=\"#000\" opacity=\"1\">1973</text><text text-anchor=\"end\" transform=\"translate(67.5,7) rotate(270) translate(0,3)\" font-family=\"sans-serif\" font-size=\"10px\" fill=\"#000\" opacity=\"1\">1974</text><text text-anchor=\"end\" transform=\"translate(82.5,7) rotate(270) translate(0,3)\" font-family=\"sans-serif\" font-size=\"10px\" fill=\"#000\" opacity=\"1\">1975</text><text text-anchor=\"end\" transform=\"translate(97.5,7) rotate(270) translate(0,3)\" font-family=\"sans-serif\" font-size=\"10px\" fill=\"#000\" opacity=\"1\">1976</text><text text-anchor=\"end\" transform=\"translate(112.5,7) rotate(270) translate(0,3)\" font-family=\"sans-serif\" font-size=\"10px\" fill=\"#000\" opacity=\"1\">1977</text><text text-anchor=\"end\" transform=\"translate(127.5,7) rotate(270) translate(0,3)\" font-family=\"sans-serif\" font-size=\"10px\" fill=\"#000\" opacity=\"1\">1978</text><text text-anchor=\"end\" transform=\"translate(142.5,7) rotate(270) translate(0,3)\" font-family=\"sans-serif\" font-size=\"10px\" fill=\"#000\" opacity=\"1\">1979</text><text text-anchor=\"end\" transform=\"translate(157.5,7) rotate(270) translate(0,3)\" font-family=\"sans-serif\" font-size=\"10px\" fill=\"#000\" opacity=\"1\">1980</text><text text-anchor=\"end\" transform=\"translate(172.5,7) rotate(270) translate(0,3)\" font-family=\"sans-serif\" font-size=\"10px\" fill=\"#000\" opacity=\"1\">1981</text><text text-anchor=\"end\" transform=\"translate(187.5,7) rotate(270) translate(0,3)\" font-family=\"sans-serif\" font-size=\"10px\" fill=\"#000\" opacity=\"1\">1982</text><text text-anchor=\"end\" transform=\"translate(202.5,7) rotate(270) translate(0,3)\" font-family=\"sans-serif\" font-size=\"10px\" fill=\"#000\" opacity=\"1\">1983</text><text text-anchor=\"end\" transform=\"translate(217.5,7) rotate(270) translate(0,3)\" font-family=\"sans-serif\" font-size=\"10px\" fill=\"#000\" opacity=\"1\">1984</text><text text-anchor=\"end\" transform=\"translate(232.5,7) rotate(270) translate(0,3)\" font-family=\"sans-serif\" font-size=\"10px\" fill=\"#000\" opacity=\"1\">1985</text><text text-anchor=\"end\" transform=\"translate(247.5,7) rotate(270) translate(0,3)\" font-family=\"sans-serif\" font-size=\"10px\" fill=\"#000\" opacity=\"1\">1986</text><text text-anchor=\"end\" transform=\"translate(262.5,7) rotate(270) translate(0,3)\" font-family=\"sans-serif\" font-size=\"10px\" fill=\"#000\" opacity=\"1\">1987</text><text text-anchor=\"end\" transform=\"translate(277.5,7) rotate(270) translate(0,3)\" font-family=\"sans-serif\" font-size=\"10px\" fill=\"#000\" opacity=\"1\">1988</text><text text-anchor=\"end\" transform=\"translate(292.5,7) rotate(270) translate(0,3)\" font-family=\"sans-serif\" font-size=\"10px\" fill=\"#000\" opacity=\"1\">1989</text><text text-anchor=\"end\" transform=\"translate(307.5,7) rotate(270) translate(0,3)\" font-family=\"sans-serif\" font-size=\"10px\" fill=\"#000\" opacity=\"1\">1990</text><text text-anchor=\"end\" transform=\"translate(322.5,7) rotate(270) translate(0,3)\" font-family=\"sans-serif\" font-size=\"10px\" fill=\"#000\" opacity=\"1\">1991</text><text text-anchor=\"end\" transform=\"translate(337.5,7) rotate(270) translate(0,3)\" font-family=\"sans-serif\" font-size=\"10px\" fill=\"#000\" opacity=\"1\">1992</text><text text-anchor=\"end\" transform=\"translate(352.5,7) rotate(270) translate(0,3)\" font-family=\"sans-serif\" font-size=\"10px\" fill=\"#000\" opacity=\"1\">1993</text><text text-anchor=\"end\" transform=\"translate(367.5,7) rotate(270) translate(0,3)\" font-family=\"sans-serif\" font-size=\"10px\" fill=\"#000\" opacity=\"1\">1994</text><text text-anchor=\"end\" transform=\"translate(382.5,7) rotate(270) translate(0,3)\" font-family=\"sans-serif\" font-size=\"10px\" fill=\"#000\" opacity=\"1\">1995</text><text text-anchor=\"end\" transform=\"translate(397.5,7) rotate(270) translate(0,3)\" font-family=\"sans-serif\" font-size=\"10px\" fill=\"#000\" opacity=\"1\">1996</text><text text-anchor=\"end\" transform=\"translate(412.5,7) rotate(270) translate(0,3)\" font-family=\"sans-serif\" font-size=\"10px\" fill=\"#000\" opacity=\"1\">1997</text><text text-anchor=\"end\" transform=\"translate(427.5,7) rotate(270) translate(0,3)\" font-family=\"sans-serif\" font-size=\"10px\" fill=\"#000\" opacity=\"1\">1998</text><text text-anchor=\"end\" transform=\"translate(442.5,7) rotate(270) translate(0,3)\" font-family=\"sans-serif\" font-size=\"10px\" fill=\"#000\" opacity=\"1\">1999</text><text text-anchor=\"end\" transform=\"translate(457.5,7) rotate(270) translate(0,3)\" font-family=\"sans-serif\" font-size=\"10px\" fill=\"#000\" opacity=\"1\">2000</text><text text-anchor=\"end\" transform=\"translate(472.5,7) rotate(270) translate(0,3)\" font-family=\"sans-serif\" font-size=\"10px\" fill=\"#000\" opacity=\"1\">2001</text><text text-anchor=\"end\" transform=\"translate(487.5,7) rotate(270) translate(0,3)\" font-family=\"sans-serif\" font-size=\"10px\" fill=\"#000\" opacity=\"1\">2002</text><text text-anchor=\"end\" transform=\"translate(502.5,7) rotate(270) translate(0,3)\" font-family=\"sans-serif\" font-size=\"10px\" fill=\"#000\" opacity=\"1\">2003</text><text text-anchor=\"end\" transform=\"translate(517.5,7) rotate(270) translate(0,3)\" font-family=\"sans-serif\" font-size=\"10px\" fill=\"#000\" opacity=\"1\">2004</text><text text-anchor=\"end\" transform=\"translate(532.5,7) rotate(270) translate(0,3)\" font-family=\"sans-serif\" font-size=\"10px\" fill=\"#000\" opacity=\"1\">2005</text><text text-anchor=\"end\" transform=\"translate(547.5,7) rotate(270) translate(0,3)\" font-family=\"sans-serif\" font-size=\"10px\" fill=\"#000\" opacity=\"1\">2006</text><text text-anchor=\"end\" transform=\"translate(562.5,7) rotate(270) translate(0,3)\" font-family=\"sans-serif\" font-size=\"10px\" fill=\"#000\" opacity=\"1\">2007</text><text text-anchor=\"end\" transform=\"translate(577.5,7) rotate(270) translate(0,3)\" font-family=\"sans-serif\" font-size=\"10px\" fill=\"#000\" opacity=\"1\">2008</text><text text-anchor=\"end\" transform=\"translate(592.5,7) rotate(270) translate(0,3)\" font-family=\"sans-serif\" font-size=\"10px\" fill=\"#000\" opacity=\"1\">2009</text><text text-anchor=\"end\" transform=\"translate(607.5,7) rotate(270) translate(0,3)\" font-family=\"sans-serif\" font-size=\"10px\" fill=\"#000\" opacity=\"1\">2010</text><text text-anchor=\"end\" transform=\"translate(622.5,7) rotate(270) translate(0,3)\" font-family=\"sans-serif\" font-size=\"10px\" fill=\"#000\" opacity=\"1\">2011</text><text text-anchor=\"end\" transform=\"translate(637.5,7) rotate(270) translate(0,3)\" font-family=\"sans-serif\" font-size=\"10px\" fill=\"#000\" opacity=\"1\">2012</text><text text-anchor=\"end\" transform=\"translate(652.5,7) rotate(270) translate(0,3)\" font-family=\"sans-serif\" font-size=\"10px\" fill=\"#000\" opacity=\"1\">2013</text><text text-anchor=\"end\" transform=\"translate(667.5,7) rotate(270) translate(0,3)\" font-family=\"sans-serif\" font-size=\"10px\" fill=\"#000\" opacity=\"1\">2014</text><text text-anchor=\"end\" transform=\"translate(682.5,7) rotate(270) translate(0,3)\" font-family=\"sans-serif\" font-size=\"10px\" fill=\"#000\" opacity=\"1\">2015</text><text text-anchor=\"end\" transform=\"translate(697.5,7) rotate(270) translate(0,3)\" font-family=\"sans-serif\" font-size=\"10px\" fill=\"#000\" opacity=\"1\">2016</text><text text-anchor=\"end\" transform=\"translate(712.5,7) rotate(270) translate(0,3)\" font-family=\"sans-serif\" font-size=\"10px\" fill=\"#000\" opacity=\"1\">2017</text><text text-anchor=\"end\" transform=\"translate(727.5,7) rotate(270) translate(0,3)\" font-family=\"sans-serif\" font-size=\"10px\" fill=\"#000\" opacity=\"1\">2018</text><text text-anchor=\"end\" transform=\"translate(742.5,7) rotate(270) translate(0,3)\" font-family=\"sans-serif\" font-size=\"10px\" fill=\"#000\" opacity=\"1\">2019</text></g><g class=\"mark-rule role-axis-domain\" pointer-events=\"none\"><line transform=\"translate(0,0)\" x2=\"750\" y2=\"0\" stroke=\"#888\" stroke-width=\"1\" opacity=\"1\"/></g><g class=\"mark-text role-axis-title\" pointer-events=\"none\"><text text-anchor=\"middle\" transform=\"translate(375,44)\" font-family=\"sans-serif\" font-size=\"11px\" font-weight=\"bold\" fill=\"#000\" opacity=\"1\">Years</text></g></g><path class=\"foreground\" aria-hidden=\"true\" d=\"\" pointer-events=\"none\" display=\"none\"/></g></g><g class=\"mark-group role-axis\" role=\"graphics-symbol\" aria-roledescription=\"axis\" aria-label=\"Y-axis titled 'SumTotal' for a linear scale with values from 0 to 7,000\"><g transform=\"translate(0.5,0.5)\"><path class=\"background\" aria-hidden=\"true\" d=\"M0,0h0v0h0Z\" pointer-events=\"none\"/><g><g class=\"mark-rule role-axis-tick\" pointer-events=\"none\"><line transform=\"translate(0,400)\" x2=\"-5\" y2=\"0\" stroke=\"#888\" stroke-width=\"1\" opacity=\"1\"/><line transform=\"translate(0,371)\" x2=\"-5\" y2=\"0\" stroke=\"#888\" stroke-width=\"1\" opacity=\"1\"/><line transform=\"translate(0,343)\" x2=\"-5\" y2=\"0\" stroke=\"#888\" stroke-width=\"1\" opacity=\"1\"/><line transform=\"translate(0,314)\" x2=\"-5\" y2=\"0\" stroke=\"#888\" stroke-width=\"1\" opacity=\"1\"/><line transform=\"translate(0,286)\" x2=\"-5\" y2=\"0\" stroke=\"#888\" stroke-width=\"1\" opacity=\"1\"/><line transform=\"translate(0,257)\" x2=\"-5\" y2=\"0\" stroke=\"#888\" stroke-width=\"1\" opacity=\"1\"/><line transform=\"translate(0,229)\" x2=\"-5\" y2=\"0\" stroke=\"#888\" stroke-width=\"1\" opacity=\"1\"/><line transform=\"translate(0,200)\" x2=\"-5\" y2=\"0\" stroke=\"#888\" stroke-width=\"1\" opacity=\"1\"/><line transform=\"translate(0,171)\" x2=\"-5\" y2=\"0\" stroke=\"#888\" stroke-width=\"1\" opacity=\"1\"/><line transform=\"translate(0,143)\" x2=\"-5\" y2=\"0\" stroke=\"#888\" stroke-width=\"1\" opacity=\"1\"/><line transform=\"translate(0,114)\" x2=\"-5\" y2=\"0\" stroke=\"#888\" stroke-width=\"1\" opacity=\"1\"/><line transform=\"translate(0,86)\" x2=\"-5\" y2=\"0\" stroke=\"#888\" stroke-width=\"1\" opacity=\"1\"/><line transform=\"translate(0,57)\" x2=\"-5\" y2=\"0\" stroke=\"#888\" stroke-width=\"1\" opacity=\"1\"/><line transform=\"translate(0,29)\" x2=\"-5\" y2=\"0\" stroke=\"#888\" stroke-width=\"1\" opacity=\"1\"/><line transform=\"translate(0,0)\" x2=\"-5\" y2=\"0\" stroke=\"#888\" stroke-width=\"1\" opacity=\"1\"/></g><g class=\"mark-text role-axis-label\" pointer-events=\"none\"><text text-anchor=\"end\" transform=\"translate(-7,403)\" font-family=\"sans-serif\" font-size=\"10px\" fill=\"#000\" opacity=\"1\">0</text><text text-anchor=\"end\" transform=\"translate(-7,374.42857142857144)\" font-family=\"sans-serif\" font-size=\"10px\" fill=\"#000\" opacity=\"1\">500</text><text text-anchor=\"end\" transform=\"translate(-7,345.8571428571429)\" font-family=\"sans-serif\" font-size=\"10px\" fill=\"#000\" opacity=\"1\">1,000</text><text text-anchor=\"end\" transform=\"translate(-7,317.2857142857143)\" font-family=\"sans-serif\" font-size=\"10px\" fill=\"#000\" opacity=\"1\">1,500</text><text text-anchor=\"end\" transform=\"translate(-7,288.7142857142857)\" font-family=\"sans-serif\" font-size=\"10px\" fill=\"#000\" opacity=\"1\">2,000</text><text text-anchor=\"end\" transform=\"translate(-7,260.1428571428571)\" font-family=\"sans-serif\" font-size=\"10px\" fill=\"#000\" opacity=\"1\">2,500</text><text text-anchor=\"end\" transform=\"translate(-7,231.57142857142856)\" font-family=\"sans-serif\" font-size=\"10px\" fill=\"#000\" opacity=\"1\">3,000</text><text text-anchor=\"end\" transform=\"translate(-7,203)\" font-family=\"sans-serif\" font-size=\"10px\" fill=\"#000\" opacity=\"1\">3,500</text><text text-anchor=\"end\" transform=\"translate(-7,174.42857142857144)\" font-family=\"sans-serif\" font-size=\"10px\" fill=\"#000\" opacity=\"1\">4,000</text><text text-anchor=\"end\" transform=\"translate(-7,145.85714285714283)\" font-family=\"sans-serif\" font-size=\"10px\" fill=\"#000\" opacity=\"1\">4,500</text><text text-anchor=\"end\" transform=\"translate(-7,117.28571428571428)\" font-family=\"sans-serif\" font-size=\"10px\" fill=\"#000\" opacity=\"1\">5,000</text><text text-anchor=\"end\" transform=\"translate(-7,88.71428571428572)\" font-family=\"sans-serif\" font-size=\"10px\" fill=\"#000\" opacity=\"1\">5,500</text><text text-anchor=\"end\" transform=\"translate(-7,60.14285714285716)\" font-family=\"sans-serif\" font-size=\"10px\" fill=\"#000\" opacity=\"1\">6,000</text><text text-anchor=\"end\" transform=\"translate(-7,31.57142857142856)\" font-family=\"sans-serif\" font-size=\"10px\" fill=\"#000\" opacity=\"1\">6,500</text><text text-anchor=\"end\" transform=\"translate(-7,3)\" font-family=\"sans-serif\" font-size=\"10px\" fill=\"#000\" opacity=\"1\">7,000</text></g><g class=\"mark-rule role-axis-domain\" pointer-events=\"none\"><line transform=\"translate(0,400)\" x2=\"0\" y2=\"-400\" stroke=\"#888\" stroke-width=\"1\" opacity=\"1\"/></g><g class=\"mark-text role-axis-title\" pointer-events=\"none\"><text text-anchor=\"middle\" transform=\"translate(-38,200) rotate(-90) translate(0,-2)\" font-family=\"sans-serif\" font-size=\"11px\" font-weight=\"bold\" fill=\"#000\" opacity=\"1\">SumTotal</text></g></g><path class=\"foreground\" aria-hidden=\"true\" d=\"\" pointer-events=\"none\" display=\"none\"/></g></g><g class=\"mark-group role-scope pathgroup\" role=\"graphics-object\" aria-roledescription=\"group mark container\"><g transform=\"translate(0,0)\"><path class=\"background\" aria-hidden=\"true\" d=\"M0,0h750v400h-750Z\"/><g><g class=\"mark-area role-mark marks\" role=\"graphics-object\" aria-roledescription=\"area mark container\"><path aria-label=\"Years: 1970; SumTotal: 5623; Gender: F\" role=\"graphics-symbol\" aria-roledescription=\"area mark\" d=\"M7.5,21.657142857142865L22.5,52.22857142857143L37.5,114.85714285714286L52.5,130.57142857142856L67.5,107.31428571428569L82.5,128.34285714285713L97.5,126.17142857142855L112.5,124.74285714285713L127.5,124.17142857142855L142.5,114.9142857142857L157.5,100.22857142857143L172.5,92.22857142857141L187.5,93.42857142857142L202.5,135.82857142857142L217.5,164.05714285714285L232.5,177.65714285714287L247.5,197.71428571428572L262.5,204.45714285714286L277.5,208.28571428571428L292.5,222.17142857142855L307.5,224.9714285714286L322.5,240.85714285714283L337.5,249.0285714285714L352.5,262.0571428571429L367.5,255.25714285714284L382.5,261.25714285714287L397.5,241.42857142857144L412.5,234.34285714285716L427.5,220.68571428571428L442.5,206.5142857142857L457.5,189.14285714285714L472.5,190.6285714285714L487.5,198.28571428571428L502.5,189.82857142857142L517.5,198.51428571428573L532.5,218.97142857142856L547.5,226.28571428571428L562.5,245.2571428571429L577.5,266.4L592.5,286.34285714285716L607.5,310.1714285714286L622.5,326.51428571428573L637.5,331.3142857142857L652.5,337.4857142857143L667.5,343.0285714285714L682.5,350.2285714285714L697.5,355.71428571428567L712.5,361.1428571428571L727.5,368.2857142857143L742.5,369.42857142857144L742.5,399.37142857142857L727.5,400L712.5,399.65714285714284L697.5,399.65714285714284L682.5,399.7142857142857L667.5,398.57142857142856L652.5,399.65714285714284L637.5,400L622.5,399.25714285714287L607.5,399.0857142857143L592.5,398.45714285714286L577.5,398.62857142857143L562.5,398.2285714285714L547.5,398.68571428571425L532.5,396.62857142857143L517.5,397.6L502.5,396.85714285714283L487.5,398.68571428571425L472.5,396.2285714285714L457.5,394.62857142857143L442.5,396.4L427.5,395.65714285714284L412.5,394.4L397.5,392.57142857142856L382.5,392.1142857142857L367.5,391.2L352.5,391.9428571428571L337.5,389.8857142857143L322.5,385.9428571428571L307.5,385.6571428571429L292.5,384.9714285714286L277.5,383.8285714285714L262.5,387.0285714285714L247.5,381.54285714285714L232.5,383.7142857142857L217.5,381.65714285714284L202.5,378.6857142857143L187.5,378.28571428571433L172.5,374.1714285714286L157.5,373.1428571428571L142.5,371.77142857142854L127.5,371.8285714285714L112.5,367.6L97.5,372.45714285714286L82.5,362.9142857142857L67.5,362.22857142857146L52.5,356.45714285714286L37.5,353.37142857142857L22.5,344.1714285714286L7.5,342.9714285714286Z\" fill=\"#4c78a8\"/></g></g><path class=\"foreground\" aria-hidden=\"true\" d=\"\" display=\"none\"/></g><g transform=\"translate(0,0)\"><path class=\"background\" aria-hidden=\"true\" d=\"M0,0h750v400h-750Z\"/><g><g class=\"mark-area role-mark marks\" role=\"graphics-object\" aria-roledescription=\"area mark container\"><path aria-label=\"Years: 1970; SumTotal: 998; Gender: M\" role=\"graphics-symbol\" aria-roledescription=\"area mark\" d=\"M7.5,342.9714285714286L22.5,344.1714285714286L37.5,353.37142857142857L52.5,356.45714285714286L67.5,362.22857142857146L82.5,362.9142857142857L97.5,372.45714285714286L112.5,367.6L127.5,371.8285714285714L142.5,371.77142857142854L157.5,373.1428571428571L172.5,374.1714285714286L187.5,378.2857142857143L202.5,378.6857142857143L217.5,381.65714285714284L232.5,383.7142857142857L247.5,381.54285714285714L262.5,387.0285714285714L277.5,383.8285714285714L292.5,384.9714285714286L307.5,385.6571428571429L322.5,385.9428571428571L337.5,389.8857142857143L352.5,391.9428571428571L367.5,391.2L382.5,392.1142857142857L397.5,392.57142857142856L412.5,394.4L427.5,395.65714285714284L442.5,396.4L457.5,394.62857142857143L472.5,396.2285714285714L487.5,398.68571428571425L502.5,396.85714285714283L517.5,397.6L532.5,396.62857142857143L547.5,398.68571428571425L562.5,398.2285714285714L577.5,398.62857142857143L592.5,398.45714285714286L607.5,399.0857142857143L622.5,399.25714285714287L637.5,400L652.5,399.65714285714284L667.5,398.57142857142856L682.5,399.7142857142857L697.5,399.65714285714284L712.5,399.65714285714284L727.5,400L742.5,399.37142857142857L742.5,400L727.5,400L712.5,400L697.5,400L682.5,400L667.5,400L652.5,400L637.5,400L622.5,400L607.5,400L592.5,400L577.5,400L562.5,400L547.5,400L532.5,400L517.5,400L502.5,400L487.5,400L472.5,400L457.5,400L442.5,400L427.5,400L412.5,400L397.5,400L382.5,400L367.5,400L352.5,400L337.5,400L322.5,400L307.5,400L292.5,400L277.5,400L262.5,400L247.5,400L232.5,400L217.5,400L202.5,400L187.5,400L172.5,400L157.5,400L142.5,400L127.5,400L112.5,400L97.5,400L82.5,400L67.5,400L52.5,400L37.5,400L22.5,400L7.5,400Z\" fill=\"#f58518\"/></g></g><path class=\"foreground\" aria-hidden=\"true\" d=\"\" display=\"none\"/></g></g><g class=\"mark-group role-legend\" role=\"graphics-symbol\" aria-roledescription=\"legend\" aria-label=\"Symbol legend titled 'Gender' for fill color with 2 values: F, M\"><g transform=\"translate(768,0)\"><path class=\"background\" aria-hidden=\"true\" d=\"M0,0h44v40h-44Z\" pointer-events=\"none\"/><g><g class=\"mark-group role-legend-entry\"><g transform=\"translate(0,16)\"><path class=\"background\" aria-hidden=\"true\" d=\"M0,0h0v0h0Z\" pointer-events=\"none\"/><g><g class=\"mark-group role-scope\" role=\"graphics-object\" aria-roledescription=\"group mark container\"><g transform=\"translate(0,0)\"><path class=\"background\" aria-hidden=\"true\" d=\"M0,0h25v11h-25Z\" pointer-events=\"none\" opacity=\"1\"/><g><g class=\"mark-symbol role-legend-symbol\" pointer-events=\"none\"><path transform=\"translate(6,6)\" d=\"M5,0A5,5,0,1,1,-5,0A5,5,0,1,1,5,0\" fill=\"#4c78a8\" stroke-width=\"1.5\" opacity=\"1\"/></g><g class=\"mark-text role-legend-label\" pointer-events=\"none\"><text text-anchor=\"start\" transform=\"translate(16,9)\" font-family=\"sans-serif\" font-size=\"10px\" fill=\"#000\" opacity=\"1\">F</text></g></g><path class=\"foreground\" aria-hidden=\"true\" d=\"\" pointer-events=\"none\" display=\"none\"/></g><g transform=\"translate(0,13)\"><path class=\"background\" aria-hidden=\"true\" d=\"M0,0h25v11h-25Z\" pointer-events=\"none\" opacity=\"1\"/><g><g class=\"mark-symbol role-legend-symbol\" pointer-events=\"none\"><path transform=\"translate(6,6)\" d=\"M5,0A5,5,0,1,1,-5,0A5,5,0,1,1,5,0\" fill=\"#f58518\" stroke-width=\"1.5\" opacity=\"1\"/></g><g class=\"mark-text role-legend-label\" pointer-events=\"none\"><text text-anchor=\"start\" transform=\"translate(16,9)\" font-family=\"sans-serif\" font-size=\"10px\" fill=\"#000\" opacity=\"1\">M</text></g></g><path class=\"foreground\" aria-hidden=\"true\" d=\"\" pointer-events=\"none\" display=\"none\"/></g></g></g><path class=\"foreground\" aria-hidden=\"true\" d=\"\" pointer-events=\"none\" display=\"none\"/></g></g><g class=\"mark-text role-legend-title\" pointer-events=\"none\"><text text-anchor=\"start\" transform=\"translate(0,9)\" font-family=\"sans-serif\" font-size=\"11px\" font-weight=\"bold\" fill=\"#000\" opacity=\"1\">Gender</text></g></g><path class=\"foreground\" aria-hidden=\"true\" d=\"\" pointer-events=\"none\" display=\"none\"/></g></g></g><path class=\"foreground\" aria-hidden=\"true\" d=\"\" display=\"none\"/></g></g></g></svg>\n"
      ],
      "text/plain": [
       "@vlplot(\n",
       "    width=750,\n",
       "    height=400,\n",
       "    mark=\"area\",\n",
       "    encoding={\n",
       "        x={\n",
       "            field=\"Years\",\n",
       "            type=\"ordinal\"\n",
       "        },\n",
       "        y={\n",
       "            field=\"SumTotal\",\n",
       "            type=\"quantitative\"\n",
       "        },\n",
       "        color={\n",
       "            field=\"Gender\",\n",
       "            type=\"nominal\"\n",
       "        }\n",
       "    },\n",
       "    data={\n",
       "        values=...\n",
       "    }\n",
       ")"
      ]
     },
     "execution_count": 62,
     "metadata": {},
     "output_type": "execute_result"
    }
   ],
   "source": [
    "df |>\n",
    "    @filter(_.Period >= 1970) |>\n",
    "    @filter(_.Name == \"Leslie\") |>\n",
    "    @groupby({_.Gender, _.Period}, _.Total) |>\n",
    "    @map({Gender=key(_)[1], Years=key(_)[2], SumTotal=sum(_)}) |>\n",
    "    @orderby(_.Years) |>\n",
    "    @vlplot(:area, x=\"Years:o\", y=\"SumTotal:q\", color=\"Gender:n\", width=750, height=400)"
   ]
  },
  {
   "cell_type": "code",
   "execution_count": null,
   "metadata": {},
   "outputs": [],
   "source": []
  }
 ],
 "metadata": {
  "kernelspec": {
   "display_name": "Julia 1.7.0",
   "language": "julia",
   "name": "julia-1.7"
  },
  "language_info": {
   "file_extension": ".jl",
   "mimetype": "application/julia",
   "name": "julia",
   "version": "1.7.0"
  }
 },
 "nbformat": 4,
 "nbformat_minor": 4
}
