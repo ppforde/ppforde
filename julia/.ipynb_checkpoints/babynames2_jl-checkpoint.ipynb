{
 "cells": [
  {
   "cell_type": "code",
   "execution_count": null,
   "metadata": {},
   "outputs": [],
   "source": [
    "fname = \"baby_data/NY.TXT\""
   ]
  },
  {
   "cell_type": "code",
   "execution_count": null,
   "metadata": {},
   "outputs": [],
   "source": [
    "mutable struct Baby\n",
    "    state::String\n",
    "    gender::String\n",
    "    period::Int64\n",
    "    name::String\n",
    "    total::Int64\n",
    "    namelen::Int64\n",
    "    initial::Char\n",
    "    year::String\n",
    "end"
   ]
  },
  {
   "cell_type": "code",
   "execution_count": null,
   "metadata": {},
   "outputs": [],
   "source": [
    "sex = Dict([(\"M\", \"Male\"), (\"F\", \"Female\")])"
   ]
  },
  {
   "cell_type": "code",
   "execution_count": null,
   "metadata": {},
   "outputs": [],
   "source": [
    "data = Baby[]"
   ]
  },
  {
   "cell_type": "code",
   "execution_count": null,
   "metadata": {},
   "outputs": [],
   "source": [
    "io = open(fname, \"r\")\n",
    "content = readlines(io)\n",
    "for i in content[1:end]\n",
    "    ix = rsplit(i, \",\")\n",
    "    \n",
    "    baby = Baby(\n",
    "        ix[1],\n",
    "        sex[ix[2]],\n",
    "        parse(Int64, ix[3]),\n",
    "        ix[4],\n",
    "        parse(Float64, ix[5]),\n",
    "        length(ix[4]),\n",
    "        ix[4][1],\n",
    "        ix[3] * \"-12-31\"\n",
    "    )\n",
    "    push!(data, baby)\n",
    "end"
   ]
  },
  {
   "cell_type": "code",
   "execution_count": null,
   "metadata": {},
   "outputs": [],
   "source": [
    "for b in data\n",
    "    if b.name == \"Barack\" || b.name == \"Khalessi\"\n",
    "        println(b)\n",
    "    end\n",
    "end"
   ]
  },
  {
   "cell_type": "code",
   "execution_count": null,
   "metadata": {},
   "outputs": [],
   "source": []
  }
 ],
 "metadata": {
  "kernelspec": {
   "display_name": "Julia 1.7.0",
   "language": "julia",
   "name": "julia-1.7"
  },
  "language_info": {
   "file_extension": ".jl",
   "mimetype": "application/julia",
   "name": "julia",
   "version": "1.7.0"
  }
 },
 "nbformat": 4,
 "nbformat_minor": 4
}
